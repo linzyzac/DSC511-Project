{
  "cells": [
    {
      "cell_type": "markdown",
      "metadata": {
        "id": "IdjStboIRmXq"
      },
      "source": [
        "# Importing necessary libraries"
      ]
    },
    {
      "cell_type": "code",
      "execution_count": null,
      "metadata": {
        "id": "CJLfQ798Wkfe"
      },
      "outputs": [],
      "source": []
    },
    {
      "cell_type": "code",
      "execution_count": null,
      "metadata": {
        "id": "dPJprpLQRhk4"
      },
      "outputs": [],
      "source": [
        "import kagglehub\n",
        "from pyspark.sql import SparkSession\n",
        "from pyspark import SparkConf\n",
        "from pyspark.sql.functions import udf\n",
        "from pyspark.sql.types import StringType\n",
        "from pyspark.sql.functions import col, create_map, lit\n",
        "from pyspark.sql.functions import length, trim\n",
        "from itertools import chain\n",
        "from pyspark import SparkContext\n",
        "from pyspark.sql.functions import length\n",
        "from pyspark.sql.functions import when, col\n",
        "import matplotlib.pyplot as plt\n",
        "from pyspark.sql import functions as F\n",
        "from pyspark.ml.recommendation import ALS\n",
        "from pyspark.ml.evaluation import RegressionEvaluator\n",
        "from pyspark.ml.feature import VectorAssembler, StringIndexer\n",
        "from pyspark.ml.classification import RandomForestClassifier\n",
        "from pyspark.ml import Pipeline\n",
        "from pyspark.ml.feature import Tokenizer, StopWordsRemover, HashingTF, IDF, StringIndexer\n",
        "from pyspark.ml.classification import LogisticRegression\n",
        "from pyspark.ml import Pipeline\n",
        "from pyspark.ml.evaluation import MulticlassClassificationEvaluator\n",
        "from pyspark.sql.functions import col, lower, regexp_replace\n",
        "from pyspark.ml.feature import StandardScaler\n",
        "from pyspark.sql.functions import col, sum\n",
        "import pandas as pd"
      ]
    },
    {
      "cell_type": "markdown",
      "metadata": {
        "id": "7GcHYVq3NEMf"
      },
      "source": [
        "# Importing dataset"
      ]
    },
    {
      "cell_type": "code",
      "execution_count": null,
      "metadata": {
        "colab": {
          "base_uri": "https://localhost:8080/"
        },
        "id": "91q5S9OTMq1_",
        "outputId": "13c798df-0cda-4fe6-d8eb-6b70aad86c22"
      },
      "outputs": [
        {
          "name": "stdout",
          "output_type": "stream",
          "text": [
            "Downloading from https://www.kaggle.com/api/v1/datasets/download/najzeko/steam-reviews-2021?dataset_version_number=1...\n"
          ]
        },
        {
          "name": "stderr",
          "output_type": "stream",
          "text": [
            "100%|██████████| 2.97G/2.97G [00:30<00:00, 103MB/s]"
          ]
        },
        {
          "name": "stdout",
          "output_type": "stream",
          "text": [
            "Extracting files...\n"
          ]
        },
        {
          "name": "stderr",
          "output_type": "stream",
          "text": [
            "\n"
          ]
        },
        {
          "name": "stdout",
          "output_type": "stream",
          "text": [
            "Path to dataset files: /root/.cache/kagglehub/datasets/najzeko/steam-reviews-2021/versions/1\n"
          ]
        }
      ],
      "source": [
        "# Download latest version\n",
        "path = kagglehub.dataset_download(\"najzeko/steam-reviews-2021\")\n",
        "\n",
        "print(\"Path to dataset files:\", path)"
      ]
    },
    {
      "cell_type": "code",
      "execution_count": null,
      "metadata": {
        "id": "s8RYdfSPN0bZ",
        "scrolled": true
      },
      "outputs": [],
      "source": [
        "# Initialize Spark session\n",
        "spark = SparkSession.builder \\\n",
        "    .appName(\"Steam Reviews Analysis\") \\\n",
        "    .getOrCreate()"
      ]
    },
    {
      "cell_type": "code",
      "execution_count": null,
      "metadata": {
        "colab": {
          "base_uri": "https://localhost:8080/"
        },
        "id": "Pm0WiskGT_lv",
        "outputId": "d71232ac-29f3-4626-a5c2-659faad36fb9",
        "scrolled": true
      },
      "outputs": [
        {
          "name": "stdout",
          "output_type": "stream",
          "text": [
            "+---+------+--------------------+---------+--------+----------------------------------+-----------------+-----------------+-----------+-------------+-----------+-------------------+-------------+--------------+-----------------+---------------------------+-----------------+----------------------+------------------+-----------------------+------------------------------+-------------------------+------------------+\n",
            "|_c0|app_id|            app_name|review_id|language|                            review|timestamp_created|timestamp_updated|recommended|votes_helpful|votes_funny|weighted_vote_score|comment_count|steam_purchase|received_for_free|written_during_early_access|   author.steamid|author.num_games_owned|author.num_reviews|author.playtime_forever|author.playtime_last_two_weeks|author.playtime_at_review|author.last_played|\n",
            "+---+------+--------------------+---------+--------+----------------------------------+-----------------+-----------------+-----------+-------------+-----------+-------------------+-------------+--------------+-----------------+---------------------------+-----------------+----------------------+------------------+-----------------------+------------------------------+-------------------------+------------------+\n",
            "|  0|292030|The Witcher 3: Wi...| 85185598|schinese|不玩此生遗憾，RPG游戏里的天花板...|       1611381629|       1611381629|       true|            0|          0|                0.0|            0|          true|            false|                      false|76561199095369542|                     6|                 2|                 1909.0|                        1448.0|                   1909.0|     1.611343383E9|\n",
            "|  1|292030|The Witcher 3: Wi...| 85185250|schinese|       拔DIAO无情打桩机--杰洛特!!!|       1611381030|       1611381030|       true|            0|          0|                0.0|            0|          true|            false|                      false|76561198949504115|                    30|                10|                 2764.0|                        2743.0|                   2674.0|     1.611386307E9|\n",
            "|  2|292030|The Witcher 3: Wi...| 85185111|schinese|                           巫师3NB|       1611380800|       1611380800|       true|            0|          0|                0.0|            0|          true|            false|                      false|76561199090098988|                     5|                 1|                 1061.0|                        1061.0|                   1060.0|     1.611383777E9|\n",
            "|  3|292030|The Witcher 3: Wi...| 85184605| english|              One of the best R...|       1611379970|       1611379970|       true|            0|          0|                0.0|            0|          true|            false|                      false|76561199054755373|                     5|                 3|                 5587.0|                        3200.0|                   5524.0|     1.611383744E9|\n",
            "|  4|292030|The Witcher 3: Wi...| 85184287|schinese|                              大作|       1611379427|       1611379427|       true|            0|          0|                0.0|            0|          true|            false|                      false|76561199028326951|                     7|                 4|                  217.0|                          42.0|                    217.0|     1.610788249E9|\n",
            "+---+------+--------------------+---------+--------+----------------------------------+-----------------+-----------------+-----------+-------------+-----------+-------------------+-------------+--------------+-----------------+---------------------------+-----------------+----------------------+------------------+-----------------------+------------------------------+-------------------------+------------------+\n",
            "only showing top 5 rows\n",
            "\n"
          ]
        }
      ],
      "source": [
        "# Path to the dataset folder\n",
        "dataset_path = \"/root/.cache/kagglehub/datasets/najzeko/steam-reviews-2021/versions/1\"\n",
        "\n",
        "# Identify the CSV file\n",
        "file_path = f\"{dataset_path}/steam_reviews.csv\"\n",
        "\n",
        "# Load the data into a PySpark DataFrame\n",
        "df = spark.read.csv(file_path, header=True, inferSchema=True, multiLine=True, escape='\"')\n",
        "\n",
        "# Show a sample of the data\n",
        "df.show(5)\n",
        "# \"schinese\" is \"simple chinese\", \"tchinese\" is \"traditional chinese\""
      ]
    },
    {
      "cell_type": "code",
      "execution_count": null,
      "metadata": {
        "id": "RcsyeKO0T_lv"
      },
      "outputs": [],
      "source": []
    },
    {
      "cell_type": "markdown",
      "metadata": {
        "id": "sdQx3a4br_tx"
      },
      "source": [
        "In our analysis we took a sample of the dataset due to runtime errors we got, since our machines could not process the amount of the original dataset (21 million records). Our sample consists of only the English reviews, which are around 9 million, and is still considered to be a dataset suitable for Big Data."
      ]
    },
    {
      "cell_type": "code",
      "execution_count": null,
      "metadata": {
        "colab": {
          "base_uri": "https://localhost:8080/"
        },
        "id": "DbXgJYr2VckQ",
        "outputId": "ee435a57-c3e5-4de1-fb0d-3ee04101636c"
      },
      "outputs": [
        {
          "data": {
            "text/plain": [
              "9635437"
            ]
          },
          "execution_count": 5,
          "metadata": {},
          "output_type": "execute_result"
        }
      ],
      "source": [
        "df.filter(df.language == \"english\").count()"
      ]
    },
    {
      "cell_type": "code",
      "execution_count": null,
      "metadata": {
        "id": "UeDoKHQrsvJg"
      },
      "outputs": [],
      "source": [
        "df.filter(df.language == \"english\").write.parquet(\"sample_df\", mode=\"overwrite\")"
      ]
    },
    {
      "cell_type": "code",
      "execution_count": null,
      "metadata": {
        "id": "SKMoSF52T_lv"
      },
      "outputs": [],
      "source": [
        "sample_df = spark.read.parquet(\"/content/sample_df\")"
      ]
    },
    {
      "cell_type": "code",
      "execution_count": null,
      "metadata": {
        "id": "wu1g4mhx_U5s"
      },
      "outputs": [],
      "source": [
        "sample_df = sample_df.withColumn(\"review_length\", length(\"review\")) #create new column with the length of each review"
      ]
    },
    {
      "cell_type": "code",
      "execution_count": null,
      "metadata": {
        "colab": {
          "base_uri": "https://localhost:8080/"
        },
        "id": "zKcI_7pxT_lw",
        "outputId": "b675badb-5f28-4e42-bcae-eed4eb9c4434"
      },
      "outputs": [
        {
          "name": "stdout",
          "output_type": "stream",
          "text": [
            "+---+------+--------------------+---------+--------+--------------------+-----------------+-----------------+-----------+-------------+-----------+-------------------+-------------+--------------+-----------------+---------------------------+-----------------+----------------------+------------------+-----------------------+------------------------------+-------------------------+------------------+-------------+\n",
            "|_c0|app_id|            app_name|review_id|language|              review|timestamp_created|timestamp_updated|recommended|votes_helpful|votes_funny|weighted_vote_score|comment_count|steam_purchase|received_for_free|written_during_early_access|   author.steamid|author.num_games_owned|author.num_reviews|author.playtime_forever|author.playtime_last_two_weeks|author.playtime_at_review|author.last_played|review_length|\n",
            "+---+------+--------------------+---------+--------+--------------------+-----------------+-----------------+-----------+-------------+-----------+-------------------+-------------+--------------+-----------------+---------------------------+-----------------+----------------------+------------------+-----------------------+------------------------------+-------------------------+------------------+-------------+\n",
            "|  3|292030|The Witcher 3: Wi...| 85184605| english|One of the best R...|       1611379970|       1611379970|       true|            0|          0|                0.0|            0|          true|            false|                      false|76561199054755373|                     5|                 3|                 5587.0|                        3200.0|                   5524.0|     1.611383744E9|           59|\n",
            "|  5|292030|The Witcher 3: Wi...| 85184171| english|good story, good ...|       1611379264|       1611379264|       true|            0|          0|                0.0|            0|          true|            false|                      false|76561198170193529|                    11|                 1|                  823.0|                         823.0|                    823.0|     1.611379201E9|           38|\n",
            "|  6|292030|The Witcher 3: Wi...| 85184064| english|            dis gud,|       1611379091|       1611379091|       true|            0|          0|                0.0|            0|          true|            false|                      false|76561198119302812|                    27|                 2|                 4192.0|                        3398.0|                   4192.0|     1.611351734E9|            8|\n",
            "| 18|292030|The Witcher 3: Wi...| 85180436| english|favorite game of ...|       1611373086|       1611373086|       true|            0|          0|                0.0|            0|          true|            false|                      false|76561198065591528|                    33|                 1|                23329.0|                         177.0|                  23329.0|     1.611219011E9|           59|\n",
            "| 20|292030|The Witcher 3: Wi...| 85179753| english|Why wouldn't you ...|       1611371978|       1611371978|       true|            0|          0|                0.0|            0|          true|            false|                      false|76561198996835044|                   131|                 2|                 8557.0|                        2004.0|                   8557.0|     1.611370967E9|           25|\n",
            "+---+------+--------------------+---------+--------+--------------------+-----------------+-----------------+-----------+-------------+-----------+-------------------+-------------+--------------+-----------------+---------------------------+-----------------+----------------------+------------------+-----------------------+------------------------------+-------------------------+------------------+-------------+\n",
            "only showing top 5 rows\n",
            "\n"
          ]
        }
      ],
      "source": [
        "sample_df.show(5)"
      ]
    },
    {
      "cell_type": "code",
      "execution_count": null,
      "metadata": {
        "id": "DnraLy7WteLW"
      },
      "outputs": [],
      "source": [
        "# spark.catalog.clearCache() if PySpark cached an earlier version of the data and still reference outdated records"
      ]
    },
    {
      "cell_type": "markdown",
      "metadata": {
        "id": "-RI3URrstdl6"
      },
      "source": [
        "##  **Exploratory Data Analysis**"
      ]
    },
    {
      "cell_type": "code",
      "execution_count": null,
      "metadata": {
        "colab": {
          "base_uri": "https://localhost:8080/"
        },
        "id": "YIt6sUl4yIfJ",
        "outputId": "695d0117-041c-408a-cc49-08ff8957c295"
      },
      "outputs": [
        {
          "name": "stdout",
          "output_type": "stream",
          "text": [
            "['_c0', 'app_id', 'app_name', 'review_id', 'language', 'review', 'timestamp_created', 'timestamp_updated', 'recommended', 'votes_helpful', 'votes_funny', 'weighted_vote_score', 'comment_count', 'steam_purchase', 'received_for_free', 'written_during_early_access', 'author_steamid', 'author_num_games_owned', 'author_num_reviews', 'author_playtime_forever', 'author_playtime_last_two_weeks', 'author_playtime_at_review', 'author_last_played', 'review_length']\n"
          ]
        }
      ],
      "source": [
        "# Rename the columns that have \".\" since we have errors in accessing them with their original name\n",
        "sample_df = sample_df.withColumnRenamed(\"author.steamid\", \"author_steamid\") \\\n",
        "                     .withColumnRenamed(\"author.num_games_owned\", \"author_num_games_owned\") \\\n",
        "                     .withColumnRenamed(\"author.num_reviews\", \"author_num_reviews\") \\\n",
        "                     .withColumnRenamed(\"author.playtime_forever\", \"author_playtime_forever\") \\\n",
        "                     .withColumnRenamed(\"author.playtime_last_two_weeks\", \"author_playtime_last_two_weeks\") \\\n",
        "                     .withColumnRenamed(\"author.playtime_at_review\", \"author_playtime_at_review\") \\\n",
        "                     .withColumnRenamed(\"author.last_played\", \"author_last_played\")\n",
        "\n",
        "# Print the new column names\n",
        "print(sample_df.columns)"
      ]
    },
    {
      "cell_type": "markdown",
      "metadata": {
        "id": "dua3Rd59Ou_I"
      },
      "source": [
        "We observed that certain columns are not informative for our objective, therefore we decided to keep only the relevant features."
      ]
    },
    {
      "cell_type": "code",
      "execution_count": null,
      "metadata": {
        "id": "NHqXb6NTfdJ-"
      },
      "outputs": [],
      "source": [
        "# Keep only the relevant features\n",
        "sample_df = sample_df.select(\"_c0\",\"app_id\",\"app_name\",\"review_id\",\"review\",\"recommended\",\"votes_helpful\",\"steam_purchase\",\"received_for_free\",\"written_during_early_access\",\"votes_helpful\",\"author_steamid\", \"author_num_games_owned\", \"author_num_reviews\", \"author_playtime_forever\", \"author_playtime_at_review\", \"review_length\")"
      ]
    },
    {
      "cell_type": "markdown",
      "metadata": {
        "id": "GZrHVhclPC1a"
      },
      "source": [
        "View the first records of our dataset to understand the data that we have."
      ]
    },
    {
      "cell_type": "code",
      "execution_count": null,
      "metadata": {
        "colab": {
          "base_uri": "https://localhost:8080/"
        },
        "id": "XYOMUkQNtScu",
        "outputId": "887009e0-843f-4224-8931-eab19f0c79e9"
      },
      "outputs": [
        {
          "name": "stdout",
          "output_type": "stream",
          "text": [
            "+---+------+--------------------+---------+--------------------+-----------+-------------+--------------+-----------------+---------------------------+-------------+-----------------+----------------------+------------------+-----------------------+-------------------------+-------------+\n",
            "|_c0|app_id|            app_name|review_id|              review|recommended|votes_helpful|steam_purchase|received_for_free|written_during_early_access|votes_helpful|   author_steamid|author_num_games_owned|author_num_reviews|author_playtime_forever|author_playtime_at_review|review_length|\n",
            "+---+------+--------------------+---------+--------------------+-----------+-------------+--------------+-----------------+---------------------------+-------------+-----------------+----------------------+------------------+-----------------------+-------------------------+-------------+\n",
            "|  3|292030|The Witcher 3: Wi...| 85184605|One of the best R...|       true|            0|          true|            false|                      false|            0|76561199054755373|                     5|                 3|                 5587.0|                   5524.0|           59|\n",
            "|  5|292030|The Witcher 3: Wi...| 85184171|good story, good ...|       true|            0|          true|            false|                      false|            0|76561198170193529|                    11|                 1|                  823.0|                    823.0|           38|\n",
            "|  6|292030|The Witcher 3: Wi...| 85184064|            dis gud,|       true|            0|          true|            false|                      false|            0|76561198119302812|                    27|                 2|                 4192.0|                   4192.0|            8|\n",
            "| 18|292030|The Witcher 3: Wi...| 85180436|favorite game of ...|       true|            0|          true|            false|                      false|            0|76561198065591528|                    33|                 1|                23329.0|                  23329.0|           59|\n",
            "| 20|292030|The Witcher 3: Wi...| 85179753|Why wouldn't you ...|       true|            0|          true|            false|                      false|            0|76561198996835044|                   131|                 2|                 8557.0|                   8557.0|           25|\n",
            "+---+------+--------------------+---------+--------------------+-----------+-------------+--------------+-----------------+---------------------------+-------------+-----------------+----------------------+------------------+-----------------------+-------------------------+-------------+\n",
            "only showing top 5 rows\n",
            "\n"
          ]
        }
      ],
      "source": [
        "sample_df.show(5)"
      ]
    },
    {
      "cell_type": "markdown",
      "metadata": {
        "id": "EseQ-SXBfxEJ"
      },
      "source": [
        "Checking for null values and removing them."
      ]
    },
    {
      "cell_type": "code",
      "execution_count": null,
      "metadata": {
        "colab": {
          "base_uri": "https://localhost:8080/"
        },
        "id": "OzblaGK0f04a",
        "outputId": "c3f5f5e6-62f7-4c8b-9576-81e0c5db2d34"
      },
      "outputs": [
        {
          "name": "stdout",
          "output_type": "stream",
          "text": [
            "+---+------+--------+---------+------+-----------+-------------+--------------+-----------------+---------------------------+-------------+--------------+----------------------+------------------+-----------------------+-------------------------+-------------+\n",
            "|_c0|app_id|app_name|review_id|review|recommended|votes_helpful|steam_purchase|received_for_free|written_during_early_access|votes_helpful|author_steamid|author_num_games_owned|author_num_reviews|author_playtime_forever|author_playtime_at_review|review_length|\n",
            "+---+------+--------+---------+------+-----------+-------------+--------------+-----------------+---------------------------+-------------+--------------+----------------------+------------------+-----------------------+-------------------------+-------------+\n",
            "|  0|     0|       0|        0| 16750|          0|            0|             0|                0|                          0|            0|             0|                     0|                 0|                      2|                    11847|        16750|\n",
            "+---+------+--------+---------+------+-----------+-------------+--------------+-----------------+---------------------------+-------------+--------------+----------------------+------------------+-----------------------+-------------------------+-------------+\n",
            "\n"
          ]
        }
      ],
      "source": [
        "# Count nulls in each column\n",
        "null_counts = sample_df.select([sum(col(c).isNull().cast(\"int\")).alias(c) for c in sample_df.columns])\n",
        "\n",
        "# Display null counts for each column\n",
        "null_counts.show()"
      ]
    },
    {
      "cell_type": "code",
      "execution_count": null,
      "metadata": {
        "id": "V74fdrpEf2bV"
      },
      "outputs": [],
      "source": [
        "# Drop rows with null values in any column\n",
        "sample_df = sample_df.na.drop()"
      ]
    },
    {
      "cell_type": "code",
      "execution_count": null,
      "metadata": {
        "colab": {
          "base_uri": "https://localhost:8080/"
        },
        "id": "xMWk8QArf65l",
        "outputId": "0a1edbb5-de2d-468e-d9ad-4c68b3030f21"
      },
      "outputs": [
        {
          "name": "stdout",
          "output_type": "stream",
          "text": [
            "+---+------+--------+---------+------+-----------+-------------+--------------+-----------------+---------------------------+-------------+--------------+----------------------+------------------+-----------------------+-------------------------+-------------+\n",
            "|_c0|app_id|app_name|review_id|review|recommended|votes_helpful|steam_purchase|received_for_free|written_during_early_access|votes_helpful|author_steamid|author_num_games_owned|author_num_reviews|author_playtime_forever|author_playtime_at_review|review_length|\n",
            "+---+------+--------+---------+------+-----------+-------------+--------------+-----------------+---------------------------+-------------+--------------+----------------------+------------------+-----------------------+-------------------------+-------------+\n",
            "|  0|     0|       0|        0|     0|          0|            0|             0|                0|                          0|            0|             0|                     0|                 0|                      0|                        0|            0|\n",
            "+---+------+--------+---------+------+-----------+-------------+--------------+-----------------+---------------------------+-------------+--------------+----------------------+------------------+-----------------------+-------------------------+-------------+\n",
            "\n"
          ]
        }
      ],
      "source": [
        "# Verify no nulls remain\n",
        "sample_df.select([sum(col(c).isNull().cast(\"int\")).alias(c) for c in sample_df.columns]).show()"
      ]
    },
    {
      "cell_type": "markdown",
      "metadata": {
        "id": "v-2x4BDmPO4F"
      },
      "source": [
        "Calculate summary statistics regarding the time (in minutes) that users played the game at the moment of writing their review. Using those, we will categorize users into three main categories, according to whether they have played for little, medium, or much time."
      ]
    },
    {
      "cell_type": "code",
      "execution_count": null,
      "metadata": {
        "colab": {
          "base_uri": "https://localhost:8080/"
        },
        "id": "SIqGj4QXAKcr",
        "outputId": "f9a2a0f4-f0a4-4275-a928-4d1c78ffbca8"
      },
      "outputs": [
        {
          "name": "stdout",
          "output_type": "stream",
          "text": [
            "+-------+-------------------------+\n",
            "|summary|author_playtime_at_review|\n",
            "+-------+-------------------------+\n",
            "|  count|                  9606842|\n",
            "|   mean|        9143.312766567828|\n",
            "| stddev|        26478.30080684629|\n",
            "|    min|                      1.0|\n",
            "|    max|                3228103.0|\n",
            "+-------+-------------------------+\n",
            "\n"
          ]
        }
      ],
      "source": [
        "sample_df.select(\"author_playtime_at_review\").describe().show()"
      ]
    },
    {
      "cell_type": "markdown",
      "metadata": {
        "id": "RCAhiV7vP-tI"
      },
      "source": [
        "Similarly, we calculate summary statistics regarding the total playtime of users and we will categorize them into three categories according to the amount of time they played games in total."
      ]
    },
    {
      "cell_type": "code",
      "execution_count": null,
      "metadata": {
        "colab": {
          "base_uri": "https://localhost:8080/"
        },
        "id": "NpCot9UwD5AF",
        "outputId": "597413d6-f6e7-484f-ccf9-7f8b1289e5a4"
      },
      "outputs": [
        {
          "name": "stdout",
          "output_type": "stream",
          "text": [
            "+-------+-----------------------+\n",
            "|summary|author_playtime_forever|\n",
            "+-------+-----------------------+\n",
            "|  count|                9606842|\n",
            "|   mean|     16371.968813997357|\n",
            "| stddev|      40908.99046628258|\n",
            "|    min|                    0.0|\n",
            "|    max|              3744943.0|\n",
            "+-------+-----------------------+\n",
            "\n"
          ]
        }
      ],
      "source": [
        "sample_df.select(\"author_playtime_forever\").describe().show()"
      ]
    },
    {
      "cell_type": "code",
      "execution_count": null,
      "metadata": {
        "id": "JSQca78VB2JJ"
      },
      "outputs": [],
      "source": [
        "# Create new columns for playtime categories\n",
        "sample_df = sample_df.withColumn(\n",
        "    \"playtime_category\",\n",
        "    when(col(\"author_playtime_at_review\") < 5000, \"Low\")\n",
        "    .when((col(\"author_playtime_at_review\") >= 5000) & (col(\"author_playtime_at_review\") < 20000), \"Medium\")\n",
        "    .otherwise(\"High\")\n",
        ")\n",
        "\n",
        "sample_df = sample_df.withColumn(\n",
        "    \"playtime_forever_category\",\n",
        "    when(col(\"author_playtime_forever\") < 5000, \"Low\")\n",
        "    .when((col(\"author_playtime_forever\") >= 5000) & (col(\"author_playtime_forever\") < 20000), \"Medium\")\n",
        "    .otherwise(\"High\")\n",
        ")"
      ]
    },
    {
      "cell_type": "markdown",
      "metadata": {
        "id": "KL1H87lhQQor"
      },
      "source": [
        "Use the aforementioned categories to visualize the number of users in each category, using barplots."
      ]
    },
    {
      "cell_type": "code",
      "execution_count": null,
      "metadata": {
        "colab": {
          "base_uri": "https://localhost:8080/",
          "height": 487
        },
        "id": "0dsN419rCyhv",
        "outputId": "4ebff71d-28b7-4f7c-acb0-5f69ae5cd31e"
      },
      "outputs": [
        {
          "data": {
            "image/png": "[encoded data removed]",
            "text/plain": [
              "<Figure size 800x500 with 1 Axes>"
            ]
          },
          "metadata": {},
          "output_type": "display_data"
        }
      ],
      "source": [
        "# Convert PySpark DataFrame to Pandas\n",
        "pandas_df = sample_df.select(\"playtime_category\").toPandas()\n",
        "\n",
        "# Count occurrences of each category\n",
        "category_counts = pandas_df[\"playtime_category\"].value_counts()\n",
        "\n",
        "# Plot bar chart\n",
        "plt.figure(figsize=(8, 5))\n",
        "category_counts.plot(kind=\"bar\", color=[\"#7C6E7F\", \"#FF9999\", \"#99CCFF\"])\n",
        "plt.title(\"Distribution of Playtime Categories\")\n",
        "plt.xlabel(\"Playtime Category\")\n",
        "plt.ylabel(\"Count\")\n",
        "plt.xticks(rotation=0)\n",
        "plt.grid(axis=\"y\", linestyle=\"--\", alpha=0.7)\n",
        "\n",
        "# Show plot\n",
        "plt.show()"
      ]
    },
    {
      "cell_type": "code",
      "execution_count": null,
      "metadata": {
        "colab": {
          "base_uri": "https://localhost:8080/",
          "height": 487
        },
        "id": "W9rJG8s6FXF1",
        "outputId": "cc83f882-6228-4dc6-c05a-cfbbecb21ce9"
      },
      "outputs": [
        {
          "data": {
            "image/png": "[encoded data removed]",
            "text/plain": [
              "<Figure size 800x500 with 1 Axes>"
            ]
          },
          "metadata": {},
          "output_type": "display_data"
        }
      ],
      "source": [
        "# Convert PySpark DataFrame to Pandas\n",
        "pandas_df = sample_df.select(\"playtime_forever_category\").toPandas()\n",
        "\n",
        "# Count occurrences of each category\n",
        "category_counts_forever = pandas_df[\"playtime_forever_category\"].value_counts()\n",
        "\n",
        "# Plot bar chart\n",
        "plt.figure(figsize=(8, 5))\n",
        "category_counts_forever.plot(kind=\"bar\", color=[\"#7C6E7F\", \"#FF9999\", \"#99CCFF\"])\n",
        "plt.title(\"Distribution of Total Playtime Categories\")\n",
        "plt.xlabel(\"Total Playtime Category\")\n",
        "plt.ylabel(\"Count\")\n",
        "plt.xticks(rotation=0)\n",
        "plt.grid(axis=\"y\", linestyle=\"--\", alpha=0.7)\n",
        "\n",
        "# Show plot\n",
        "plt.show()"
      ]
    },
    {
      "cell_type": "markdown",
      "metadata": {
        "id": "LbWSnV1vRydA"
      },
      "source": [
        "Check all the unique games in the reviews."
      ]
    },
    {
      "cell_type": "code",
      "execution_count": null,
      "metadata": {
        "colab": {
          "base_uri": "https://localhost:8080/"
        },
        "id": "l0rBEb-20OjJ",
        "outputId": "4bd7226d-dc8f-4926-d3c0-cb15647bb8d4"
      },
      "outputs": [
        {
          "name": "stdout",
          "output_type": "stream",
          "text": [
            "+--------------------+\n",
            "|            app_name|\n",
            "+--------------------+\n",
            "|The Witcher 3: Wi...|\n",
            "|    Dead by Daylight|\n",
            "|Sid Meier's Civil...|\n",
            "|            Portal 2|\n",
            "|           Half-Life|\n",
            "|Half-Life 2: Epis...|\n",
            "|         Garry's Mod|\n",
            "|           X Rebirth|\n",
            "|Sid Meier's Civil...|\n",
            "|Counter-Strike: S...|\n",
            "|    Human: Fall Flat|\n",
            "|      Umbrella Corps|\n",
            "|Pogostuck: Rage W...|\n",
            "|Momodora: Reverie...|\n",
            "|         Down To One|\n",
            "|                20XX|\n",
            "|         Cold Waters|\n",
            "|            NBA 2K18|\n",
            "|      Super Meat Boy|\n",
            "|            Identity|\n",
            "+--------------------+\n",
            "only showing top 20 rows\n",
            "\n"
          ]
        }
      ],
      "source": [
        "sample_df.select(\"app_name\").distinct().show()"
      ]
    },
    {
      "cell_type": "code",
      "execution_count": null,
      "metadata": {
        "colab": {
          "base_uri": "https://localhost:8080/"
        },
        "id": "6ftJo2EM0PMU",
        "outputId": "3773cb24-cac5-4d64-d894-54c221d18732"
      },
      "outputs": [
        {
          "name": "stdout",
          "output_type": "stream",
          "text": [
            "+--------------------+------+\n",
            "|            app_name| count|\n",
            "+--------------------+------+\n",
            "|Tom Clancy's Rain...|370120|\n",
            "|            Terraria|369444|\n",
            "|         Garry's Mod|330738|\n",
            "|  Grand Theft Auto V|318809|\n",
            "|PLAYERUNKNOWN'S B...|317529|\n",
            "|            Among Us|294755|\n",
            "|                Rust|283140|\n",
            "|       Rocket League|248067|\n",
            "|            PAYDAY 2|186532|\n",
            "|ARK: Survival Evo...|183892|\n",
            "|      Stardew Valley|172208|\n",
            "|The Elder Scrolls...|159849|\n",
            "|The Witcher 3: Wi...|151121|\n",
            "|    Dead by Daylight|143613|\n",
            "|           Fallout 4|138737|\n",
            "|        Phasmophobia|129364|\n",
            "|        No Man's Sky|116023|\n",
            "|       Hollow Knight|109372|\n",
            "|            Portal 2|106638|\n",
            "|Sid Meier's Civil...|103931|\n",
            "+--------------------+------+\n",
            "only showing top 20 rows\n",
            "\n"
          ]
        }
      ],
      "source": [
        "sample_df.groupBy(\"app_name\").count().sort(col(\"count\").desc()).show()  #sort in desc order to find apps with many reviews"
      ]
    },
    {
      "cell_type": "code",
      "execution_count": 1,
      "metadata": {
        "colab": {
          "base_uri": "https://localhost:8080/",
          "height": 72
        },
        "id": "hmQAUfy1gdOK",
        "outputId": "d7e569c1-a70f-4f37-d6e8-73f591711eac"
      },
      "outputs": [
        {
          "output_type": "execute_result",
          "data": {
            "text/plain": [
              "'\\n# Convert Spark DataFrame to Pandas DataFrame\\npandas_df = sample_df.groupBy(\"app_name\").count().toPandas()\\n\\nplt.figure(figsize=(12, 6))\\nplt.bar(pandas_df[\\'app_name\\'].astype(str), pandas_df[\\'count\\'])\\nplt.xticks(rotation=90)\\nplt.xlabel(\"App Name\")\\nplt.ylabel(\"Count\")\\nplt.title(\"App Name Counts Distribution\")\\nplt.tight_layout()\\nplt.show()\\n'"
            ],
            "application/vnd.google.colaboratory.intrinsic+json": {
              "type": "string"
            }
          },
          "metadata": {},
          "execution_count": 1
        }
      ],
      "source": [
        "#The following plot is not very interpretable, due to the large number of app names\n",
        "'''\n",
        "# Convert Spark DataFrame to Pandas DataFrame\n",
        "pandas_df = sample_df.groupBy(\"app_name\").count().toPandas()\n",
        "\n",
        "plt.figure(figsize=(12, 6))\n",
        "plt.bar(pandas_df['app_name'].astype(str), pandas_df['count'])\n",
        "plt.xticks(rotation=90)\n",
        "plt.xlabel(\"App Name\")\n",
        "plt.ylabel(\"Count\")\n",
        "plt.title(\"App Name Counts Distribution\")\n",
        "plt.tight_layout()\n",
        "plt.show()\n",
        "'''"
      ]
    },
    {
      "cell_type": "markdown",
      "metadata": {
        "id": "Wik0AbDySK5c"
      },
      "source": [
        "See how many users have purchased the app through Steam."
      ]
    },
    {
      "cell_type": "code",
      "execution_count": null,
      "metadata": {
        "colab": {
          "base_uri": "https://localhost:8080/"
        },
        "id": "D0iHT-Zl0PdG",
        "outputId": "7dea7d92-d7e2-4559-f6ef-ba3877eb43d8"
      },
      "outputs": [
        {
          "name": "stdout",
          "output_type": "stream",
          "text": [
            "+--------------+-------+\n",
            "|steam_purchase|  count|\n",
            "+--------------+-------+\n",
            "|          true|7421733|\n",
            "|         false|2185109|\n",
            "+--------------+-------+\n",
            "\n"
          ]
        }
      ],
      "source": [
        "sample_df.groupBy(\"steam_purchase\").count().show()"
      ]
    },
    {
      "cell_type": "code",
      "execution_count": null,
      "metadata": {
        "colab": {
          "base_uri": "https://localhost:8080/",
          "height": 607
        },
        "id": "AX4sXXR-lEa8",
        "outputId": "d38b0fa3-7c3a-422f-9472-fafc90cdaf85"
      },
      "outputs": [
        {
          "data": {
            "image/png": "[encoded data removed]",
            "text/plain": [
              "<Figure size 1200x600 with 1 Axes>"
            ]
          },
          "metadata": {},
          "output_type": "display_data"
        }
      ],
      "source": [
        "# Convert Spark DataFrame to Pandas DataFrame\n",
        "pandas_df = sample_df.groupBy(\"steam_purchase\").count().toPandas()\n",
        "\n",
        "plt.figure(figsize=(12, 6))\n",
        "plt.bar(pandas_df['steam_purchase'].astype(str), pandas_df['count'])\n",
        "plt.xticks(rotation=90)\n",
        "plt.xlabel(\"steam_purchase\")\n",
        "plt.ylabel(\"Count\")\n",
        "plt.title(\"steam_purchase Counts Distribution\")\n",
        "plt.tight_layout()\n",
        "plt.show()\n"
      ]
    },
    {
      "cell_type": "code",
      "execution_count": null,
      "metadata": {
        "colab": {
          "base_uri": "https://localhost:8080/",
          "height": 607
        },
        "id": "ku_ODOS5gb9F",
        "outputId": "cd1c9944-5e97-4490-812f-b1c9da73274c"
      },
      "outputs": [
        {
          "data": {
            "image/png": "[encoded data removed]",
            "text/plain": [
              "<Figure size 1200x600 with 1 Axes>"
            ]
          },
          "metadata": {},
          "output_type": "display_data"
        }
      ],
      "source": [
        "# Convert Spark DataFrame to Pandas DataFrame\n",
        "pandas_df = sample_df.groupBy(\"recommended\").count().toPandas()\n",
        "\n",
        "plt.figure(figsize=(12, 6))\n",
        "plt.bar(pandas_df['recommended'].astype(str), pandas_df['count'])\n",
        "plt.xticks(rotation=90)\n",
        "plt.xlabel(\"recommended\")\n",
        "plt.ylabel(\"Count\")\n",
        "plt.title(\"recommended Counts Distribution\")\n",
        "plt.tight_layout()\n",
        "plt.show()\n",
        "\n",
        "\n",
        "#we observe here that most reviews are positive - meaning they would recommend the app to other users"
      ]
    },
    {
      "cell_type": "markdown",
      "metadata": {
        "id": "vmmR-J-sShap"
      },
      "source": [
        "Check how many users have received the app for free."
      ]
    },
    {
      "cell_type": "code",
      "execution_count": null,
      "metadata": {
        "colab": {
          "base_uri": "https://localhost:8080/"
        },
        "id": "rHPsBhs20Pjy",
        "outputId": "8a9cb42a-f3f6-4304-8688-fcb47d79d759"
      },
      "outputs": [
        {
          "name": "stdout",
          "output_type": "stream",
          "text": [
            "+-----------------+-------+\n",
            "|received_for_free|  count|\n",
            "+-----------------+-------+\n",
            "|             true| 278731|\n",
            "|            false|9328111|\n",
            "+-----------------+-------+\n",
            "\n"
          ]
        }
      ],
      "source": [
        "sample_df.groupBy(\"received_for_free\").count().show()"
      ]
    },
    {
      "cell_type": "code",
      "execution_count": null,
      "metadata": {
        "colab": {
          "base_uri": "https://localhost:8080/",
          "height": 607
        },
        "id": "OX6jkJh8lU6D",
        "outputId": "416d5fc5-4b1c-4e5c-8876-42a8a1d24cc1"
      },
      "outputs": [
        {
          "data": {
            "image/png": "[encoded data removed]",
            "text/plain": [
              "<Figure size 1200x600 with 1 Axes>"
            ]
          },
          "metadata": {},
          "output_type": "display_data"
        }
      ],
      "source": [
        "# Convert Spark DataFrame to Pandas DataFrame\n",
        "pandas_df = sample_df.groupBy(\"received_for_free\").count().toPandas()\n",
        "\n",
        "plt.figure(figsize=(12, 6))\n",
        "plt.bar(pandas_df['received_for_free'].astype(str), pandas_df['count'])\n",
        "plt.xticks(rotation=90)\n",
        "plt.xlabel(\"received_for_free\")\n",
        "plt.ylabel(\"Count\")\n",
        "plt.title(\"received_for_free Counts Distribution\")\n",
        "plt.tight_layout()\n",
        "plt.show()\n",
        "\n",
        "#most users did not receive the app for free"
      ]
    },
    {
      "cell_type": "markdown",
      "metadata": {
        "id": "EGW1rIA8Soxe"
      },
      "source": [
        "Check how many reiviews are written by users that purchased their app before the official release (early access)."
      ]
    },
    {
      "cell_type": "code",
      "execution_count": null,
      "metadata": {
        "colab": {
          "base_uri": "https://localhost:8080/"
        },
        "id": "NbdNX67x2YNS",
        "outputId": "0eca439f-6eb7-41cf-8e75-c7f7ee6e4c4e"
      },
      "outputs": [
        {
          "name": "stdout",
          "output_type": "stream",
          "text": [
            "+---------------------------+-------+\n",
            "|written_during_early_access|  count|\n",
            "+---------------------------+-------+\n",
            "|                      false|8650199|\n",
            "|                       true| 956643|\n",
            "+---------------------------+-------+\n",
            "\n"
          ]
        }
      ],
      "source": [
        "sample_df.groupBy(\"written_during_early_access\").count().show()"
      ]
    },
    {
      "cell_type": "code",
      "execution_count": null,
      "metadata": {
        "colab": {
          "base_uri": "https://localhost:8080/",
          "height": 607
        },
        "id": "qV5E45pWlZ24",
        "outputId": "eec9d0ac-575e-4179-aea2-c07b5670a191"
      },
      "outputs": [
        {
          "data": {
            "image/png": "[encoded data removed]",
            "text/plain": [
              "<Figure size 1200x600 with 1 Axes>"
            ]
          },
          "metadata": {},
          "output_type": "display_data"
        }
      ],
      "source": [
        "# Convert Spark DataFrame to Pandas DataFrame\n",
        "pandas_df = sample_df.groupBy(\"written_during_early_access\").count().toPandas()\n",
        "\n",
        "plt.figure(figsize=(12, 6))\n",
        "plt.bar(pandas_df['written_during_early_access'].astype(str), pandas_df['count'])\n",
        "plt.xticks(rotation=90)\n",
        "plt.xlabel(\"written_during_early_access\")\n",
        "plt.ylabel(\"Count\")\n",
        "plt.title(\"written_during_early_access Counts Distribution\")\n",
        "plt.tight_layout()\n",
        "plt.show()\n"
      ]
    },
    {
      "cell_type": "code",
      "execution_count": null,
      "metadata": {
        "colab": {
          "base_uri": "https://localhost:8080/"
        },
        "id": "ofw-D9lK2YeN",
        "outputId": "ce53d4f4-d088-406c-8335-6de2b6b8e907"
      },
      "outputs": [
        {
          "name": "stdout",
          "output_type": "stream",
          "text": [
            "+-----------------+-----+\n",
            "|   author_steamid|count|\n",
            "+-----------------+-----+\n",
            "|76561198062813911|  149|\n",
            "|76561198315585536|  132|\n",
            "|76561198045381877|  103|\n",
            "|76561198064946151|  100|\n",
            "|76561197969749884|   88|\n",
            "|76561197997059777|   81|\n",
            "|76561197990947284|   80|\n",
            "|76561198048086581|   79|\n",
            "|76561197999920602|   79|\n",
            "|76561198166188807|   79|\n",
            "|76561197970761123|   78|\n",
            "|76561198011965365|   78|\n",
            "|76561198038757354|   77|\n",
            "|76561198112669681|   76|\n",
            "|76561198094803808|   75|\n",
            "|76561197986406741|   72|\n",
            "|76561197999935168|   72|\n",
            "|76561198057221241|   71|\n",
            "|76561198266073876|   71|\n",
            "|76561198082610824|   70|\n",
            "+-----------------+-----+\n",
            "only showing top 20 rows\n",
            "\n"
          ]
        }
      ],
      "source": [
        "sample_df.groupBy(\"author_steamid\").count().sort(col(\"count\").desc()).show()   #sort in descending order to see the most frequent reviewers!"
      ]
    },
    {
      "cell_type": "markdown",
      "metadata": {
        "id": "lkjSBB3GyBRl"
      },
      "source": [
        "# Bivariate analysis"
      ]
    },
    {
      "cell_type": "markdown",
      "metadata": {
        "id": "GdS5-Uzy6yoU"
      },
      "source": [
        "We want to check if a user is more likely to recommend an app if they receive it for free"
      ]
    },
    {
      "cell_type": "code",
      "execution_count": null,
      "metadata": {
        "colab": {
          "base_uri": "https://localhost:8080/"
        },
        "id": "Xg-gCvP72Yih",
        "outputId": "adda9a1d-2883-4f8b-a69f-d47cdb94447d"
      },
      "outputs": [
        {
          "name": "stdout",
          "output_type": "stream",
          "text": [
            "+-----------------+-------------+------------------+----------------------+\n",
            "|received_for_free|Total Reviews|Recommended (True)|Proportion Recommended|\n",
            "+-----------------+-------------+------------------+----------------------+\n",
            "|             true|       688061|            611033|    0.8880506234185632|\n",
            "|            false|     21059310|          18411577|    0.8742725663851285|\n",
            "+-----------------+-------------+------------------+----------------------+\n",
            "\n"
          ]
        }
      ],
      "source": [
        "# Calculate total reviews and recommended true counts\n",
        "pivot_table = df.groupBy('received_for_free').agg(\n",
        "    {'recommended': 'count'}\n",
        ").withColumnRenamed('count(recommended)', 'Total Reviews')\n",
        "\n",
        "recommended_true = df.filter(df['recommended'] == True).groupBy('received_for_free').count().withColumnRenamed('count', 'Recommended (True)')\n",
        "\n",
        "# Join the two DataFrames\n",
        "pivot_table = pivot_table.join(recommended_true, 'received_for_free', 'left_outer')\n",
        "\n",
        "# Calculate proportion\n",
        "pivot_table = pivot_table.withColumn('Proportion Recommended', pivot_table['Recommended (True)'] / pivot_table['Total Reviews'])\n",
        "\n",
        "# Show results\n",
        "pivot_table.show()"
      ]
    },
    {
      "cell_type": "markdown",
      "metadata": {
        "id": "3445DVlg6UPu"
      },
      "source": [
        "As shown in the above table, the proportion of users who recieved the apps for free and would recommend them is roughly equal to the proportion of users who did not receive the apps for free and would recommend them."
      ]
    },
    {
      "cell_type": "markdown",
      "metadata": {
        "id": "GgXnQGSL9Gwm"
      },
      "source": [
        "To see if longer reviews are more positive or negative"
      ]
    },
    {
      "cell_type": "code",
      "execution_count": null,
      "metadata": {
        "colab": {
          "base_uri": "https://localhost:8080/"
        },
        "id": "ecNCwDMu2Yml",
        "outputId": "ef3de542-d27d-48a8-ff75-a86e0304c296"
      },
      "outputs": [
        {
          "name": "stdout",
          "output_type": "stream",
          "text": [
            "+-------------+-------------+------------------+----------------------+\n",
            "|review_length|Total Reviews|Recommended (True)|Proportion Recommended|\n",
            "+-------------+-------------+------------------+----------------------+\n",
            "|       150000|            1|              NULL|                  NULL|\n",
            "|         8000|          862|               686|    0.7958236658932715|\n",
            "|         7999|          300|               221|    0.7366666666666667|\n",
            "|         7998|          134|                90|    0.6716417910447762|\n",
            "|         7997|          119|                86|    0.7226890756302521|\n",
            "|         7996|          117|                86|    0.7350427350427351|\n",
            "|         7995|           68|                53|    0.7794117647058824|\n",
            "|         7994|           89|                56|    0.6292134831460674|\n",
            "|         7993|           65|                43|    0.6615384615384615|\n",
            "|         7992|           68|                43|    0.6323529411764706|\n",
            "|         7991|           65|                43|    0.6615384615384615|\n",
            "|         7990|           43|                28|    0.6511627906976745|\n",
            "|         7989|           41|                27|    0.6585365853658537|\n",
            "|         7988|           57|                32|    0.5614035087719298|\n",
            "|         7987|           45|                30|    0.6666666666666666|\n",
            "|         7986|           38|                28|    0.7368421052631579|\n",
            "|         7985|           42|                28|    0.6666666666666666|\n",
            "|         7984|           33|                23|     0.696969696969697|\n",
            "|         7983|           35|                25|    0.7142857142857143|\n",
            "|         7982|           32|                22|                0.6875|\n",
            "+-------------+-------------+------------------+----------------------+\n",
            "only showing top 20 rows\n",
            "\n"
          ]
        }
      ],
      "source": [
        "# Calculate total reviews and recommended true counts for 'review_length'\n",
        "pivot_table = sample_df.groupBy('review_length').agg(\n",
        "    {'recommended': 'count'}\n",
        ").withColumnRenamed('count(recommended)', 'Total Reviews')\n",
        "\n",
        "recommended_true = sample_df.filter(sample_df['recommended'] == True).groupBy('review_length').count().withColumnRenamed('count', 'Recommended (True)')\n",
        "\n",
        "# Join and calculate proportion\n",
        "pivot_table = pivot_table.join(recommended_true, 'review_length', 'left_outer')\n",
        "pivot_table = pivot_table.withColumn('Proportion Recommended', pivot_table['Recommended (True)'] / pivot_table['Total Reviews'])\n",
        "\n",
        "# Show results\n",
        "pivot_table.sort(col(\"review_length\").desc()).show()  # to see longer reviews first\n",
        "\n",
        "\n",
        "\n",
        "\n",
        "#NOTE: we can make a scatterplot of these values to check for correlation -- see cell below"
      ]
    },
    {
      "cell_type": "code",
      "execution_count": null,
      "metadata": {
        "colab": {
          "base_uri": "https://localhost:8080/",
          "height": 564
        },
        "id": "-3IGhdk3_op2",
        "outputId": "963f5838-f31c-4d3f-c9e6-34e04449edf6"
      },
      "outputs": [
        {
          "data": {
            "image/png": "[encoded data removed]",
            "text/plain": [
              "<Figure size 1000x600 with 1 Axes>"
            ]
          },
          "metadata": {},
          "output_type": "display_data"
        }
      ],
      "source": [
        "# Convert Spark DataFrame to Pandas for visualization\n",
        "pivot_table_pd = pivot_table.select('review_length', 'Proportion Recommended').toPandas()\n",
        "\n",
        "# Scatterplot\n",
        "plt.figure(figsize=(10, 6))\n",
        "plt.scatter(pivot_table_pd['review_length'], pivot_table_pd['Proportion Recommended'], alpha=0.5)\n",
        "plt.title('Review Length vs Proportion Recommended')\n",
        "plt.xlabel('Review Length')\n",
        "plt.ylabel('Proportion Recommended')\n",
        "plt.grid(True)\n",
        "plt.show()"
      ]
    },
    {
      "cell_type": "code",
      "execution_count": null,
      "metadata": {
        "id": "wxTeo4eb2YqO"
      },
      "outputs": [],
      "source": []
    },
    {
      "cell_type": "markdown",
      "metadata": {
        "id": "_iTHzkzr-KYK"
      },
      "source": [
        "Does higher playtime correlate with positive recommendations?"
      ]
    },
    {
      "cell_type": "code",
      "execution_count": null,
      "metadata": {
        "colab": {
          "base_uri": "https://localhost:8080/"
        },
        "id": "MBjgkHvX2y7o",
        "outputId": "0dbbd1c2-3b1e-47cc-d153-5ebb561b564c"
      },
      "outputs": [
        {
          "name": "stdout",
          "output_type": "stream",
          "text": [
            "+-------------------------+-------------+------------------+----------------------+\n",
            "|author_playtime_at_review|Total Reviews|Recommended (True)|Proportion Recommended|\n",
            "+-------------------------+-------------+------------------+----------------------+\n",
            "|                3228103.0|            1|                 1|                   1.0|\n",
            "|                3062784.0|            1|                 1|                   1.0|\n",
            "|                2773429.0|            1|                 1|                   1.0|\n",
            "|                2395854.0|            1|                 1|                   1.0|\n",
            "|                2281002.0|            1|                 1|                   1.0|\n",
            "|                2262933.0|            1|              NULL|                  NULL|\n",
            "|                2213127.0|            1|                 1|                   1.0|\n",
            "|                2172346.0|            1|                 1|                   1.0|\n",
            "|                2071808.0|            1|                 1|                   1.0|\n",
            "|                2043953.0|            1|                 1|                   1.0|\n",
            "|                2036938.0|            1|                 1|                   1.0|\n",
            "|                2006281.0|            1|                 1|                   1.0|\n",
            "|                1965578.0|            1|                 1|                   1.0|\n",
            "|                1961862.0|            1|                 1|                   1.0|\n",
            "|                1960678.0|            1|                 1|                   1.0|\n",
            "|                1939691.0|            1|                 1|                   1.0|\n",
            "|                1881254.0|            1|                 1|                   1.0|\n",
            "|                1868133.0|            1|              NULL|                  NULL|\n",
            "|                1847147.0|            1|                 1|                   1.0|\n",
            "|                1832720.0|            1|                 1|                   1.0|\n",
            "+-------------------------+-------------+------------------+----------------------+\n",
            "only showing top 20 rows\n",
            "\n"
          ]
        }
      ],
      "source": [
        "# Calculate total reviews and recommended true counts for 'author_playtime_at_review'\n",
        "pivot_table = sample_df.groupBy('author_playtime_at_review').agg(\n",
        "    {'recommended': 'count'}\n",
        ").withColumnRenamed('count(recommended)', 'Total Reviews')\n",
        "\n",
        "recommended_true = sample_df.filter(sample_df['recommended'] == True).groupBy('author_playtime_at_review').count().withColumnRenamed('count', 'Recommended (True)')\n",
        "\n",
        "# Join and calculate proportion\n",
        "pivot_table = pivot_table.join(recommended_true, 'author_playtime_at_review', 'left_outer')\n",
        "pivot_table = pivot_table.withColumn('Proportion Recommended', pivot_table['Recommended (True)'] / pivot_table['Total Reviews'])\n",
        "\n",
        "# Show results\n",
        "pivot_table.sort(col(\"author_playtime_at_review\").desc()).show()  # to see people who played for longer first\n"
      ]
    },
    {
      "cell_type": "code",
      "execution_count": null,
      "metadata": {
        "colab": {
          "base_uri": "https://localhost:8080/",
          "height": 564
        },
        "id": "TfK6LvFT_xZk",
        "outputId": "8920404d-f94d-4ec3-9c18-2e07e5fb894f"
      },
      "outputs": [
        {
          "data": {
            "image/png": "[encoded data removed]",
            "text/plain": [
              "<Figure size 1000x600 with 1 Axes>"
            ]
          },
          "metadata": {},
          "output_type": "display_data"
        }
      ],
      "source": [
        "# Convert Spark DataFrame to Pandas for visualization\n",
        "pivot_table_pd = pivot_table.select('author_playtime_at_review', 'Proportion Recommended').toPandas()\n",
        "\n",
        "# Scatterplot\n",
        "plt.figure(figsize=(10, 6))\n",
        "plt.scatter(pivot_table_pd['author_playtime_at_review'], pivot_table_pd['Proportion Recommended'], alpha=0.5)\n",
        "plt.title('author_playtime_at_review vs Proportion Recommended')\n",
        "plt.xlabel('author_playtime_at_review')\n",
        "plt.ylabel('Proportion Recommended')\n",
        "plt.grid(True)\n",
        "plt.show()"
      ]
    },
    {
      "cell_type": "markdown",
      "metadata": {
        "id": "NJaHAJyP-gzV"
      },
      "source": [
        "Are frequent reviewers more positive or critical?"
      ]
    },
    {
      "cell_type": "code",
      "execution_count": null,
      "metadata": {
        "colab": {
          "base_uri": "https://localhost:8080/"
        },
        "id": "KuTWzY5k-f9H",
        "outputId": "e37cf0b6-28b4-464b-c327-9b065a0c8392"
      },
      "outputs": [
        {
          "name": "stdout",
          "output_type": "stream",
          "text": [
            "+------------------+-------------+------------------+----------------------+\n",
            "|author_num_reviews|Total Reviews|Recommended (True)|Proportion Recommended|\n",
            "+------------------+-------------+------------------+----------------------+\n",
            "|     4398046511105|            1|                 1|                   1.0|\n",
            "|              5236|           15|                15|                   1.0|\n",
            "|              4137|           49|                40|    0.8163265306122449|\n",
            "|              3775|            5|                 3|                   0.6|\n",
            "|              3774|            2|                 2|                   1.0|\n",
            "|              3772|            4|                 4|                   1.0|\n",
            "|              3767|            1|                 1|                   1.0|\n",
            "|              3766|            4|                 4|                   1.0|\n",
            "|              3764|            3|                 2|    0.6666666666666666|\n",
            "|              3762|            2|                 2|                   1.0|\n",
            "|              3473|           22|                 7|    0.3181818181818182|\n",
            "|              3472|           14|                 1|   0.07142857142857142|\n",
            "|              2835|            3|                 2|    0.6666666666666666|\n",
            "|              2833|            1|              NULL|                  NULL|\n",
            "|              2772|            1|                 1|                   1.0|\n",
            "|              2627|           30|                 8|   0.26666666666666666|\n",
            "|              2626|           17|                 6|   0.35294117647058826|\n",
            "|              2624|            4|                 1|                  0.25|\n",
            "|              2623|            3|              NULL|                  NULL|\n",
            "|              2622|           20|                 4|                   0.2|\n",
            "+------------------+-------------+------------------+----------------------+\n",
            "only showing top 20 rows\n",
            "\n"
          ]
        }
      ],
      "source": [
        "# Calculate total reviews and recommended true counts for 'author_num_reviews'\n",
        "pivot_table = sample_df.groupBy('author_num_reviews').agg(\n",
        "    {'recommended': 'count'}\n",
        ").withColumnRenamed('count(recommended)', 'Total Reviews')\n",
        "\n",
        "recommended_true = sample_df.filter(sample_df['recommended'] == True).groupBy('author_num_reviews').count().withColumnRenamed('count', 'Recommended (True)')\n",
        "\n",
        "# Join and calculate proportion\n",
        "pivot_table = pivot_table.join(recommended_true, 'author_num_reviews', 'left_outer')\n",
        "pivot_table = pivot_table.withColumn('Proportion Recommended', pivot_table['Recommended (True)'] / pivot_table['Total Reviews'])\n",
        "\n",
        "# Show results\n",
        "pivot_table.sort(col(\"author_num_reviews\").desc()).show()  # to see people who have made more reviews first\n"
      ]
    },
    {
      "cell_type": "code",
      "execution_count": null,
      "metadata": {
        "colab": {
          "base_uri": "https://localhost:8080/",
          "height": 564
        },
        "id": "MQW1rdoV-gRj",
        "outputId": "767f218b-a1e5-4665-c4d1-c9e00767e226"
      },
      "outputs": [
        {
          "data": {
            "image/png": "[encoded data removed]",
            "text/plain": [
              "<Figure size 1000x600 with 1 Axes>"
            ]
          },
          "metadata": {},
          "output_type": "display_data"
        }
      ],
      "source": [
        "# Convert Spark DataFrame to Pandas for visualization\n",
        "pivot_table_pd = pivot_table.select('author_num_reviews', 'Proportion Recommended').toPandas()\n",
        "pivot_table_pd['author_num_reviews'] = pd.to_numeric(pivot_table_pd['author_num_reviews'], errors='coerce')\n",
        "\n",
        "# Scatterplot\n",
        "plt.figure(figsize=(10, 6))\n",
        "plt.scatter(pivot_table_pd['author_num_reviews'], pivot_table_pd['Proportion Recommended'], alpha=0.5)\n",
        "plt.title('author_num_reviews vs Proportion Recommended')\n",
        "plt.xlabel('author_num_reviews')\n",
        "plt.ylabel('Proportion Recommended')\n",
        "plt.grid(True)\n",
        "plt.show()"
      ]
    },
    {
      "cell_type": "markdown",
      "metadata": {
        "id": "0buojGpcTUX9"
      },
      "source": [
        "Of those that received the app for free, how many reccomend the app?"
      ]
    },
    {
      "cell_type": "code",
      "execution_count": null,
      "metadata": {
        "colab": {
          "base_uri": "https://localhost:8080/"
        },
        "id": "EqzosNlwRDQg",
        "outputId": "8521883e-24ff-4563-cc49-3b11a96b86d7"
      },
      "outputs": [
        {
          "name": "stdout",
          "output_type": "stream",
          "text": [
            "+-----------------+-----------------+----------------+\n",
            "|received_for_free|recommended_false|recommended_true|\n",
            "+-----------------+-----------------+----------------+\n",
            "|             true|            30837|          247894|\n",
            "|            false|          1017382|         8310729|\n",
            "+-----------------+-----------------+----------------+\n",
            "\n"
          ]
        }
      ],
      "source": [
        "df_pivot = sample_df.groupBy(\"received_for_free\") \\\n",
        "    .pivot(\"recommended\") \\\n",
        "    .agg(F.count(\"*\")) \\\n",
        "    .withColumnRenamed(\"true\", \"recommended_true\") \\\n",
        "    .withColumnRenamed(\"false\", \"recommended_false\")\n",
        "\n",
        "df_pivot.show()"
      ]
    },
    {
      "cell_type": "markdown",
      "metadata": {
        "id": "GtM-FhiATh3p"
      },
      "source": [
        "Of all the apps that are being reviewed, how many were purchased on Steam?"
      ]
    },
    {
      "cell_type": "code",
      "execution_count": null,
      "metadata": {
        "colab": {
          "base_uri": "https://localhost:8080/"
        },
        "id": "iaoJZbrMTuIl",
        "outputId": "48f2c13d-23a7-4b0c-e3ea-99818ad860d0"
      },
      "outputs": [
        {
          "name": "stdout",
          "output_type": "stream",
          "text": [
            "+--------------------+--------------------+-------------------+\n",
            "|            app_name|steam_purchase_false|steam_purchase_true|\n",
            "+--------------------+--------------------+-------------------+\n",
            "|    Human: Fall Flat|                8363|              16260|\n",
            "|DRAGON BALL FighterZ|                4938|              11898|\n",
            "|The Elder Scrolls...|               63504|              96345|\n",
            "|      Umbrella Corps|                 743|                301|\n",
            "|    Wallpaper Engine|                6634|              74055|\n",
            "|          Nova Drift|                 359|               2132|\n",
            "|           Detention|                 287|               1755|\n",
            "|      SOULCALIBUR VI|                1727|               3287|\n",
            "|The Witcher 3: Wi...|               13418|             137703|\n",
            "|         GOD EATER 3|                 304|               1533|\n",
            "|     Thief Simulator|                 183|               3387|\n",
            "|The Legend of Her...|                 107|               1050|\n",
            "|Ori and the Will ...|                 912|              13468|\n",
            "|Danganronpa 2: Go...|                 476|               6850|\n",
            "|       STEINS;GATE 0|                  42|                732|\n",
            "|        Just Cause 3|                9717|              26909|\n",
            "|      NieR:Automata™|                9144|              25381|\n",
            "|                 SOS|                 827|               1062|\n",
            "| BattleBlock Theater|                6205|              18396|\n",
            "|        For The King|                2135|               4746|\n",
            "+--------------------+--------------------+-------------------+\n",
            "only showing top 20 rows\n",
            "\n"
          ]
        }
      ],
      "source": [
        "df_pivot = sample_df.groupBy(\"app_name\") \\\n",
        "    .pivot(\"steam_purchase\") \\\n",
        "    .agg(F.count(\"*\")) \\\n",
        "    .withColumnRenamed(\"true\", \"steam_purchase_true\") \\\n",
        "    .withColumnRenamed(\"false\", \"steam_purchase_false\")\n",
        "\n",
        "df_pivot.show()"
      ]
    },
    {
      "cell_type": "markdown",
      "metadata": {
        "id": "sOmKR9IpUGCN"
      },
      "source": [
        "For each app, how many users have recommended it?"
      ]
    },
    {
      "cell_type": "code",
      "execution_count": null,
      "metadata": {
        "colab": {
          "base_uri": "https://localhost:8080/"
        },
        "id": "U7JQ5Ub1UEfh",
        "outputId": "646560ec-7b71-42b9-d042-2543353e3498"
      },
      "outputs": [
        {
          "name": "stdout",
          "output_type": "stream",
          "text": [
            "+--------------------+-----------------+----------------+\n",
            "|            app_name|recommended_false|recommended_true|\n",
            "+--------------------+-----------------+----------------+\n",
            "|    Human: Fall Flat|             1272|           23351|\n",
            "|DRAGON BALL FighterZ|             1643|           15193|\n",
            "|The Elder Scrolls...|            11616|          148233|\n",
            "|      Umbrella Corps|              740|             304|\n",
            "|    Wallpaper Engine|             1260|           79429|\n",
            "|          Nova Drift|               41|            2450|\n",
            "|           Detention|               71|            1971|\n",
            "|      SOULCALIBUR VI|              910|            4104|\n",
            "|The Witcher 3: Wi...|             3516|          147605|\n",
            "|         GOD EATER 3|              214|            1623|\n",
            "|     Thief Simulator|              480|            3090|\n",
            "|The Legend of Her...|               43|            1114|\n",
            "|Ori and the Will ...|              437|           13943|\n",
            "|Danganronpa 2: Go...|              189|            7137|\n",
            "|       STEINS;GATE 0|               37|             737|\n",
            "|        Just Cause 3|             7677|           28949|\n",
            "|      NieR:Automata™|             3559|           30966|\n",
            "|                 SOS|             1415|             474|\n",
            "| BattleBlock Theater|              645|           23956|\n",
            "|        For The King|              709|            6172|\n",
            "+--------------------+-----------------+----------------+\n",
            "only showing top 20 rows\n",
            "\n"
          ]
        }
      ],
      "source": [
        "df_pivot = sample_df.groupBy(\"app_name\") \\\n",
        "    .pivot(\"recommended\") \\\n",
        "    .agg(F.count(\"*\")) \\\n",
        "    .withColumnRenamed(\"true\", \"recommended_true\") \\\n",
        "    .withColumnRenamed(\"false\", \"recommended_false\")\n",
        "\n",
        "df_pivot.show()"
      ]
    },
    {
      "cell_type": "markdown",
      "metadata": {
        "id": "SY3T53ADUPdj"
      },
      "source": [
        "For each app, how many users have got it for free?"
      ]
    },
    {
      "cell_type": "code",
      "execution_count": null,
      "metadata": {
        "colab": {
          "base_uri": "https://localhost:8080/"
        },
        "id": "Hii8tIUyUc_F",
        "outputId": "f7c1cb34-930c-48f9-c96e-3e4c77defd6d"
      },
      "outputs": [
        {
          "name": "stdout",
          "output_type": "stream",
          "text": [
            "+--------------------+-----------------------+----------------------+\n",
            "|            app_name|received_for_free_false|received_for_free_true|\n",
            "+--------------------+-----------------------+----------------------+\n",
            "|    Human: Fall Flat|                  23632|                   991|\n",
            "|DRAGON BALL FighterZ|                  16430|                   406|\n",
            "|The Elder Scrolls...|                 158545|                  1304|\n",
            "|      Umbrella Corps|                    956|                    88|\n",
            "|    Wallpaper Engine|                  77949|                  2740|\n",
            "|          Nova Drift|                   2327|                   164|\n",
            "|           Detention|                   2011|                    31|\n",
            "|      SOULCALIBUR VI|                   4948|                    66|\n",
            "|The Witcher 3: Wi...|                 149426|                  1695|\n",
            "|         GOD EATER 3|                   1801|                    36|\n",
            "|     Thief Simulator|                   3473|                    97|\n",
            "|The Legend of Her...|                   1151|                     6|\n",
            "|Ori and the Will ...|                  14244|                   136|\n",
            "|Danganronpa 2: Go...|                   7197|                   129|\n",
            "|       STEINS;GATE 0|                    769|                     5|\n",
            "|        Just Cause 3|                  35794|                   832|\n",
            "|      NieR:Automata™|                  34028|                   497|\n",
            "|                 SOS|                   1784|                   105|\n",
            "| BattleBlock Theater|                  24108|                   493|\n",
            "|        For The King|                   6753|                   128|\n",
            "+--------------------+-----------------------+----------------------+\n",
            "only showing top 20 rows\n",
            "\n"
          ]
        }
      ],
      "source": [
        "df_pivot = sample_df.groupBy(\"app_name\") \\\n",
        "    .pivot(\"received_for_free\") \\\n",
        "    .agg(F.count(\"*\")) \\\n",
        "    .withColumnRenamed(\"true\", \"received_for_free_true\") \\\n",
        "    .withColumnRenamed(\"false\", \"received_for_free_false\")\n",
        "\n",
        "df_pivot.show()"
      ]
    },
    {
      "cell_type": "markdown",
      "metadata": {
        "id": "7cqwPci6UjUW"
      },
      "source": [
        "For each app, how many reviews have been written from users that had early access?"
      ]
    },
    {
      "cell_type": "code",
      "execution_count": null,
      "metadata": {
        "colab": {
          "base_uri": "https://localhost:8080/"
        },
        "id": "zCv4Ncs1UqIC",
        "outputId": "159bff62-e9e2-4d73-8b74-6c9e59827350"
      },
      "outputs": [
        {
          "name": "stdout",
          "output_type": "stream",
          "text": [
            "+--------------------+---------------------------------+--------------------------------+\n",
            "|            app_name|written_during_early_access_false|written_during_early_access_true|\n",
            "+--------------------+---------------------------------+--------------------------------+\n",
            "|    Human: Fall Flat|                            24623|                            NULL|\n",
            "|DRAGON BALL FighterZ|                            16836|                            NULL|\n",
            "|The Elder Scrolls...|                           159849|                            NULL|\n",
            "|      Umbrella Corps|                             1044|                            NULL|\n",
            "|    Wallpaper Engine|                            65517|                           15172|\n",
            "|          Nova Drift|                             NULL|                            2491|\n",
            "|           Detention|                             2042|                            NULL|\n",
            "|      SOULCALIBUR VI|                             5014|                            NULL|\n",
            "|The Witcher 3: Wi...|                           151121|                            NULL|\n",
            "|         GOD EATER 3|                             1837|                            NULL|\n",
            "|     Thief Simulator|                             3570|                            NULL|\n",
            "|The Legend of Her...|                             1157|                            NULL|\n",
            "|Ori and the Will ...|                            14380|                            NULL|\n",
            "|Danganronpa 2: Go...|                             7326|                            NULL|\n",
            "|       STEINS;GATE 0|                              774|                            NULL|\n",
            "|        Just Cause 3|                            36626|                            NULL|\n",
            "|                 SOS|                              221|                            1668|\n",
            "|      NieR:Automata™|                            34525|                            NULL|\n",
            "| BattleBlock Theater|                            24601|                            NULL|\n",
            "|        For The King|                             5927|                             954|\n",
            "+--------------------+---------------------------------+--------------------------------+\n",
            "only showing top 20 rows\n",
            "\n"
          ]
        }
      ],
      "source": [
        "df_pivot = sample_df.groupBy(\"app_name\") \\\n",
        "    .pivot(\"written_during_early_access\") \\\n",
        "    .agg(F.count(\"*\")) \\\n",
        "    .withColumnRenamed(\"true\", \"written_during_early_access_true\") \\\n",
        "    .withColumnRenamed(\"false\", \"written_during_early_access_false\")\n",
        "\n",
        "df_pivot.show()"
      ]
    },
    {
      "cell_type": "markdown",
      "metadata": {
        "id": "NUxMFX3SUvfn"
      },
      "source": [
        "Of all the apps that have been purchased through Steam, how many are recommended?"
      ]
    },
    {
      "cell_type": "code",
      "execution_count": null,
      "metadata": {
        "colab": {
          "base_uri": "https://localhost:8080/"
        },
        "id": "t7_zDgAHU03N",
        "outputId": "dbce7a96-b45a-48b2-bfe2-ee78abc50114"
      },
      "outputs": [
        {
          "name": "stdout",
          "output_type": "stream",
          "text": [
            "+--------------+-----------------+----------------+\n",
            "|steam_purchase|recommended_false|recommended_true|\n",
            "+--------------+-----------------+----------------+\n",
            "|          true|           784972|         6636761|\n",
            "|         false|           263247|         1921862|\n",
            "+--------------+-----------------+----------------+\n",
            "\n"
          ]
        }
      ],
      "source": [
        "df_pivot = sample_df.groupBy(\"steam_purchase\") \\\n",
        "    .pivot(\"recommended\") \\\n",
        "    .agg(F.count(\"*\")) \\\n",
        "    .withColumnRenamed(\"true\", \"recommended_true\") \\\n",
        "    .withColumnRenamed(\"false\", \"recommended_false\")\n",
        "\n",
        "df_pivot.show()"
      ]
    },
    {
      "cell_type": "markdown",
      "metadata": {
        "id": "zukge9fDU8qY"
      },
      "source": [
        "How many apps did each user had early access on?\n"
      ]
    },
    {
      "cell_type": "code",
      "execution_count": null,
      "metadata": {
        "colab": {
          "base_uri": "https://localhost:8080/"
        },
        "id": "vti2VZoBVJIz",
        "outputId": "2445038b-d041-419c-cee8-78c5e369465c"
      },
      "outputs": [
        {
          "name": "stdout",
          "output_type": "stream",
          "text": [
            "+-----------------+---------------------------------+--------------------------------+\n",
            "|   author_steamid|written_during_early_access_false|written_during_early_access_true|\n",
            "+-----------------+---------------------------------+--------------------------------+\n",
            "|76561197960269579|                                8|                               1|\n",
            "|76561197960272407|                                5|                            NULL|\n",
            "|76561197960272423|                                5|                               2|\n",
            "|76561197960272973|                                3|                               1|\n",
            "|76561197960275854|                                2|                               2|\n",
            "|76561197960277107|                                1|                            NULL|\n",
            "|76561197960279691|                                1|                            NULL|\n",
            "|76561197960292122|                                1|                            NULL|\n",
            "|76561197960297361|                             NULL|                               2|\n",
            "|76561197960320530|                                1|                            NULL|\n",
            "|76561197960335865|                                1|                            NULL|\n",
            "|76561197960354170|                                4|                            NULL|\n",
            "|76561197960355978|                                1|                               3|\n",
            "|76561197960366167|                                5|                               1|\n",
            "|76561197960383945|                                1|                            NULL|\n",
            "|76561197960384100|                                1|                            NULL|\n",
            "|76561197960395976|                                2|                            NULL|\n",
            "|76561197960400764|                                1|                            NULL|\n",
            "|76561197960402731|                                2|                               1|\n",
            "|76561197960402971|                                1|                            NULL|\n",
            "+-----------------+---------------------------------+--------------------------------+\n",
            "only showing top 20 rows\n",
            "\n"
          ]
        }
      ],
      "source": [
        "df_pivot = sample_df.groupBy(\"author_steamid\") \\\n",
        "    .pivot(\"written_during_early_access\") \\\n",
        "    .agg(F.count(\"*\")) \\\n",
        "    .withColumnRenamed(\"true\", \"written_during_early_access_true\") \\\n",
        "    .withColumnRenamed(\"false\", \"written_during_early_access_false\")\n",
        "\n",
        "df_pivot.show()"
      ]
    },
    {
      "cell_type": "markdown",
      "metadata": {
        "id": "P3xvRQ9PVn--"
      },
      "source": [
        "For each For each category of the playtime (up to the day of the review), how many users have reccomended the apps of the review?"
      ]
    },
    {
      "cell_type": "code",
      "execution_count": null,
      "metadata": {
        "colab": {
          "base_uri": "https://localhost:8080/"
        },
        "id": "Sfwt9RAMVrEg",
        "outputId": "e9ba2436-b3ff-4c63-db24-2c523216946f"
      },
      "outputs": [
        {
          "name": "stdout",
          "output_type": "stream",
          "text": [
            "+-----------------+-----------------+----------------+\n",
            "|playtime_category|recommended_false|recommended_true|\n",
            "+-----------------+-----------------+----------------+\n",
            "|             High|           124420|          913725|\n",
            "|              Low|           729851|         5942612|\n",
            "|           Medium|           193948|         1702286|\n",
            "+-----------------+-----------------+----------------+\n",
            "\n"
          ]
        }
      ],
      "source": [
        "df_pivot = sample_df.groupBy(\"playtime_category\") \\\n",
        "    .pivot(\"recommended\") \\\n",
        "    .agg(F.count(\"*\")) \\\n",
        "    .withColumnRenamed(\"true\", \"recommended_true\") \\\n",
        "    .withColumnRenamed(\"false\", \"recommended_false\")\n",
        "\n",
        "df_pivot.show()"
      ]
    },
    {
      "cell_type": "markdown",
      "metadata": {
        "id": "uvdoQ8ZAVPl-"
      },
      "source": [
        "For each category of the total playtime, how many users have reccomended the apps of the review?"
      ]
    },
    {
      "cell_type": "code",
      "execution_count": null,
      "metadata": {
        "colab": {
          "base_uri": "https://localhost:8080/"
        },
        "id": "zqRxJApRVYTB",
        "outputId": "78a8542f-27e0-4938-b47c-d9b83bea5cee"
      },
      "outputs": [
        {
          "name": "stdout",
          "output_type": "stream",
          "text": [
            "+-------------------------+-----------------+----------------+\n",
            "|playtime_forever_category|recommended_false|recommended_true|\n",
            "+-------------------------+-----------------+----------------+\n",
            "|                     High|           196750|         1685163|\n",
            "|                      Low|           627187|         4522579|\n",
            "|                   Medium|           224282|         2350881|\n",
            "+-------------------------+-----------------+----------------+\n",
            "\n"
          ]
        }
      ],
      "source": [
        "df_pivot = sample_df.groupBy(\"playtime_forever_category\") \\\n",
        "    .pivot(\"recommended\") \\\n",
        "    .agg(F.count(\"*\")) \\\n",
        "    .withColumnRenamed(\"true\", \"recommended_true\") \\\n",
        "    .withColumnRenamed(\"false\", \"recommended_false\")\n",
        "\n",
        "df_pivot.show()"
      ]
    },
    {
      "cell_type": "markdown",
      "metadata": {
        "id": "kk5KST5TV1yU"
      },
      "source": [
        "Of the apps that have been purchased during early access, how many are recommended?"
      ]
    },
    {
      "cell_type": "code",
      "execution_count": null,
      "metadata": {
        "colab": {
          "base_uri": "https://localhost:8080/"
        },
        "id": "iacHpB-gV-wK",
        "outputId": "7570eff9-e1f2-491e-dc17-9cf704e3c0e8"
      },
      "outputs": [
        {
          "name": "stdout",
          "output_type": "stream",
          "text": [
            "+---------------------------+-----------------+----------------+\n",
            "|written_during_early_access|recommended_false|recommended_true|\n",
            "+---------------------------+-----------------+----------------+\n",
            "|                       true|           130263|          826380|\n",
            "|                      false|           917956|         7732243|\n",
            "+---------------------------+-----------------+----------------+\n",
            "\n"
          ]
        }
      ],
      "source": [
        "df_pivot = sample_df.groupBy(\"written_during_early_access\") \\\n",
        "    .pivot(\"recommended\") \\\n",
        "    .agg(F.count(\"*\")) \\\n",
        "    .withColumnRenamed(\"true\", \"recommended_true\") \\\n",
        "    .withColumnRenamed(\"false\", \"recommended_false\")\n",
        "\n",
        "df_pivot.show()"
      ]
    },
    {
      "cell_type": "markdown",
      "metadata": {
        "id": "zJFPNwSSWB0A"
      },
      "source": [
        "For each category of number of games owned, how many apps are recommended?"
      ]
    },
    {
      "cell_type": "code",
      "execution_count": null,
      "metadata": {
        "colab": {
          "base_uri": "https://localhost:8080/"
        },
        "id": "MLjKA6X8KFOk",
        "outputId": "47cea000-9cb0-4ba0-e239-87f25c9f997d"
      },
      "outputs": [
        {
          "name": "stdout",
          "output_type": "stream",
          "text": [
            "+----------------------+-----------------+----------------+\n",
            "|author_num_games_owned|recommended_false|recommended_true|\n",
            "+----------------------+-----------------+----------------+\n",
            "|                    26|             5229|           60444|\n",
            "|                  1677|               14|              86|\n",
            "|                   474|              356|            1975|\n",
            "|                  5385|             NULL|               6|\n",
            "|                   964|               45|             330|\n",
            "|                    29|             5228|           57980|\n",
            "|                  2040|                7|              80|\n",
            "|                  1806|                2|              19|\n",
            "|                  2214|                7|              13|\n",
            "|                  2927|                2|              24|\n",
            "|                  1950|                1|              23|\n",
            "|                  2250|             NULL|              24|\n",
            "|                  3091|                1|               9|\n",
            "|                  1697|                4|              28|\n",
            "|                  2529|                2|               3|\n",
            "|                  7279|             NULL|               3|\n",
            "|                  3764|             NULL|               2|\n",
            "|                  2453|             NULL|              11|\n",
            "|                  2509|             NULL|               3|\n",
            "|                  4590|             NULL|               1|\n",
            "+----------------------+-----------------+----------------+\n",
            "only showing top 20 rows\n",
            "\n"
          ]
        }
      ],
      "source": [
        "df_pivot = sample_df.groupBy(\"author_num_games_owned\") \\\n",
        "    .pivot(\"recommended\") \\\n",
        "    .agg(F.count(\"*\")) \\\n",
        "    .withColumnRenamed(\"true\", \"recommended_true\") \\\n",
        "    .withColumnRenamed(\"false\", \"recommended_false\")\n",
        "\n",
        "df_pivot.show()"
      ]
    },
    {
      "cell_type": "markdown",
      "metadata": {
        "id": "O7OkMCz5UrSN"
      },
      "source": [
        "# Recommendation System"
      ]
    },
    {
      "cell_type": "code",
      "execution_count": null,
      "metadata": {
        "colab": {
          "base_uri": "https://localhost:8080/"
        },
        "id": "HLzWZw2sttzU",
        "outputId": "a1857b2d-8ab2-4fe4-8899-0265635e7649"
      },
      "outputs": [
        {
          "name": "stdout",
          "output_type": "stream",
          "text": [
            "+---+------+--------------------+---------+--------------------+-----------+-------------+--------------+-----------------+---------------------------+-------------+-----------------+----------------------+------------------+-----------------------+-------------------------+-------------+-----------------+-------------------------+\n",
            "|_c0|app_id|            app_name|review_id|              review|recommended|votes_helpful|steam_purchase|received_for_free|written_during_early_access|votes_helpful|   author_steamid|author_num_games_owned|author_num_reviews|author_playtime_forever|author_playtime_at_review|review_length|playtime_category|playtime_forever_category|\n",
            "+---+------+--------------------+---------+--------------------+-----------+-------------+--------------+-----------------+---------------------------+-------------+-----------------+----------------------+------------------+-----------------------+-------------------------+-------------+-----------------+-------------------------+\n",
            "|  3|292030|The Witcher 3: Wi...| 85184605|One of the best R...|       true|            0|          true|            false|                      false|            0|76561199054755373|                     5|                 3|                 5587.0|                   5524.0|           59|           Medium|                   Medium|\n",
            "|  5|292030|The Witcher 3: Wi...| 85184171|good story, good ...|       true|            0|          true|            false|                      false|            0|76561198170193529|                    11|                 1|                  823.0|                    823.0|           38|              Low|                      Low|\n",
            "|  6|292030|The Witcher 3: Wi...| 85184064|            dis gud,|       true|            0|          true|            false|                      false|            0|76561198119302812|                    27|                 2|                 4192.0|                   4192.0|            8|              Low|                      Low|\n",
            "| 18|292030|The Witcher 3: Wi...| 85180436|favorite game of ...|       true|            0|          true|            false|                      false|            0|76561198065591528|                    33|                 1|                23329.0|                  23329.0|           59|             High|                     High|\n",
            "| 20|292030|The Witcher 3: Wi...| 85179753|Why wouldn't you ...|       true|            0|          true|            false|                      false|            0|76561198996835044|                   131|                 2|                 8557.0|                   8557.0|           25|           Medium|                   Medium|\n",
            "| 21|292030|The Witcher 3: Wi...| 85179400|          it is ok\\n|       true|            0|          true|            false|                      false|            0|76561198284845223|                    60|                 9|                 2518.0|                   2518.0|            9|              Low|                      Low|\n",
            "| 22|292030|The Witcher 3: Wi...| 85179341|             worth\\n|       true|            0|          true|            false|                      false|            0|76561198370568524|                    59|                 5|                  553.0|                    517.0|            6|              Low|                      Low|\n",
            "| 24|292030|The Witcher 3: Wi...| 85178164|Isn't Geralt hot ...|       true|            0|          true|            false|                      false|            0|76561198040150323|                    51|                37|                  165.0|                    165.0|           98|              Low|                      Low|\n",
            "| 25|292030|The Witcher 3: Wi...| 85177892|Very Fun, Would p...|       true|            0|          true|            false|                      false|            0|76561198040190687|                    54|                 1|                20168.0|                  20092.0|           27|             High|                     High|\n",
            "| 39|292030|The Witcher 3: Wi...| 85174926|The game is enjoy...|       true|            0|          true|            false|                      false|            0|76561198020027165|                   208|               105|                  497.0|                    398.0|          491|              Low|                      Low|\n",
            "+---+------+--------------------+---------+--------------------+-----------+-------------+--------------+-----------------+---------------------------+-------------+-----------------+----------------------+------------------+-----------------------+-------------------------+-------------+-----------------+-------------------------+\n",
            "only showing top 10 rows\n",
            "\n"
          ]
        }
      ],
      "source": [
        "sample_df.show(10)"
      ]
    },
    {
      "cell_type": "code",
      "execution_count": null,
      "metadata": {
        "colab": {
          "base_uri": "https://localhost:8080/"
        },
        "id": "OHbPTN5GuDha",
        "outputId": "bcbfbd3e-e442-4b5f-92d8-c805a7879a7e"
      },
      "outputs": [
        {
          "name": "stdout",
          "output_type": "stream",
          "text": [
            "+-----------+\n",
            "|recommended|\n",
            "+-----------+\n",
            "|       true|\n",
            "|      false|\n",
            "+-----------+\n",
            "\n"
          ]
        }
      ],
      "source": [
        "sample_df.select(\"recommended\").distinct().show()"
      ]
    },
    {
      "cell_type": "code",
      "execution_count": null,
      "metadata": {
        "colab": {
          "base_uri": "https://localhost:8080/"
        },
        "id": "9px6RDbBUp5Q",
        "outputId": "5491ff07-a0f1-47be-c3fc-3a3284211b0e"
      },
      "outputs": [
        {
          "name": "stdout",
          "output_type": "stream",
          "text": [
            "+-----------+-------+\n",
            "|recommended|  count|\n",
            "+-----------+-------+\n",
            "|       true|8558623|\n",
            "|      false|1048219|\n",
            "+-----------+-------+\n",
            "\n"
          ]
        }
      ],
      "source": [
        "# Identify distribution in the 'recommended' column\n",
        "sample_df.groupBy('recommended').count().show()"
      ]
    },
    {
      "cell_type": "markdown",
      "metadata": {
        "id": "J_FrN1FIsSzd"
      },
      "source": [
        "We observe a significant class imbalance (true: 8.58M and false: 1.05M) and hence, we proceed with 3% for Dominant Class & 10% for Minority Class (balanced reduction).\n"
      ]
    },
    {
      "cell_type": "markdown",
      "metadata": {
        "id": "oAgBHq9k1UF5"
      },
      "source": [
        "We tried using a stratified approach but the stratified df was returning 0 rows (.sampleBy() may fail if the specified fraction is too small to select records from a partition).\n",
        "\n",
        "```python\n",
        "# Define sampling fractions for each category\n",
        "fractions = {\"true\": 0.03, \"false\": 0.10}  # Stratified sampling with balanced reduction\n",
        "\n",
        "# Perform stratified sampling\n",
        "stratified_sample = sample_df.sampleBy(\"recommended\", fractions=fractions, seed=42)\n",
        "\n",
        "# Show sampled data\n",
        "stratified_sample.show(5)\n",
        "\n",
        "# Count rows to verify sample size\n",
        "print(\"Total Rows in Sample:\", stratified_sample.count())\n",
        "```\n",
        "\n",
        "Hence, we proceeded with the sample() function."
      ]
    },
    {
      "cell_type": "code",
      "execution_count": null,
      "metadata": {
        "colab": {
          "base_uri": "https://localhost:8080/"
        },
        "id": "G-9c2cgXsssT",
        "outputId": "0d49931e-15c6-4983-e16d-02ffe22e9dc9"
      },
      "outputs": [
        {
          "name": "stdout",
          "output_type": "stream",
          "text": [
            "+---+------+--------------------+---------+--------------------+-----------+-------------+--------------+-----------------+---------------------------+-------------+-----------------+----------------------+------------------+-----------------------+-------------------------+-------------+-----------------+-------------------------+\n",
            "|_c0|app_id|            app_name|review_id|              review|recommended|votes_helpful|steam_purchase|received_for_free|written_during_early_access|votes_helpful|   author_steamid|author_num_games_owned|author_num_reviews|author_playtime_forever|author_playtime_at_review|review_length|playtime_category|playtime_forever_category|\n",
            "+---+------+--------------------+---------+--------------------+-----------+-------------+--------------+-----------------+---------------------------+-------------+-----------------+----------------------+------------------+-----------------------+-------------------------+-------------+-----------------+-------------------------+\n",
            "| 24|292030|The Witcher 3: Wi...| 85178164|Isn't Geralt hot ...|       true|            0|          true|            false|                      false|            0|76561198040150323|                    51|                37|                  165.0|                    165.0|           98|              Low|                      Low|\n",
            "| 58|292030|The Witcher 3: Wi...| 85169685| best game ever made|       true|            0|          true|            false|                      false|            0|76561198868423923|                    48|                 1|                 9403.0|                   9236.0|           19|           Medium|                   Medium|\n",
            "| 60|292030|The Witcher 3: Wi...| 85169052|If you are a fan ...|       true|            0|          true|            false|                      false|            0|76561198869011330|                    22|                 4|                 8234.0|                   8234.0|          314|           Medium|                   Medium|\n",
            "| 91|292030|The Witcher 3: Wi...| 85162540|                sdds|       true|            0|          true|            false|                      false|            0|76561198056468274|                    13|                 2|                52263.0|                  52086.0|            4|             High|                     High|\n",
            "|136|292030|The Witcher 3: Wi...| 85154535|           Very good|       true|            0|          true|            false|                      false|            0|76561198048646247|                     7|                 1|                 2390.0|                   2386.0|            9|              Low|                      Low|\n",
            "+---+------+--------------------+---------+--------------------+-----------+-------------+--------------+-----------------+---------------------------+-------------+-----------------+----------------------+------------------+-----------------------+-------------------------+-------------+-----------------+-------------------------+\n",
            "only showing top 5 rows\n",
            "\n"
          ]
        }
      ],
      "source": [
        "# Sample 5% for balanced speed and accuracy\n",
        "sample_df2 = sample_df.sample(fraction=0.20, seed=42)\n",
        "\n",
        "sample_df2.show(5)"
      ]
    },
    {
      "cell_type": "code",
      "execution_count": null,
      "metadata": {
        "colab": {
          "base_uri": "https://localhost:8080/"
        },
        "id": "DZFlNjJlzzCS",
        "outputId": "5e090ffe-0a0c-41e1-c9cb-f836c4b4af25"
      },
      "outputs": [
        {
          "name": "stdout",
          "output_type": "stream",
          "text": [
            "+-----------+-------+\n",
            "|recommended|  count|\n",
            "+-----------+-------+\n",
            "|       true|1713722|\n",
            "|      false| 209144|\n",
            "+-----------+-------+\n",
            "\n"
          ]
        }
      ],
      "source": [
        "sample_df2.groupBy('recommended').count().show()"
      ]
    },
    {
      "cell_type": "markdown",
      "metadata": {
        "id": "0AiRnabx3N4b"
      },
      "source": [
        "### Pre-processing"
      ]
    },
    {
      "cell_type": "code",
      "execution_count": null,
      "metadata": {
        "id": "6IUrbihoPsKI"
      },
      "outputs": [],
      "source": [
        "from pyspark.ml.feature import StringIndexer\n",
        "from pyspark.sql import Row\n",
        "from pyspark.sql import types as T\n",
        "\n",
        "# Improved Mapping Function to Handle All Cases\n",
        "def map_recommendation(value):\n",
        "    if isinstance(value, str):\n",
        "        value = value.strip().lower()  # Handle spaces and case issues\n",
        "        if value in [\"true\", \"1\", \"yes\"]:   # Flexible matching for true\n",
        "            return 1\n",
        "        elif value in [\"false\", \"0\", \"no\"]: # Flexible matching for false\n",
        "            return 0\n",
        "    elif isinstance(value, bool):  # If values are directly boolean\n",
        "        return 1 if value else 0\n",
        "    return 0  # Default value for unexpected data\n",
        "\n",
        "# Register UDF (User Defined Function)\n",
        "from pyspark.sql import functions as F\n",
        "from pyspark.sql.functions import udf\n",
        "\n",
        "map_recommendation_udf = udf(map_recommendation, T.IntegerType())\n",
        "\n",
        "# Apply mapping logic\n",
        "sample_df2_mappping = sample_df2.withColumn(\"recommended\", map_recommendation_udf(\"recommended\"))"
      ]
    },
    {
      "cell_type": "code",
      "execution_count": null,
      "metadata": {
        "colab": {
          "base_uri": "https://localhost:8080/"
        },
        "id": "b4o8Hu0wz6oW",
        "outputId": "a32c8890-0b84-48d3-b830-0d71286ec354"
      },
      "outputs": [
        {
          "name": "stdout",
          "output_type": "stream",
          "text": [
            "+-----------+-------+\n",
            "|recommended|  count|\n",
            "+-----------+-------+\n",
            "|          1|1713722|\n",
            "|          0| 209144|\n",
            "+-----------+-------+\n",
            "\n"
          ]
        }
      ],
      "source": [
        "# Check distribution after mapping\n",
        "sample_df2_mappping.groupBy(\"recommended\").count().show()"
      ]
    },
    {
      "cell_type": "code",
      "execution_count": null,
      "metadata": {
        "id": "mX5QQUAnIFaK"
      },
      "outputs": [],
      "source": [
        "# separating the classes\n",
        "majority_class = sample_df2_mappping.filter(\"recommended = 1\")\n",
        "minority_class = sample_df2_mappping.filter(\"recommended = 0\")\n",
        "\n",
        "# downsampling the majority class\n",
        "ratio = minority_class.count() / majority_class.count()\n",
        "downsampled_majority = majority_class.sample(False, ratio, seed=42)\n",
        "\n",
        "# combining the downsampled majority and the original minority\n",
        "balanced_data = downsampled_majority.union(minority_class)"
      ]
    },
    {
      "cell_type": "code",
      "execution_count": null,
      "metadata": {
        "colab": {
          "base_uri": "https://localhost:8080/"
        },
        "id": "xJDjCShwT_l3",
        "outputId": "55a7d34b-7d58-478f-a8ad-4158d54aa613"
      },
      "outputs": [
        {
          "name": "stdout",
          "output_type": "stream",
          "text": [
            "+-----------+------+\n",
            "|recommended| count|\n",
            "+-----------+------+\n",
            "|          1|209388|\n",
            "|          0|209144|\n",
            "+-----------+------+\n",
            "\n"
          ]
        }
      ],
      "source": [
        "# verifying class balance\n",
        "balanced_data.groupBy(\"recommended\").count().show()"
      ]
    },
    {
      "cell_type": "code",
      "execution_count": null,
      "metadata": {
        "id": "D8MNKafz3xjC"
      },
      "outputs": [],
      "source": [
        "# Index user and item IDs for collaborative filtering\n",
        "user_indexer = StringIndexer(inputCol=\"author_steamid\", outputCol=\"userId\").fit(balanced_data) # we used to have \"review_id\" wrong.\n",
        "item_indexer = StringIndexer(inputCol=\"app_id\", outputCol=\"itemId\").fit(balanced_data)\n",
        "\n",
        "# Apply transformations\n",
        "balanced_data = user_indexer.transform(balanced_data)\n",
        "balanced_data = item_indexer.transform(balanced_data)\n",
        "\n",
        "# Select relevant columns\n",
        "data = balanced_data.select(\"userId\", \"itemId\", \"recommended\")"
      ]
    },
    {
      "cell_type": "code",
      "execution_count": null,
      "metadata": {
        "id": "J3c0KhT3d_yO"
      },
      "outputs": [],
      "source": [
        "data.write.mode(\"overwrite\").parquet(\"/content/data\")"
      ]
    },
    {
      "cell_type": "code",
      "execution_count": null,
      "metadata": {
        "id": "X8KKsHwSen1i"
      },
      "outputs": [],
      "source": [
        "data = spark.read.parquet(\"/content/data\")"
      ]
    },
    {
      "cell_type": "code",
      "execution_count": null,
      "metadata": {
        "colab": {
          "base_uri": "https://localhost:8080/"
        },
        "id": "9iFtQoQn6pHg",
        "outputId": "c55897af-d011-4d08-8d02-62f38c36b58b"
      },
      "outputs": [
        {
          "name": "stdout",
          "output_type": "stream",
          "text": [
            "+--------+------+-----------+\n",
            "|  userId|itemId|recommended|\n",
            "+--------+------+-----------+\n",
            "|209882.0| 184.0|          0|\n",
            "| 15931.0| 184.0|          0|\n",
            "|139160.0| 184.0|          0|\n",
            "|   482.0| 197.0|          0|\n",
            "|327695.0| 197.0|          0|\n",
            "+--------+------+-----------+\n",
            "only showing top 5 rows\n",
            "\n"
          ]
        }
      ],
      "source": [
        "data.show(5)"
      ]
    },
    {
      "cell_type": "code",
      "execution_count": null,
      "metadata": {
        "colab": {
          "base_uri": "https://localhost:8080/"
        },
        "id": "9M_ArI8AmeJa",
        "outputId": "a1ac1fc7-7d31-4e2d-eb03-9b8ec6445fa4"
      },
      "outputs": [
        {
          "name": "stdout",
          "output_type": "stream",
          "text": [
            "+-----------+------+\n",
            "|recommended| count|\n",
            "+-----------+------+\n",
            "|          1|209388|\n",
            "|          0|209144|\n",
            "+-----------+------+\n",
            "\n"
          ]
        }
      ],
      "source": [
        "data.groupBy('recommended').count().show()"
      ]
    },
    {
      "cell_type": "markdown",
      "metadata": {
        "id": "nGnu0KNJ0WOK"
      },
      "source": [
        "### Collaborative Filtering using ALS"
      ]
    },
    {
      "cell_type": "code",
      "execution_count": null,
      "metadata": {
        "id": "SKgkm1p0ttLw"
      },
      "outputs": [],
      "source": [
        "# Split into train/test\n",
        "(training_data, test_data) = data.randomSplit([0.8, 0.2], seed=42)"
      ]
    },
    {
      "cell_type": "code",
      "execution_count": null,
      "metadata": {
        "colab": {
          "base_uri": "https://localhost:8080/"
        },
        "id": "A44vV5MD0xZU",
        "outputId": "a8212ca7-fd54-41ed-bb14-553d36925010"
      },
      "outputs": [
        {
          "name": "stdout",
          "output_type": "stream",
          "text": [
            "+------+------+-----------+\n",
            "|userId|itemId|recommended|\n",
            "+------+------+-----------+\n",
            "|   0.0|  26.0|          0|\n",
            "|   0.0|  46.0|          0|\n",
            "|   0.0|  99.0|          0|\n",
            "|   0.0| 120.0|          0|\n",
            "|   0.0| 195.0|          0|\n",
            "|   1.0|  11.0|          0|\n",
            "|   1.0| 120.0|          0|\n",
            "|   1.0| 155.0|          0|\n",
            "|   2.0|  22.0|          0|\n",
            "|   2.0| 102.0|          0|\n",
            "|   2.0| 221.0|          0|\n",
            "|   3.0|  69.0|          0|\n",
            "|   3.0|  98.0|          0|\n",
            "|   3.0|  99.0|          0|\n",
            "|   3.0| 160.0|          0|\n",
            "|   4.0| 181.0|          0|\n",
            "|   4.0| 206.0|          0|\n",
            "|   4.0| 255.0|          0|\n",
            "|   5.0| 216.0|          0|\n",
            "|   6.0|  11.0|          0|\n",
            "+------+------+-----------+\n",
            "only showing top 20 rows\n",
            "\n"
          ]
        }
      ],
      "source": [
        "training_data.show()"
      ]
    },
    {
      "cell_type": "code",
      "execution_count": null,
      "metadata": {
        "colab": {
          "base_uri": "https://localhost:8080/"
        },
        "id": "HHfCO-nx1YFs",
        "outputId": "f13f90bf-439e-48a4-9500-a9032cb2dff6"
      },
      "outputs": [
        {
          "name": "stdout",
          "output_type": "stream",
          "text": [
            "+------+------+-----------+\n",
            "|userId|itemId|recommended|\n",
            "+------+------+-----------+\n",
            "|   0.0|  26.0|          0|\n",
            "|   0.0|  46.0|          0|\n",
            "|   0.0|  99.0|          0|\n",
            "|   0.0| 120.0|          0|\n",
            "|   0.0| 195.0|          0|\n",
            "|   0.0|  23.0|          0|\n",
            "|   0.0|  52.0|          0|\n",
            "|   0.0|  54.0|          0|\n",
            "|   0.0|  91.0|          0|\n",
            "|   0.0| 100.0|          0|\n",
            "|   0.0| 172.0|          0|\n",
            "+------+------+-----------+\n",
            "\n"
          ]
        }
      ],
      "source": [
        "training_data.filter(col(\"userId\") == 0.0).show()"
      ]
    },
    {
      "cell_type": "code",
      "execution_count": null,
      "metadata": {
        "id": "zMKhzht00d2Y"
      },
      "outputs": [],
      "source": [
        "# ALS - we avoided rdd's for computational reasons - rdd's run forever"
      ]
    },
    {
      "cell_type": "code",
      "execution_count": null,
      "metadata": {
        "id": "19IxedK6ttOF"
      },
      "outputs": [],
      "source": [
        "als = ALS(\n",
        "    userCol=\"userId\",\n",
        "    itemCol=\"itemId\",\n",
        "    ratingCol=\"recommended\",\n",
        "    implicitPrefs=True,         # <- important!\n",
        "    nonnegative=True,\n",
        "    coldStartStrategy=\"drop\",\n",
        "    maxIter=10,\n",
        "    regParam=0.1,\n",
        "    rank=20\n",
        ")\n",
        "\n",
        "model = als.fit(training_data) # takes 4 mins with small sample"
      ]
    },
    {
      "cell_type": "code",
      "execution_count": null,
      "metadata": {
        "colab": {
          "base_uri": "https://localhost:8080/"
        },
        "id": "rq_Hazn9ttQt",
        "outputId": "faa4b425-662a-48f8-bbaa-26129aba320f"
      },
      "outputs": [
        {
          "name": "stdout",
          "output_type": "stream",
          "text": [
            "Root-mean-square error = 0.5847\n"
          ]
        }
      ],
      "source": [
        "predictions = model.transform(test_data)\n",
        "\n",
        "evaluator = RegressionEvaluator(metricName=\"rmse\", labelCol=\"recommended\", predictionCol=\"prediction\")\n",
        "rmse = evaluator.evaluate(predictions)\n",
        "print(f\"Root-mean-square error = {rmse:.4f}\")"
      ]
    },
    {
      "cell_type": "code",
      "execution_count": null,
      "metadata": {
        "colab": {
          "base_uri": "https://localhost:8080/"
        },
        "id": "XKbG474dttWb",
        "outputId": "bb26cc11-b540-40b3-dc78-8be394d1dae8"
      },
      "outputs": [
        {
          "name": "stdout",
          "output_type": "stream",
          "text": [
            "+------+------+---------------+\n",
            "|userId|itemId|predicted_score|\n",
            "+------+------+---------------+\n",
            "|     1|    99|            0.0|\n",
            "|     1|    98|            0.0|\n",
            "|     1|    97|            0.0|\n",
            "|     1|    96|            0.0|\n",
            "|     1|    95|            0.0|\n",
            "|     1|    94|            0.0|\n",
            "|     1|    93|            0.0|\n",
            "|     1|    92|            0.0|\n",
            "|     1|    91|            0.0|\n",
            "|     1|    90|            0.0|\n",
            "+------+------+---------------+\n",
            "only showing top 10 rows\n",
            "\n"
          ]
        }
      ],
      "source": [
        "user_recs = model.recommendForAllUsers(10)\n",
        "\n",
        "# Explode recommendations for readability\n",
        "user_recs = user_recs.selectExpr(\"userId\", \"explode(recommendations) as rec\") \\\n",
        "                     .selectExpr(\"userId\", \"rec.itemId as itemId\", \"rec.rating as predicted_score\")\n",
        "\n",
        "user_recs.show(10)"
      ]
    },
    {
      "cell_type": "markdown",
      "metadata": {
        "id": "ro5WGYmx72yY"
      },
      "source": [
        "since we see 0.0 above why is there not even a single 0.0 predicted score when i print the below?\n",
        "\n",
        "or are they rounded to zeros?"
      ]
    },
    {
      "cell_type": "code",
      "execution_count": null,
      "metadata": {
        "colab": {
          "base_uri": "https://localhost:8080/"
        },
        "id": "KRyokSAo2_tf",
        "outputId": "69a72c3f-559a-41e3-9d1b-588b9835b4da"
      },
      "outputs": [
        {
          "name": "stdout",
          "output_type": "stream",
          "text": [
            "+---------------+-----+\n",
            "|predicted_score|count|\n",
            "+---------------+-----+\n",
            "|    2.267511E-6|   21|\n",
            "|    0.031291004|  860|\n",
            "|     0.29093817|    1|\n",
            "|    0.014850931| 1901|\n",
            "|    0.006135369| 1060|\n",
            "|   0.0014933996|  507|\n",
            "|     0.27736363|    1|\n",
            "|    0.013082908|  678|\n",
            "|    0.028606664|    1|\n",
            "|    0.006225986|    7|\n",
            "|   6.8407814E-4|   66|\n",
            "|    0.012543356| 1525|\n",
            "|      0.4605072|    4|\n",
            "|     0.03383468|    3|\n",
            "|   0.0025839922|    1|\n",
            "|   0.0014022148|    1|\n",
            "|     0.23143281|    1|\n",
            "|    0.023759883|    1|\n",
            "|   0.0032866083|    1|\n",
            "|     0.41426116|    1|\n",
            "+---------------+-----+\n",
            "only showing top 20 rows\n",
            "\n"
          ]
        }
      ],
      "source": [
        "user_recs.groupBy('predicted_score').count().show()"
      ]
    },
    {
      "cell_type": "code",
      "execution_count": null,
      "metadata": {
        "colab": {
          "base_uri": "https://localhost:8080/"
        },
        "id": "VODNGRK35jBX",
        "outputId": "cbcf2ed5-921e-474b-aaa6-d5246fa62189"
      },
      "outputs": [
        {
          "data": {
            "text/plain": [
              "1500170"
            ]
          },
          "execution_count": 78,
          "metadata": {},
          "output_type": "execute_result"
        }
      ],
      "source": [
        "user_recs.filter(\"predicted_score == 0.0\").count()"
      ]
    },
    {
      "cell_type": "code",
      "execution_count": null,
      "metadata": {
        "colab": {
          "base_uri": "https://localhost:8080/"
        },
        "id": "Sv37DeKb7GzY",
        "outputId": "968351b3-43c9-4604-e9b7-821d56cffc5c"
      },
      "outputs": [
        {
          "name": "stdout",
          "output_type": "stream",
          "text": [
            "+------+------+---------------+\n",
            "|userId|itemId|predicted_score|\n",
            "+------+------+---------------+\n",
            "|     1|    99|            0.0|\n",
            "|     1|    98|            0.0|\n",
            "|     1|    97|            0.0|\n",
            "|     1|    96|            0.0|\n",
            "|     1|    95|            0.0|\n",
            "|     1|    94|            0.0|\n",
            "|     1|    93|            0.0|\n",
            "|     1|    92|            0.0|\n",
            "|     1|    91|            0.0|\n",
            "|     1|    90|            0.0|\n",
            "+------+------+---------------+\n",
            "\n"
          ]
        }
      ],
      "source": [
        "user_recs.filter(\"userId == 1\").show()\n"
      ]
    },
    {
      "cell_type": "code",
      "execution_count": null,
      "metadata": {
        "colab": {
          "base_uri": "https://localhost:8080/"
        },
        "id": "cjCFv0U_7Hgb",
        "outputId": "7ef2e9bc-f75f-4445-a5a7-36217f0d139b"
      },
      "outputs": [
        {
          "name": "stdout",
          "output_type": "stream",
          "text": [
            "+------+------+---------------+\n",
            "|userId|itemId|predicted_score|\n",
            "+------+------+---------------+\n",
            "|   100|    23|    0.001179014|\n",
            "|   100|    15|    7.059766E-4|\n",
            "|   100|    50|   6.9715985E-4|\n",
            "|   100|    26|    6.913242E-4|\n",
            "|   100|    16|   6.0458307E-4|\n",
            "|   100|    22|    5.622228E-4|\n",
            "|   100|    28|    5.272908E-4|\n",
            "|   100|    41|   4.8064493E-4|\n",
            "|   100|    62|    4.699941E-4|\n",
            "|   100|    18|   4.4189303E-4|\n",
            "+------+------+---------------+\n",
            "\n"
          ]
        }
      ],
      "source": [
        "user_recs.filter(\"userId == 100\").show()\n"
      ]
    },
    {
      "cell_type": "markdown",
      "metadata": {
        "id": "7BqrwCkg86Q2"
      },
      "source": [
        "each item is assigned a specific score"
      ]
    },
    {
      "cell_type": "code",
      "execution_count": null,
      "metadata": {
        "colab": {
          "base_uri": "https://localhost:8080/"
        },
        "id": "MS3eHE-3ttYx",
        "outputId": "a3662f5e-f87e-4fe1-9a49-3efecf801dc4"
      },
      "outputs": [
        {
          "name": "stdout",
          "output_type": "stream",
          "text": [
            "+------+------+---------------+\n",
            "|itemId|userId|predicted_score|\n",
            "+------+------+---------------+\n",
            "|     0|374090|      0.9585758|\n",
            "|     0|372212|      0.9585758|\n",
            "|     0|368071|      0.9585758|\n",
            "|     0|367938|      0.9585758|\n",
            "|     0|367320|      0.9585758|\n",
            "|     0|367180|      0.9585758|\n",
            "|     0|365651|      0.9585758|\n",
            "|     0|365191|      0.9585758|\n",
            "|     0|364660|      0.9585758|\n",
            "|     0|364230|      0.9585758|\n",
            "+------+------+---------------+\n",
            "only showing top 10 rows\n",
            "\n"
          ]
        }
      ],
      "source": [
        "# item-based\n",
        "\n",
        "item_recs = model.recommendForAllItems(10)\n",
        "\n",
        "item_recs = item_recs.selectExpr(\"itemId\", \"explode(recommendations) as rec\") \\\n",
        "                     .selectExpr(\"itemId\", \"rec.userId as userId\", \"rec.rating as predicted_score\")\n",
        "\n",
        "item_recs.show(10)\n"
      ]
    },
    {
      "cell_type": "code",
      "execution_count": null,
      "metadata": {
        "colab": {
          "base_uri": "https://localhost:8080/"
        },
        "id": "JlxmyiYz5v7b",
        "outputId": "f773c76d-8f43-43af-e293-d51043bf40bc"
      },
      "outputs": [
        {
          "name": "stdout",
          "output_type": "stream",
          "text": [
            "+------+------+---------------+\n",
            "|itemId|userId|predicted_score|\n",
            "+------+------+---------------+\n",
            "|     1|363901|      0.9597491|\n",
            "|     1|363171|      0.9597491|\n",
            "|     1|362491|      0.9597491|\n",
            "|     1|361164|      0.9597491|\n",
            "|     1|361098|      0.9597491|\n",
            "|     1|360990|      0.9597491|\n",
            "|     1|360812|      0.9597491|\n",
            "|     1|360571|      0.9597491|\n",
            "|     1|360418|      0.9597491|\n",
            "|     1|360221|      0.9597491|\n",
            "+------+------+---------------+\n",
            "\n",
            "+------+------+---------------+\n",
            "|itemId|userId|predicted_score|\n",
            "+------+------+---------------+\n",
            "|     2|358612|      0.9604678|\n",
            "|     2|358482|      0.9604678|\n",
            "|     2|358342|      0.9604678|\n",
            "|     2|358261|      0.9604678|\n",
            "|     2|358230|      0.9604678|\n",
            "|     2|357901|      0.9604678|\n",
            "|     2|357767|      0.9604678|\n",
            "|     2|357717|      0.9604678|\n",
            "|     2|357371|      0.9604678|\n",
            "|     2|357341|      0.9604678|\n",
            "+------+------+---------------+\n",
            "\n"
          ]
        }
      ],
      "source": [
        "item_recs.filter(\"itemId = 1\").show()\n",
        "item_recs.filter(\"itemId = 2\").show()"
      ]
    },
    {
      "cell_type": "markdown",
      "metadata": {
        "id": "9mC8CPn90g4d"
      },
      "source": [
        "To generate game recommendations based on user behavior, we implemented collaborative filtering using the ALS (Alternating Least Squares) algorithm. We trained the ALS model on a user-item matrix where each row indicates whether a user recommended a game. The model learns latent user and item features that best predict the observed preferences.\n",
        "\n",
        "After training, we generated:\n",
        "\n",
        "User-based recommendations: Top 10 games predicted for each user.\n",
        "\n",
        "Item-based recommendations: Top 10 users likely to enjoy each game.\n",
        "\n",
        "We also evaluated the model using RMSE on the test data."
      ]
    },
    {
      "cell_type": "markdown",
      "metadata": {
        "id": "RHaVKZ683Wt5"
      },
      "source": [
        "**ALS does not work well with binary (0 or 1), better with ratings.**"
      ]
    },
    {
      "cell_type": "markdown",
      "metadata": {
        "id": "K-noGaGb7oFF"
      },
      "source": [
        "For each item (e.g. itemId = 1, itemId = 2), all predicted scores for the top 10 users are:\n",
        "\n",
        "- Exactly the same for a given item\n",
        "\n",
        "- But different between items\n",
        "\n",
        "Why This Happens:\n",
        "This is a known behavior in ALS when:\n",
        "\n",
        "- The item latent vector is strongly dominant (i.e., item is popular / well-rated)\n",
        "\n",
        "- Many users have very similar latent vectors\n",
        "\n",
        "- The model has learned more about items than about users due to data imbalance or sparsity\n",
        "\n",
        "So ALS ends up producing:\n",
        "\n",
        "- One item score that aligns with many similar users\n",
        "\n",
        "- Causing identical predicted_score values for different users of that item\n",
        "\n",
        "What It Means:\n",
        "- ALS is working — it's just that your users are not diverse enough in terms of behavior, or your dataset is too sparse to differentiate between them meaningfully\n",
        "\n",
        "- It makes recommendations less personalized and more item-driven"
      ]
    },
    {
      "cell_type": "markdown",
      "metadata": {
        "id": "DWV3i5iTtNMg"
      },
      "source": [
        "## Collaborative Filtering Logistic Regression"
      ]
    },
    {
      "cell_type": "code",
      "execution_count": null,
      "metadata": {
        "id": "hP4yw0oS0iv8"
      },
      "outputs": [],
      "source": [
        "from pyspark.ml.feature import StringIndexer, VectorAssembler\n",
        "from pyspark.ml.classification import LogisticRegression\n",
        "from pyspark.ml import Pipeline\n",
        "\n",
        "# Encode user_id and item_id\n",
        "user_indexer = StringIndexer(inputCol=\"author_steamid\", outputCol=\"userIndex\")\n",
        "item_indexer = StringIndexer(inputCol=\"app_id\", outputCol=\"itemIndex\")\n",
        "\n",
        "# Assemble features\n",
        "assembler = VectorAssembler(inputCols=[\"userIndex\", \"itemIndex\"], outputCol=\"features\")\n",
        "\n",
        "# Logistic Regression Model\n",
        "lr = LogisticRegression(featuresCol=\"features\", labelCol=\"recommended\", maxIter=10)\n",
        "\n",
        "# Pipeline\n",
        "pipeline = Pipeline(stages=[user_indexer, item_indexer, assembler, lr])"
      ]
    },
    {
      "cell_type": "code",
      "execution_count": null,
      "metadata": {
        "id": "aUuMX4fn6s6x"
      },
      "outputs": [],
      "source": [
        "# Fit model\n",
        "train_data, test_data = balanced_data.randomSplit([0.8, 0.2], seed=42)\n",
        "lr_model = pipeline.fit(train_data)"
      ]
    },
    {
      "cell_type": "code",
      "execution_count": null,
      "metadata": {
        "id": "nxngZ7Jv-yHH"
      },
      "outputs": [],
      "source": [
        "from pyspark.sql.functions import udf\n",
        "from pyspark.ml.linalg import VectorUDT\n",
        "from pyspark.sql.types import DoubleType"
      ]
    },
    {
      "cell_type": "code",
      "execution_count": null,
      "metadata": {
        "id": "8Ha2EAwN6s0m"
      },
      "outputs": [],
      "source": [
        "# Create all user-item pairs (Cartesian product)\n",
        "unique_users = balanced_data.select(\"userId\").distinct()\n",
        "unique_items = balanced_data.select(\"itemId\").distinct()\n",
        "\n",
        "user_item_pairs = unique_users.crossJoin(unique_items)\n",
        "user_item_pairs = user_item_pairs \\\n",
        "    .withColumnRenamed(\"userId\", \"userIndex\") \\\n",
        "    .withColumnRenamed(\"itemId\", \"itemIndex\")\n",
        "\n",
        "# UDF to extract probability of class 1\n",
        "def extract_probability(prob_vector):\n",
        "    return float(prob_vector[1])\n",
        "\n",
        "extract_prob_udf = udf(extract_probability, DoubleType())\n",
        "\n",
        "# Predict on all pairs\n",
        "predictions = lr_model.transform(user_item_pairs)\n",
        "# Apply the UDF to get the predicted score\n",
        "predicted_scores = predictions.select(\"userIndex\", \"itemIndex\", \"probability\") \\\n",
        "    .withColumn(\"predicted_score\", extract_prob_udf(col(\"probability\")))"
      ]
    },
    {
      "cell_type": "code",
      "execution_count": null,
      "metadata": {
        "colab": {
          "base_uri": "https://localhost:8080/"
        },
        "id": "CzpoTZNr7UNq",
        "outputId": "862ded67-7b80-4a2c-d423-019b468cdb48"
      },
      "outputs": [
        {
          "name": "stdout",
          "output_type": "stream",
          "text": [
            "+---------+---------+--------------------+-------------------+\n",
            "|userIndex|itemIndex|         probability|    predicted_score|\n",
            "+---------+---------+--------------------+-------------------+\n",
            "| 137558.0|      7.0|[0.54182918449307...| 0.4581708155069204|\n",
            "| 321489.0|      7.0|[0.33307909629054...| 0.6669209037094525|\n",
            "| 294602.0|      7.0|[0.36163277648900...| 0.6383672235109918|\n",
            "| 345845.0|      7.0|[0.30822369137902...| 0.6917763086209772|\n",
            "| 168365.0|      7.0|[0.50583234772387...|0.49416765227612014|\n",
            "| 181796.0|      7.0|[0.49009767394618...| 0.5099023260538192|\n",
            "| 287239.0|      7.0|[0.36963629329298...| 0.6303637067070157|\n",
            "| 291613.0|      7.0|[0.36487283001281...| 0.6351271699871883|\n",
            "| 354657.0|      7.0|[0.29948852166204...| 0.7005114783379585|\n",
            "| 324224.0|      7.0|[0.33023792554463...|  0.669762074455365|\n",
            "| 337762.0|      7.0|[0.31635894224645...| 0.6836410577535427|\n",
            "|  55682.0|      7.0|[0.63446589662679...|0.36553410337320935|\n",
            "| 250292.0|      7.0|[0.41080856968329...| 0.5891914303167072|\n",
            "| 305051.0|      7.0|[0.35040622003594...|  0.649593779964051|\n",
            "|  35734.0|      7.0|[0.65586277109912...| 0.3441372289008713|\n",
            "| 278371.0|      7.0|[0.37937139415078...| 0.6206286058492138|\n",
            "|   3901.0|      7.0|[0.68871051678052...|0.31128948321947214|\n",
            "|  10024.0|      7.0|[0.68252542625081...| 0.3174745737491823|\n",
            "|  62219.0|      7.0|[0.62733201734285...| 0.3726679826571455|\n",
            "|    769.0|      7.0|[0.69184861304307...|0.30815138695692534|\n",
            "+---------+---------+--------------------+-------------------+\n",
            "only showing top 20 rows\n",
            "\n"
          ]
        }
      ],
      "source": [
        "predicted_scores.show()"
      ]
    },
    {
      "cell_type": "code",
      "execution_count": null,
      "metadata": {
        "id": "8i-s5bxj6sv1"
      },
      "outputs": [],
      "source": [
        "user_item_matrix = predicted_scores.groupBy(\"userIndex\", \"itemIndex\") \\\n",
        "                                   .agg(F.max(\"predicted_score\").alias(\"score\"))\n",
        "\n",
        "pivoted_matrix = user_item_matrix.groupBy(\"userIndex\").pivot(\"itemIndex\").agg(F.first(\"score\")).fillna(0)\n"
      ]
    },
    {
      "cell_type": "code",
      "execution_count": null,
      "metadata": {
        "id": "jRWGi4sV638l"
      },
      "outputs": [],
      "source": [
        "from pyspark.ml.feature import VectorAssembler\n",
        "from pyspark.sql.functions import udf\n",
        "from pyspark.sql.types import FloatType\n",
        "import numpy as np\n",
        "from pyspark.sql.functions import col\n",
        "\n",
        "# Rename columns like \"0.0\", \"1.0\" to \"item_0\", \"item_1\" etc\n",
        "for col_name in pivoted_matrix.columns:\n",
        "    if col_name != \"userIndex\":\n",
        "        new_col_name = f\"item_{str(col_name).replace('.', '_')}\"\n",
        "        pivoted_matrix = pivoted_matrix.withColumnRenamed(col_name, new_col_name)\n",
        "\n",
        "# Assemble feature vector\n",
        "item_cols = [c for c in pivoted_matrix.columns if c != \"userIndex\"]\n",
        "vec_assembler = VectorAssembler(inputCols=item_cols, outputCol=\"features\")\n",
        "user_features = vec_assembler.transform(pivoted_matrix).select(\"userIndex\", \"features\")"
      ]
    },
    {
      "cell_type": "code",
      "execution_count": null,
      "metadata": {
        "id": "QTSO3bL9D5F9"
      },
      "outputs": [],
      "source": [
        "# Cosine similarity UDF\n",
        "def cosine_sim(v1, v2):\n",
        "    v1 = np.array(v1.toArray())\n",
        "    v2 = np.array(v2.toArray())\n",
        "    dot = np.dot(v1, v2)\n",
        "    norm1 = np.linalg.norm(v1)\n",
        "    norm2 = np.linalg.norm(v2)\n",
        "    if norm1 == 0 or norm2 == 0:\n",
        "        return float(0.0)\n",
        "    return float(dot / (norm1 * norm2))\n",
        "\n",
        "cosine_udf = udf(cosine_sim, FloatType())"
      ]
    },
    {
      "cell_type": "code",
      "execution_count": null,
      "metadata": {
        "id": "z6Sp5uALVt_F"
      },
      "outputs": [],
      "source": [
        "# chosen user_id, k and n\n",
        "\n",
        "user_id = 123\n",
        "k_similar = 5\n",
        "top_n = 5"
      ]
    },
    {
      "cell_type": "code",
      "execution_count": null,
      "metadata": {
        "id": "4_h1Aw8UVlvv"
      },
      "outputs": [],
      "source": [
        "a = user_features.alias(\"a\")\n",
        "b = user_features.alias(\"b\")\n",
        "\n",
        "user_sim = a.crossJoin(b) \\\n",
        "        .filter(col(\"a.userIndex\") == user_id) \\\n",
        "        .filter(col(\"a.userIndex\") != col(\"b.userIndex\")) \\\n",
        "        .withColumn(\"similarity\", cosine_udf(col(\"a.features\"), col(\"b.features\"))) \\\n",
        "        .select(col(\"a.userIndex\").alias(\"target_user\"),\n",
        "                col(\"b.userIndex\").alias(\"similar_user\"),\n",
        "                \"similarity\") \\\n",
        "        .orderBy(F.desc(\"similarity\")) \\\n",
        "        .limit(k_similar)"
      ]
    },
    {
      "cell_type": "code",
      "execution_count": null,
      "metadata": {
        "id": "SGvBgWVTWHJ4"
      },
      "outputs": [],
      "source": [
        "# Reuse the user_sim DataFrame directly in a join/filter\n",
        "similar_user_ids = user_sim.select(\"similar_user\")"
      ]
    },
    {
      "cell_type": "code",
      "execution_count": null,
      "metadata": {
        "id": "cWrG6c1yWeux"
      },
      "outputs": [],
      "source": [
        "# Join instead of .isin()\n",
        "similar_user_scores = predicted_scores.join(\n",
        "    similar_user_ids,\n",
        "    predicted_scores[\"userIndex\"] == similar_user_ids[\"similar_user\"],\n",
        "    how=\"inner\"\n",
        ")\n",
        "\n",
        "target_user_items = balanced_data.filter(col(\"userId\") == user_id).select(\"itemId\").distinct()"
      ]
    },
    {
      "cell_type": "code",
      "execution_count": null,
      "metadata": {
        "id": "UtbcbeEz6HFm"
      },
      "outputs": [],
      "source": [
        "target_user_items = target_user_items.withColumnRenamed(\"itemId\", \"itemIndex\") # RENAMING TO JOIN"
      ]
    },
    {
      "cell_type": "code",
      "execution_count": null,
      "metadata": {
        "id": "MwoMpFC6Wgta"
      },
      "outputs": [],
      "source": [
        "recs = similar_user_scores.join(target_user_items, on=\"itemIndex\", how=\"left_anti\") \\\n",
        "                          .groupBy(\"itemIndex\") \\\n",
        "                          .agg(F.avg(\"predicted_score\").alias(\"score\")) \\\n",
        "                          .orderBy(F.desc(\"score\")) \\\n",
        "                          .limit(top_n)"
      ]
    },
    {
      "cell_type": "code",
      "execution_count": null,
      "metadata": {
        "colab": {
          "base_uri": "https://localhost:8080/"
        },
        "id": "OUoUPpxV9Vwo",
        "outputId": "e136753a-dd9a-4684-a74f-0e408ee1d9f7"
      },
      "outputs": [
        {
          "data": {
            "text/plain": [
              "DataFrame[itemIndex: double, score: double]"
            ]
          },
          "execution_count": 97,
          "metadata": {},
          "output_type": "execute_result"
        }
      ],
      "source": [
        "recs.cache()"
      ]
    },
    {
      "cell_type": "code",
      "execution_count": null,
      "metadata": {
        "id": "zNv6pF_dEkUT"
      },
      "outputs": [],
      "source": [
        "#recs.write.mode(\"overwrite\").parquet(\"/content/recs\") # runs forever"
      ]
    },
    {
      "cell_type": "code",
      "execution_count": null,
      "metadata": {
        "id": "WP5b--uF_m03"
      },
      "outputs": [],
      "source": [
        "#recs = spark.read.parquet(\"/content/recs\")"
      ]
    },
    {
      "cell_type": "code",
      "execution_count": null,
      "metadata": {
        "id": "Whnz1yyB6NNk"
      },
      "outputs": [],
      "source": [
        "#recs.show() # runs forever even if i do not create the parquet"
      ]
    },
    {
      "cell_type": "code",
      "execution_count": null,
      "metadata": {
        "id": "umhbkVimVlhL"
      },
      "outputs": [],
      "source": [
        "# FUNCTION\n",
        "'''\n",
        "from pyspark.sql.functions import col, avg, desc\n",
        "\n",
        "def recommend_for_user(user_id, user_features, predicted_scores, balanced_data, k_similar=5, top_n=10):\n",
        "    # Step 1: Compute cosine similarity with other users\n",
        "    a = user_features.alias(\"a\")\n",
        "    b = user_features.alias(\"b\")\n",
        "\n",
        "    user_sim = a.crossJoin(b) \\\n",
        "        .filter(col(\"a.userIndex\") == user_id) \\\n",
        "        .filter(col(\"a.userIndex\") != col(\"b.userIndex\")) \\\n",
        "        .withColumn(\"similarity\", cosine_udf(col(\"a.features\"), col(\"b.features\"))) \\\n",
        "        .select(\n",
        "            col(\"a.userIndex\").alias(\"target_user\"),\n",
        "            col(\"b.userIndex\").alias(\"similar_user\"),\n",
        "            col(\"similarity\")\n",
        "        ) \\\n",
        "        .orderBy(desc(\"similarity\")) \\\n",
        "        .limit(k_similar)\n",
        "\n",
        "    # Step 2: Filter predicted scores for similar users\n",
        "    similar_user_ids = user_sim.select(\"similar_user\")\n",
        "\n",
        "    similar_user_scores = predicted_scores.join(\n",
        "        similar_user_ids,\n",
        "        predicted_scores[\"userIndex\"] == similar_user_ids[\"similar_user\"],\n",
        "        how=\"inner\"\n",
        "    )\n",
        "\n",
        "    # Step 3: Get items already interacted with by target user\n",
        "    target_user_items = balanced_data \\\n",
        "        .filter(col(\"userIndex\") == user_id) \\\n",
        "        .select(\"itemIndex\").distinct()\n",
        "\n",
        "    # Step 4: Recommend items not seen by the user\n",
        "    recs = similar_user_scores \\\n",
        "        .join(target_user_items.withColumnRenamed(\"itemIndex\", \"seen_item\"),\n",
        "              similar_user_scores[\"itemIndex\"] == col(\"seen_item\"),\n",
        "              how=\"left_anti\") \\\n",
        "        .groupBy(\"itemIndex\") \\\n",
        "        .agg(avg(\"predicted_score\").alias(\"score\")) \\\n",
        "        .orderBy(desc(\"score\")) \\\n",
        "        .limit(top_n)\n",
        "\n",
        "    return recs\n",
        "'''"
      ]
    },
    {
      "cell_type": "markdown",
      "metadata": {
        "id": "OCRDcxhdHpK0"
      },
      "source": [
        "Item-based"
      ]
    },
    {
      "cell_type": "code",
      "execution_count": null,
      "metadata": {
        "id": "BTUhHy4QSNM3"
      },
      "outputs": [],
      "source": [
        "# runs forever"
      ]
    },
    {
      "cell_type": "code",
      "execution_count": null,
      "metadata": {
        "id": "peFbEltXcTBH"
      },
      "outputs": [],
      "source": [
        "#predictions.show(3)"
      ]
    },
    {
      "cell_type": "code",
      "execution_count": null,
      "metadata": {
        "id": "K2Ltk9fS633E"
      },
      "outputs": [],
      "source": [
        "'''\n",
        "#Item-based\n",
        "from pyspark.sql import functions as F\n",
        "\n",
        "# Step 1: Preprocess (e.g., get item-user score matrix)\n",
        "ratings = predictions.select(\"userIndex\", \"itemIndex\", \"prediction\")\n",
        "\n",
        "# Step 2: Self-join to create item pairs rated by same user\n",
        "item_pairs = ratings.alias(\"r1\") \\\n",
        "    .join(ratings.alias(\"r2\"), on=\"userIndex\") \\\n",
        "    .filter(F.col(\"r1.itemIndex\") < F.col(\"r2.itemIndex\"))\n",
        "\n",
        "# Step 3: Compute components for cosine similarity\n",
        "pair_scores = item_pairs \\\n",
        "    .withColumn(\"product\", F.col(\"r1.prediction\") * F.col(\"r2.prediction\")) \\\n",
        "    .withColumn(\"r1_sq\", F.col(\"r1.prediction\")**2) \\\n",
        "    .withColumn(\"r2_sq\", F.col(\"r2.prediction\")**2) \\\n",
        "    .groupBy(\"r1.itemIndex\", \"r2.itemIndex\") \\\n",
        "    .agg(\n",
        "        F.sum(\"product\").alias(\"numerator\"),\n",
        "        F.sqrt(F.sum(\"r1_sq\")).alias(\"denom_i\"),\n",
        "        F.sqrt(F.sum(\"r2_sq\")).alias(\"denom_j\")\n",
        "    ) \\\n",
        "    .withColumn(\"cosine_similarity\",\n",
        "                F.col(\"numerator\") / (F.col(\"denom_i\") * F.col(\"denom_j\"))) \\\n",
        "    .select(\n",
        "        F.col(\"r1.itemIndex\").alias(\"item_i\"),\n",
        "        F.col(\"r2.itemIndex\").alias(\"item_j\"),\n",
        "        \"cosine_similarity\"\n",
        "    )\n",
        "\n",
        "pair_scores.show()\n",
        "'''"
      ]
    },
    {
      "cell_type": "markdown",
      "metadata": {
        "id": "Qurxunw65x2m"
      },
      "source": [
        "### Cosine Similarity"
      ]
    },
    {
      "cell_type": "code",
      "execution_count": null,
      "metadata": {
        "id": "iMv5qTLS0iyF"
      },
      "outputs": [],
      "source": [
        "# Make sure the columns are typed correctly\n",
        "steam_df = data.withColumn(\"user_id\", col(\"userId\").cast(\"int\")) \\\n",
        "                   .withColumn(\"item_id\", col(\"itemId\").cast(\"int\")) \\\n",
        "                   .withColumn(\"recommended\", col(\"recommended\").cast(\"int\"))"
      ]
    },
    {
      "cell_type": "code",
      "execution_count": null,
      "metadata": {
        "colab": {
          "base_uri": "https://localhost:8080/"
        },
        "id": "yU9puVUI895I",
        "outputId": "d5a3dfa7-abb9-49a7-903a-9f8409ed9b54"
      },
      "outputs": [
        {
          "name": "stdout",
          "output_type": "stream",
          "text": [
            "+--------+------+-----------+-------+-------+\n",
            "|  userId|itemId|recommended|user_id|item_id|\n",
            "+--------+------+-----------+-------+-------+\n",
            "|209882.0| 184.0|          0| 209882|    184|\n",
            "| 15931.0| 184.0|          0|  15931|    184|\n",
            "|139160.0| 184.0|          0| 139160|    184|\n",
            "|   482.0| 197.0|          0|    482|    197|\n",
            "|327695.0| 197.0|          0| 327695|    197|\n",
            "| 13077.0| 197.0|          0|  13077|    197|\n",
            "|295302.0| 197.0|          0| 295302|    197|\n",
            "|259247.0| 197.0|          0| 259247|    197|\n",
            "|   572.0| 197.0|          0|    572|    197|\n",
            "| 10802.0| 197.0|          0|  10802|    197|\n",
            "|  2734.0| 197.0|          0|   2734|    197|\n",
            "|    96.0| 197.0|          0|     96|    197|\n",
            "|106703.0| 197.0|          0| 106703|    197|\n",
            "|354933.0| 197.0|          0| 354933|    197|\n",
            "|208765.0| 197.0|          0| 208765|    197|\n",
            "| 15094.0| 197.0|          0|  15094|    197|\n",
            "| 15298.0| 197.0|          0|  15298|    197|\n",
            "| 12557.0| 197.0|          0|  12557|    197|\n",
            "| 88308.0| 197.0|          0|  88308|    197|\n",
            "|301334.0| 197.0|          0| 301334|    197|\n",
            "+--------+------+-----------+-------+-------+\n",
            "only showing top 20 rows\n",
            "\n"
          ]
        }
      ],
      "source": [
        "steam_df.show()"
      ]
    },
    {
      "cell_type": "code",
      "execution_count": null,
      "metadata": {
        "colab": {
          "base_uri": "https://localhost:8080/"
        },
        "id": "7eJ-q8pk9Fi9",
        "outputId": "569085ac-b196-4f87-e59f-150b119e8157"
      },
      "outputs": [
        {
          "name": "stdout",
          "output_type": "stream",
          "text": [
            "+-----------+------+\n",
            "|recommended| count|\n",
            "+-----------+------+\n",
            "|          1|209388|\n",
            "|          0|209144|\n",
            "+-----------+------+\n",
            "\n"
          ]
        }
      ],
      "source": [
        "steam_df.groupBy('recommended').count().show()"
      ]
    },
    {
      "cell_type": "code",
      "execution_count": null,
      "metadata": {
        "id": "8kpGagcb3zfT"
      },
      "outputs": [],
      "source": [
        "from pyspark.ml.feature import Normalizer\n",
        "from pyspark.ml.linalg import Vectors, VectorUDT\n",
        "from pyspark.ml.feature import VectorAssembler\n",
        "\n",
        "# Pivot user-item matrix\n",
        "user_item_df = steam_df.groupBy(\"user_id\", \"item_id\") \\\n",
        "                       .agg(F.max(\"recommended\").alias(\"rating\"))\n",
        "\n",
        "# Pivot to create a matrix structure: each user is a row, items are columns\n",
        "pivoted = user_item_df.groupBy(\"user_id\").pivot(\"item_id\").agg(F.first(\"rating\")).fillna(0)\n",
        "\n",
        "# Collect item columns\n",
        "item_columns = pivoted.columns[1:]\n",
        "\n",
        "# Assemble them into a single vector column\n",
        "vec_assembler = VectorAssembler(inputCols=item_columns, outputCol=\"features\")\n",
        "pivoted_vec = vec_assembler.transform(pivoted).select(\"user_id\", \"features\")"
      ]
    },
    {
      "cell_type": "code",
      "execution_count": null,
      "metadata": {
        "id": "jq5epUTN0i0-"
      },
      "outputs": [],
      "source": [
        "# Create aliases for self join\n",
        "a = pivoted_vec.alias(\"a\")\n",
        "b = pivoted_vec.alias(\"b\")\n",
        "\n",
        "# Compute dot product, norms, and similarity\n",
        "from pyspark.sql.functions import udf\n",
        "from pyspark.sql.types import FloatType\n",
        "import numpy as np\n",
        "\n",
        "def cosine_udf(v1, v2):\n",
        "    v1 = np.array(v1.toArray())\n",
        "    v2 = np.array(v2.toArray())\n",
        "    dot = np.dot(v1, v2)\n",
        "    norm1 = np.linalg.norm(v1)\n",
        "    norm2 = np.linalg.norm(v2)\n",
        "    if norm1 == 0 or norm2 == 0:\n",
        "        return float(0.0)\n",
        "    return float(dot / (norm1 * norm2))\n",
        "\n",
        "cosine_sim_udf = udf(cosine_udf, FloatType())\n",
        "\n",
        "# Self-join to compute similarity\n",
        "user_sim = a.crossJoin(b) \\\n",
        "            .filter(F.col(\"a.user_id\") != F.col(\"b.user_id\")) \\\n",
        "            .withColumn(\"similarity\", cosine_sim_udf(\"a.features\", \"b.features\")) \\\n",
        "            .select(F.col(\"a.user_id\").alias(\"user_a\"),\n",
        "                    F.col(\"b.user_id\").alias(\"user_b\"),\n",
        "                    \"similarity\")"
      ]
    },
    {
      "cell_type": "code",
      "execution_count": null,
      "metadata": {
        "colab": {
          "base_uri": "https://localhost:8080/"
        },
        "id": "3Zkj76Z3-UYA",
        "outputId": "b9735ba5-468b-4fe3-b83b-7fe6bc1e7d57"
      },
      "outputs": [
        {
          "name": "stdout",
          "output_type": "stream",
          "text": [
            "+-------+-----+\n",
            "|item_id|count|\n",
            "+-------+-----+\n",
            "|    126|    1|\n",
            "|    175|    1|\n",
            "+-------+-----+\n",
            "\n"
          ]
        }
      ],
      "source": [
        "top_sim_users = user_sim.filter(\"user_a = 123\") \\\n",
        "                        .orderBy(F.desc(\"similarity\")) \\\n",
        "                        .limit(5)\n",
        "\n",
        "# Get items these users recommended\n",
        "similar_user_ids = [row[\"user_b\"] for row in top_sim_users.collect()]\n",
        "\n",
        "recommended_items = steam_df.filter(F.col(\"user_id\").isin(similar_user_ids)) \\\n",
        "                            .filter(F.col(\"recommended\") == 1)\n",
        "\n",
        "# Exclude items already known to the target user\n",
        "target_items = steam_df.filter(\"user_id = 123\").select(\"item_id\").distinct()\n",
        "\n",
        "final_recs = recommended_items.join(target_items, on=\"item_id\", how=\"left_anti\") \\\n",
        "                              .groupBy(\"item_id\") \\\n",
        "                              .count() \\\n",
        "                              .orderBy(F.desc(\"count\"))\n",
        "\n",
        "final_recs.show()\n",
        " # for user 123"
      ]
    },
    {
      "cell_type": "markdown",
      "metadata": {
        "id": "dy4Tv4aXG2nK"
      },
      "source": [
        "This means that one of the top similar users of user 123 recommends item 126 and so on."
      ]
    },
    {
      "cell_type": "code",
      "execution_count": null,
      "metadata": {
        "colab": {
          "base_uri": "https://localhost:8080/"
        },
        "id": "sCMHUHdX-Uam",
        "outputId": "ebc9ce87-5241-4883-b5c6-c75185b375a5"
      },
      "outputs": [
        {
          "name": "stdout",
          "output_type": "stream",
          "text": [
            "+-------+-----+\n",
            "|user_id|count|\n",
            "+-------+-----+\n",
            "|      0|   15|\n",
            "|      1|   13|\n",
            "|      2|   11|\n",
            "|      3|   11|\n",
            "|      4|   10|\n",
            "|      6|   10|\n",
            "|      7|   10|\n",
            "|      5|   10|\n",
            "|      8|    9|\n",
            "|     12|    9|\n",
            "|     10|    9|\n",
            "|     13|    9|\n",
            "|     11|    9|\n",
            "|      9|    9|\n",
            "|     23|    8|\n",
            "|     22|    8|\n",
            "|     24|    8|\n",
            "|     16|    8|\n",
            "|     21|    8|\n",
            "|     20|    8|\n",
            "+-------+-----+\n",
            "only showing top 20 rows\n",
            "\n"
          ]
        }
      ],
      "source": [
        "steam_df.groupBy(\"user_id\").count().orderBy(F.desc(\"count\")).show()"
      ]
    },
    {
      "cell_type": "code",
      "execution_count": null,
      "metadata": {
        "colab": {
          "base_uri": "https://localhost:8080/"
        },
        "id": "sIOmpYhE-Udb",
        "outputId": "51acd93e-b96c-416b-8cdd-474328403515"
      },
      "outputs": [
        {
          "name": "stdout",
          "output_type": "stream",
          "text": [
            "+-------+-----+\n",
            "|item_id|count|\n",
            "+-------+-----+\n",
            "|      1|    1|\n",
            "|    126|    1|\n",
            "|    175|    1|\n",
            "+-------+-----+\n",
            "\n"
          ]
        }
      ],
      "source": [
        "top_sim_users = user_sim.filter(\"user_a = 85\") \\\n",
        "                        .orderBy(F.desc(\"similarity\")) \\\n",
        "                        .limit(5)\n",
        "\n",
        "# Get items these users recommended\n",
        "similar_user_ids = [row[\"user_b\"] for row in top_sim_users.collect()]\n",
        "\n",
        "recommended_items = steam_df.filter(F.col(\"user_id\").isin(similar_user_ids)) \\\n",
        "                            .filter(F.col(\"recommended\") == 1)\n",
        "\n",
        "# Exclude items already known to the target user\n",
        "target_items = steam_df.filter(\"user_id = 85\").select(\"item_id\").distinct()\n",
        "\n",
        "final_recs = recommended_items.join(target_items, on=\"item_id\", how=\"left_anti\") \\\n",
        "                              .groupBy(\"item_id\") \\\n",
        "                              .count() \\\n",
        "                              .orderBy(F.desc(\"count\"))\n",
        "\n",
        "final_recs.show()\n",
        " # for user 85"
      ]
    },
    {
      "cell_type": "code",
      "execution_count": null,
      "metadata": {
        "id": "OniCer9w_zJM"
      },
      "outputs": [],
      "source": [
        "### function\n",
        "\n",
        "def recommend_for_user_cosine(user_id, k_similar=5, top_n=10):\n",
        "    from pyspark.ml.feature import VectorAssembler\n",
        "    from pyspark.sql.functions import col, udf\n",
        "    from pyspark.sql.types import FloatType\n",
        "    import numpy as np\n",
        "\n",
        "    # Step 1: Create user-item matrix\n",
        "    user_item_df = steam_df.groupBy(\"user_id\", \"item_id\") \\\n",
        "                           .agg(F.max(\"recommended\").alias(\"rating\"))\n",
        "\n",
        "    pivoted = user_item_df.groupBy(\"user_id\").pivot(\"item_id\").agg(F.first(\"rating\")).fillna(0)\n",
        "    item_columns = pivoted.columns[1:]  # Exclude 'user_id'\n",
        "\n",
        "    vec_assembler = VectorAssembler(inputCols=item_columns, outputCol=\"features\")\n",
        "    pivoted_vec = vec_assembler.transform(pivoted).select(\"user_id\", \"features\")\n",
        "\n",
        "    # Step 2: Cosine similarity UDF\n",
        "    def cosine_udf(v1, v2):\n",
        "        v1 = np.array(v1.toArray())\n",
        "        v2 = np.array(v2.toArray())\n",
        "        dot = np.dot(v1, v2)\n",
        "        norm1 = np.linalg.norm(v1)\n",
        "        norm2 = np.linalg.norm(v2)\n",
        "        if norm1 == 0 or norm2 == 0:\n",
        "            return float(0.0)\n",
        "        return float(dot / (norm1 * norm2))\n",
        "\n",
        "    cosine_sim_udf = udf(cosine_udf, FloatType())\n",
        "\n",
        "    # Step 3: Compute similarity to all other users\n",
        "    a = pivoted_vec.alias(\"a\")\n",
        "    b = pivoted_vec.alias(\"b\")\n",
        "\n",
        "    user_sim = a.crossJoin(b) \\\n",
        "                .filter(F.col(\"a.user_id\") == user_id) \\\n",
        "                .filter(F.col(\"a.user_id\") != F.col(\"b.user_id\")) \\\n",
        "                .withColumn(\"similarity\", cosine_sim_udf(\"a.features\", \"b.features\")) \\\n",
        "                .select(F.col(\"a.user_id\").alias(\"user_a\"),\n",
        "                        F.col(\"b.user_id\").alias(\"user_b\"),\n",
        "                        \"similarity\") \\\n",
        "                .orderBy(F.desc(\"similarity\")) \\\n",
        "                .limit(k_similar)\n",
        "\n",
        "    similar_user_ids = [row[\"user_b\"] for row in user_sim.collect()]\n",
        "\n",
        "    if not similar_user_ids:\n",
        "        print(f\"No similar users found for user {user_id}\")\n",
        "        return None\n",
        "\n",
        "    # Step 4: Get items recommended by similar users\n",
        "    recommended_items = steam_df.filter(F.col(\"user_id\").isin(similar_user_ids)) \\\n",
        "                                .filter(F.col(\"recommended\") == 1)\n",
        "\n",
        "    # Step 5: Filter out already seen items\n",
        "    target_items = steam_df.filter(F.col(\"user_id\") == user_id).select(\"item_id\").distinct()\n",
        "\n",
        "    final_recs = recommended_items.join(target_items, on=\"item_id\", how=\"left_anti\") \\\n",
        "                                  .groupBy(\"item_id\") \\\n",
        "                                  .count() \\\n",
        "                                  .orderBy(F.desc(\"count\")) \\\n",
        "                                  .limit(top_n)\n",
        "\n",
        "    return final_recs"
      ]
    },
    {
      "cell_type": "code",
      "execution_count": null,
      "metadata": {
        "colab": {
          "base_uri": "https://localhost:8080/"
        },
        "id": "8wmXyiyZ_zLh",
        "outputId": "64b2e9e2-9f83-4cb7-b1a4-a61b6c413793"
      },
      "outputs": [
        {
          "name": "stdout",
          "output_type": "stream",
          "text": [
            "+-------+-----+\n",
            "|item_id|count|\n",
            "+-------+-----+\n",
            "|      1|    1|\n",
            "|    126|    1|\n",
            "|    175|    1|\n",
            "+-------+-----+\n",
            "\n"
          ]
        }
      ],
      "source": [
        "recommend_for_user_cosine(115, k_similar=5, top_n=10).show()"
      ]
    },
    {
      "cell_type": "markdown",
      "metadata": {
        "id": "-6Dx4ym0Adpm"
      },
      "source": [
        "If no user shares overlapping recommended items with another, even cosine similarity can't help generate any “new” suggestions."
      ]
    },
    {
      "cell_type": "code",
      "execution_count": null,
      "metadata": {
        "colab": {
          "base_uri": "https://localhost:8080/"
        },
        "id": "f5INzI3vAijZ",
        "outputId": "f093c832-c865-45f9-9067-d7b42be5ddec"
      },
      "outputs": [
        {
          "name": "stdout",
          "output_type": "stream",
          "text": [
            "+-------+-----+\n",
            "|user_id|count|\n",
            "+-------+-----+\n",
            "|    496|    4|\n",
            "|   2659|    3|\n",
            "|   3997|    3|\n",
            "|   3918|    3|\n",
            "|   2366|    3|\n",
            "|    471|    4|\n",
            "|   2866|    3|\n",
            "|   3794|    3|\n",
            "|   1088|    4|\n",
            "|   4101|    3|\n",
            "|   3175|    3|\n",
            "|   1591|    3|\n",
            "|    833|    4|\n",
            "|   1580|    3|\n",
            "|   1238|    3|\n",
            "|    148|    5|\n",
            "|   1342|    3|\n",
            "|   1829|    3|\n",
            "|   2122|    3|\n",
            "|   1959|    3|\n",
            "+-------+-----+\n",
            "only showing top 20 rows\n",
            "\n"
          ]
        }
      ],
      "source": [
        "active_users = steam_df.groupBy(\"user_id\") \\\n",
        "                       .count() \\\n",
        "                       .filter(\"count >= 3\")\n",
        "\n",
        "active_users.show()\n"
      ]
    },
    {
      "cell_type": "markdown",
      "metadata": {
        "id": "B3CoLRBsAe73"
      },
      "source": [
        "the above operation is a check"
      ]
    },
    {
      "cell_type": "markdown",
      "metadata": {
        "id": "WKASppLSYYX8"
      },
      "source": [
        "item-based"
      ]
    },
    {
      "cell_type": "code",
      "execution_count": null,
      "metadata": {
        "id": "r9n2nvYDYZ1m"
      },
      "outputs": [],
      "source": [
        "def recommend_for_user_item_cosine(user_id, k_similar=5, top_n=10):\n",
        "    from pyspark.ml.feature import VectorAssembler\n",
        "    from pyspark.sql.functions import col, udf\n",
        "    from pyspark.sql.types import FloatType\n",
        "    import numpy as np\n",
        "\n",
        "    # Step 1: Create item-user matrix\n",
        "    item_user_df = steam_df.groupBy(\"item_id\", \"user_id\") \\\n",
        "                           .agg(F.max(\"recommended\").alias(\"rating\"))\n",
        "\n",
        "    pivoted = item_user_df.groupBy(\"item_id\").pivot(\"user_id\").agg(F.first(\"rating\")).fillna(0)\n",
        "    user_columns = pivoted.columns[1:]  # Exclude 'item_id'\n",
        "\n",
        "    vec_assembler = VectorAssembler(inputCols=user_columns, outputCol=\"features\")\n",
        "    pivoted_vec = vec_assembler.transform(pivoted).select(\"item_id\", \"features\")\n",
        "\n",
        "    # Step 2: Cosine similarity UDF\n",
        "    def cosine_udf(v1, v2):\n",
        "        v1 = np.array(v1.toArray())\n",
        "        v2 = np.array(v2.toArray())\n",
        "        dot = np.dot(v1, v2)\n",
        "        norm1 = np.linalg.norm(v1)\n",
        "        norm2 = np.linalg.norm(v2)\n",
        "        if norm1 == 0 or norm2 == 0:\n",
        "            return float(0.0)\n",
        "        return float(dot / (norm1 * norm2))\n",
        "\n",
        "    cosine_sim_udf = udf(cosine_udf, FloatType())\n",
        "\n",
        "    # Step 3: Get items the user has positively interacted with\n",
        "    user_liked_items = steam_df.filter((col(\"user_id\") == user_id) & (col(\"recommended\") == 1)) \\\n",
        "                               .select(\"item_id\").distinct()\n",
        "\n",
        "    liked_ids = [row[\"item_id\"] for row in user_liked_items.collect()]\n",
        "\n",
        "    if not liked_ids:\n",
        "        print(f\"No liked items found for user {user_id}\")\n",
        "        return None\n",
        "\n",
        "    # Step 4: Compute similarity of each liked item to all other items\n",
        "    a = pivoted_vec.alias(\"a\")\n",
        "    b = pivoted_vec.alias(\"b\")\n",
        "\n",
        "    recs = None\n",
        "    for item in liked_ids:\n",
        "        sims = a.filter(F.col(\"a.item_id\") == item).crossJoin(b) \\\n",
        "                .filter(F.col(\"a.item_id\") != F.col(\"b.item_id\")) \\\n",
        "                .withColumn(\"similarity\", cosine_sim_udf(\"a.features\", \"b.features\")) \\\n",
        "                .select(F.col(\"b.item_id\").alias(\"item_id\"), \"similarity\")\n",
        "        if recs is None:\n",
        "            recs = sims\n",
        "        else:\n",
        "            recs = recs.union(sims)\n",
        "\n",
        "    # Step 5: Aggregate scores and filter out already interacted items\n",
        "    recs = recs.groupBy(\"item_id\").agg(F.avg(\"similarity\").alias(\"score\"))\n",
        "\n",
        "    already_seen = steam_df.filter(F.col(\"user_id\") == user_id).select(\"item_id\").distinct()\n",
        "\n",
        "    final_recs = recs.join(already_seen, on=\"item_id\", how=\"left_anti\") \\\n",
        "                     .orderBy(F.desc(\"score\")) \\\n",
        "                     .limit(top_n)\n",
        "\n",
        "    return final_recs"
      ]
    },
    {
      "cell_type": "code",
      "execution_count": null,
      "metadata": {
        "colab": {
          "base_uri": "https://localhost:8080/",
          "height": 314
        },
        "id": "lXkwjvpAYcOP",
        "outputId": "fdf2a165-4915-4005-e51b-1ac81ca13434"
      },
      "outputs": [
        {
          "ename": "AnalysisException",
          "evalue": "The pivot column user_id has more than 10000 distinct values, this could indicate an error. If this was intended, set spark.sql.pivotMaxValues to at least the number of distinct values of the pivot column.",
          "output_type": "error",
          "traceback": [
            "\u001b[0;31m---------------------------------------------------------------------------\u001b[0m",
            "\u001b[0;31mAnalysisException\u001b[0m                         Traceback (most recent call last)",
            "\u001b[0;32m<ipython-input-111-61886d2a5a09>\u001b[0m in \u001b[0;36m<cell line: 0>\u001b[0;34m()\u001b[0m\n\u001b[0;32m----> 1\u001b[0;31m \u001b[0mrecommend_for_user_item_cosine\u001b[0m\u001b[0;34m(\u001b[0m\u001b[0muser_id\u001b[0m\u001b[0;34m=\u001b[0m\u001b[0;34m\"user_123\"\u001b[0m\u001b[0;34m,\u001b[0m \u001b[0mk_similar\u001b[0m\u001b[0;34m=\u001b[0m\u001b[0;36m5\u001b[0m\u001b[0;34m,\u001b[0m \u001b[0mtop_n\u001b[0m\u001b[0;34m=\u001b[0m\u001b[0;36m10\u001b[0m\u001b[0;34m)\u001b[0m\u001b[0;34m.\u001b[0m\u001b[0mshow\u001b[0m\u001b[0;34m(\u001b[0m\u001b[0;34m)\u001b[0m\u001b[0;34m\u001b[0m\u001b[0;34m\u001b[0m\u001b[0m\n\u001b[0m",
            "\u001b[0;32m<ipython-input-110-a8295904a118>\u001b[0m in \u001b[0;36mrecommend_for_user_item_cosine\u001b[0;34m(user_id, k_similar, top_n)\u001b[0m\n\u001b[1;32m      9\u001b[0m                            \u001b[0;34m.\u001b[0m\u001b[0magg\u001b[0m\u001b[0;34m(\u001b[0m\u001b[0mF\u001b[0m\u001b[0;34m.\u001b[0m\u001b[0mmax\u001b[0m\u001b[0;34m(\u001b[0m\u001b[0;34m\"recommended\"\u001b[0m\u001b[0;34m)\u001b[0m\u001b[0;34m.\u001b[0m\u001b[0malias\u001b[0m\u001b[0;34m(\u001b[0m\u001b[0;34m\"rating\"\u001b[0m\u001b[0;34m)\u001b[0m\u001b[0;34m)\u001b[0m\u001b[0;34m\u001b[0m\u001b[0;34m\u001b[0m\u001b[0m\n\u001b[1;32m     10\u001b[0m \u001b[0;34m\u001b[0m\u001b[0m\n\u001b[0;32m---> 11\u001b[0;31m     \u001b[0mpivoted\u001b[0m \u001b[0;34m=\u001b[0m \u001b[0mitem_user_df\u001b[0m\u001b[0;34m.\u001b[0m\u001b[0mgroupBy\u001b[0m\u001b[0;34m(\u001b[0m\u001b[0;34m\"item_id\"\u001b[0m\u001b[0;34m)\u001b[0m\u001b[0;34m.\u001b[0m\u001b[0mpivot\u001b[0m\u001b[0;34m(\u001b[0m\u001b[0;34m\"user_id\"\u001b[0m\u001b[0;34m)\u001b[0m\u001b[0;34m.\u001b[0m\u001b[0magg\u001b[0m\u001b[0;34m(\u001b[0m\u001b[0mF\u001b[0m\u001b[0;34m.\u001b[0m\u001b[0mfirst\u001b[0m\u001b[0;34m(\u001b[0m\u001b[0;34m\"rating\"\u001b[0m\u001b[0;34m)\u001b[0m\u001b[0;34m)\u001b[0m\u001b[0;34m.\u001b[0m\u001b[0mfillna\u001b[0m\u001b[0;34m(\u001b[0m\u001b[0;36m0\u001b[0m\u001b[0;34m)\u001b[0m\u001b[0;34m\u001b[0m\u001b[0;34m\u001b[0m\u001b[0m\n\u001b[0m\u001b[1;32m     12\u001b[0m     \u001b[0muser_columns\u001b[0m \u001b[0;34m=\u001b[0m \u001b[0mpivoted\u001b[0m\u001b[0;34m.\u001b[0m\u001b[0mcolumns\u001b[0m\u001b[0;34m[\u001b[0m\u001b[0;36m1\u001b[0m\u001b[0;34m:\u001b[0m\u001b[0;34m]\u001b[0m  \u001b[0;31m# Exclude 'item_id'\u001b[0m\u001b[0;34m\u001b[0m\u001b[0;34m\u001b[0m\u001b[0m\n\u001b[1;32m     13\u001b[0m \u001b[0;34m\u001b[0m\u001b[0m\n",
            "\u001b[0;32m/usr/local/lib/python3.11/dist-packages/pyspark/sql/group.py\u001b[0m in \u001b[0;36mpivot\u001b[0;34m(self, pivot_col, values)\u001b[0m\n\u001b[1;32m    519\u001b[0m         \"\"\"\n\u001b[1;32m    520\u001b[0m         \u001b[0;32mif\u001b[0m \u001b[0mvalues\u001b[0m \u001b[0;32mis\u001b[0m \u001b[0;32mNone\u001b[0m\u001b[0;34m:\u001b[0m\u001b[0;34m\u001b[0m\u001b[0;34m\u001b[0m\u001b[0m\n\u001b[0;32m--> 521\u001b[0;31m             \u001b[0mjgd\u001b[0m \u001b[0;34m=\u001b[0m \u001b[0mself\u001b[0m\u001b[0;34m.\u001b[0m\u001b[0m_jgd\u001b[0m\u001b[0;34m.\u001b[0m\u001b[0mpivot\u001b[0m\u001b[0;34m(\u001b[0m\u001b[0mpivot_col\u001b[0m\u001b[0;34m)\u001b[0m\u001b[0;34m\u001b[0m\u001b[0;34m\u001b[0m\u001b[0m\n\u001b[0m\u001b[1;32m    522\u001b[0m         \u001b[0;32melse\u001b[0m\u001b[0;34m:\u001b[0m\u001b[0;34m\u001b[0m\u001b[0;34m\u001b[0m\u001b[0m\n\u001b[1;32m    523\u001b[0m             \u001b[0mjgd\u001b[0m \u001b[0;34m=\u001b[0m \u001b[0mself\u001b[0m\u001b[0;34m.\u001b[0m\u001b[0m_jgd\u001b[0m\u001b[0;34m.\u001b[0m\u001b[0mpivot\u001b[0m\u001b[0;34m(\u001b[0m\u001b[0mpivot_col\u001b[0m\u001b[0;34m,\u001b[0m \u001b[0mvalues\u001b[0m\u001b[0;34m)\u001b[0m\u001b[0;34m\u001b[0m\u001b[0;34m\u001b[0m\u001b[0m\n",
            "\u001b[0;32m/usr/local/lib/python3.11/dist-packages/py4j/java_gateway.py\u001b[0m in \u001b[0;36m__call__\u001b[0;34m(self, *args)\u001b[0m\n\u001b[1;32m   1320\u001b[0m \u001b[0;34m\u001b[0m\u001b[0m\n\u001b[1;32m   1321\u001b[0m         \u001b[0manswer\u001b[0m \u001b[0;34m=\u001b[0m \u001b[0mself\u001b[0m\u001b[0;34m.\u001b[0m\u001b[0mgateway_client\u001b[0m\u001b[0;34m.\u001b[0m\u001b[0msend_command\u001b[0m\u001b[0;34m(\u001b[0m\u001b[0mcommand\u001b[0m\u001b[0;34m)\u001b[0m\u001b[0;34m\u001b[0m\u001b[0;34m\u001b[0m\u001b[0m\n\u001b[0;32m-> 1322\u001b[0;31m         return_value = get_return_value(\n\u001b[0m\u001b[1;32m   1323\u001b[0m             answer, self.gateway_client, self.target_id, self.name)\n\u001b[1;32m   1324\u001b[0m \u001b[0;34m\u001b[0m\u001b[0m\n",
            "\u001b[0;32m/usr/local/lib/python3.11/dist-packages/pyspark/errors/exceptions/captured.py\u001b[0m in \u001b[0;36mdeco\u001b[0;34m(*a, **kw)\u001b[0m\n\u001b[1;32m    183\u001b[0m                 \u001b[0;31m# Hide where the exception came from that shows a non-Pythonic\u001b[0m\u001b[0;34m\u001b[0m\u001b[0;34m\u001b[0m\u001b[0m\n\u001b[1;32m    184\u001b[0m                 \u001b[0;31m# JVM exception message.\u001b[0m\u001b[0;34m\u001b[0m\u001b[0;34m\u001b[0m\u001b[0m\n\u001b[0;32m--> 185\u001b[0;31m                 \u001b[0;32mraise\u001b[0m \u001b[0mconverted\u001b[0m \u001b[0;32mfrom\u001b[0m \u001b[0;32mNone\u001b[0m\u001b[0;34m\u001b[0m\u001b[0;34m\u001b[0m\u001b[0m\n\u001b[0m\u001b[1;32m    186\u001b[0m             \u001b[0;32melse\u001b[0m\u001b[0;34m:\u001b[0m\u001b[0;34m\u001b[0m\u001b[0;34m\u001b[0m\u001b[0m\n\u001b[1;32m    187\u001b[0m                 \u001b[0;32mraise\u001b[0m\u001b[0;34m\u001b[0m\u001b[0;34m\u001b[0m\u001b[0m\n",
            "\u001b[0;31mAnalysisException\u001b[0m: The pivot column user_id has more than 10000 distinct values, this could indicate an error. If this was intended, set spark.sql.pivotMaxValues to at least the number of distinct values of the pivot column."
          ]
        }
      ],
      "source": [
        "recommend_for_user_item_cosine(user_id=\"user_123\", k_similar=5, top_n=10).show()"
      ]
    },
    {
      "cell_type": "markdown",
      "metadata": {
        "id": "0UVtZ_aoZdFB"
      },
      "source": [
        "the above wont work due to pivot limit in spark"
      ]
    },
    {
      "cell_type": "code",
      "execution_count": null,
      "metadata": {
        "id": "qisa0JzGZhJn"
      },
      "outputs": [],
      "source": [
        "from pyspark.sql import functions as F\n",
        "\n",
        "# 1. Rating matrix (only use recommended == 1 or actual rating if available)\n",
        "ratings = steam_df.select(\"user_id\", \"item_id\", \"recommended\").withColumnRenamed(\"recommended\", \"rating\")\n",
        "\n",
        "# 2. Self-join on users to get item-item pairs\n",
        "item_pairs = ratings.alias(\"r1\") \\\n",
        "    .join(ratings.alias(\"r2\"), on=\"user_id\") \\\n",
        "    .filter(F.col(\"r1.item_id\") < F.col(\"r2.item_id\")) \\\n",
        "    .select(\n",
        "        F.col(\"r1.item_id\").alias(\"item_i\"),\n",
        "        F.col(\"r2.item_id\").alias(\"item_j\"),\n",
        "        (F.col(\"r1.rating\") * F.col(\"r2.rating\")).alias(\"dot_product\"),\n",
        "        F.col(\"r1.rating\").alias(\"rating_i\"),\n",
        "        F.col(\"r2.rating\").alias(\"rating_j\")\n",
        "    )\n",
        "\n",
        "# 3. Compute numerator and denominator parts\n",
        "similarity_df = item_pairs.groupBy(\"item_i\", \"item_j\").agg(\n",
        "    F.sum(\"dot_product\").alias(\"numerator\"),\n",
        "    F.sqrt(F.sum(F.col(\"rating_i\") ** 2)).alias(\"denom_i\"),\n",
        "    F.sqrt(F.sum(F.col(\"rating_j\") ** 2)).alias(\"denom_j\")\n",
        ").withColumn(\"cosine_similarity\", F.col(\"numerator\") / (F.col(\"denom_i\") * F.col(\"denom_j\")))"
      ]
    },
    {
      "cell_type": "code",
      "execution_count": null,
      "metadata": {
        "id": "ZmbymtFwapIH"
      },
      "outputs": [],
      "source": [
        "from pyspark.sql.functions import when, col\n",
        "\n",
        "similarity_df = similarity_df.withColumn(\n",
        "    \"cosine_similarity\",\n",
        "    when(\n",
        "        (col(\"denom_i\") > 0) & (col(\"denom_j\") > 0),\n",
        "        col(\"numerator\") / (col(\"denom_i\") * col(\"denom_j\"))\n",
        "    ).otherwise(0.0)  # or None if you want to skip those cases\n",
        ")"
      ]
    },
    {
      "cell_type": "code",
      "execution_count": null,
      "metadata": {
        "colab": {
          "base_uri": "https://localhost:8080/"
        },
        "id": "oZMBCkqJZpSC",
        "outputId": "9577fa47-6d2c-442d-e7a2-6b20799fee6e"
      },
      "outputs": [
        {
          "name": "stdout",
          "output_type": "stream",
          "text": [
            "+------+------+---------+------------------+------------------+------------------+\n",
            "|item_i|item_j|numerator|           denom_i|           denom_j| cosine_similarity|\n",
            "+------+------+---------+------------------+------------------+------------------+\n",
            "|    11|   155|        0|               0.0|               1.0|               0.0|\n",
            "|   101|   160|        0|               0.0|               0.0|               0.0|\n",
            "|     8|    52|        3|1.7320508075688772|2.6457513110645907|0.6546536707079772|\n",
            "|    73|    98|        0|               1.0|               0.0|               0.0|\n",
            "|    14|   175|        2|1.4142135623730951|1.4142135623730951|0.9999999999999998|\n",
            "+------+------+---------+------------------+------------------+------------------+\n",
            "only showing top 5 rows\n",
            "\n"
          ]
        }
      ],
      "source": [
        "similarity_df.show(5)"
      ]
    },
    {
      "cell_type": "code",
      "execution_count": null,
      "metadata": {
        "colab": {
          "base_uri": "https://localhost:8080/"
        },
        "id": "lrJ6BgOBa6w2",
        "outputId": "15dd4bf9-87fd-4782-d378-36a6f55213c8"
      },
      "outputs": [
        {
          "name": "stdout",
          "output_type": "stream",
          "text": [
            "+--------------+------------+------------+\n",
            "|null_numerator|null_denom_i|null_denom_j|\n",
            "+--------------+------------+------------+\n",
            "|             0|           0|           0|\n",
            "+--------------+------------+------------+\n",
            "\n"
          ]
        }
      ],
      "source": [
        "similarity_df.select(\n",
        "    F.count(F.when(F.col(\"numerator\").isNull(), 1)).alias(\"null_numerator\"),\n",
        "    F.count(F.when(F.col(\"denom_i\").isNull(), 1)).alias(\"null_denom_i\"),\n",
        "    F.count(F.when(F.col(\"denom_j\").isNull(), 1)).alias(\"null_denom_j\")\n",
        ").show()\n"
      ]
    },
    {
      "cell_type": "code",
      "execution_count": null,
      "metadata": {
        "colab": {
          "base_uri": "https://localhost:8080/"
        },
        "id": "JvUMzROIbSe0",
        "outputId": "77c1d178-ae57-4bf8-9996-dc7dd8b220de"
      },
      "outputs": [
        {
          "name": "stdout",
          "output_type": "stream",
          "text": [
            "Zero denominator pairs: 8780\n",
            "+------+------+------------------+\n",
            "|item_i|item_j| cosine_similarity|\n",
            "+------+------+------------------+\n",
            "|    56|    79|1.0000000000000002|\n",
            "|     6|    33|1.0000000000000002|\n",
            "|    22|   104|1.0000000000000002|\n",
            "|     2|    80|1.0000000000000002|\n",
            "|    38|    48|1.0000000000000002|\n",
            "|     7|    93|1.0000000000000002|\n",
            "|    55|   197|1.0000000000000002|\n",
            "|   131|   170|1.0000000000000002|\n",
            "|    33|   110|1.0000000000000002|\n",
            "|    10|    16|1.0000000000000002|\n",
            "+------+------+------------------+\n",
            "only showing top 10 rows\n",
            "\n",
            "+------+------+---------+-------+-------+-----------------+\n",
            "|item_i|item_j|numerator|denom_i|denom_j|cosine_similarity|\n",
            "+------+------+---------+-------+-------+-----------------+\n",
            "+------+------+---------+-------+-------+-----------------+\n",
            "\n"
          ]
        }
      ],
      "source": [
        "from pyspark.sql import functions as F\n",
        "\n",
        "# 1. Check for zero denominators\n",
        "zero_denoms = similarity_df.filter((F.col(\"denom_i\") == 0) | (F.col(\"denom_j\") == 0))\n",
        "print(\"Zero denominator pairs:\", zero_denoms.count())\n",
        "\n",
        "# 2. Recompute cosine_similarity with safety check\n",
        "similarity_df = similarity_df.withColumn(\n",
        "    \"cosine_similarity\",\n",
        "    F.when((F.col(\"denom_i\") == 0) | (F.col(\"denom_j\") == 0), None)\n",
        "     .otherwise(F.col(\"numerator\") / (F.col(\"denom_i\") * F.col(\"denom_j\")))\n",
        ")\n",
        "\n",
        "# 3. Drop rows where cosine similarity is still null\n",
        "similarity_df = similarity_df.filter(F.col(\"cosine_similarity\").isNotNull())\n",
        "\n",
        "# 4. Show top similarities\n",
        "similarity_df.select(\"item_i\", \"item_j\", \"cosine_similarity\") \\\n",
        "             .orderBy(F.desc(\"cosine_similarity\")) \\\n",
        "             .show(10)\n",
        "\n",
        "# 5. Sanity check for a specific item (e.g., \"item_14\")\n",
        "similarity_df.filter((F.col(\"item_i\") == \"item_14\") | (F.col(\"item_j\") == \"item_14\")).show()"
      ]
    },
    {
      "cell_type": "code",
      "execution_count": null,
      "metadata": {
        "id": "bZrquE3xboyM"
      },
      "outputs": [],
      "source": [
        "from pyspark.sql.functions import col, when\n",
        "\n",
        "# Only compute similarity if both norms are non-zero\n",
        "similarity_df = similarity_df.withColumn(\n",
        "    \"cosine_similarity\",\n",
        "    when((col(\"denom_i\") > 0) & (col(\"denom_j\") > 0),\n",
        "         col(\"numerator\") / (col(\"denom_i\") * col(\"denom_j\")))\n",
        "    .otherwise(None)\n",
        ")\n",
        "\n",
        "# Filter out invalid results (still NULL or zero)\n",
        "similarity_df = similarity_df.filter(col(\"cosine_similarity\").isNotNull())\n",
        "\n",
        "# Optional: remove extremely low similarities (often noise)\n",
        "similarity_df = similarity_df.filter(col(\"cosine_similarity\") > 0.01)\n"
      ]
    },
    {
      "cell_type": "code",
      "execution_count": null,
      "metadata": {
        "colab": {
          "base_uri": "https://localhost:8080/"
        },
        "id": "cc84qOs8bqfh",
        "outputId": "580d074e-7cb5-4e12-b539-ff2fa6faa359"
      },
      "outputs": [
        {
          "name": "stdout",
          "output_type": "stream",
          "text": [
            "+------+------+---------+------------------+------------------+------------------+\n",
            "|item_i|item_j|numerator|           denom_i|           denom_j| cosine_similarity|\n",
            "+------+------+---------+------------------+------------------+------------------+\n",
            "|    56|    79|        3|1.7320508075688772|1.7320508075688772|1.0000000000000002|\n",
            "|     6|    33|        3|1.7320508075688772|1.7320508075688772|1.0000000000000002|\n",
            "|    22|   104|        3|1.7320508075688772|1.7320508075688772|1.0000000000000002|\n",
            "|     2|    80|        3|1.7320508075688772|1.7320508075688772|1.0000000000000002|\n",
            "|    38|    48|        3|1.7320508075688772|1.7320508075688772|1.0000000000000002|\n",
            "|     7|    93|        3|1.7320508075688772|1.7320508075688772|1.0000000000000002|\n",
            "|    55|   197|        3|1.7320508075688772|1.7320508075688772|1.0000000000000002|\n",
            "|   131|   170|        3|1.7320508075688772|1.7320508075688772|1.0000000000000002|\n",
            "|    33|   110|        3|1.7320508075688772|1.7320508075688772|1.0000000000000002|\n",
            "|    10|    16|        3|1.7320508075688772|1.7320508075688772|1.0000000000000002|\n",
            "+------+------+---------+------------------+------------------+------------------+\n",
            "only showing top 10 rows\n",
            "\n"
          ]
        }
      ],
      "source": [
        "similarity_df.orderBy(F.desc(\"cosine_similarity\")).show(10)\n"
      ]
    },
    {
      "cell_type": "code",
      "execution_count": null,
      "metadata": {
        "id": "wVHIxWmDZj0U"
      },
      "outputs": [],
      "source": [
        "# Now you can get top similar items for any item\n",
        "def get_top_similar_items(item_id, top_n=10):\n",
        "    return similarity_df \\\n",
        "        .filter((F.col(\"item_i\") == item_id) | (F.col(\"item_j\") == item_id)) \\\n",
        "        .withColumn(\"similar_item\", F.when(F.col(\"item_i\") == item_id, F.col(\"item_j\")).otherwise(F.col(\"item_i\"))) \\\n",
        "        .select(\"similar_item\", \"cosine_similarity\") \\\n",
        "        .orderBy(F.desc(\"cosine_similarity\")) \\\n",
        "        .limit(top_n)"
      ]
    },
    {
      "cell_type": "code",
      "execution_count": null,
      "metadata": {
        "colab": {
          "base_uri": "https://localhost:8080/"
        },
        "id": "lLexX6kqZkVT",
        "outputId": "f4de9132-9ce1-4120-b6f8-00409418d4c8"
      },
      "outputs": [
        {
          "name": "stdout",
          "output_type": "stream",
          "text": [
            "+------------+-----------------+\n",
            "|similar_item|cosine_similarity|\n",
            "+------------+-----------------+\n",
            "+------------+-----------------+\n",
            "\n"
          ]
        }
      ],
      "source": [
        "get_top_similar_items(\"item_14\").show()"
      ]
    },
    {
      "cell_type": "code",
      "execution_count": null,
      "metadata": {
        "id": "anh1waqXb4dD"
      },
      "outputs": [],
      "source": [
        "### itembased here dont work"
      ]
    },
    {
      "cell_type": "markdown",
      "metadata": {
        "id": "N7fCr_PEBTPG"
      },
      "source": [
        "### Content-Based (hopefully sth is good enough)"
      ]
    },
    {
      "cell_type": "code",
      "execution_count": null,
      "metadata": {
        "colab": {
          "base_uri": "https://localhost:8080/"
        },
        "id": "GCDVf-HBB0Gb",
        "outputId": "0936e1e4-98ee-4cb5-f3fb-69b7681ff837"
      },
      "outputs": [
        {
          "name": "stdout",
          "output_type": "stream",
          "text": [
            "+----+------+--------------------+---------+--------------------+-----------+-------------+--------------+-----------------+---------------------------+-------------+-----------------+----------------------+------------------+-----------------------+-------------------------+-------------+-----------------+-------------------------+--------+------+\n",
            "| _c0|app_id|            app_name|review_id|              review|recommended|votes_helpful|steam_purchase|received_for_free|written_during_early_access|votes_helpful|   author_steamid|author_num_games_owned|author_num_reviews|author_playtime_forever|author_playtime_at_review|review_length|playtime_category|playtime_forever_category|  userId|itemId|\n",
            "+----+------+--------------------+---------+--------------------+-----------+-------------+--------------+-----------------+---------------------------+-------------+-----------------+----------------------+------------------+-----------------------+-------------------------+-------------+-----------------+-------------------------+--------+------+\n",
            "| 248|292030|The Witcher 3: Wi...| 85134950|What great game. ...|          1|            0|          true|            false|                      false|            0|76561197996569707|                    81|                 2|                 1318.0|                   1182.0|           63|              Low|                      Low| 61569.0|  15.0|\n",
            "| 416|292030|The Witcher 3: Wi...| 85101319|    Fucking amazing!|          1|            0|          true|            false|                      false|            0|76561198076002843|                   520|                12|                 5030.0|                   5030.0|           16|           Medium|                   Medium|177245.0|  15.0|\n",
            "| 492|292030|The Witcher 3: Wi...| 85088338|I love this game....|          1|            0|          true|            false|                      false|            0|76561199043386060|                    10|                 2|                 1824.0|                   1824.0|          208|              Low|                      Low|379898.0|  15.0|\n",
            "|1049|292030|The Witcher 3: Wi...| 84977859|       I do love Yen|          1|            0|         false|            false|                      false|            0|76561198821830287|                    67|                 4|                 6338.0|                   6338.0|           13|           Medium|                   Medium|353696.0|  15.0|\n",
            "|1170|292030|The Witcher 3: Wi...| 84960214|Finished twice on...|          1|            0|          true|            false|                      false|            0|76561198028911941|                   261|                 7|                10802.0|                  10802.0|          124|           Medium|                   Medium|104224.0|  15.0|\n",
            "|1268|292030|The Witcher 3: Wi...| 84930192|It is just absolo...|          1|            0|          true|            false|                      false|            0|76561198349799232|                   135|                 2|                 1678.0|                   1419.0|           29|              Low|                      Low|324911.0|  15.0|\n",
            "|1357|292030|The Witcher 3: Wi...| 84914783|     Best game ever!|          1|            0|          true|            false|                      false|            0|76561198447650248|                     8|                 1|                 6890.0|                   5993.0|           15|           Medium|                   Medium|346921.0|  15.0|\n",
            "|1497|292030|The Witcher 3: Wi...| 84891275|Absolutely a mast...|          1|            0|          true|            false|                      false|            0|76561198969515234|                    25|                12|                 1441.0|                   1188.0|          131|              Low|                      Low|369875.0|  15.0|\n",
            "|1661|292030|The Witcher 3: Wi...| 84859912|     Fucking Awesome|          1|            0|          true|            false|                      false|            0|76561198210113257|                    73|                 6|                 2611.0|                   2538.0|           15|              Low|                      Low|279146.0|  15.0|\n",
            "|1986|292030|The Witcher 3: Wi...| 84803922|i came for the se...|          1|            0|          true|            false|                      false|            0|76561198367626271|                    36|                 5|                  524.0|                    203.0|           52|              Low|                      Low|331034.0|  15.0|\n",
            "|1993|292030|The Witcher 3: Wi...| 84802802|For me this game ...|          1|            2|          true|            false|                      false|            2|76561198283604974|                    90|                 3|                 9623.0|                   8372.0|          155|           Medium|                   Medium|303319.0|  15.0|\n",
            "|2303|292030|The Witcher 3: Wi...| 84751264|          It s good.|          1|            0|          true|            false|                      false|            0|76561198325733495|                    33|                 4|                 8282.0|                   8282.0|           10|           Medium|                   Medium|317795.0|  15.0|\n",
            "|2337|292030|The Witcher 3: Wi...| 84743762|                 yes|          1|            0|          true|            false|                      false|            0|76561198045604055|                   529|                11|                 1958.0|                   1318.0|            3|              Low|                      Low|130441.0|  15.0|\n",
            "|2349|292030|The Witcher 3: Wi...| 84741842|Our whole univers...|          1|            0|          true|            false|                      false|            0|76561198368148769|                    60|                 1|                12289.0|                   7002.0|          321|           Medium|                   Medium|331194.0|  15.0|\n",
            "|2423|292030|The Witcher 3: Wi...| 84729501|You can do everyt...|          1|            0|         false|            false|                      false|            0|76561197960382714|                    18|                 2|                 2244.0|                    366.0|           82|              Low|                      Low| 25924.0|  15.0|\n",
            "|2641|292030|The Witcher 3: Wi...| 84690350|         pretty sick|          1|            0|          true|            false|                      false|            0|76561198353403101|                   109|                 8|                 4700.0|                   4700.0|           11|              Low|                      Low|326226.0|  15.0|\n",
            "|2781|292030|The Witcher 3: Wi...| 84668884|The best game I h...|          1|            1|          true|            false|                      false|            1|76561199018223402|                     2|                 1|                 1934.0|                    238.0|           96|              Low|                      Low|377457.0|  15.0|\n",
            "|2900|292030|The Witcher 3: Wi...| 84649760|The game is just ...|          1|            0|          true|            false|                      false|            0|76561198056508128|                   134|                16|                 5861.0|                   5861.0|          615|           Medium|                   Medium|147496.0|  15.0|\n",
            "|2935|292030|The Witcher 3: Wi...| 84643103|            game gud|          1|            0|          true|            false|                      false|            0|76561199008439430|                    33|                 1|                 2387.0|                   2350.0|            8|              Low|                      Low|375196.0|  15.0|\n",
            "|3699|292030|The Witcher 3: Wi...| 84514566|I played 100's of...|          1|            0|          true|            false|                      false|            0|76561198097099920|                    22|                 1|                  213.0|                    213.0|           71|              Low|                      Low|202452.0|  15.0|\n",
            "+----+------+--------------------+---------+--------------------+-----------+-------------+--------------+-----------------+---------------------------+-------------+-----------------+----------------------+------------------+-----------------------+-------------------------+-------------+-----------------+-------------------------+--------+------+\n",
            "only showing top 20 rows\n",
            "\n"
          ]
        }
      ],
      "source": [
        "balanced_data.show()"
      ]
    },
    {
      "cell_type": "code",
      "execution_count": null,
      "metadata": {
        "id": "9Bimsc2WCV2j"
      },
      "outputs": [],
      "source": [
        "from pyspark.ml.feature import Tokenizer, HashingTF, IDF\n",
        "from pyspark.ml.linalg import Vectors, VectorUDT\n",
        "from pyspark.sql.functions import col, udf\n",
        "from pyspark.sql.types import FloatType\n",
        "import numpy as np\n",
        "\n",
        "review_df = balanced_data.select(\"app_id\", \"app_name\", \"review\").dropna(subset=[\"review\"]).dropDuplicates([\"app_id\"])"
      ]
    },
    {
      "cell_type": "code",
      "execution_count": null,
      "metadata": {
        "id": "w9NOescOCH_m"
      },
      "outputs": [],
      "source": [
        "tokenizer = Tokenizer(inputCol=\"review\", outputCol=\"words\")\n",
        "words_data = tokenizer.transform(review_df)"
      ]
    },
    {
      "cell_type": "code",
      "execution_count": null,
      "metadata": {
        "id": "oAt9pRvnCd3G"
      },
      "outputs": [],
      "source": [
        "hashingTF = HashingTF(inputCol=\"words\", outputCol=\"rawFeatures\", numFeatures=1000)\n",
        "featurized_data = hashingTF.transform(words_data)\n",
        "\n",
        "idf = IDF(inputCol=\"rawFeatures\", outputCol=\"features\")\n",
        "idf_model = idf.fit(featurized_data)\n",
        "rescaled_data = idf_model.transform(featurized_data)"
      ]
    },
    {
      "cell_type": "code",
      "execution_count": null,
      "metadata": {
        "id": "Q1Mqqxw3AdMx"
      },
      "outputs": [],
      "source": [
        "a = rescaled_data.select(\"app_id\", \"app_name\", \"features\").alias(\"a\")\n",
        "b = rescaled_data.select(\"app_id\", \"app_name\", \"features\").alias(\"b\")"
      ]
    },
    {
      "cell_type": "code",
      "execution_count": null,
      "metadata": {
        "id": "i5ec-tvSCfzE"
      },
      "outputs": [],
      "source": [
        "def cosine_sim(v1, v2):\n",
        "    v1 = np.array(v1.toArray())\n",
        "    v2 = np.array(v2.toArray())\n",
        "    dot = np.dot(v1, v2)\n",
        "    norm1 = np.linalg.norm(v1)\n",
        "    norm2 = np.linalg.norm(v2)\n",
        "    if norm1 == 0 or norm2 == 0:\n",
        "        return float(0.0)\n",
        "    return float(dot / (norm1 * norm2))\n",
        "\n",
        "cosine_udf = udf(cosine_sim, FloatType())"
      ]
    },
    {
      "cell_type": "markdown",
      "metadata": {
        "id": "uVKU2AbAXoXd"
      },
      "source": [
        "could use any target or can turn into a function"
      ]
    },
    {
      "cell_type": "code",
      "execution_count": null,
      "metadata": {
        "colab": {
          "base_uri": "https://localhost:8080/"
        },
        "id": "ZKu07s7KCf1o",
        "outputId": "eb1211e6-3b3f-49e2-9825-eb8519fff075"
      },
      "outputs": [
        {
          "name": "stdout",
          "output_type": "stream",
          "text": [
            "+------------------------+-------------------------------------------+----------+\n",
            "|target_game             |similar_game                               |similarity|\n",
            "+------------------------+-------------------------------------------+----------+\n",
            "|The Witcher 3: Wild Hunt|Bloons TD 6                                |0.2962483 |\n",
            "|The Witcher 3: Wild Hunt|Ravenfield                                 |0.23291716|\n",
            "|The Witcher 3: Wild Hunt|NBA 2K19                                   |0.23291716|\n",
            "|The Witcher 3: Wild Hunt|Persona 4 Golden                           |0.22675912|\n",
            "|The Witcher 3: Wild Hunt|Wolfenstein: Youngblood                    |0.19041975|\n",
            "|The Witcher 3: Wild Hunt|Cyberdimension Neptunia: 4 Goddesses Online|0.18590274|\n",
            "|The Witcher 3: Wild Hunt|Planet Coaster                             |0.17731483|\n",
            "|The Witcher 3: Wild Hunt|Railway Empire                             |0.17483841|\n",
            "|The Witcher 3: Wild Hunt|Overcooked! 2                              |0.16393085|\n",
            "|The Witcher 3: Wild Hunt|Baba Is You                                |0.14864358|\n",
            "+------------------------+-------------------------------------------+----------+\n",
            "only showing top 10 rows\n",
            "\n"
          ]
        }
      ],
      "source": [
        "target_id = 292030  # The Witcher 3: Wild Hunt\n",
        "\n",
        "similarities = a.crossJoin(b) \\\n",
        "    .filter(col(\"a.app_id\") == target_id) \\\n",
        "    .filter(col(\"a.app_id\") != col(\"b.app_id\")) \\\n",
        "    .withColumn(\"similarity\", cosine_udf(col(\"a.features\"), col(\"b.features\"))) \\\n",
        "    .select(col(\"a.app_name\").alias(\"target_game\"),\n",
        "            col(\"b.app_name\").alias(\"similar_game\"),\n",
        "            \"similarity\") \\\n",
        "    .orderBy(col(\"similarity\").desc())\n",
        "\n",
        "similarities.show(10, truncate=False)"
      ]
    },
    {
      "cell_type": "code",
      "execution_count": null,
      "metadata": {
        "id": "J3_A17JGCmwW"
      },
      "outputs": [],
      "source": []
    },
    {
      "cell_type": "code",
      "execution_count": null,
      "metadata": {
        "id": "uDVlHMS-Cmyq"
      },
      "outputs": [],
      "source": []
    },
    {
      "cell_type": "markdown",
      "metadata": {
        "id": "XY6G8j9eT_l7"
      },
      "source": [
        "## Sentiment Analysis of the Review column"
      ]
    },
    {
      "cell_type": "code",
      "execution_count": null,
      "metadata": {
        "id": "iqfzuTN8T_l7"
      },
      "outputs": [],
      "source": [
        "# Data Preprocessing\n",
        "df_cleaned = balanced_data.withColumn(\"review\", lower(regexp_replace(col(\"review\"), \"[^a-zA-Z\\\\s]\", \"\")))"
      ]
    },
    {
      "cell_type": "code",
      "execution_count": null,
      "metadata": {
        "id": "8xRYThz6T_l7"
      },
      "outputs": [],
      "source": [
        "tokenizer = Tokenizer(inputCol=\"review\", outputCol=\"words\")"
      ]
    },
    {
      "cell_type": "code",
      "execution_count": null,
      "metadata": {
        "id": "9c1kadA0T_l7"
      },
      "outputs": [],
      "source": [
        "remover = StopWordsRemover(inputCol=\"words\", outputCol=\"filtered_words\")"
      ]
    },
    {
      "cell_type": "code",
      "execution_count": null,
      "metadata": {
        "id": "0Ew1jB5bT_l7"
      },
      "outputs": [],
      "source": [
        "df_tokenized = tokenizer.transform(df_cleaned)\n",
        "df_filtered = remover.transform(df_tokenized)"
      ]
    },
    {
      "cell_type": "code",
      "execution_count": null,
      "metadata": {
        "id": "xJDBe7JCT_l7"
      },
      "outputs": [],
      "source": [
        "# Feature Extraction with TF-IDF\n",
        "hashing_tf = HashingTF(inputCol=\"filtered_words\", outputCol=\"raw_features\", numFeatures=10000)\n",
        "idf = IDF(inputCol=\"raw_features\", outputCol=\"features\")\n",
        "df_tf = hashing_tf.transform(df_filtered)"
      ]
    },
    {
      "cell_type": "code",
      "execution_count": null,
      "metadata": {
        "colab": {
          "base_uri": "https://localhost:8080/"
        },
        "id": "U1daOXL4ZFFW",
        "outputId": "2c238928-f063-4631-841c-0aeed0c035a8"
      },
      "outputs": [
        {
          "data": {
            "text/plain": [
              "0"
            ]
          },
          "execution_count": 134,
          "metadata": {},
          "output_type": "execute_result"
        }
      ],
      "source": [
        "df_tf.filter(df_tf['review'].isNull()).count()\n"
      ]
    },
    {
      "cell_type": "code",
      "execution_count": null,
      "metadata": {
        "id": "VxEoyh3iT_l8"
      },
      "outputs": [],
      "source": [
        "idf_model = idf.fit(df_tf)\n",
        "df_tfidf = idf_model.transform(df_tf)"
      ]
    },
    {
      "cell_type": "code",
      "execution_count": null,
      "metadata": {
        "id": "_rQeGR6xT_l8"
      },
      "outputs": [],
      "source": [
        "# Label Indexing\n",
        "indexer = StringIndexer(inputCol=\"recommended\", outputCol=\"label\")\n",
        "df_indexed = indexer.fit(df_tfidf).transform(df_tfidf)"
      ]
    },
    {
      "cell_type": "code",
      "execution_count": null,
      "metadata": {
        "id": "bVrfiCHUT_l8"
      },
      "outputs": [],
      "source": [
        "# Splitting Data\n",
        "train_df, test_df = df_indexed.randomSplit([0.8, 0.2], seed=42)"
      ]
    },
    {
      "cell_type": "code",
      "execution_count": null,
      "metadata": {
        "id": "DVumGVfsT_l8"
      },
      "outputs": [],
      "source": [
        "# Scaling (AFTER SPLITTING)\n",
        "scaler = StandardScaler(inputCol=\"features\", outputCol=\"scaled_features\", withMean=True, withStd=True)\n",
        "scaler_model = scaler.fit(train_df)\n",
        "train_df_scaled = scaler_model.transform(train_df)\n",
        "test_df_scaled = scaler_model.transform(test_df)"
      ]
    },
    {
      "cell_type": "markdown",
      "metadata": {
        "id": "aqeHnTcbZKP1"
      },
      "source": [
        "Decision tree"
      ]
    },
    {
      "cell_type": "code",
      "execution_count": null,
      "metadata": {
        "id": "OfSSDDDAT2vH"
      },
      "outputs": [],
      "source": [
        "from pyspark.ml.classification import DecisionTreeClassifier\n",
        "\n",
        "dt = DecisionTreeClassifier(featuresCol=\"scaled_features\", labelCol=\"label\", maxDepth=5)\n",
        "dt_model = dt.fit(train_df_scaled)  #took ~ 15 minutes to run :/\n"
      ]
    },
    {
      "cell_type": "code",
      "execution_count": null,
      "metadata": {
        "colab": {
          "base_uri": "https://localhost:8080/"
        },
        "id": "znTMIsxkVLoB",
        "outputId": "ba62311a-6057-4911-cd72-d10293ca35a5"
      },
      "outputs": [
        {
          "name": "stdout",
          "output_type": "stream",
          "text": [
            "+--------------------+-----+----------+\n",
            "|              review|label|prediction|\n",
            "+--------------------+-----+----------+\n",
            "|i love this game ...|  0.0|       1.0|\n",
            "|      best game ever|  0.0|       0.0|\n",
            "|     fucking awesome|  0.0|       1.0|\n",
            "|our whole univers...|  0.0|       1.0|\n",
            "|i played s of hou...|  0.0|       1.0|\n",
            "|immersive and mag...|  0.0|       1.0|\n",
            "|               tiddy|  0.0|       1.0|\n",
            "|       long campaign|  0.0|       1.0|\n",
            "|graphics its the ...|  0.0|       1.0|\n",
            "|this game is obje...|  0.0|       0.0|\n",
            "+--------------------+-----+----------+\n",
            "only showing top 10 rows\n",
            "\n"
          ]
        }
      ],
      "source": [
        "predictions = dt_model.transform(test_df_scaled)\n",
        "predictions.select(\"review\", \"label\", \"prediction\").show(10)"
      ]
    },
    {
      "cell_type": "code",
      "execution_count": null,
      "metadata": {
        "colab": {
          "base_uri": "https://localhost:8080/"
        },
        "id": "OpvCUwD6T_l8",
        "outputId": "4f78a368-3f54-4b35-81a9-7ca9ee80d706"
      },
      "outputs": [
        {
          "name": "stdout",
          "output_type": "stream",
          "text": [
            "Accuracy: 0.6252772147370931\n"
          ]
        }
      ],
      "source": [
        "# Model Evaluation\n",
        "evaluator = MulticlassClassificationEvaluator(labelCol=\"label\", predictionCol=\"prediction\", metricName=\"accuracy\")\n",
        "accuracy = evaluator.evaluate(predictions)\n",
        "print(f\"Accuracy: {accuracy}\")"
      ]
    },
    {
      "cell_type": "markdown",
      "metadata": {
        "id": "bKujMmLxZhAw"
      },
      "source": [
        "maybe increase tree depth?"
      ]
    },
    {
      "cell_type": "code",
      "execution_count": null,
      "metadata": {
        "colab": {
          "base_uri": "https://localhost:8080/"
        },
        "id": "qmU_Vws3T_l8",
        "outputId": "ff4c0188-f213-4d35-e055-13acba439be3"
      },
      "outputs": [
        {
          "name": "stdout",
          "output_type": "stream",
          "text": [
            "+--------------------+-----+----------+\n",
            "|              review|label|prediction|\n",
            "+--------------------+-----+----------+\n",
            "|i love this game ...|  0.0|       1.0|\n",
            "|      best game ever|  0.0|       0.0|\n",
            "|     fucking awesome|  0.0|       1.0|\n",
            "|our whole univers...|  0.0|       1.0|\n",
            "|i played s of hou...|  0.0|       1.0|\n",
            "|immersive and mag...|  0.0|       1.0|\n",
            "|               tiddy|  0.0|       1.0|\n",
            "|       long campaign|  0.0|       1.0|\n",
            "|graphics its the ...|  0.0|       1.0|\n",
            "|this game is obje...|  0.0|       0.0|\n",
            "+--------------------+-----+----------+\n",
            "only showing top 10 rows\n",
            "\n"
          ]
        }
      ],
      "source": [
        "# Display Predictions\n",
        "predictions.select(\"review\", \"label\", \"prediction\").show(10)"
      ]
    },
    {
      "cell_type": "markdown",
      "metadata": {
        "id": "OGhnuRc-ZcaP"
      },
      "source": [
        "Random Forest"
      ]
    },
    {
      "cell_type": "code",
      "execution_count": null,
      "metadata": {
        "colab": {
          "base_uri": "https://localhost:8080/",
          "height": 351
        },
        "id": "5CaGzJh7ZYdI",
        "outputId": "3264d24b-447e-4f63-f979-7f9c318019f4"
      },
      "outputs": [
        {
          "ename": "ConnectionRefusedError",
          "evalue": "[Errno 111] Connection refused",
          "output_type": "error",
          "traceback": [
            "\u001b[0;31m---------------------------------------------------------------------------\u001b[0m",
            "\u001b[0;31mConnectionRefusedError\u001b[0m                    Traceback (most recent call last)",
            "\u001b[0;32m<ipython-input-147-09a23f2d9a5e>\u001b[0m in \u001b[0;36m<cell line: 0>\u001b[0;34m()\u001b[0m\n\u001b[1;32m      3\u001b[0m \u001b[0;34m\u001b[0m\u001b[0m\n\u001b[1;32m      4\u001b[0m \u001b[0;34m\u001b[0m\u001b[0m\n\u001b[0;32m----> 5\u001b[0;31m \u001b[0mrf\u001b[0m \u001b[0;34m=\u001b[0m \u001b[0mRandomForestClassifier\u001b[0m\u001b[0;34m(\u001b[0m\u001b[0mfeaturesCol\u001b[0m\u001b[0;34m=\u001b[0m\u001b[0;34m\"scaled_features\"\u001b[0m\u001b[0;34m,\u001b[0m \u001b[0mlabelCol\u001b[0m\u001b[0;34m=\u001b[0m\u001b[0;34m\"label\"\u001b[0m\u001b[0;34m,\u001b[0m \u001b[0mnumTrees\u001b[0m\u001b[0;34m=\u001b[0m\u001b[0;36m10\u001b[0m\u001b[0;34m,\u001b[0m \u001b[0mmaxDepth\u001b[0m\u001b[0;34m=\u001b[0m\u001b[0;36m5\u001b[0m\u001b[0;34m)\u001b[0m\u001b[0;34m\u001b[0m\u001b[0;34m\u001b[0m\u001b[0m\n\u001b[0m\u001b[1;32m      6\u001b[0m \u001b[0mrf_model\u001b[0m \u001b[0;34m=\u001b[0m \u001b[0mrf\u001b[0m\u001b[0;34m.\u001b[0m\u001b[0mfit\u001b[0m\u001b[0;34m(\u001b[0m\u001b[0mtrain_df_scaled\u001b[0m\u001b[0;34m)\u001b[0m\u001b[0;34m\u001b[0m\u001b[0;34m\u001b[0m\u001b[0m\n",
            "\u001b[0;32m/usr/local/lib/python3.11/dist-packages/pyspark/__init__.py\u001b[0m in \u001b[0;36mwrapper\u001b[0;34m(self, *args, **kwargs)\u001b[0m\n\u001b[1;32m    137\u001b[0m             \u001b[0;32mraise\u001b[0m \u001b[0mTypeError\u001b[0m\u001b[0;34m(\u001b[0m\u001b[0;34m\"Method %s forces keyword arguments.\"\u001b[0m \u001b[0;34m%\u001b[0m \u001b[0mfunc\u001b[0m\u001b[0;34m.\u001b[0m\u001b[0m__name__\u001b[0m\u001b[0;34m)\u001b[0m\u001b[0;34m\u001b[0m\u001b[0;34m\u001b[0m\u001b[0m\n\u001b[1;32m    138\u001b[0m         \u001b[0mself\u001b[0m\u001b[0;34m.\u001b[0m\u001b[0m_input_kwargs\u001b[0m \u001b[0;34m=\u001b[0m \u001b[0mkwargs\u001b[0m\u001b[0;34m\u001b[0m\u001b[0;34m\u001b[0m\u001b[0m\n\u001b[0;32m--> 139\u001b[0;31m         \u001b[0;32mreturn\u001b[0m \u001b[0mfunc\u001b[0m\u001b[0;34m(\u001b[0m\u001b[0mself\u001b[0m\u001b[0;34m,\u001b[0m \u001b[0;34m**\u001b[0m\u001b[0mkwargs\u001b[0m\u001b[0;34m)\u001b[0m\u001b[0;34m\u001b[0m\u001b[0;34m\u001b[0m\u001b[0m\n\u001b[0m\u001b[1;32m    140\u001b[0m \u001b[0;34m\u001b[0m\u001b[0m\n\u001b[1;32m    141\u001b[0m     \u001b[0;32mreturn\u001b[0m \u001b[0mcast\u001b[0m\u001b[0;34m(\u001b[0m\u001b[0m_F\u001b[0m\u001b[0;34m,\u001b[0m \u001b[0mwrapper\u001b[0m\u001b[0;34m)\u001b[0m\u001b[0;34m\u001b[0m\u001b[0;34m\u001b[0m\u001b[0m\n",
            "\u001b[0;32m/usr/local/lib/python3.11/dist-packages/pyspark/ml/classification.py\u001b[0m in \u001b[0;36m__init__\u001b[0;34m(self, featuresCol, labelCol, predictionCol, probabilityCol, rawPredictionCol, maxDepth, maxBins, minInstancesPerNode, minInfoGain, maxMemoryInMB, cacheNodeIds, checkpointInterval, impurity, numTrees, featureSubsetStrategy, seed, subsamplingRate, leafCol, minWeightFractionPerNode, weightCol, bootstrap)\u001b[0m\n\u001b[1;32m   2102\u001b[0m         \"\"\"\n\u001b[1;32m   2103\u001b[0m         \u001b[0msuper\u001b[0m\u001b[0;34m(\u001b[0m\u001b[0mRandomForestClassifier\u001b[0m\u001b[0;34m,\u001b[0m \u001b[0mself\u001b[0m\u001b[0;34m)\u001b[0m\u001b[0;34m.\u001b[0m\u001b[0m__init__\u001b[0m\u001b[0;34m(\u001b[0m\u001b[0;34m)\u001b[0m\u001b[0;34m\u001b[0m\u001b[0;34m\u001b[0m\u001b[0m\n\u001b[0;32m-> 2104\u001b[0;31m         self._java_obj = self._new_java_obj(\n\u001b[0m\u001b[1;32m   2105\u001b[0m             \u001b[0;34m\"org.apache.spark.ml.classification.RandomForestClassifier\"\u001b[0m\u001b[0;34m,\u001b[0m \u001b[0mself\u001b[0m\u001b[0;34m.\u001b[0m\u001b[0muid\u001b[0m\u001b[0;34m\u001b[0m\u001b[0;34m\u001b[0m\u001b[0m\n\u001b[1;32m   2106\u001b[0m         )\n",
            "\u001b[0;32m/usr/local/lib/python3.11/dist-packages/pyspark/ml/wrapper.py\u001b[0m in \u001b[0;36m_new_java_obj\u001b[0;34m(java_class, *args)\u001b[0m\n\u001b[1;32m     82\u001b[0m         \u001b[0mjava_obj\u001b[0m \u001b[0;34m=\u001b[0m \u001b[0m_jvm\u001b[0m\u001b[0;34m(\u001b[0m\u001b[0;34m)\u001b[0m\u001b[0;34m\u001b[0m\u001b[0;34m\u001b[0m\u001b[0m\n\u001b[1;32m     83\u001b[0m         \u001b[0;32mfor\u001b[0m \u001b[0mname\u001b[0m \u001b[0;32min\u001b[0m \u001b[0mjava_class\u001b[0m\u001b[0;34m.\u001b[0m\u001b[0msplit\u001b[0m\u001b[0;34m(\u001b[0m\u001b[0;34m\".\"\u001b[0m\u001b[0;34m)\u001b[0m\u001b[0;34m:\u001b[0m\u001b[0;34m\u001b[0m\u001b[0;34m\u001b[0m\u001b[0m\n\u001b[0;32m---> 84\u001b[0;31m             \u001b[0mjava_obj\u001b[0m \u001b[0;34m=\u001b[0m \u001b[0mgetattr\u001b[0m\u001b[0;34m(\u001b[0m\u001b[0mjava_obj\u001b[0m\u001b[0;34m,\u001b[0m \u001b[0mname\u001b[0m\u001b[0;34m)\u001b[0m\u001b[0;34m\u001b[0m\u001b[0;34m\u001b[0m\u001b[0m\n\u001b[0m\u001b[1;32m     85\u001b[0m         \u001b[0mjava_args\u001b[0m \u001b[0;34m=\u001b[0m \u001b[0;34m[\u001b[0m\u001b[0m_py2java\u001b[0m\u001b[0;34m(\u001b[0m\u001b[0msc\u001b[0m\u001b[0;34m,\u001b[0m \u001b[0marg\u001b[0m\u001b[0;34m)\u001b[0m \u001b[0;32mfor\u001b[0m \u001b[0marg\u001b[0m \u001b[0;32min\u001b[0m \u001b[0margs\u001b[0m\u001b[0;34m]\u001b[0m\u001b[0;34m\u001b[0m\u001b[0;34m\u001b[0m\u001b[0m\n\u001b[1;32m     86\u001b[0m         \u001b[0;32mreturn\u001b[0m \u001b[0mjava_obj\u001b[0m\u001b[0;34m(\u001b[0m\u001b[0;34m*\u001b[0m\u001b[0mjava_args\u001b[0m\u001b[0;34m)\u001b[0m\u001b[0;34m\u001b[0m\u001b[0;34m\u001b[0m\u001b[0m\n",
            "\u001b[0;32m/usr/local/lib/python3.11/dist-packages/py4j/java_gateway.py\u001b[0m in \u001b[0;36m__getattr__\u001b[0;34m(self, name)\u001b[0m\n\u001b[1;32m   1710\u001b[0m             \u001b[0;32mreturn\u001b[0m \u001b[0mUserHelpAutoCompletion\u001b[0m\u001b[0;34m(\u001b[0m\u001b[0;34m)\u001b[0m\u001b[0;34m\u001b[0m\u001b[0;34m\u001b[0m\u001b[0m\n\u001b[1;32m   1711\u001b[0m \u001b[0;34m\u001b[0m\u001b[0m\n\u001b[0;32m-> 1712\u001b[0;31m         answer = self._gateway_client.send_command(\n\u001b[0m\u001b[1;32m   1713\u001b[0m             \u001b[0mproto\u001b[0m\u001b[0;34m.\u001b[0m\u001b[0mREFLECTION_COMMAND_NAME\u001b[0m \u001b[0;34m+\u001b[0m\u001b[0;34m\u001b[0m\u001b[0;34m\u001b[0m\u001b[0m\n\u001b[1;32m   1714\u001b[0m             \u001b[0mproto\u001b[0m\u001b[0;34m.\u001b[0m\u001b[0mREFL_GET_UNKNOWN_SUB_COMMAND_NAME\u001b[0m \u001b[0;34m+\u001b[0m \u001b[0mname\u001b[0m \u001b[0;34m+\u001b[0m \u001b[0;34m\"\\n\"\u001b[0m \u001b[0;34m+\u001b[0m \u001b[0mself\u001b[0m\u001b[0;34m.\u001b[0m\u001b[0m_id\u001b[0m \u001b[0;34m+\u001b[0m\u001b[0;34m\u001b[0m\u001b[0;34m\u001b[0m\u001b[0m\n",
            "\u001b[0;32m/usr/local/lib/python3.11/dist-packages/py4j/java_gateway.py\u001b[0m in \u001b[0;36msend_command\u001b[0;34m(self, command, retry, binary)\u001b[0m\n\u001b[1;32m   1034\u001b[0m          \u001b[0;32mif\u001b[0m\u001b[0;31m \u001b[0m\u001b[0;31m`\u001b[0m\u001b[0mbinary\u001b[0m\u001b[0;31m`\u001b[0m \u001b[0;32mis\u001b[0m\u001b[0;31m \u001b[0m\u001b[0;31m`\u001b[0m\u001b[0;32mTrue\u001b[0m\u001b[0;31m`\u001b[0m\u001b[0;34m.\u001b[0m\u001b[0;34m\u001b[0m\u001b[0;34m\u001b[0m\u001b[0m\n\u001b[1;32m   1035\u001b[0m         \"\"\"\n\u001b[0;32m-> 1036\u001b[0;31m         \u001b[0mconnection\u001b[0m \u001b[0;34m=\u001b[0m \u001b[0mself\u001b[0m\u001b[0;34m.\u001b[0m\u001b[0m_get_connection\u001b[0m\u001b[0;34m(\u001b[0m\u001b[0;34m)\u001b[0m\u001b[0;34m\u001b[0m\u001b[0;34m\u001b[0m\u001b[0m\n\u001b[0m\u001b[1;32m   1037\u001b[0m         \u001b[0;32mtry\u001b[0m\u001b[0;34m:\u001b[0m\u001b[0;34m\u001b[0m\u001b[0;34m\u001b[0m\u001b[0m\n\u001b[1;32m   1038\u001b[0m             \u001b[0mresponse\u001b[0m \u001b[0;34m=\u001b[0m \u001b[0mconnection\u001b[0m\u001b[0;34m.\u001b[0m\u001b[0msend_command\u001b[0m\u001b[0;34m(\u001b[0m\u001b[0mcommand\u001b[0m\u001b[0;34m)\u001b[0m\u001b[0;34m\u001b[0m\u001b[0;34m\u001b[0m\u001b[0m\n",
            "\u001b[0;32m/usr/local/lib/python3.11/dist-packages/py4j/clientserver.py\u001b[0m in \u001b[0;36m_get_connection\u001b[0;34m(self)\u001b[0m\n\u001b[1;32m    282\u001b[0m \u001b[0;34m\u001b[0m\u001b[0m\n\u001b[1;32m    283\u001b[0m         \u001b[0;32mif\u001b[0m \u001b[0mconnection\u001b[0m \u001b[0;32mis\u001b[0m \u001b[0;32mNone\u001b[0m \u001b[0;32mor\u001b[0m \u001b[0mconnection\u001b[0m\u001b[0;34m.\u001b[0m\u001b[0msocket\u001b[0m \u001b[0;32mis\u001b[0m \u001b[0;32mNone\u001b[0m\u001b[0;34m:\u001b[0m\u001b[0;34m\u001b[0m\u001b[0;34m\u001b[0m\u001b[0m\n\u001b[0;32m--> 284\u001b[0;31m             \u001b[0mconnection\u001b[0m \u001b[0;34m=\u001b[0m \u001b[0mself\u001b[0m\u001b[0;34m.\u001b[0m\u001b[0m_create_new_connection\u001b[0m\u001b[0;34m(\u001b[0m\u001b[0;34m)\u001b[0m\u001b[0;34m\u001b[0m\u001b[0;34m\u001b[0m\u001b[0m\n\u001b[0m\u001b[1;32m    285\u001b[0m         \u001b[0;32mreturn\u001b[0m \u001b[0mconnection\u001b[0m\u001b[0;34m\u001b[0m\u001b[0;34m\u001b[0m\u001b[0m\n\u001b[1;32m    286\u001b[0m \u001b[0;34m\u001b[0m\u001b[0m\n",
            "\u001b[0;32m/usr/local/lib/python3.11/dist-packages/py4j/clientserver.py\u001b[0m in \u001b[0;36m_create_new_connection\u001b[0;34m(self)\u001b[0m\n\u001b[1;32m    289\u001b[0m             \u001b[0mself\u001b[0m\u001b[0;34m.\u001b[0m\u001b[0mjava_parameters\u001b[0m\u001b[0;34m,\u001b[0m \u001b[0mself\u001b[0m\u001b[0;34m.\u001b[0m\u001b[0mpython_parameters\u001b[0m\u001b[0;34m,\u001b[0m\u001b[0;34m\u001b[0m\u001b[0;34m\u001b[0m\u001b[0m\n\u001b[1;32m    290\u001b[0m             self.gateway_property, self)\n\u001b[0;32m--> 291\u001b[0;31m         \u001b[0mconnection\u001b[0m\u001b[0;34m.\u001b[0m\u001b[0mconnect_to_java_server\u001b[0m\u001b[0;34m(\u001b[0m\u001b[0;34m)\u001b[0m\u001b[0;34m\u001b[0m\u001b[0;34m\u001b[0m\u001b[0m\n\u001b[0m\u001b[1;32m    292\u001b[0m         \u001b[0mself\u001b[0m\u001b[0;34m.\u001b[0m\u001b[0mset_thread_connection\u001b[0m\u001b[0;34m(\u001b[0m\u001b[0mconnection\u001b[0m\u001b[0;34m)\u001b[0m\u001b[0;34m\u001b[0m\u001b[0;34m\u001b[0m\u001b[0m\n\u001b[1;32m    293\u001b[0m         \u001b[0;32mreturn\u001b[0m \u001b[0mconnection\u001b[0m\u001b[0;34m\u001b[0m\u001b[0;34m\u001b[0m\u001b[0m\n",
            "\u001b[0;32m/usr/local/lib/python3.11/dist-packages/py4j/clientserver.py\u001b[0m in \u001b[0;36mconnect_to_java_server\u001b[0;34m(self)\u001b[0m\n\u001b[1;32m    436\u001b[0m                 self.socket = self.ssl_context.wrap_socket(\n\u001b[1;32m    437\u001b[0m                     self.socket, server_hostname=self.java_address)\n\u001b[0;32m--> 438\u001b[0;31m             \u001b[0mself\u001b[0m\u001b[0;34m.\u001b[0m\u001b[0msocket\u001b[0m\u001b[0;34m.\u001b[0m\u001b[0mconnect\u001b[0m\u001b[0;34m(\u001b[0m\u001b[0;34m(\u001b[0m\u001b[0mself\u001b[0m\u001b[0;34m.\u001b[0m\u001b[0mjava_address\u001b[0m\u001b[0;34m,\u001b[0m \u001b[0mself\u001b[0m\u001b[0;34m.\u001b[0m\u001b[0mjava_port\u001b[0m\u001b[0;34m)\u001b[0m\u001b[0;34m)\u001b[0m\u001b[0;34m\u001b[0m\u001b[0;34m\u001b[0m\u001b[0m\n\u001b[0m\u001b[1;32m    439\u001b[0m             \u001b[0mself\u001b[0m\u001b[0;34m.\u001b[0m\u001b[0mstream\u001b[0m \u001b[0;34m=\u001b[0m \u001b[0mself\u001b[0m\u001b[0;34m.\u001b[0m\u001b[0msocket\u001b[0m\u001b[0;34m.\u001b[0m\u001b[0mmakefile\u001b[0m\u001b[0;34m(\u001b[0m\u001b[0;34m\"rb\"\u001b[0m\u001b[0;34m)\u001b[0m\u001b[0;34m\u001b[0m\u001b[0;34m\u001b[0m\u001b[0m\n\u001b[1;32m    440\u001b[0m             \u001b[0mself\u001b[0m\u001b[0;34m.\u001b[0m\u001b[0mis_connected\u001b[0m \u001b[0;34m=\u001b[0m \u001b[0;32mTrue\u001b[0m\u001b[0;34m\u001b[0m\u001b[0;34m\u001b[0m\u001b[0m\n",
            "\u001b[0;31mConnectionRefusedError\u001b[0m: [Errno 111] Connection refused"
          ]
        }
      ],
      "source": [
        "from pyspark.ml.classification import RandomForestClassifier\n",
        "from pyspark import StorageLevel\n",
        "\n",
        "rf = RandomForestClassifier(featuresCol=\"scaled_features\", labelCol=\"label\", numTrees=10, maxDepth=5)\n",
        "rf_model = rf.fit(train_df_scaled)\n",
        "\n",
        "# i get connection refused... will not be running again - took 3.5 hours to get here"
      ]
    },
    {
      "cell_type": "code",
      "execution_count": null,
      "metadata": {
        "id": "0SXUxg4XZwAa"
      },
      "outputs": [],
      "source": [
        "predictionsrf = rf_model.transform(test_df_scaled)\n",
        "predictionsrf.select(\"review\", \"label\", \"prediction\").show(10)"
      ]
    },
    {
      "cell_type": "code",
      "execution_count": null,
      "metadata": {
        "id": "u19jIikNZ0Pf"
      },
      "outputs": [],
      "source": [
        "# Model Evaluation\n",
        "evaluator = MulticlassClassificationEvaluator(labelCol=\"label\", predictionCol=\"prediction\", metricName=\"accuracy\")\n",
        "accuracyrf = evaluator.evaluate(predictionsrf)\n",
        "print(f\"Accuracy: {accuracyrf}\")"
      ]
    },
    {
      "cell_type": "code",
      "execution_count": null,
      "metadata": {
        "id": "s2N0VgyqZ80b"
      },
      "outputs": [],
      "source": [
        "# Display Predictions\n",
        "predictionsrf.select(\"review\", \"label\", \"prediction\").show(10)"
      ]
    },
    {
      "cell_type": "markdown",
      "metadata": {
        "id": "SaB0ay8NZZD4"
      },
      "source": [
        "MinmMax for NB"
      ]
    },
    {
      "cell_type": "code",
      "execution_count": null,
      "metadata": {
        "id": "6dXzB9aOYMsy"
      },
      "outputs": [],
      "source": [
        "from pyspark.ml.feature import MinMaxScaler\n",
        "\n",
        "scaler_minmax = MinMaxScaler(inputCol=\"features\", outputCol=\"scaled_features_minmax\")\n",
        "scaler_model_minmax = scaler_minmax.fit(train_df)\n",
        "train_df_minmax = scaler_model_minmax.transform(train_df)\n",
        "test_df_minmax = scaler_model_minmax.transform(test_df)"
      ]
    },
    {
      "cell_type": "code",
      "execution_count": null,
      "metadata": {
        "id": "-6cdkyCXh1CW"
      },
      "outputs": [],
      "source": [
        "from pyspark.ml.classification import NaiveBayes\n",
        "\n",
        "nb = NaiveBayes(featuresCol=\"scaled_features_minmax\", labelCol=\"label\", modelType=\"multinomial\")\n",
        "nb_model = nb.fit(train_df_minmax)"
      ]
    },
    {
      "cell_type": "code",
      "execution_count": null,
      "metadata": {
        "id": "qplw4XKUaIWq"
      },
      "outputs": [],
      "source": [
        "predictionsnb = nb_model.transform(test_df_minmax)\n",
        "predictionsnb.select(\"review\", \"label\", \"prediction\").show(10)"
      ]
    },
    {
      "cell_type": "code",
      "execution_count": null,
      "metadata": {
        "id": "-ZmFBaTkaI06"
      },
      "outputs": [],
      "source": [
        "# Model Evaluation\n",
        "evaluator = MulticlassClassificationEvaluator(labelCol=\"label\", predictionCol=\"prediction\", metricName=\"accuracy\")\n",
        "accuracynb = evaluator.evaluate(predictionsnb)\n",
        "print(f\"Accuracy: {accuracynb}\")"
      ]
    },
    {
      "cell_type": "code",
      "execution_count": null,
      "metadata": {
        "id": "sUbkd_EpaQP3"
      },
      "outputs": [],
      "source": [
        "# Display Predictions\n",
        "predictionsnb.select(\"review\", \"label\", \"prediction\").show(10)"
      ]
    },
    {
      "cell_type": "code",
      "execution_count": null,
      "metadata": {
        "id": "coeDhY6qbD8D"
      },
      "outputs": [],
      "source": []
    }
  ],
  "metadata": {
    "colab": {
      "provenance": []
    },
    "kernelspec": {
      "display_name": "Python [conda env:base] *",
      "language": "python",
      "name": "conda-base-py"
    },
    "language_info": {
      "codemirror_mode": {
        "name": "ipython",
        "version": 3
      },
      "file_extension": ".py",
      "mimetype": "text/x-python",
      "name": "python",
      "nbconvert_exporter": "python",
      "pygments_lexer": "ipython3",
      "version": "3.12.7"
    }
  },
  "nbformat": 4,
  "nbformat_minor": 0
}