{
  "cells": [
    {
      "cell_type": "markdown",
      "metadata": {
        "id": "IdjStboIRmXq"
      },
      "source": [
        "# Importing necessary libraries"
      ]
    },
    {
      "cell_type": "code",
      "execution_count": null,
      "metadata": {
        "id": "dPJprpLQRhk4"
      },
      "outputs": [],
      "source": [
        "import numpy as np\n",
        "import pandas as pd\n",
        "import matplotlib.pyplot as plt\n",
        "import kagglehub\n",
        "from itertools import chain\n",
        "\n",
        "from google.colab import drive\n",
        "\n",
        "from pyspark import SparkConf, SparkContext, StorageLevel\n",
        "from pyspark.sql import SparkSession, Row, functions as F\n",
        "from pyspark.sql import types as T\n",
        "from pyspark.sql.window import Window\n",
        "\n",
        "from pyspark.sql.functions import (\n",
        "    col, udf, when, expr, explode, row_number, collect_list, lit, concat_ws,\n",
        "    lower, regexp_replace, create_map, length, trim, sum, max as spark_max\n",
        ")\n",
        "from pyspark.sql.types import FloatType, StringType\n",
        "\n",
        "from pyspark.ml import Pipeline\n",
        "from pyspark.ml.feature import (\n",
        "    StringIndexer, VectorAssembler, Tokenizer, HashingTF, IDF,\n",
        "    StopWordsRemover, Normalizer, StandardScaler, MinMaxScaler\n",
        ")\n",
        "from pyspark.ml.linalg import Vectors, VectorUDT\n",
        "from pyspark.ml.recommendation import ALS, ALSModel\n",
        "from pyspark.ml.evaluation import RegressionEvaluator, MulticlassClassificationEvaluator\n",
        "from pyspark.ml.classification import (\n",
        "    RandomForestClassifier, DecisionTreeClassifier,\n",
        "    NaiveBayes, LogisticRegression\n",
        ")\n",
        "\n",
        "from vaderSentiment.vaderSentiment import SentimentIntensityAnalyzer"
      ]
    },
    {
      "cell_type": "markdown",
      "metadata": {
        "id": "7GcHYVq3NEMf"
      },
      "source": [
        "# Importing dataset"
      ]
    },
    {
      "cell_type": "code",
      "execution_count": null,
      "metadata": {
        "colab": {
          "base_uri": "https://localhost:8080/"
        },
        "id": "91q5S9OTMq1_",
        "outputId": "0dd52f8e-e2a0-4eaa-9f0b-84beec48e9c2"
      },
      "outputs": [
        {
          "output_type": "stream",
          "name": "stdout",
          "text": [
            "Downloading from https://www.kaggle.com/api/v1/datasets/download/najzeko/steam-reviews-2021?dataset_version_number=1...\n"
          ]
        },
        {
          "output_type": "stream",
          "name": "stderr",
          "text": [
            "100%|██████████| 2.97G/2.97G [00:35<00:00, 89.1MB/s]"
          ]
        },
        {
          "output_type": "stream",
          "name": "stdout",
          "text": [
            "Extracting files...\n"
          ]
        },
        {
          "output_type": "stream",
          "name": "stderr",
          "text": [
            "\n"
          ]
        },
        {
          "output_type": "stream",
          "name": "stdout",
          "text": [
            "Path to dataset files: /root/.cache/kagglehub/datasets/najzeko/steam-reviews-2021/versions/1\n"
          ]
        }
      ],
      "source": [
        "# Download latest version\n",
        "path = kagglehub.dataset_download(\"najzeko/steam-reviews-2021\")\n",
        "\n",
        "print(\"Path to dataset files:\", path)"
      ]
    },
    {
      "cell_type": "code",
      "execution_count": null,
      "metadata": {
        "id": "s8RYdfSPN0bZ",
        "scrolled": true
      },
      "outputs": [],
      "source": [
        "# Initialize Spark session\n",
        "spark = SparkSession.builder \\\n",
        "    .appName(\"Steam Reviews Analysis\") \\\n",
        "    .getOrCreate()"
      ]
    },
    {
      "cell_type": "code",
      "execution_count": null,
      "metadata": {
        "colab": {
          "base_uri": "https://localhost:8080/"
        },
        "id": "Pm0WiskGT_lv",
        "outputId": "1e669aad-ed9d-4601-bcba-0c6413be7d51",
        "scrolled": true
      },
      "outputs": [
        {
          "output_type": "stream",
          "name": "stdout",
          "text": [
            "+---+------+--------------------+---------+--------+----------------------------------+-----------------+-----------------+-----------+-------------+-----------+-------------------+-------------+--------------+-----------------+---------------------------+-----------------+----------------------+------------------+-----------------------+------------------------------+-------------------------+------------------+\n",
            "|_c0|app_id|            app_name|review_id|language|                            review|timestamp_created|timestamp_updated|recommended|votes_helpful|votes_funny|weighted_vote_score|comment_count|steam_purchase|received_for_free|written_during_early_access|   author.steamid|author.num_games_owned|author.num_reviews|author.playtime_forever|author.playtime_last_two_weeks|author.playtime_at_review|author.last_played|\n",
            "+---+------+--------------------+---------+--------+----------------------------------+-----------------+-----------------+-----------+-------------+-----------+-------------------+-------------+--------------+-----------------+---------------------------+-----------------+----------------------+------------------+-----------------------+------------------------------+-------------------------+------------------+\n",
            "|  0|292030|The Witcher 3: Wi...| 85185598|schinese|不玩此生遗憾，RPG游戏里的天花板...|       1611381629|       1611381629|       true|            0|          0|                0.0|            0|          true|            false|                      false|76561199095369542|                     6|                 2|                 1909.0|                        1448.0|                   1909.0|     1.611343383E9|\n",
            "|  1|292030|The Witcher 3: Wi...| 85185250|schinese|       拔DIAO无情打桩机--杰洛特!!!|       1611381030|       1611381030|       true|            0|          0|                0.0|            0|          true|            false|                      false|76561198949504115|                    30|                10|                 2764.0|                        2743.0|                   2674.0|     1.611386307E9|\n",
            "|  2|292030|The Witcher 3: Wi...| 85185111|schinese|                           巫师3NB|       1611380800|       1611380800|       true|            0|          0|                0.0|            0|          true|            false|                      false|76561199090098988|                     5|                 1|                 1061.0|                        1061.0|                   1060.0|     1.611383777E9|\n",
            "|  3|292030|The Witcher 3: Wi...| 85184605| english|              One of the best R...|       1611379970|       1611379970|       true|            0|          0|                0.0|            0|          true|            false|                      false|76561199054755373|                     5|                 3|                 5587.0|                        3200.0|                   5524.0|     1.611383744E9|\n",
            "|  4|292030|The Witcher 3: Wi...| 85184287|schinese|                              大作|       1611379427|       1611379427|       true|            0|          0|                0.0|            0|          true|            false|                      false|76561199028326951|                     7|                 4|                  217.0|                          42.0|                    217.0|     1.610788249E9|\n",
            "+---+------+--------------------+---------+--------+----------------------------------+-----------------+-----------------+-----------+-------------+-----------+-------------------+-------------+--------------+-----------------+---------------------------+-----------------+----------------------+------------------+-----------------------+------------------------------+-------------------------+------------------+\n",
            "only showing top 5 rows\n",
            "\n"
          ]
        }
      ],
      "source": [
        "# Path to the dataset folder\n",
        "dataset_path = \"/root/.cache/kagglehub/datasets/najzeko/steam-reviews-2021/versions/1\"\n",
        "\n",
        "# Identify the CSV file\n",
        "file_path = f\"{dataset_path}/steam_reviews.csv\"\n",
        "\n",
        "# Load the data into a PySpark DataFrame\n",
        "df = spark.read.csv(file_path, header=True, inferSchema=True, multiLine=True, escape='\"')\n",
        "\n",
        "# Show a sample of the data\n",
        "df.show(5)\n",
        "# \"schinese\" is \"simple chinese\", \"tchinese\" is \"traditional chinese\""
      ]
    },
    {
      "cell_type": "markdown",
      "metadata": {
        "id": "sdQx3a4br_tx"
      },
      "source": [
        "In the following analysis we take a sample of the dataset due to runtime errors we got, since our machines could not process the amount of the original dataset (21 million records). Our sample consists of only the English reviews, which are around 9 million, and is still considered to be a dataset suitable for Big Data."
      ]
    },
    {
      "cell_type": "code",
      "execution_count": null,
      "metadata": {
        "id": "DbXgJYr2VckQ"
      },
      "outputs": [],
      "source": [
        "# Count number of english reviews\n",
        "df.filter(df.language == \"english\").count()"
      ]
    },
    {
      "cell_type": "code",
      "execution_count": null,
      "metadata": {
        "id": "UeDoKHQrsvJg"
      },
      "outputs": [],
      "source": [
        "# create parquet with only engish reviews\n",
        "df.filter(df.language == \"english\").write.parquet(\"sample_df\", mode=\"overwrite\")"
      ]
    },
    {
      "cell_type": "code",
      "execution_count": null,
      "metadata": {
        "id": "SKMoSF52T_lv"
      },
      "outputs": [],
      "source": [
        "#sample_df = spark.read.parquet(\"/content/sample_df\")  #read the parquet\n",
        "sample_df = spark.read.parquet(\"sample_df.parquet\")  #read the parquet"
      ]
    },
    {
      "cell_type": "code",
      "execution_count": null,
      "metadata": {
        "id": "wu1g4mhx_U5s"
      },
      "outputs": [],
      "source": [
        "#create new column with the length of each review\n",
        "sample_df = sample_df.withColumn(\"review_length\", length(\"review\"))"
      ]
    },
    {
      "cell_type": "code",
      "execution_count": null,
      "metadata": {
        "colab": {
          "base_uri": "https://localhost:8080/"
        },
        "id": "zKcI_7pxT_lw",
        "outputId": "ba0f3447-c278-4b9a-edb0-261d823140d4"
      },
      "outputs": [
        {
          "output_type": "stream",
          "name": "stdout",
          "text": [
            "+---+------+--------------------+---------+--------+--------------------+-----------------+-----------------+-----------+-------------+-----------+-------------------+-------------+--------------+-----------------+---------------------------+-----------------+----------------------+------------------+-----------------------+------------------------------+-------------------------+------------------+-------------+\n",
            "|_c0|app_id|            app_name|review_id|language|              review|timestamp_created|timestamp_updated|recommended|votes_helpful|votes_funny|weighted_vote_score|comment_count|steam_purchase|received_for_free|written_during_early_access|   author.steamid|author.num_games_owned|author.num_reviews|author.playtime_forever|author.playtime_last_two_weeks|author.playtime_at_review|author.last_played|review_length|\n",
            "+---+------+--------------------+---------+--------+--------------------+-----------------+-----------------+-----------+-------------+-----------+-------------------+-------------+--------------+-----------------+---------------------------+-----------------+----------------------+------------------+-----------------------+------------------------------+-------------------------+------------------+-------------+\n",
            "|  3|292030|The Witcher 3: Wi...| 85184605| english|One of the best R...|       1611379970|       1611379970|       true|            0|          0|                0.0|            0|          true|            false|                      false|76561199054755373|                     5|                 3|                 5587.0|                        3200.0|                   5524.0|     1.611383744E9|           59|\n",
            "|  5|292030|The Witcher 3: Wi...| 85184171| english|good story, good ...|       1611379264|       1611379264|       true|            0|          0|                0.0|            0|          true|            false|                      false|76561198170193529|                    11|                 1|                  823.0|                         823.0|                    823.0|     1.611379201E9|           38|\n",
            "|  6|292030|The Witcher 3: Wi...| 85184064| english|            dis gud,|       1611379091|       1611379091|       true|            0|          0|                0.0|            0|          true|            false|                      false|76561198119302812|                    27|                 2|                 4192.0|                        3398.0|                   4192.0|     1.611351734E9|            8|\n",
            "| 18|292030|The Witcher 3: Wi...| 85180436| english|favorite game of ...|       1611373086|       1611373086|       true|            0|          0|                0.0|            0|          true|            false|                      false|76561198065591528|                    33|                 1|                23329.0|                         177.0|                  23329.0|     1.611219011E9|           59|\n",
            "| 20|292030|The Witcher 3: Wi...| 85179753| english|Why wouldn't you ...|       1611371978|       1611371978|       true|            0|          0|                0.0|            0|          true|            false|                      false|76561198996835044|                   131|                 2|                 8557.0|                        2004.0|                   8557.0|     1.611370967E9|           25|\n",
            "+---+------+--------------------+---------+--------+--------------------+-----------------+-----------------+-----------+-------------+-----------+-------------------+-------------+--------------+-----------------+---------------------------+-----------------+----------------------+------------------+-----------------------+------------------------------+-------------------------+------------------+-------------+\n",
            "only showing top 5 rows\n",
            "\n"
          ]
        }
      ],
      "source": [
        "# view first rows of the sample dataframe\n",
        "sample_df.show(5)"
      ]
    },
    {
      "cell_type": "code",
      "execution_count": null,
      "metadata": {
        "id": "DnraLy7WteLW"
      },
      "outputs": [],
      "source": [
        "# spark.catalog.clearCache() if PySpark cached an earlier version of the data and still reference outdated records"
      ]
    },
    {
      "cell_type": "markdown",
      "metadata": {
        "id": "-RI3URrstdl6"
      },
      "source": [
        "##  **Exploratory Data Analysis**"
      ]
    },
    {
      "cell_type": "code",
      "execution_count": null,
      "metadata": {
        "colab": {
          "base_uri": "https://localhost:8080/"
        },
        "id": "YIt6sUl4yIfJ",
        "outputId": "0764c619-26ac-4107-8fab-c652626330df"
      },
      "outputs": [
        {
          "output_type": "stream",
          "name": "stdout",
          "text": [
            "['_c0', 'app_id', 'app_name', 'review_id', 'language', 'review', 'timestamp_created', 'timestamp_updated', 'recommended', 'votes_helpful', 'votes_funny', 'weighted_vote_score', 'comment_count', 'steam_purchase', 'received_for_free', 'written_during_early_access', 'author_steamid', 'author_num_games_owned', 'author_num_reviews', 'author_playtime_forever', 'author_playtime_last_two_weeks', 'author_playtime_at_review', 'author_last_played', 'review_length']\n"
          ]
        }
      ],
      "source": [
        "# Rename the columns that have \".\" since we have errors in accessing them with their original name\n",
        "sample_df = sample_df.withColumnRenamed(\"author.steamid\", \"author_steamid\") \\\n",
        "                     .withColumnRenamed(\"author.num_games_owned\", \"author_num_games_owned\") \\\n",
        "                     .withColumnRenamed(\"author.num_reviews\", \"author_num_reviews\") \\\n",
        "                     .withColumnRenamed(\"author.playtime_forever\", \"author_playtime_forever\") \\\n",
        "                     .withColumnRenamed(\"author.playtime_last_two_weeks\", \"author_playtime_last_two_weeks\") \\\n",
        "                     .withColumnRenamed(\"author.playtime_at_review\", \"author_playtime_at_review\") \\\n",
        "                     .withColumnRenamed(\"author.last_played\", \"author_last_played\")\n",
        "\n",
        "# Print the new column names\n",
        "print(sample_df.columns)"
      ]
    },
    {
      "cell_type": "markdown",
      "metadata": {
        "id": "dua3Rd59Ou_I"
      },
      "source": [
        "We observed that certain columns are not informative for our objective, therefore we decided to keep only the relevant features."
      ]
    },
    {
      "cell_type": "code",
      "execution_count": null,
      "metadata": {
        "id": "NHqXb6NTfdJ-"
      },
      "outputs": [],
      "source": [
        "# Keep only the relevant features\n",
        "sample_df = sample_df.select(\"_c0\",\"app_id\",\"app_name\",\"review_id\",\"review\",\"recommended\",\"votes_helpful\",\"steam_purchase\",\"received_for_free\",\"written_during_early_access\",\"author_steamid\", \"author_num_games_owned\", \"author_num_reviews\", \"author_playtime_forever\", \"author_playtime_at_review\", \"review_length\")"
      ]
    },
    {
      "cell_type": "markdown",
      "metadata": {
        "id": "GZrHVhclPC1a"
      },
      "source": [
        "View the first records of our dataset to understand the data that we have."
      ]
    },
    {
      "cell_type": "code",
      "execution_count": null,
      "metadata": {
        "colab": {
          "base_uri": "https://localhost:8080/"
        },
        "id": "XYOMUkQNtScu",
        "outputId": "cd65454b-4193-4959-c679-f8a5b4f15f61"
      },
      "outputs": [
        {
          "output_type": "stream",
          "name": "stdout",
          "text": [
            "+---+------+--------------------+---------+--------------------+-----------+-------------+--------------+-----------------+---------------------------+-----------------+----------------------+------------------+-----------------------+-------------------------+-------------+\n",
            "|_c0|app_id|            app_name|review_id|              review|recommended|votes_helpful|steam_purchase|received_for_free|written_during_early_access|   author_steamid|author_num_games_owned|author_num_reviews|author_playtime_forever|author_playtime_at_review|review_length|\n",
            "+---+------+--------------------+---------+--------------------+-----------+-------------+--------------+-----------------+---------------------------+-----------------+----------------------+------------------+-----------------------+-------------------------+-------------+\n",
            "|  3|292030|The Witcher 3: Wi...| 85184605|One of the best R...|       true|            0|          true|            false|                      false|76561199054755373|                     5|                 3|                 5587.0|                   5524.0|           59|\n",
            "|  5|292030|The Witcher 3: Wi...| 85184171|good story, good ...|       true|            0|          true|            false|                      false|76561198170193529|                    11|                 1|                  823.0|                    823.0|           38|\n",
            "|  6|292030|The Witcher 3: Wi...| 85184064|            dis gud,|       true|            0|          true|            false|                      false|76561198119302812|                    27|                 2|                 4192.0|                   4192.0|            8|\n",
            "| 18|292030|The Witcher 3: Wi...| 85180436|favorite game of ...|       true|            0|          true|            false|                      false|76561198065591528|                    33|                 1|                23329.0|                  23329.0|           59|\n",
            "| 20|292030|The Witcher 3: Wi...| 85179753|Why wouldn't you ...|       true|            0|          true|            false|                      false|76561198996835044|                   131|                 2|                 8557.0|                   8557.0|           25|\n",
            "+---+------+--------------------+---------+--------------------+-----------+-------------+--------------+-----------------+---------------------------+-----------------+----------------------+------------------+-----------------------+-------------------------+-------------+\n",
            "only showing top 5 rows\n",
            "\n"
          ]
        }
      ],
      "source": [
        "sample_df.show(5)"
      ]
    },
    {
      "cell_type": "markdown",
      "metadata": {
        "id": "EseQ-SXBfxEJ"
      },
      "source": [
        "Checking for null values and removing them."
      ]
    },
    {
      "cell_type": "code",
      "execution_count": null,
      "metadata": {
        "colab": {
          "base_uri": "https://localhost:8080/"
        },
        "id": "OzblaGK0f04a",
        "outputId": "e7404782-6958-48cd-aed0-1ff822842968"
      },
      "outputs": [
        {
          "output_type": "stream",
          "name": "stdout",
          "text": [
            "+---+------+--------+---------+------+-----------+-------------+--------------+-----------------+---------------------------+--------------+----------------------+------------------+-----------------------+-------------------------+-------------+\n",
            "|_c0|app_id|app_name|review_id|review|recommended|votes_helpful|steam_purchase|received_for_free|written_during_early_access|author_steamid|author_num_games_owned|author_num_reviews|author_playtime_forever|author_playtime_at_review|review_length|\n",
            "+---+------+--------+---------+------+-----------+-------------+--------------+-----------------+---------------------------+--------------+----------------------+------------------+-----------------------+-------------------------+-------------+\n",
            "|  0|     0|       0|        0| 16750|          0|            0|             0|                0|                          0|             0|                     0|                 0|                      2|                    11847|        16750|\n",
            "+---+------+--------+---------+------+-----------+-------------+--------------+-----------------+---------------------------+--------------+----------------------+------------------+-----------------------+-------------------------+-------------+\n",
            "\n"
          ]
        }
      ],
      "source": [
        "# Count nulls in each column\n",
        "null_counts = sample_df.select([sum(col(c).isNull().cast(\"int\")).alias(c) for c in sample_df.columns])\n",
        "\n",
        "# Display null counts for each column\n",
        "null_counts.show()"
      ]
    },
    {
      "cell_type": "code",
      "execution_count": null,
      "metadata": {
        "id": "V74fdrpEf2bV"
      },
      "outputs": [],
      "source": [
        "# Drop rows with null values in any column\n",
        "sample_df = sample_df.na.drop()"
      ]
    },
    {
      "cell_type": "code",
      "execution_count": null,
      "metadata": {
        "colab": {
          "base_uri": "https://localhost:8080/"
        },
        "id": "xMWk8QArf65l",
        "outputId": "fe16126a-c56b-4906-e4f2-fc659ee9c760"
      },
      "outputs": [
        {
          "output_type": "stream",
          "name": "stdout",
          "text": [
            "+---+------+--------+---------+------+-----------+-------------+--------------+-----------------+---------------------------+--------------+----------------------+------------------+-----------------------+-------------------------+-------------+\n",
            "|_c0|app_id|app_name|review_id|review|recommended|votes_helpful|steam_purchase|received_for_free|written_during_early_access|author_steamid|author_num_games_owned|author_num_reviews|author_playtime_forever|author_playtime_at_review|review_length|\n",
            "+---+------+--------+---------+------+-----------+-------------+--------------+-----------------+---------------------------+--------------+----------------------+------------------+-----------------------+-------------------------+-------------+\n",
            "|  0|     0|       0|        0|     0|          0|            0|             0|                0|                          0|             0|                     0|                 0|                      0|                        0|            0|\n",
            "+---+------+--------+---------+------+-----------+-------------+--------------+-----------------+---------------------------+--------------+----------------------+------------------+-----------------------+-------------------------+-------------+\n",
            "\n"
          ]
        }
      ],
      "source": [
        "# Verify no nulls remain\n",
        "sample_df.select([sum(col(c).isNull().cast(\"int\")).alias(c) for c in sample_df.columns]).show()"
      ]
    },
    {
      "cell_type": "markdown",
      "metadata": {
        "id": "v-2x4BDmPO4F"
      },
      "source": [
        "Calculate summary statistics regarding the time (in minutes) that users played the game at the moment of writing their review. Using those, we will categorize users into three main categories, according to whether they have played for little, medium, or much time."
      ]
    },
    {
      "cell_type": "code",
      "execution_count": null,
      "metadata": {
        "colab": {
          "base_uri": "https://localhost:8080/"
        },
        "id": "SIqGj4QXAKcr",
        "outputId": "b0e0865f-23ff-48cf-9ab3-1be90cd2274f"
      },
      "outputs": [
        {
          "output_type": "stream",
          "name": "stdout",
          "text": [
            "+-------+-------------------------+\n",
            "|summary|author_playtime_at_review|\n",
            "+-------+-------------------------+\n",
            "|  count|                  9606842|\n",
            "|   mean|        9143.312766567828|\n",
            "| stddev|        26478.30080684629|\n",
            "|    min|                      1.0|\n",
            "|    max|                3228103.0|\n",
            "+-------+-------------------------+\n",
            "\n"
          ]
        }
      ],
      "source": [
        " #basic stats of column\n",
        "sample_df.select(\"author_playtime_at_review\").describe().show()"
      ]
    },
    {
      "cell_type": "markdown",
      "metadata": {
        "id": "RCAhiV7vP-tI"
      },
      "source": [
        "Similarly, we calculate summary statistics regarding the total playtime of users and we will categorize them into three categories according to the amount of time they played games in total."
      ]
    },
    {
      "cell_type": "code",
      "execution_count": null,
      "metadata": {
        "colab": {
          "base_uri": "https://localhost:8080/"
        },
        "id": "NpCot9UwD5AF",
        "outputId": "cb52d652-ffd6-49c4-9187-8a28f92f94c3"
      },
      "outputs": [
        {
          "output_type": "stream",
          "name": "stdout",
          "text": [
            "+-------+-----------------------+\n",
            "|summary|author_playtime_forever|\n",
            "+-------+-----------------------+\n",
            "|  count|                9606842|\n",
            "|   mean|     16371.968813997357|\n",
            "| stddev|      40908.99046628258|\n",
            "|    min|                    0.0|\n",
            "|    max|              3744943.0|\n",
            "+-------+-----------------------+\n",
            "\n"
          ]
        }
      ],
      "source": [
        "sample_df.select(\"author_playtime_forever\").describe().show()   #basic stats of column"
      ]
    },
    {
      "cell_type": "code",
      "execution_count": null,
      "metadata": {
        "id": "JSQca78VB2JJ"
      },
      "outputs": [],
      "source": [
        "# Create new columns for playtime categories low medium and high for author playtimes\n",
        "sample_df = sample_df.withColumn(\n",
        "    \"playtime_category\",\n",
        "    when(col(\"author_playtime_at_review\") < 5000, \"Low\")\n",
        "    .when((col(\"author_playtime_at_review\") >= 5000) & (col(\"author_playtime_at_review\") < 20000), \"Medium\")\n",
        "    .otherwise(\"High\")\n",
        ")\n",
        "\n",
        "sample_df = sample_df.withColumn(\n",
        "    \"playtime_forever_category\",\n",
        "    when(col(\"author_playtime_forever\") < 5000, \"Low\")\n",
        "    .when((col(\"author_playtime_forever\") >= 5000) & (col(\"author_playtime_forever\") < 20000), \"Medium\")\n",
        "    .otherwise(\"High\")\n",
        ")"
      ]
    },
    {
      "cell_type": "markdown",
      "metadata": {
        "id": "KL1H87lhQQor"
      },
      "source": [
        "Use the aforementioned categories to visualize the number of users in each category, using barplots."
      ]
    },
    {
      "cell_type": "code",
      "execution_count": null,
      "metadata": {
        "colab": {
          "base_uri": "https://localhost:8080/",
          "height": 490
        },
        "id": "0dsN419rCyhv",
        "outputId": "8dee9dcb-6160-43c1-d1f9-0260f6844ea3"
      },
      "outputs": [
        {
          "output_type": "display_data",
          "data": {
            "text/plain": [
              "<Figure size 800x500 with 0 Axes>"
            ]
          },
          "metadata": {}
        },
        {
          "output_type": "display_data",
          "data": {
            "text/plain": [
              "<Figure size 640x480 with 1 Axes>"
            ],
            "image/png": "[encoded data removed]"
          },
          "metadata": {}
        }
      ],
      "source": [
        "# Count occurrences of each category using PySpark\n",
        "category_counts_spark = sample_df.groupBy(\"playtime_category\").count()\n",
        "\n",
        "# Convert the result to Pandas - after the aggregations for better efficiency\n",
        "category_counts_pandas = category_counts_spark.toPandas()\n",
        "\n",
        "# Plot bar chart\n",
        "plt.figure(figsize=(8, 5))\n",
        "category_counts_pandas.plot(kind=\"bar\", color=[\"#7C6E7F\", \"#FF9999\", \"#99CCFF\"])\n",
        "plt.title(\"Distribution of Playtime Categories\")\n",
        "plt.xlabel(\"Playtime Category\")\n",
        "plt.ylabel(\"Count\")\n",
        "plt.xticks(rotation=0)\n",
        "plt.grid(axis=\"y\", linestyle=\"--\", alpha=0.7)\n",
        "\n",
        "# Show plot\n",
        "plt.show()"
      ]
    },
    {
      "cell_type": "code",
      "execution_count": null,
      "metadata": {
        "colab": {
          "base_uri": "https://localhost:8080/",
          "height": 490
        },
        "id": "W9rJG8s6FXF1",
        "outputId": "973d0f7a-a2a5-493f-878e-51bdd5c6ace2"
      },
      "outputs": [
        {
          "output_type": "display_data",
          "data": {
            "text/plain": [
              "<Figure size 800x500 with 0 Axes>"
            ]
          },
          "metadata": {}
        },
        {
          "output_type": "display_data",
          "data": {
            "text/plain": [
              "<Figure size 640x480 with 1 Axes>"
            ],
            "image/png": "[encoded data removed]"
          },
          "metadata": {}
        }
      ],
      "source": [
        "# Count occurrences using PySpark\n",
        "category_counts_forever_spark = sample_df.groupBy(\"playtime_forever_category\").count()\n",
        "\n",
        "# Convert to Pandas\n",
        "category_counts_forever = category_counts_forever_spark.toPandas()\n",
        "\n",
        "# Optional: Set index and sort to mimic value_counts() in Pandas\n",
        "#category_counts_forever = category_counts_forever.set_index(\"playtime_forever_category\").sort_values(\"count\", ascending=False)\n",
        "\n",
        "\n",
        "# Plot bar chart\n",
        "plt.figure(figsize=(8, 5))\n",
        "category_counts_forever.plot(kind=\"bar\", color=[\"#7C6E7F\", \"#FF9999\", \"#99CCFF\"])\n",
        "plt.title(\"Distribution of Total Playtime Categories\")\n",
        "plt.xlabel(\"Total Playtime Category\")\n",
        "plt.ylabel(\"Count\")\n",
        "plt.xticks(rotation=0)\n",
        "plt.grid(axis=\"y\", linestyle=\"--\", alpha=0.7)\n",
        "\n",
        "# Show plot\n",
        "plt.show()"
      ]
    },
    {
      "cell_type": "markdown",
      "metadata": {
        "id": "LbWSnV1vRydA"
      },
      "source": [
        "Check all the unique games in the reviews."
      ]
    },
    {
      "cell_type": "code",
      "execution_count": null,
      "metadata": {
        "colab": {
          "base_uri": "https://localhost:8080/"
        },
        "id": "l0rBEb-20OjJ",
        "outputId": "1c7b1315-5693-4555-a30b-390859a5226f"
      },
      "outputs": [
        {
          "output_type": "stream",
          "name": "stdout",
          "text": [
            "+--------------------+\n",
            "|            app_name|\n",
            "+--------------------+\n",
            "|The Witcher 3: Wi...|\n",
            "|    Dead by Daylight|\n",
            "|Sid Meier's Civil...|\n",
            "|            Portal 2|\n",
            "|           Half-Life|\n",
            "|Half-Life 2: Epis...|\n",
            "|         Garry's Mod|\n",
            "|           X Rebirth|\n",
            "|Sid Meier's Civil...|\n",
            "|Counter-Strike: S...|\n",
            "|    Human: Fall Flat|\n",
            "|      Umbrella Corps|\n",
            "|Pogostuck: Rage W...|\n",
            "|Momodora: Reverie...|\n",
            "|         Down To One|\n",
            "|                20XX|\n",
            "|         Cold Waters|\n",
            "|            NBA 2K18|\n",
            "|      Super Meat Boy|\n",
            "|            Identity|\n",
            "+--------------------+\n",
            "only showing top 20 rows\n",
            "\n"
          ]
        }
      ],
      "source": [
        "sample_df.select(\"app_name\").distinct().show()"
      ]
    },
    {
      "cell_type": "code",
      "execution_count": null,
      "metadata": {
        "colab": {
          "base_uri": "https://localhost:8080/"
        },
        "id": "6ftJo2EM0PMU",
        "outputId": "ad92390a-67eb-4987-c313-d6bd0ddf97c7"
      },
      "outputs": [
        {
          "output_type": "stream",
          "name": "stdout",
          "text": [
            "+--------------------+------+\n",
            "|            app_name| count|\n",
            "+--------------------+------+\n",
            "|Tom Clancy's Rain...|370120|\n",
            "|            Terraria|369444|\n",
            "|         Garry's Mod|330738|\n",
            "|  Grand Theft Auto V|318809|\n",
            "|PLAYERUNKNOWN'S B...|317529|\n",
            "|            Among Us|294755|\n",
            "|                Rust|283140|\n",
            "|       Rocket League|248067|\n",
            "|            PAYDAY 2|186532|\n",
            "|ARK: Survival Evo...|183892|\n",
            "|      Stardew Valley|172208|\n",
            "|The Elder Scrolls...|159849|\n",
            "|The Witcher 3: Wi...|151121|\n",
            "|    Dead by Daylight|143613|\n",
            "|           Fallout 4|138737|\n",
            "|        Phasmophobia|129364|\n",
            "|        No Man's Sky|116023|\n",
            "|       Hollow Knight|109372|\n",
            "|            Portal 2|106638|\n",
            "|Sid Meier's Civil...|103931|\n",
            "+--------------------+------+\n",
            "only showing top 20 rows\n",
            "\n"
          ]
        }
      ],
      "source": [
        "#sort in desc order to find apps with many reviews\n",
        "sample_df.groupBy(\"app_name\").count().sort(col(\"count\").desc()).show()"
      ]
    },
    {
      "cell_type": "code",
      "execution_count": null,
      "metadata": {
        "colab": {
          "base_uri": "https://localhost:8080/",
          "height": 70
        },
        "id": "hmQAUfy1gdOK",
        "outputId": "608f9a8c-b156-46d5-f9a2-47faa40262a7"
      },
      "outputs": [
        {
          "output_type": "execute_result",
          "data": {
            "text/plain": [
              "'\\n# Convert Spark DataFrame to Pandas DataFrame\\npandas_df = sample_df.groupBy(\"app_name\").count().toPandas()\\n\\nplt.figure(figsize=(12, 6))\\nplt.bar(pandas_df[\\'app_name\\'].astype(str), pandas_df[\\'count\\'])\\nplt.xticks(rotation=90)\\nplt.xlabel(\"App Name\")\\nplt.ylabel(\"Count\")\\nplt.title(\"App Name Counts Distribution\")\\nplt.tight_layout()\\nplt.show()\\n'"
            ],
            "application/vnd.google.colaboratory.intrinsic+json": {
              "type": "string"
            }
          },
          "metadata": {},
          "execution_count": 1
        }
      ],
      "source": [
        "#The following plot is not very interpretable, due to the large number of app names\n",
        "'''\n",
        "# Convert Spark DataFrame to Pandas DataFrame\n",
        "pandas_df = sample_df.groupBy(\"app_name\").count().toPandas()\n",
        "\n",
        "plt.figure(figsize=(12, 6))\n",
        "plt.bar(pandas_df['app_name'].astype(str), pandas_df['count'])\n",
        "plt.xticks(rotation=90)\n",
        "plt.xlabel(\"App Name\")\n",
        "plt.ylabel(\"Count\")\n",
        "plt.title(\"App Name Counts Distribution\")\n",
        "plt.tight_layout()\n",
        "plt.show()\n",
        "'''"
      ]
    },
    {
      "cell_type": "markdown",
      "metadata": {
        "id": "Wik0AbDySK5c"
      },
      "source": [
        "See how many users have purchased the app through Steam."
      ]
    },
    {
      "cell_type": "code",
      "execution_count": null,
      "metadata": {
        "colab": {
          "base_uri": "https://localhost:8080/"
        },
        "id": "D0iHT-Zl0PdG",
        "outputId": "ea4e6c33-48a9-4ab6-dc24-2cc367689cfb"
      },
      "outputs": [
        {
          "output_type": "stream",
          "name": "stdout",
          "text": [
            "+--------------+-------+\n",
            "|steam_purchase|  count|\n",
            "+--------------+-------+\n",
            "|          true|7421733|\n",
            "|         false|2185109|\n",
            "+--------------+-------+\n",
            "\n"
          ]
        }
      ],
      "source": [
        "sample_df.groupBy(\"steam_purchase\").count().show()"
      ]
    },
    {
      "cell_type": "code",
      "execution_count": null,
      "metadata": {
        "colab": {
          "base_uri": "https://localhost:8080/",
          "height": 490
        },
        "id": "AX4sXXR-lEa8",
        "outputId": "5601cdc0-077c-4979-8b91-a6ecc421f2f0"
      },
      "outputs": [
        {
          "output_type": "display_data",
          "data": {
            "text/plain": [
              "<Figure size 1200x600 with 1 Axes>"
            ],
            "image/png": "[encoded data removed]"
          },
          "metadata": {}
        }
      ],
      "source": [
        "# Convert Spark DataFrame to Pandas DataFrame to plot distribution of steam purchase\n",
        "pandas_df = sample_df.groupBy(\"steam_purchase\").count().toPandas()\n",
        "\n",
        "plt.figure(figsize=(12, 6))\n",
        "plt.bar(pandas_df['steam_purchase'].astype(str), pandas_df['count'])\n",
        "plt.xticks(rotation=90)\n",
        "plt.xlabel(\"steam_purchase\")\n",
        "plt.ylabel(\"Count\")\n",
        "plt.title(\"steam_purchase Counts Distribution\")\n",
        "plt.tight_layout()\n",
        "plt.show()\n"
      ]
    },
    {
      "cell_type": "code",
      "execution_count": null,
      "metadata": {
        "colab": {
          "base_uri": "https://localhost:8080/",
          "height": 490
        },
        "id": "ku_ODOS5gb9F",
        "outputId": "cfadda90-56a9-4f50-ec9e-78512f88d0a6"
      },
      "outputs": [
        {
          "output_type": "display_data",
          "data": {
            "text/plain": [
              "<Figure size 1200x600 with 1 Axes>"
            ],
            "image/png": "[encoded data removed]"
          },
          "metadata": {}
        }
      ],
      "source": [
        "# Convert Spark DataFrame to Pandas DataFrame to plot distirbution of recommended col\n",
        "pandas_df = sample_df.groupBy(\"recommended\").count().toPandas()\n",
        "\n",
        "plt.figure(figsize=(12, 6))\n",
        "plt.bar(pandas_df['recommended'].astype(str), pandas_df['count'])\n",
        "plt.xticks(rotation=90)\n",
        "plt.xlabel(\"recommended\")\n",
        "plt.ylabel(\"Count\")\n",
        "plt.title(\"recommended Counts Distribution\")\n",
        "plt.tight_layout()\n",
        "plt.show()\n",
        "\n",
        "\n",
        "#we observe here that most reviews are positive - meaning they would recommend the app to other users"
      ]
    },
    {
      "cell_type": "markdown",
      "metadata": {
        "id": "vmmR-J-sShap"
      },
      "source": [
        "Check how many users have received the app for free."
      ]
    },
    {
      "cell_type": "code",
      "execution_count": null,
      "metadata": {
        "colab": {
          "base_uri": "https://localhost:8080/"
        },
        "id": "rHPsBhs20Pjy",
        "outputId": "368b9fc5-061e-46d9-e6fe-f8b3c31eedc9"
      },
      "outputs": [
        {
          "output_type": "stream",
          "name": "stdout",
          "text": [
            "+-----------------+-------+\n",
            "|received_for_free|  count|\n",
            "+-----------------+-------+\n",
            "|             true| 278731|\n",
            "|            false|9328111|\n",
            "+-----------------+-------+\n",
            "\n"
          ]
        }
      ],
      "source": [
        "sample_df.groupBy(\"received_for_free\").count().show()"
      ]
    },
    {
      "cell_type": "code",
      "execution_count": null,
      "metadata": {
        "colab": {
          "base_uri": "https://localhost:8080/",
          "height": 490
        },
        "id": "OX6jkJh8lU6D",
        "outputId": "55e49235-f5f5-4a3c-8018-c28900ce1e09"
      },
      "outputs": [
        {
          "output_type": "display_data",
          "data": {
            "text/plain": [
              "<Figure size 1200x600 with 1 Axes>"
            ],
            "image/png": "[encoded data removed]"
          },
          "metadata": {}
        }
      ],
      "source": [
        "# Convert Spark DataFrame to Pandas DataFrame to plot distribution of recieved for free\n",
        "pandas_df = sample_df.groupBy(\"received_for_free\").count().toPandas()\n",
        "\n",
        "plt.figure(figsize=(12, 6))\n",
        "plt.bar(pandas_df['received_for_free'].astype(str), pandas_df['count'])\n",
        "plt.xticks(rotation=90)\n",
        "plt.xlabel(\"received_for_free\")\n",
        "plt.ylabel(\"Count\")\n",
        "plt.title(\"received_for_free Counts Distribution\")\n",
        "plt.tight_layout()\n",
        "plt.show()\n",
        "\n",
        "#most users did not receive the app for free"
      ]
    },
    {
      "cell_type": "markdown",
      "metadata": {
        "id": "EGW1rIA8Soxe"
      },
      "source": [
        "Check how many reiviews are written by users that purchased their app before the official release (early access)."
      ]
    },
    {
      "cell_type": "code",
      "execution_count": null,
      "metadata": {
        "colab": {
          "base_uri": "https://localhost:8080/"
        },
        "id": "NbdNX67x2YNS",
        "outputId": "a82df193-492e-44ba-ddc3-4170b3ab6b48"
      },
      "outputs": [
        {
          "output_type": "stream",
          "name": "stdout",
          "text": [
            "+---------------------------+-------+\n",
            "|written_during_early_access|  count|\n",
            "+---------------------------+-------+\n",
            "|                      false|8650199|\n",
            "|                       true| 956643|\n",
            "+---------------------------+-------+\n",
            "\n"
          ]
        }
      ],
      "source": [
        "sample_df.groupBy(\"written_during_early_access\").count().show()"
      ]
    },
    {
      "cell_type": "code",
      "execution_count": null,
      "metadata": {
        "colab": {
          "base_uri": "https://localhost:8080/",
          "height": 490
        },
        "id": "qV5E45pWlZ24",
        "outputId": "6f4c5016-f784-4974-e08c-5f62be3163f9"
      },
      "outputs": [
        {
          "output_type": "display_data",
          "data": {
            "text/plain": [
              "<Figure size 1200x600 with 1 Axes>"
            ],
            "image/png": "[encoded data removed]"
          },
          "metadata": {}
        }
      ],
      "source": [
        "# Convert Spark DataFrame to Pandas DataFrame to plot distribution of written during early access\n",
        "pandas_df = sample_df.groupBy(\"written_during_early_access\").count().toPandas()\n",
        "\n",
        "plt.figure(figsize=(12, 6))\n",
        "plt.bar(pandas_df['written_during_early_access'].astype(str), pandas_df['count'])\n",
        "plt.xticks(rotation=90)\n",
        "plt.xlabel(\"written_during_early_access\")\n",
        "plt.ylabel(\"Count\")\n",
        "plt.title(\"written_during_early_access Counts Distribution\")\n",
        "plt.tight_layout()\n",
        "plt.show()\n"
      ]
    },
    {
      "cell_type": "code",
      "execution_count": null,
      "metadata": {
        "colab": {
          "base_uri": "https://localhost:8080/"
        },
        "id": "ofw-D9lK2YeN",
        "outputId": "ac8211a4-9e1c-4cc0-bc7f-c10280b68586"
      },
      "outputs": [
        {
          "output_type": "stream",
          "name": "stdout",
          "text": [
            "+-----------------+-----+\n",
            "|   author_steamid|count|\n",
            "+-----------------+-----+\n",
            "|76561198062813911|  149|\n",
            "|76561198315585536|  132|\n",
            "|76561198045381877|  103|\n",
            "|76561198064946151|  100|\n",
            "|76561197969749884|   88|\n",
            "|76561197997059777|   81|\n",
            "|76561197990947284|   80|\n",
            "|76561198048086581|   79|\n",
            "|76561197999920602|   79|\n",
            "|76561198166188807|   79|\n",
            "|76561197970761123|   78|\n",
            "|76561198011965365|   78|\n",
            "|76561198038757354|   77|\n",
            "|76561198112669681|   76|\n",
            "|76561198094803808|   75|\n",
            "|76561197986406741|   72|\n",
            "|76561197999935168|   72|\n",
            "|76561198057221241|   71|\n",
            "|76561198266073876|   71|\n",
            "|76561198082610824|   70|\n",
            "+-----------------+-----+\n",
            "only showing top 20 rows\n",
            "\n"
          ]
        }
      ],
      "source": [
        "sample_df.groupBy(\"author_steamid\").count().sort(col(\"count\").desc()).show()   #sort in descending order to see the most frequent reviewers!"
      ]
    },
    {
      "cell_type": "markdown",
      "metadata": {
        "id": "lkjSBB3GyBRl"
      },
      "source": [
        "# Bivariate analysis"
      ]
    },
    {
      "cell_type": "markdown",
      "metadata": {
        "id": "GdS5-Uzy6yoU"
      },
      "source": [
        "We want to check if a user is more likely to recommend an app if they receive it for free"
      ]
    },
    {
      "cell_type": "code",
      "execution_count": null,
      "metadata": {
        "colab": {
          "base_uri": "https://localhost:8080/"
        },
        "id": "Xg-gCvP72Yih",
        "outputId": "94521676-f63c-4425-a89d-7f32f3855d00"
      },
      "outputs": [
        {
          "output_type": "stream",
          "name": "stdout",
          "text": [
            "+-----------------+-------------+------------------+----------------------+\n",
            "|received_for_free|Total Reviews|Recommended (True)|Proportion Recommended|\n",
            "+-----------------+-------------+------------------+----------------------+\n",
            "|             true|       688061|            611033|    0.8880506234185632|\n",
            "|            false|     21059310|          18411577|    0.8742725663851285|\n",
            "+-----------------+-------------+------------------+----------------------+\n",
            "\n"
          ]
        }
      ],
      "source": [
        "# Calculate total reviews and recommended true counts\n",
        "pivot_table = df.groupBy('received_for_free').agg(\n",
        "    {'recommended': 'count'}\n",
        ").withColumnRenamed('count(recommended)', 'Total Reviews')\n",
        "\n",
        "recommended_true = df.filter(df['recommended'] == True).groupBy('received_for_free').count().withColumnRenamed('count', 'Recommended (True)')\n",
        "\n",
        "# Join the two DataFrames\n",
        "pivot_table = pivot_table.join(recommended_true, 'received_for_free', 'left_outer')\n",
        "\n",
        "# Calculate proportion\n",
        "pivot_table = pivot_table.withColumn('Proportion Recommended', pivot_table['Recommended (True)'] / pivot_table['Total Reviews'])\n",
        "\n",
        "# Show results\n",
        "pivot_table.show()"
      ]
    },
    {
      "cell_type": "markdown",
      "metadata": {
        "id": "3445DVlg6UPu"
      },
      "source": [
        "As shown in the above table, the proportion of users who recieved the apps for free and would recommend them is roughly equal to the proportion of users who did not receive the apps for free and would recommend them."
      ]
    },
    {
      "cell_type": "markdown",
      "metadata": {
        "id": "GgXnQGSL9Gwm"
      },
      "source": [
        "To see if longer reviews are more positive or negative"
      ]
    },
    {
      "cell_type": "code",
      "execution_count": null,
      "metadata": {
        "colab": {
          "base_uri": "https://localhost:8080/"
        },
        "id": "ecNCwDMu2Yml",
        "outputId": "7a8c909e-c546-4ab0-cb70-8a3405b09900"
      },
      "outputs": [
        {
          "output_type": "stream",
          "name": "stdout",
          "text": [
            "+-------------+-------------+------------------+----------------------+\n",
            "|review_length|Total Reviews|Recommended (True)|Proportion Recommended|\n",
            "+-------------+-------------+------------------+----------------------+\n",
            "|       150000|            1|              NULL|                  NULL|\n",
            "|         8000|          862|               686|    0.7958236658932715|\n",
            "|         7999|          300|               221|    0.7366666666666667|\n",
            "|         7998|          134|                90|    0.6716417910447762|\n",
            "|         7997|          119|                86|    0.7226890756302521|\n",
            "|         7996|          117|                86|    0.7350427350427351|\n",
            "|         7995|           68|                53|    0.7794117647058824|\n",
            "|         7994|           89|                56|    0.6292134831460674|\n",
            "|         7993|           65|                43|    0.6615384615384615|\n",
            "|         7992|           68|                43|    0.6323529411764706|\n",
            "|         7991|           65|                43|    0.6615384615384615|\n",
            "|         7990|           43|                28|    0.6511627906976745|\n",
            "|         7989|           41|                27|    0.6585365853658537|\n",
            "|         7988|           57|                32|    0.5614035087719298|\n",
            "|         7987|           45|                30|    0.6666666666666666|\n",
            "|         7986|           38|                28|    0.7368421052631579|\n",
            "|         7985|           42|                28|    0.6666666666666666|\n",
            "|         7984|           33|                23|     0.696969696969697|\n",
            "|         7983|           35|                25|    0.7142857142857143|\n",
            "|         7982|           32|                22|                0.6875|\n",
            "+-------------+-------------+------------------+----------------------+\n",
            "only showing top 20 rows\n",
            "\n"
          ]
        }
      ],
      "source": [
        "# Calculate total reviews and recommended true counts for 'review_length'\n",
        "pivot_table = sample_df.groupBy('review_length').agg(\n",
        "    {'recommended': 'count'}\n",
        ").withColumnRenamed('count(recommended)', 'Total Reviews')\n",
        "\n",
        "recommended_true = sample_df.filter(sample_df['recommended'] == True).groupBy('review_length').count().withColumnRenamed('count', 'Recommended (True)')\n",
        "\n",
        "# Join and calculate proportion\n",
        "pivot_table = pivot_table.join(recommended_true, 'review_length', 'left_outer')\n",
        "pivot_table = pivot_table.withColumn('Proportion Recommended', pivot_table['Recommended (True)'] / pivot_table['Total Reviews'])\n",
        "\n",
        "# Show results\n",
        "pivot_table.sort(col(\"review_length\").desc()).show()  # to see longer reviews first\n",
        "\n",
        "\n",
        "\n",
        "\n",
        "#NOTE: we can make a scatterplot of these values to check for correlation -- see cell below"
      ]
    },
    {
      "cell_type": "markdown",
      "source": [
        "Are longer reviews more likely to recommend the app?"
      ],
      "metadata": {
        "id": "VWGFvgsaU0Qf"
      }
    },
    {
      "cell_type": "code",
      "execution_count": null,
      "metadata": {
        "colab": {
          "base_uri": "https://localhost:8080/",
          "height": 564
        },
        "id": "-3IGhdk3_op2",
        "outputId": "05ba51f8-9387-47f0-9d3b-1e7bc592ef90"
      },
      "outputs": [
        {
          "output_type": "display_data",
          "data": {
            "text/plain": [
              "<Figure size 1000x600 with 1 Axes>"
            ],
            "image/png": "[encoded data removed]"
          },
          "metadata": {}
        }
      ],
      "source": [
        "# Convert Spark DataFrame to Pandas for visualization\n",
        "pivot_table_pd = pivot_table.select('review_length', 'Proportion Recommended').toPandas()\n",
        "\n",
        "# Scatterplot\n",
        "plt.figure(figsize=(10, 6))\n",
        "plt.scatter(pivot_table_pd['review_length'], pivot_table_pd['Proportion Recommended'], alpha=0.5)\n",
        "plt.title('Review Length vs Proportion Recommended')\n",
        "plt.xlabel('Review Length')\n",
        "plt.ylabel('Proportion Recommended')\n",
        "plt.grid(True)\n",
        "plt.show()"
      ]
    },
    {
      "cell_type": "markdown",
      "metadata": {
        "id": "_iTHzkzr-KYK"
      },
      "source": [
        "Does higher playtime correlate with positive recommendations?"
      ]
    },
    {
      "cell_type": "code",
      "execution_count": null,
      "metadata": {
        "colab": {
          "base_uri": "https://localhost:8080/"
        },
        "id": "MBjgkHvX2y7o",
        "outputId": "c282bc49-4c3a-4040-d652-5dfd7bd3d72d"
      },
      "outputs": [
        {
          "output_type": "stream",
          "name": "stdout",
          "text": [
            "+-------------------------+-------------+------------------+----------------------+\n",
            "|author_playtime_at_review|Total Reviews|Recommended (True)|Proportion Recommended|\n",
            "+-------------------------+-------------+------------------+----------------------+\n",
            "|                3228103.0|            1|                 1|                   1.0|\n",
            "|                3062784.0|            1|                 1|                   1.0|\n",
            "|                2773429.0|            1|                 1|                   1.0|\n",
            "|                2395854.0|            1|                 1|                   1.0|\n",
            "|                2281002.0|            1|                 1|                   1.0|\n",
            "|                2262933.0|            1|              NULL|                  NULL|\n",
            "|                2213127.0|            1|                 1|                   1.0|\n",
            "|                2172346.0|            1|                 1|                   1.0|\n",
            "|                2071808.0|            1|                 1|                   1.0|\n",
            "|                2043953.0|            1|                 1|                   1.0|\n",
            "|                2036938.0|            1|                 1|                   1.0|\n",
            "|                2006281.0|            1|                 1|                   1.0|\n",
            "|                1965578.0|            1|                 1|                   1.0|\n",
            "|                1961862.0|            1|                 1|                   1.0|\n",
            "|                1960678.0|            1|                 1|                   1.0|\n",
            "|                1939691.0|            1|                 1|                   1.0|\n",
            "|                1881254.0|            1|                 1|                   1.0|\n",
            "|                1868133.0|            1|              NULL|                  NULL|\n",
            "|                1847147.0|            1|                 1|                   1.0|\n",
            "|                1832720.0|            1|                 1|                   1.0|\n",
            "+-------------------------+-------------+------------------+----------------------+\n",
            "only showing top 20 rows\n",
            "\n"
          ]
        }
      ],
      "source": [
        "# Calculate total reviews and recommended true counts for 'author_playtime_at_review'\n",
        "pivot_table = sample_df.groupBy('author_playtime_at_review').agg(\n",
        "    {'recommended': 'count'}\n",
        ").withColumnRenamed('count(recommended)', 'Total Reviews')\n",
        "\n",
        "recommended_true = sample_df.filter(sample_df['recommended'] == True).groupBy('author_playtime_at_review').count().withColumnRenamed('count', 'Recommended (True)')\n",
        "\n",
        "# Join and calculate proportion\n",
        "pivot_table = pivot_table.join(recommended_true, 'author_playtime_at_review', 'left_outer')\n",
        "pivot_table = pivot_table.withColumn('Proportion Recommended', pivot_table['Recommended (True)'] / pivot_table['Total Reviews'])\n",
        "\n",
        "# Show results\n",
        "pivot_table.sort(col(\"author_playtime_at_review\").desc()).show()  # to see people who played for longer first\n"
      ]
    },
    {
      "cell_type": "markdown",
      "source": [
        "Are players with higher playtimes more probable to recommend?"
      ],
      "metadata": {
        "id": "3vw5lynrVNqt"
      }
    },
    {
      "cell_type": "code",
      "execution_count": null,
      "metadata": {
        "colab": {
          "base_uri": "https://localhost:8080/",
          "height": 564
        },
        "id": "TfK6LvFT_xZk",
        "outputId": "a8260b59-d150-473e-d452-e87f27baf807"
      },
      "outputs": [
        {
          "output_type": "display_data",
          "data": {
            "text/plain": [
              "<Figure size 1000x600 with 1 Axes>"
            ],
            "image/png": "[encoded data removed]"
          },
          "metadata": {}
        }
      ],
      "source": [
        "# Convert Spark DataFrame to Pandas for visualization\n",
        "pivot_table_pd = pivot_table.select('author_playtime_at_review', 'Proportion Recommended').toPandas()\n",
        "\n",
        "# Scatterplot\n",
        "plt.figure(figsize=(10, 6))\n",
        "plt.scatter(pivot_table_pd['author_playtime_at_review'], pivot_table_pd['Proportion Recommended'], alpha=0.5)\n",
        "plt.title('author_playtime_at_review vs Proportion Recommended')\n",
        "plt.xlabel('author_playtime_at_review')\n",
        "plt.ylabel('Proportion Recommended')\n",
        "plt.grid(True)\n",
        "plt.show()"
      ]
    },
    {
      "cell_type": "markdown",
      "metadata": {
        "id": "NJaHAJyP-gzV"
      },
      "source": [
        "Are frequent reviewers more positive or critical?"
      ]
    },
    {
      "cell_type": "code",
      "execution_count": null,
      "metadata": {
        "colab": {
          "base_uri": "https://localhost:8080/"
        },
        "id": "KuTWzY5k-f9H",
        "outputId": "4280511c-6fa7-4a49-89ac-f7b65bfc2712"
      },
      "outputs": [
        {
          "output_type": "stream",
          "name": "stdout",
          "text": [
            "+------------------+-------------+------------------+----------------------+\n",
            "|author_num_reviews|Total Reviews|Recommended (True)|Proportion Recommended|\n",
            "+------------------+-------------+------------------+----------------------+\n",
            "|     4398046511105|            1|                 1|                   1.0|\n",
            "|              5236|           15|                15|                   1.0|\n",
            "|              4137|           49|                40|    0.8163265306122449|\n",
            "|              3775|            5|                 3|                   0.6|\n",
            "|              3774|            2|                 2|                   1.0|\n",
            "|              3772|            4|                 4|                   1.0|\n",
            "|              3767|            1|                 1|                   1.0|\n",
            "|              3766|            4|                 4|                   1.0|\n",
            "|              3764|            3|                 2|    0.6666666666666666|\n",
            "|              3762|            2|                 2|                   1.0|\n",
            "|              3473|           22|                 7|    0.3181818181818182|\n",
            "|              3472|           14|                 1|   0.07142857142857142|\n",
            "|              2835|            3|                 2|    0.6666666666666666|\n",
            "|              2833|            1|              NULL|                  NULL|\n",
            "|              2772|            1|                 1|                   1.0|\n",
            "|              2627|           30|                 8|   0.26666666666666666|\n",
            "|              2626|           17|                 6|   0.35294117647058826|\n",
            "|              2624|            4|                 1|                  0.25|\n",
            "|              2623|            3|              NULL|                  NULL|\n",
            "|              2622|           20|                 4|                   0.2|\n",
            "+------------------+-------------+------------------+----------------------+\n",
            "only showing top 20 rows\n",
            "\n"
          ]
        }
      ],
      "source": [
        "# Calculate total reviews and recommended true counts for 'author_num_reviews'\n",
        "pivot_table = sample_df.groupBy('author_num_reviews').agg(\n",
        "    {'recommended': 'count'}\n",
        ").withColumnRenamed('count(recommended)', 'Total Reviews')\n",
        "\n",
        "recommended_true = sample_df.filter(sample_df['recommended'] == True).groupBy('author_num_reviews').count().withColumnRenamed('count', 'Recommended (True)')\n",
        "\n",
        "# Join and calculate proportion\n",
        "pivot_table = pivot_table.join(recommended_true, 'author_num_reviews', 'left_outer')\n",
        "pivot_table = pivot_table.withColumn('Proportion Recommended', pivot_table['Recommended (True)'] / pivot_table['Total Reviews'])\n",
        "\n",
        "# Show results\n",
        "pivot_table.sort(col(\"author_num_reviews\").desc()).show()  # to see people who have made more reviews first\n"
      ]
    },
    {
      "cell_type": "markdown",
      "source": [
        "Are authors with more reviews more likely to recommend?"
      ],
      "metadata": {
        "id": "pmqIE53MVZ8E"
      }
    },
    {
      "cell_type": "code",
      "execution_count": null,
      "metadata": {
        "colab": {
          "base_uri": "https://localhost:8080/",
          "height": 564
        },
        "id": "MQW1rdoV-gRj",
        "outputId": "85ca061e-0332-4237-b748-eb40c03280d9"
      },
      "outputs": [
        {
          "output_type": "display_data",
          "data": {
            "text/plain": [
              "<Figure size 1000x600 with 1 Axes>"
            ],
            "image/png": "[encoded data removed]"
          },
          "metadata": {}
        }
      ],
      "source": [
        "# Cast to numeric (float or int) in Spark\n",
        "pivot_table = pivot_table.withColumn(\"author_num_reviews\", col(\"author_num_reviews\").cast(\"int\"))\n",
        "\n",
        "# Convert to Pandas\n",
        "pivot_table_pd = pivot_table.select('author_num_reviews', 'Proportion Recommended').toPandas()\n",
        "\n",
        "\n",
        "# Scatterplot\n",
        "plt.figure(figsize=(10, 6))\n",
        "plt.scatter(pivot_table_pd['author_num_reviews'], pivot_table_pd['Proportion Recommended'], alpha=0.5)\n",
        "plt.title('author_num_reviews vs Proportion Recommended')\n",
        "plt.xlabel('author_num_reviews')\n",
        "plt.ylabel('Proportion Recommended')\n",
        "plt.grid(True)\n",
        "plt.show()"
      ]
    },
    {
      "cell_type": "markdown",
      "metadata": {
        "id": "0buojGpcTUX9"
      },
      "source": [
        "Of those that received the app for free, how many reccomend the app?"
      ]
    },
    {
      "cell_type": "code",
      "execution_count": null,
      "metadata": {
        "colab": {
          "base_uri": "https://localhost:8080/"
        },
        "id": "EqzosNlwRDQg",
        "outputId": "12bc7bac-7e87-49f0-ee58-9d3b84da09a0"
      },
      "outputs": [
        {
          "output_type": "stream",
          "name": "stdout",
          "text": [
            "+-----------------+-----------------+----------------+\n",
            "|received_for_free|recommended_false|recommended_true|\n",
            "+-----------------+-----------------+----------------+\n",
            "|             true|            30837|          247894|\n",
            "|            false|          1017382|         8310729|\n",
            "+-----------------+-----------------+----------------+\n",
            "\n"
          ]
        }
      ],
      "source": [
        "df_pivot = sample_df.groupBy(\"received_for_free\") \\\n",
        "    .pivot(\"recommended\") \\\n",
        "    .agg(F.count(\"*\")) \\\n",
        "    .withColumnRenamed(\"true\", \"recommended_true\") \\\n",
        "    .withColumnRenamed(\"false\", \"recommended_false\")\n",
        "\n",
        "df_pivot.show()"
      ]
    },
    {
      "cell_type": "markdown",
      "metadata": {
        "id": "GtM-FhiATh3p"
      },
      "source": [
        "Of all the apps that are being reviewed, how many were purchased on Steam?"
      ]
    },
    {
      "cell_type": "code",
      "execution_count": null,
      "metadata": {
        "colab": {
          "base_uri": "https://localhost:8080/"
        },
        "id": "iaoJZbrMTuIl",
        "outputId": "3eb07b5f-2934-4454-b141-7d711f0ff143"
      },
      "outputs": [
        {
          "output_type": "stream",
          "name": "stdout",
          "text": [
            "+--------------------+--------------------+-------------------+\n",
            "|            app_name|steam_purchase_false|steam_purchase_true|\n",
            "+--------------------+--------------------+-------------------+\n",
            "|    Human: Fall Flat|                8363|              16260|\n",
            "|DRAGON BALL FighterZ|                4938|              11898|\n",
            "|The Elder Scrolls...|               63504|              96345|\n",
            "|      Umbrella Corps|                 743|                301|\n",
            "|    Wallpaper Engine|                6634|              74055|\n",
            "|          Nova Drift|                 359|               2132|\n",
            "|           Detention|                 287|               1755|\n",
            "|      SOULCALIBUR VI|                1727|               3287|\n",
            "|The Witcher 3: Wi...|               13418|             137703|\n",
            "|         GOD EATER 3|                 304|               1533|\n",
            "|     Thief Simulator|                 183|               3387|\n",
            "|The Legend of Her...|                 107|               1050|\n",
            "|Ori and the Will ...|                 912|              13468|\n",
            "|Danganronpa 2: Go...|                 476|               6850|\n",
            "|       STEINS;GATE 0|                  42|                732|\n",
            "|        Just Cause 3|                9717|              26909|\n",
            "|      NieR:Automata™|                9144|              25381|\n",
            "|                 SOS|                 827|               1062|\n",
            "| BattleBlock Theater|                6205|              18396|\n",
            "|        For The King|                2135|               4746|\n",
            "+--------------------+--------------------+-------------------+\n",
            "only showing top 20 rows\n",
            "\n"
          ]
        }
      ],
      "source": [
        "df_pivot = sample_df.groupBy(\"app_name\") \\\n",
        "    .pivot(\"steam_purchase\") \\\n",
        "    .agg(F.count(\"*\")) \\\n",
        "    .withColumnRenamed(\"true\", \"steam_purchase_true\") \\\n",
        "    .withColumnRenamed(\"false\", \"steam_purchase_false\")\n",
        "\n",
        "df_pivot.show()"
      ]
    },
    {
      "cell_type": "markdown",
      "metadata": {
        "id": "sOmKR9IpUGCN"
      },
      "source": [
        "For each app, how many users have recommended it?"
      ]
    },
    {
      "cell_type": "code",
      "execution_count": null,
      "metadata": {
        "colab": {
          "base_uri": "https://localhost:8080/"
        },
        "id": "U7JQ5Ub1UEfh",
        "outputId": "47bfb813-151b-4316-904c-9beb15b187c9"
      },
      "outputs": [
        {
          "output_type": "stream",
          "name": "stdout",
          "text": [
            "+--------------------+-----------------+----------------+\n",
            "|            app_name|recommended_false|recommended_true|\n",
            "+--------------------+-----------------+----------------+\n",
            "|    Human: Fall Flat|             1272|           23351|\n",
            "|DRAGON BALL FighterZ|             1643|           15193|\n",
            "|The Elder Scrolls...|            11616|          148233|\n",
            "|      Umbrella Corps|              740|             304|\n",
            "|    Wallpaper Engine|             1260|           79429|\n",
            "|          Nova Drift|               41|            2450|\n",
            "|           Detention|               71|            1971|\n",
            "|      SOULCALIBUR VI|              910|            4104|\n",
            "|The Witcher 3: Wi...|             3516|          147605|\n",
            "|         GOD EATER 3|              214|            1623|\n",
            "|     Thief Simulator|              480|            3090|\n",
            "|The Legend of Her...|               43|            1114|\n",
            "|Ori and the Will ...|              437|           13943|\n",
            "|Danganronpa 2: Go...|              189|            7137|\n",
            "|       STEINS;GATE 0|               37|             737|\n",
            "|        Just Cause 3|             7677|           28949|\n",
            "|      NieR:Automata™|             3559|           30966|\n",
            "|                 SOS|             1415|             474|\n",
            "| BattleBlock Theater|              645|           23956|\n",
            "|        For The King|              709|            6172|\n",
            "+--------------------+-----------------+----------------+\n",
            "only showing top 20 rows\n",
            "\n"
          ]
        }
      ],
      "source": [
        "df_pivot = sample_df.groupBy(\"app_name\") \\\n",
        "    .pivot(\"recommended\") \\\n",
        "    .agg(F.count(\"*\")) \\\n",
        "    .withColumnRenamed(\"true\", \"recommended_true\") \\\n",
        "    .withColumnRenamed(\"false\", \"recommended_false\")\n",
        "\n",
        "df_pivot.show()"
      ]
    },
    {
      "cell_type": "markdown",
      "metadata": {
        "id": "SY3T53ADUPdj"
      },
      "source": [
        "For each app, how many users have got it for free?"
      ]
    },
    {
      "cell_type": "code",
      "execution_count": null,
      "metadata": {
        "colab": {
          "base_uri": "https://localhost:8080/"
        },
        "id": "Hii8tIUyUc_F",
        "outputId": "5299f1bb-ea10-4ce4-a83e-4cf0ab5d9f25"
      },
      "outputs": [
        {
          "output_type": "stream",
          "name": "stdout",
          "text": [
            "+--------------------+-----------------------+----------------------+\n",
            "|            app_name|received_for_free_false|received_for_free_true|\n",
            "+--------------------+-----------------------+----------------------+\n",
            "|    Human: Fall Flat|                  23632|                   991|\n",
            "|DRAGON BALL FighterZ|                  16430|                   406|\n",
            "|The Elder Scrolls...|                 158545|                  1304|\n",
            "|      Umbrella Corps|                    956|                    88|\n",
            "|    Wallpaper Engine|                  77949|                  2740|\n",
            "|          Nova Drift|                   2327|                   164|\n",
            "|           Detention|                   2011|                    31|\n",
            "|      SOULCALIBUR VI|                   4948|                    66|\n",
            "|The Witcher 3: Wi...|                 149426|                  1695|\n",
            "|         GOD EATER 3|                   1801|                    36|\n",
            "|     Thief Simulator|                   3473|                    97|\n",
            "|The Legend of Her...|                   1151|                     6|\n",
            "|Ori and the Will ...|                  14244|                   136|\n",
            "|Danganronpa 2: Go...|                   7197|                   129|\n",
            "|       STEINS;GATE 0|                    769|                     5|\n",
            "|        Just Cause 3|                  35794|                   832|\n",
            "|      NieR:Automata™|                  34028|                   497|\n",
            "|                 SOS|                   1784|                   105|\n",
            "| BattleBlock Theater|                  24108|                   493|\n",
            "|        For The King|                   6753|                   128|\n",
            "+--------------------+-----------------------+----------------------+\n",
            "only showing top 20 rows\n",
            "\n"
          ]
        }
      ],
      "source": [
        "df_pivot = sample_df.groupBy(\"app_name\") \\\n",
        "    .pivot(\"received_for_free\") \\\n",
        "    .agg(F.count(\"*\")) \\\n",
        "    .withColumnRenamed(\"true\", \"received_for_free_true\") \\\n",
        "    .withColumnRenamed(\"false\", \"received_for_free_false\")\n",
        "\n",
        "df_pivot.show()"
      ]
    },
    {
      "cell_type": "markdown",
      "metadata": {
        "id": "7cqwPci6UjUW"
      },
      "source": [
        "For each app, how many reviews have been written from users that had early access?"
      ]
    },
    {
      "cell_type": "code",
      "execution_count": null,
      "metadata": {
        "colab": {
          "base_uri": "https://localhost:8080/"
        },
        "id": "zCv4Ncs1UqIC",
        "outputId": "8dec15ef-f452-493c-8834-690cc2c77d1f"
      },
      "outputs": [
        {
          "output_type": "stream",
          "name": "stdout",
          "text": [
            "+--------------------+---------------------------------+--------------------------------+\n",
            "|            app_name|written_during_early_access_false|written_during_early_access_true|\n",
            "+--------------------+---------------------------------+--------------------------------+\n",
            "|    Human: Fall Flat|                            24623|                            NULL|\n",
            "|DRAGON BALL FighterZ|                            16836|                            NULL|\n",
            "|The Elder Scrolls...|                           159849|                            NULL|\n",
            "|      Umbrella Corps|                             1044|                            NULL|\n",
            "|    Wallpaper Engine|                            65517|                           15172|\n",
            "|          Nova Drift|                             NULL|                            2491|\n",
            "|           Detention|                             2042|                            NULL|\n",
            "|      SOULCALIBUR VI|                             5014|                            NULL|\n",
            "|The Witcher 3: Wi...|                           151121|                            NULL|\n",
            "|         GOD EATER 3|                             1837|                            NULL|\n",
            "|     Thief Simulator|                             3570|                            NULL|\n",
            "|The Legend of Her...|                             1157|                            NULL|\n",
            "|Ori and the Will ...|                            14380|                            NULL|\n",
            "|Danganronpa 2: Go...|                             7326|                            NULL|\n",
            "|       STEINS;GATE 0|                              774|                            NULL|\n",
            "|        Just Cause 3|                            36626|                            NULL|\n",
            "|                 SOS|                              221|                            1668|\n",
            "|      NieR:Automata™|                            34525|                            NULL|\n",
            "| BattleBlock Theater|                            24601|                            NULL|\n",
            "|        For The King|                             5927|                             954|\n",
            "+--------------------+---------------------------------+--------------------------------+\n",
            "only showing top 20 rows\n",
            "\n"
          ]
        }
      ],
      "source": [
        "df_pivot = sample_df.groupBy(\"app_name\") \\\n",
        "    .pivot(\"written_during_early_access\") \\\n",
        "    .agg(F.count(\"*\")) \\\n",
        "    .withColumnRenamed(\"true\", \"written_during_early_access_true\") \\\n",
        "    .withColumnRenamed(\"false\", \"written_during_early_access_false\")\n",
        "\n",
        "df_pivot.show()"
      ]
    },
    {
      "cell_type": "markdown",
      "metadata": {
        "id": "NUxMFX3SUvfn"
      },
      "source": [
        "Of all the apps that have been purchased through Steam, how many are recommended?"
      ]
    },
    {
      "cell_type": "code",
      "execution_count": null,
      "metadata": {
        "colab": {
          "base_uri": "https://localhost:8080/"
        },
        "id": "t7_zDgAHU03N",
        "outputId": "245daa96-5c3f-4801-9d43-0d6c96af4465"
      },
      "outputs": [
        {
          "output_type": "stream",
          "name": "stdout",
          "text": [
            "+--------------+-----------------+----------------+\n",
            "|steam_purchase|recommended_false|recommended_true|\n",
            "+--------------+-----------------+----------------+\n",
            "|          true|           784972|         6636761|\n",
            "|         false|           263247|         1921862|\n",
            "+--------------+-----------------+----------------+\n",
            "\n"
          ]
        }
      ],
      "source": [
        "df_pivot = sample_df.groupBy(\"steam_purchase\") \\\n",
        "    .pivot(\"recommended\") \\\n",
        "    .agg(F.count(\"*\")) \\\n",
        "    .withColumnRenamed(\"true\", \"recommended_true\") \\\n",
        "    .withColumnRenamed(\"false\", \"recommended_false\")\n",
        "\n",
        "df_pivot.show()"
      ]
    },
    {
      "cell_type": "markdown",
      "metadata": {
        "id": "zukge9fDU8qY"
      },
      "source": [
        "How many apps did each user had early access on?\n"
      ]
    },
    {
      "cell_type": "code",
      "execution_count": null,
      "metadata": {
        "colab": {
          "base_uri": "https://localhost:8080/"
        },
        "id": "vti2VZoBVJIz",
        "outputId": "809c2c09-14b5-4789-d346-f1e341b6f2f6"
      },
      "outputs": [
        {
          "output_type": "stream",
          "name": "stdout",
          "text": [
            "+-----------------+---------------------------------+--------------------------------+\n",
            "|   author_steamid|written_during_early_access_false|written_during_early_access_true|\n",
            "+-----------------+---------------------------------+--------------------------------+\n",
            "|76561197960269579|                                8|                               1|\n",
            "|76561197960272407|                                5|                            NULL|\n",
            "|76561197960272423|                                5|                               2|\n",
            "|76561197960272973|                                3|                               1|\n",
            "|76561197960275854|                                2|                               2|\n",
            "|76561197960277107|                                1|                            NULL|\n",
            "|76561197960279691|                                1|                            NULL|\n",
            "|76561197960292122|                                1|                            NULL|\n",
            "|76561197960297361|                             NULL|                               2|\n",
            "|76561197960320530|                                1|                            NULL|\n",
            "|76561197960335865|                                1|                            NULL|\n",
            "|76561197960354170|                                4|                            NULL|\n",
            "|76561197960355978|                                1|                               3|\n",
            "|76561197960366167|                                5|                               1|\n",
            "|76561197960383945|                                1|                            NULL|\n",
            "|76561197960384100|                                1|                            NULL|\n",
            "|76561197960395976|                                2|                            NULL|\n",
            "|76561197960400764|                                1|                            NULL|\n",
            "|76561197960402731|                                2|                               1|\n",
            "|76561197960402971|                                1|                            NULL|\n",
            "+-----------------+---------------------------------+--------------------------------+\n",
            "only showing top 20 rows\n",
            "\n"
          ]
        }
      ],
      "source": [
        "df_pivot = sample_df.groupBy(\"author_steamid\") \\\n",
        "    .pivot(\"written_during_early_access\") \\\n",
        "    .agg(F.count(\"*\")) \\\n",
        "    .withColumnRenamed(\"true\", \"written_during_early_access_true\") \\\n",
        "    .withColumnRenamed(\"false\", \"written_during_early_access_false\")\n",
        "\n",
        "df_pivot.show()"
      ]
    },
    {
      "cell_type": "markdown",
      "metadata": {
        "id": "P3xvRQ9PVn--"
      },
      "source": [
        "For each For each category of the playtime (up to the day of the review), how many users have reccomended the apps of the review?"
      ]
    },
    {
      "cell_type": "code",
      "execution_count": null,
      "metadata": {
        "colab": {
          "base_uri": "https://localhost:8080/"
        },
        "id": "Sfwt9RAMVrEg",
        "outputId": "4ee7a3f2-2779-4811-8de3-9b0ba5f0e3d4"
      },
      "outputs": [
        {
          "output_type": "stream",
          "name": "stdout",
          "text": [
            "+-----------------+-----------------+----------------+\n",
            "|playtime_category|recommended_false|recommended_true|\n",
            "+-----------------+-----------------+----------------+\n",
            "|             High|           124420|          913725|\n",
            "|              Low|           729851|         5942612|\n",
            "|           Medium|           193948|         1702286|\n",
            "+-----------------+-----------------+----------------+\n",
            "\n"
          ]
        }
      ],
      "source": [
        "df_pivot = sample_df.groupBy(\"playtime_category\") \\\n",
        "    .pivot(\"recommended\") \\\n",
        "    .agg(F.count(\"*\")) \\\n",
        "    .withColumnRenamed(\"true\", \"recommended_true\") \\\n",
        "    .withColumnRenamed(\"false\", \"recommended_false\")\n",
        "\n",
        "df_pivot.show()"
      ]
    },
    {
      "cell_type": "markdown",
      "metadata": {
        "id": "uvdoQ8ZAVPl-"
      },
      "source": [
        "For each category of the total playtime, how many users have reccomended the apps of the review?"
      ]
    },
    {
      "cell_type": "code",
      "execution_count": null,
      "metadata": {
        "colab": {
          "base_uri": "https://localhost:8080/"
        },
        "id": "zqRxJApRVYTB",
        "outputId": "172bcb80-600f-4b1b-dcd3-e569d4c757ba"
      },
      "outputs": [
        {
          "output_type": "stream",
          "name": "stdout",
          "text": [
            "+-------------------------+-----------------+----------------+\n",
            "|playtime_forever_category|recommended_false|recommended_true|\n",
            "+-------------------------+-----------------+----------------+\n",
            "|                     High|           196750|         1685163|\n",
            "|                      Low|           627187|         4522579|\n",
            "|                   Medium|           224282|         2350881|\n",
            "+-------------------------+-----------------+----------------+\n",
            "\n"
          ]
        }
      ],
      "source": [
        "df_pivot = sample_df.groupBy(\"playtime_forever_category\") \\\n",
        "    .pivot(\"recommended\") \\\n",
        "    .agg(F.count(\"*\")) \\\n",
        "    .withColumnRenamed(\"true\", \"recommended_true\") \\\n",
        "    .withColumnRenamed(\"false\", \"recommended_false\")\n",
        "\n",
        "df_pivot.show()"
      ]
    },
    {
      "cell_type": "markdown",
      "metadata": {
        "id": "kk5KST5TV1yU"
      },
      "source": [
        "Of the apps that have been purchased during early access, how many are recommended?"
      ]
    },
    {
      "cell_type": "code",
      "execution_count": null,
      "metadata": {
        "colab": {
          "base_uri": "https://localhost:8080/"
        },
        "id": "iacHpB-gV-wK",
        "outputId": "faf0b777-fd94-490c-b514-ec588f30df24"
      },
      "outputs": [
        {
          "output_type": "stream",
          "name": "stdout",
          "text": [
            "+---------------------------+-----------------+----------------+\n",
            "|written_during_early_access|recommended_false|recommended_true|\n",
            "+---------------------------+-----------------+----------------+\n",
            "|                       true|           130263|          826380|\n",
            "|                      false|           917956|         7732243|\n",
            "+---------------------------+-----------------+----------------+\n",
            "\n"
          ]
        }
      ],
      "source": [
        "df_pivot = sample_df.groupBy(\"written_during_early_access\") \\\n",
        "    .pivot(\"recommended\") \\\n",
        "    .agg(F.count(\"*\")) \\\n",
        "    .withColumnRenamed(\"true\", \"recommended_true\") \\\n",
        "    .withColumnRenamed(\"false\", \"recommended_false\")\n",
        "\n",
        "df_pivot.show()"
      ]
    },
    {
      "cell_type": "markdown",
      "metadata": {
        "id": "zJFPNwSSWB0A"
      },
      "source": [
        "For each category of number of games owned, how many apps are recommended?"
      ]
    },
    {
      "cell_type": "code",
      "execution_count": null,
      "metadata": {
        "colab": {
          "base_uri": "https://localhost:8080/"
        },
        "id": "MLjKA6X8KFOk",
        "outputId": "d1975ca8-f67d-4a09-8e7d-2e8eb4f1744b"
      },
      "outputs": [
        {
          "output_type": "stream",
          "name": "stdout",
          "text": [
            "+----------------------+-----------------+----------------+\n",
            "|author_num_games_owned|recommended_false|recommended_true|\n",
            "+----------------------+-----------------+----------------+\n",
            "|                    26|             5229|           60444|\n",
            "|                  1677|               14|              86|\n",
            "|                   474|              356|            1975|\n",
            "|                  5385|             NULL|               6|\n",
            "|                   964|               45|             330|\n",
            "|                    29|             5228|           57980|\n",
            "|                  2040|                7|              80|\n",
            "|                  1806|                2|              19|\n",
            "|                  2214|                7|              13|\n",
            "|                  2927|                2|              24|\n",
            "|                  1950|                1|              23|\n",
            "|                  2250|             NULL|              24|\n",
            "|                  3091|                1|               9|\n",
            "|                  1697|                4|              28|\n",
            "|                  2529|                2|               3|\n",
            "|                  7279|             NULL|               3|\n",
            "|                  3764|             NULL|               2|\n",
            "|                  2453|             NULL|              11|\n",
            "|                  2509|             NULL|               3|\n",
            "|                  4590|             NULL|               1|\n",
            "+----------------------+-----------------+----------------+\n",
            "only showing top 20 rows\n",
            "\n"
          ]
        }
      ],
      "source": [
        "df_pivot = sample_df.groupBy(\"author_num_games_owned\") \\\n",
        "    .pivot(\"recommended\") \\\n",
        "    .agg(F.count(\"*\")) \\\n",
        "    .withColumnRenamed(\"true\", \"recommended_true\") \\\n",
        "    .withColumnRenamed(\"false\", \"recommended_false\")\n",
        "\n",
        "df_pivot.show()"
      ]
    },
    {
      "cell_type": "markdown",
      "metadata": {
        "id": "O7OkMCz5UrSN"
      },
      "source": [
        "# Recommendation System"
      ]
    },
    {
      "cell_type": "code",
      "execution_count": null,
      "metadata": {
        "colab": {
          "base_uri": "https://localhost:8080/"
        },
        "id": "HLzWZw2sttzU",
        "outputId": "2671faf9-6352-4a98-a1f5-edcee37dcc31"
      },
      "outputs": [
        {
          "output_type": "stream",
          "name": "stdout",
          "text": [
            "+---+------+--------------------+---------+--------------------+-----------+-------------+--------------+-----------------+---------------------------+-----------------+----------------------+------------------+-----------------------+-------------------------+-------------+\n",
            "|_c0|app_id|            app_name|review_id|              review|recommended|votes_helpful|steam_purchase|received_for_free|written_during_early_access|   author_steamid|author_num_games_owned|author_num_reviews|author_playtime_forever|author_playtime_at_review|review_length|\n",
            "+---+------+--------------------+---------+--------------------+-----------+-------------+--------------+-----------------+---------------------------+-----------------+----------------------+------------------+-----------------------+-------------------------+-------------+\n",
            "|  3|292030|The Witcher 3: Wi...| 85184605|One of the best R...|       true|            0|          true|            false|                      false|76561199054755373|                     5|                 3|                 5587.0|                   5524.0|           59|\n",
            "|  5|292030|The Witcher 3: Wi...| 85184171|good story, good ...|       true|            0|          true|            false|                      false|76561198170193529|                    11|                 1|                  823.0|                    823.0|           38|\n",
            "|  6|292030|The Witcher 3: Wi...| 85184064|            dis gud,|       true|            0|          true|            false|                      false|76561198119302812|                    27|                 2|                 4192.0|                   4192.0|            8|\n",
            "| 18|292030|The Witcher 3: Wi...| 85180436|favorite game of ...|       true|            0|          true|            false|                      false|76561198065591528|                    33|                 1|                23329.0|                  23329.0|           59|\n",
            "| 20|292030|The Witcher 3: Wi...| 85179753|Why wouldn't you ...|       true|            0|          true|            false|                      false|76561198996835044|                   131|                 2|                 8557.0|                   8557.0|           25|\n",
            "| 21|292030|The Witcher 3: Wi...| 85179400|          it is ok\\n|       true|            0|          true|            false|                      false|76561198284845223|                    60|                 9|                 2518.0|                   2518.0|            9|\n",
            "| 22|292030|The Witcher 3: Wi...| 85179341|             worth\\n|       true|            0|          true|            false|                      false|76561198370568524|                    59|                 5|                  553.0|                    517.0|            6|\n",
            "| 24|292030|The Witcher 3: Wi...| 85178164|Isn't Geralt hot ...|       true|            0|          true|            false|                      false|76561198040150323|                    51|                37|                  165.0|                    165.0|           98|\n",
            "| 25|292030|The Witcher 3: Wi...| 85177892|Very Fun, Would p...|       true|            0|          true|            false|                      false|76561198040190687|                    54|                 1|                20168.0|                  20092.0|           27|\n",
            "| 39|292030|The Witcher 3: Wi...| 85174926|The game is enjoy...|       true|            0|          true|            false|                      false|76561198020027165|                   208|               105|                  497.0|                    398.0|          491|\n",
            "+---+------+--------------------+---------+--------------------+-----------+-------------+--------------+-----------------+---------------------------+-----------------+----------------------+------------------+-----------------------+-------------------------+-------------+\n",
            "only showing top 10 rows\n",
            "\n"
          ]
        }
      ],
      "source": [
        "sample_df.show(10)"
      ]
    },
    {
      "cell_type": "markdown",
      "source": [
        "Checking that recommended takes only true/false values"
      ],
      "metadata": {
        "id": "dDeXwQD5pQ4d"
      }
    },
    {
      "cell_type": "code",
      "execution_count": null,
      "metadata": {
        "colab": {
          "base_uri": "https://localhost:8080/"
        },
        "id": "OHbPTN5GuDha",
        "outputId": "1982515c-f134-48c2-8d26-93d56bc9474e"
      },
      "outputs": [
        {
          "output_type": "stream",
          "name": "stdout",
          "text": [
            "+-----------+\n",
            "|recommended|\n",
            "+-----------+\n",
            "|       true|\n",
            "|      false|\n",
            "+-----------+\n",
            "\n"
          ]
        }
      ],
      "source": [
        "sample_df.select(\"recommended\").distinct().show()"
      ]
    },
    {
      "cell_type": "code",
      "execution_count": null,
      "metadata": {
        "colab": {
          "base_uri": "https://localhost:8080/"
        },
        "id": "9px6RDbBUp5Q",
        "outputId": "ce947c0d-e2eb-4f05-872c-f57c2f6ca6f4"
      },
      "outputs": [
        {
          "output_type": "stream",
          "name": "stdout",
          "text": [
            "+-----------+-------+\n",
            "|recommended|  count|\n",
            "+-----------+-------+\n",
            "|       true|8558623|\n",
            "|      false|1048219|\n",
            "+-----------+-------+\n",
            "\n"
          ]
        }
      ],
      "source": [
        "# Identify distribution in the 'recommended' column\n",
        "sample_df.groupBy('recommended').count().show()"
      ]
    },
    {
      "cell_type": "markdown",
      "metadata": {
        "id": "J_FrN1FIsSzd"
      },
      "source": [
        "We observe a significant class imbalance (true: 8.58M and false: 1.05M) and hence, we proceed with 3% for Dominant Class & 10% for Minority Class (balanced reduction).\n"
      ]
    },
    {
      "cell_type": "markdown",
      "metadata": {
        "id": "oAgBHq9k1UF5"
      },
      "source": [
        "We tried using a stratified approach but the stratified df was returning 0 rows (.sampleBy() may fail if the specified fraction is too small to select records from a partition).\n",
        "\n",
        "```python\n",
        "# Define sampling fractions for each category\n",
        "fractions = {\"true\": 0.03, \"false\": 0.10}  # Stratified sampling with balanced reduction\n",
        "\n",
        "# Perform stratified sampling\n",
        "stratified_sample = sample_df.sampleBy(\"recommended\", fractions=fractions, seed=42)\n",
        "\n",
        "# Show sampled data\n",
        "stratified_sample.show(5)\n",
        "\n",
        "# Count rows to verify sample size\n",
        "print(\"Total Rows in Sample:\", stratified_sample.count())\n",
        "```\n",
        "\n",
        "Hence, we proceeded with the sample() function."
      ]
    },
    {
      "cell_type": "code",
      "execution_count": null,
      "metadata": {
        "colab": {
          "base_uri": "https://localhost:8080/"
        },
        "id": "G-9c2cgXsssT",
        "outputId": "4941c5dc-7629-492c-d18c-819f12ab5643"
      },
      "outputs": [
        {
          "output_type": "stream",
          "name": "stdout",
          "text": [
            "+---+------+--------------------+---------+--------------------+-----------+-------------+--------------+-----------------+---------------------------+-----------------+----------------------+------------------+-----------------------+-------------------------+-------------+\n",
            "|_c0|app_id|            app_name|review_id|              review|recommended|votes_helpful|steam_purchase|received_for_free|written_during_early_access|   author_steamid|author_num_games_owned|author_num_reviews|author_playtime_forever|author_playtime_at_review|review_length|\n",
            "+---+------+--------------------+---------+--------------------+-----------+-------------+--------------+-----------------+---------------------------+-----------------+----------------------+------------------+-----------------------+-------------------------+-------------+\n",
            "| 24|292030|The Witcher 3: Wi...| 85178164|Isn't Geralt hot ...|       true|            0|          true|            false|                      false|76561198040150323|                    51|                37|                  165.0|                    165.0|           98|\n",
            "| 58|292030|The Witcher 3: Wi...| 85169685| best game ever made|       true|            0|          true|            false|                      false|76561198868423923|                    48|                 1|                 9403.0|                   9236.0|           19|\n",
            "| 60|292030|The Witcher 3: Wi...| 85169052|If you are a fan ...|       true|            0|          true|            false|                      false|76561198869011330|                    22|                 4|                 8234.0|                   8234.0|          314|\n",
            "|242|292030|The Witcher 3: Wi...| 85135861|    Im addicted help|       true|            0|          true|            false|                      false|76561198261131855|                     3|                 2|                 8343.0|                   8063.0|           16|\n",
            "|248|292030|The Witcher 3: Wi...| 85134950|What great game. ...|       true|            0|          true|            false|                      false|76561197996569707|                    81|                 2|                 1318.0|                   1182.0|           63|\n",
            "+---+------+--------------------+---------+--------------------+-----------+-------------+--------------+-----------------+---------------------------+-----------------+----------------------+------------------+-----------------------+-------------------------+-------------+\n",
            "only showing top 5 rows\n",
            "\n"
          ]
        }
      ],
      "source": [
        "# Sample 5% for balanced speed and accuracy\n",
        "sample_df2 = sample_df.sample(fraction=0.15, seed=42)\n",
        "\n",
        "sample_df2.show(5)"
      ]
    },
    {
      "cell_type": "markdown",
      "source": [
        "For faster read, we save this sample as a parquet file."
      ],
      "metadata": {
        "id": "b0Z_J2s6psVR"
      }
    },
    {
      "cell_type": "code",
      "source": [
        "# Save 2nd sample as a parquet for easier read\n",
        "#sample_df2.write.parquet(\"sample_df2\", mode=\"overwrite\")"
      ],
      "metadata": {
        "id": "_SEV_64N7C_Y"
      },
      "execution_count": null,
      "outputs": []
    },
    {
      "cell_type": "code",
      "source": [
        "# zip it because it is saved in multiple files\n",
        "#!zip -r sample_df2.zip sample_df2\n",
        "#from google.colab import files\n",
        "#files.download(\"sample_df2.zip\")"
      ],
      "metadata": {
        "id": "EGu4BWXI_mn3"
      },
      "execution_count": null,
      "outputs": []
    },
    {
      "cell_type": "markdown",
      "source": [
        "For faster reading of the dataset, mount from google drive."
      ],
      "metadata": {
        "id": "q_hvOIYPp2jX"
      }
    },
    {
      "cell_type": "code",
      "source": [
        "drive.mount('/content/drive')\n"
      ],
      "metadata": {
        "colab": {
          "base_uri": "https://localhost:8080/"
        },
        "id": "I7hSQ6oUy25O",
        "outputId": "22cc071d-a76e-4f11-fb5c-de923da452e0"
      },
      "execution_count": null,
      "outputs": [
        {
          "output_type": "stream",
          "name": "stdout",
          "text": [
            "Mounted at /content/drive\n"
          ]
        }
      ]
    },
    {
      "cell_type": "code",
      "source": [
        "zip_path = '/content/drive/My Drive/sample_df2.zip'"
      ],
      "metadata": {
        "id": "vd8_4_rzy34P"
      },
      "execution_count": null,
      "outputs": []
    },
    {
      "cell_type": "code",
      "source": [
        "import zipfile\n",
        "\n",
        "with zipfile.ZipFile(zip_path, 'r') as zip_ref:\n",
        "    zip_ref.extractall('sample_df2_extracted')  # Target folder in Colab\n"
      ],
      "metadata": {
        "id": "pQq24fgYy-k5"
      },
      "execution_count": null,
      "outputs": []
    },
    {
      "cell_type": "code",
      "source": [
        "sample_df2 = spark.read.parquet(\"/content/sample_df2_extracted/sample_df2\")"
      ],
      "metadata": {
        "id": "V6dyyEZlSFXx"
      },
      "execution_count": null,
      "outputs": []
    },
    {
      "cell_type": "markdown",
      "source": [
        "Taking a look at the dataset to ensure it is read properly."
      ],
      "metadata": {
        "id": "uMj202EiqOQT"
      }
    },
    {
      "cell_type": "code",
      "source": [
        "sample_df2.show(5)"
      ],
      "metadata": {
        "colab": {
          "base_uri": "https://localhost:8080/"
        },
        "id": "OIcAENFpSGbN",
        "outputId": "e854e431-32ea-416e-d9a7-0dfac9dd889d"
      },
      "execution_count": null,
      "outputs": [
        {
          "output_type": "stream",
          "name": "stdout",
          "text": [
            "+--------+------+--------------------+---------+--------------------+-----------+-------------+--------------+-----------------+---------------------------+-----------------+----------------------+------------------+-----------------------+-------------------------+-------------+\n",
            "|     _c0|app_id|            app_name|review_id|              review|recommended|votes_helpful|steam_purchase|received_for_free|written_during_early_access|   author_steamid|author_num_games_owned|author_num_reviews|author_playtime_forever|author_playtime_at_review|review_length|\n",
            "+--------+------+--------------------+---------+--------------------+-----------+-------------+--------------+-----------------+---------------------------+-----------------+----------------------+------------------+-----------------------+-------------------------+-------------+\n",
            "|15710073|306130|The Elder Scrolls...| 79519450|   Skyrim but online|       true|            3|          true|            false|                      false|76561198019671066|                    12|                 1|               150291.0|                 138796.0|           17|\n",
            "|15710074|306130|The Elder Scrolls...| 79517995|MMO as an MMO get...|       true|            1|          true|            false|                      false|76561198100661254|                   343|                24|                 9048.0|                   5431.0|           51|\n",
            "|15710097|306130|The Elder Scrolls...| 79495591|The great part of...|       true|            1|          true|            false|                      false|76561198205800372|                    69|                 2|                32752.0|                  26154.0|           94|\n",
            "|15710103|306130|The Elder Scrolls...| 79489153|One of the few ga...|       true|            0|          true|            false|                      false|76561198073439716|                    71|                 3|                10517.0|                   9347.0|          111|\n",
            "|15710104|306130|The Elder Scrolls...| 79487304|nothing more than...|      false|            2|          true|            false|                      false|76561198204898351|                    48|                 2|                   58.0|                     58.0|          166|\n",
            "+--------+------+--------------------+---------+--------------------+-----------+-------------+--------------+-----------------+---------------------------+-----------------+----------------------+------------------+-----------------------+-------------------------+-------------+\n",
            "only showing top 5 rows\n",
            "\n"
          ]
        }
      ]
    },
    {
      "cell_type": "code",
      "execution_count": null,
      "metadata": {
        "colab": {
          "base_uri": "https://localhost:8080/"
        },
        "id": "DZFlNjJlzzCS",
        "outputId": "1a499f8c-a744-4dbe-afaf-f27a6f56ea13"
      },
      "outputs": [
        {
          "output_type": "stream",
          "name": "stdout",
          "text": [
            "+-----------+-------+\n",
            "|recommended|  count|\n",
            "+-----------+-------+\n",
            "|       true|1285737|\n",
            "|      false| 156919|\n",
            "+-----------+-------+\n",
            "\n"
          ]
        }
      ],
      "source": [
        "sample_df2.groupBy('recommended').count().show()"
      ]
    },
    {
      "cell_type": "markdown",
      "source": [
        "The target variable is not balanced in this new sample."
      ],
      "metadata": {
        "id": "E_q_4BR1qX25"
      }
    },
    {
      "cell_type": "markdown",
      "source": [
        "## Using a lexicon to generate a predicted rating based on review text and then performing ALS to generate recommendations"
      ],
      "metadata": {
        "id": "DFvAEf0gNQGk"
      }
    },
    {
      "cell_type": "code",
      "source": [
        "!pip install vaderSentiment\n",
        "\n",
        "analyzer = SentimentIntensityAnalyzer()\n",
        "#if the review is null give sentiment 0 (as we saw earlier we didn't any null reviews though)\n",
        "def get_compound_score(review):\n",
        "    if review is None:\n",
        "        return 0.0\n",
        "    return float(analyzer.polarity_scores(review)['compound'])\n",
        "\n",
        "# user defined function to find predicter rating\n",
        "vader_udf = udf(get_compound_score, FloatType())\n",
        "\n",
        "#apply udf to our df\n",
        "sample_df2 = sample_df2.withColumn(\"sentiment_score\", vader_udf(sample_df2[\"review\"]))\n",
        "\n",
        "# converting this value to a rating from 1 to 5  - this may not be necessary\n",
        "\n",
        "from pyspark.sql.functions import col\n",
        "\n",
        "sample_df2 = sample_df2.withColumn(\"rating\",\n",
        "    when(col(\"sentiment_score\") >= 0.6, 5.0)\n",
        "    .when((col(\"sentiment_score\") >= 0.2) & (col(\"sentiment_score\") < 0.6), 4.0)\n",
        "    .when((col(\"sentiment_score\") > -0.2) & (col(\"sentiment_score\") < 0.2), 3.0)\n",
        "    .when((col(\"sentiment_score\") > -0.6) & (col(\"sentiment_score\") <= -0.2), 2.0)\n",
        "    .otherwise(1.0)\n",
        ")"
      ],
      "metadata": {
        "id": "sWw_t9BVMp-d",
        "colab": {
          "base_uri": "https://localhost:8080/"
        },
        "outputId": "0018da30-5f14-4897-a500-e71a7145f12b"
      },
      "execution_count": null,
      "outputs": [
        {
          "output_type": "stream",
          "name": "stdout",
          "text": [
            "Collecting vaderSentiment\n",
            "  Downloading vaderSentiment-3.3.2-py2.py3-none-any.whl.metadata (572 bytes)\n",
            "Requirement already satisfied: requests in /usr/local/lib/python3.11/dist-packages (from vaderSentiment) (2.32.3)\n",
            "Requirement already satisfied: charset-normalizer<4,>=2 in /usr/local/lib/python3.11/dist-packages (from requests->vaderSentiment) (3.4.2)\n",
            "Requirement already satisfied: idna<4,>=2.5 in /usr/local/lib/python3.11/dist-packages (from requests->vaderSentiment) (3.10)\n",
            "Requirement already satisfied: urllib3<3,>=1.21.1 in /usr/local/lib/python3.11/dist-packages (from requests->vaderSentiment) (2.4.0)\n",
            "Requirement already satisfied: certifi>=2017.4.17 in /usr/local/lib/python3.11/dist-packages (from requests->vaderSentiment) (2025.4.26)\n",
            "Downloading vaderSentiment-3.3.2-py2.py3-none-any.whl (125 kB)\n",
            "\u001b[2K   \u001b[90m━━━━━━━━━━━━━━━━━━━━━━━━━━━━━━━━━━━━━━━━\u001b[0m \u001b[32m126.0/126.0 kB\u001b[0m \u001b[31m2.5 MB/s\u001b[0m eta \u001b[36m0:00:00\u001b[0m\n",
            "\u001b[?25hInstalling collected packages: vaderSentiment\n",
            "Successfully installed vaderSentiment-3.3.2\n"
          ]
        }
      ]
    },
    {
      "cell_type": "code",
      "source": [
        "sample_df2.show()"
      ],
      "metadata": {
        "colab": {
          "base_uri": "https://localhost:8080/"
        },
        "id": "hsLzIuiHbZ5Q",
        "outputId": "414cdb59-b202-4aa6-e4c8-a61f46c48ac2"
      },
      "execution_count": null,
      "outputs": [
        {
          "output_type": "stream",
          "name": "stdout",
          "text": [
            "+--------+------+--------------------+---------+--------------------+-----------+-------------+--------------+-----------------+---------------------------+-----------------+----------------------+------------------+-----------------------+-------------------------+-------------+---------------+------+\n",
            "|     _c0|app_id|            app_name|review_id|              review|recommended|votes_helpful|steam_purchase|received_for_free|written_during_early_access|   author_steamid|author_num_games_owned|author_num_reviews|author_playtime_forever|author_playtime_at_review|review_length|sentiment_score|rating|\n",
            "+--------+------+--------------------+---------+--------------------+-----------+-------------+--------------+-----------------+---------------------------+-----------------+----------------------+------------------+-----------------------+-------------------------+-------------+---------------+------+\n",
            "|15710073|306130|The Elder Scrolls...| 79519450|   Skyrim but online|       true|            3|          true|            false|                      false|76561198019671066|                    12|                 1|               150291.0|                 138796.0|           17|            0.0|   3.0|\n",
            "|15710074|306130|The Elder Scrolls...| 79517995|MMO as an MMO get...|       true|            1|          true|            false|                      false|76561198100661254|                   343|                24|                 9048.0|                   5431.0|           51|         0.4404|   4.0|\n",
            "|15710097|306130|The Elder Scrolls...| 79495591|The great part of...|       true|            1|          true|            false|                      false|76561198205800372|                    69|                 2|                32752.0|                  26154.0|           94|         0.8271|   5.0|\n",
            "|15710103|306130|The Elder Scrolls...| 79489153|One of the few ga...|       true|            0|          true|            false|                      false|76561198073439716|                    71|                 3|                10517.0|                   9347.0|          111|         0.6908|   5.0|\n",
            "|15710104|306130|The Elder Scrolls...| 79487304|nothing more than...|      false|            2|          true|            false|                      false|76561198204898351|                    48|                 2|                   58.0|                     58.0|          166|        -0.0778|   3.0|\n",
            "|15710122|306130|The Elder Scrolls...| 79467002|I have always bee...|       true|            0|          true|            false|                      false|76561198367707433|                    31|                11|                 1013.0|                   1013.0|          467|         0.9517|   5.0|\n",
            "|15710155|306130|The Elder Scrolls...| 79435718|         Top notch\\n|       true|            0|          true|            false|                      false|76561198870039627|                     4|                 1|                 1224.0|                    876.0|           10|         0.2023|   4.0|\n",
            "|15710157|306130|The Elder Scrolls...| 79427935|             Is fun!|       true|            0|          true|            false|                      false|76561198071227858|                   458|                 4|                 2973.0|                   2929.0|            7|         0.5562|   4.0|\n",
            "|15710164|306130|The Elder Scrolls...| 79420680|its fine , its fu...|       true|            0|          true|            false|                      false|76561198163608377|                   182|                 9|               102534.0|                  88746.0|          118|         0.4186|   4.0|\n",
            "|15710167|306130|The Elder Scrolls...| 79419121|\"Would you recomm...|       true|            0|         false|            false|                      false|76561198142803425|                    51|                 2|                96644.0|                  70228.0|          758|          0.982|   5.0|\n",
            "|15710175|306130|The Elder Scrolls...| 79404244|i get so baked an...|       true|            0|          true|            false|                      false|76561198352510017|                     3|                 1|                  906.0|                    454.0|           43|         0.3947|   4.0|\n",
            "|15710180|306130|The Elder Scrolls...| 79398629|i make shit loads...|       true|            1|          true|            false|                      false|76561198257012618|                    45|                 4|                22632.0|                  22582.0|           73|        -0.1027|   3.0|\n",
            "|15710181|306130|The Elder Scrolls...| 79395419|it's a pretty old...|      false|            0|          true|            false|                      false|76561198336697108|                    28|                 2|               211593.0|                 180348.0|          899|         0.9822|   5.0|\n",
            "|15710187|306130|The Elder Scrolls...| 79377303|Awesome game, awe...|       true|            1|          true|            false|                      false|76561199072509523|                    13|                 1|                 8542.0|                   6819.0|          214|         0.9582|   5.0|\n",
            "|15710189|306130|The Elder Scrolls...| 79371959|  o*nline skyrim lol|       true|            0|          true|            false|                      false|76561198055199333|                    12|                 4|                53092.0|                  34227.0|           18|         0.4215|   4.0|\n",
            "|15710202|306130|The Elder Scrolls...| 79362215|It's not that the...|      false|           10|          true|            false|                      false|76561198448206027|                    39|                 5|                12163.0|                  12149.0|          894|        -0.8783|   1.0|\n",
            "|15710224|306130|The Elder Scrolls...| 79347744|great atmosphere ...|       true|            0|         false|            false|                      false|76561197964480745|                  1988|                10|               159361.0|                 115957.0|           36|         0.7506|   5.0|\n",
            "|15710251|306130|The Elder Scrolls...| 79317370|It's a great game...|       true|            0|          true|            false|                      false|76561198961249866|                    27|                 5|                12173.0|                  11006.0|          299|         0.0129|   3.0|\n",
            "|15710277|306130|The Elder Scrolls...| 79290995|dosent even fucki...|      false|            1|          true|            false|                      false|76561198423097362|                    41|                17|                 3245.0|                   2333.0|           28|         0.6344|   5.0|\n",
            "|15710324|306130|The Elder Scrolls...| 79235069|I love this game ...|       true|            0|          true|            false|                      false|76561198943007681|                    21|                 1|                16114.0|                   6851.0|          277|         0.9618|   5.0|\n",
            "+--------+------+--------------------+---------+--------------------+-----------+-------------+--------------+-----------------+---------------------------+-----------------+----------------------+------------------+-----------------------+-------------------------+-------------+---------------+------+\n",
            "only showing top 20 rows\n",
            "\n"
          ]
        }
      ]
    },
    {
      "cell_type": "code",
      "source": [
        "sample_df2.select('rating').show(5)"
      ],
      "metadata": {
        "colab": {
          "base_uri": "https://localhost:8080/"
        },
        "id": "JDWK1fZg6t81",
        "outputId": "e6ca47a4-34cf-4516-d598-bfe9a04bcd3e"
      },
      "execution_count": null,
      "outputs": [
        {
          "output_type": "stream",
          "name": "stdout",
          "text": [
            "+------+\n",
            "|rating|\n",
            "+------+\n",
            "|   3.0|\n",
            "|   4.0|\n",
            "|   5.0|\n",
            "|   5.0|\n",
            "|   3.0|\n",
            "+------+\n",
            "only showing top 5 rows\n",
            "\n"
          ]
        }
      ]
    },
    {
      "cell_type": "markdown",
      "source": [
        "Split into train and test datasets to proceed with ALS"
      ],
      "metadata": {
        "id": "xiMU-tnrqlvd"
      }
    },
    {
      "cell_type": "code",
      "source": [
        "# Split into training and test sets (80/20 split)\n",
        "(training_df, test_df) = sample_df2.randomSplit([0.8, 0.2], seed=42)"
      ],
      "metadata": {
        "id": "MQC9pXF0O9KT"
      },
      "execution_count": null,
      "outputs": []
    },
    {
      "cell_type": "code",
      "source": [
        "# Save to Parquet (overwrite if it already exists)\n",
        "training_df.write.mode(\"overwrite\").parquet(\"/content/training_df.parquet\")\n",
        "test_df.write.mode(\"overwrite\").parquet(\"/content/test_df.parquet\")"
      ],
      "metadata": {
        "id": "qtSH2FfNk2sU"
      },
      "execution_count": null,
      "outputs": []
    },
    {
      "cell_type": "code",
      "source": [
        "# Load back in a future session without recomputing splits\n",
        "training_df = spark.read.parquet(\"/content/training_df.parquet\")\n",
        "test_df = spark.read.parquet(\"/content/test_df.parquet\")"
      ],
      "metadata": {
        "id": "iTkWG8wsk3Rh"
      },
      "execution_count": null,
      "outputs": []
    },
    {
      "cell_type": "code",
      "source": [
        "training_df.show(5)"
      ],
      "metadata": {
        "colab": {
          "base_uri": "https://localhost:8080/"
        },
        "id": "0mYFSWu3vwG_",
        "outputId": "7b537653-b2de-4a74-f3a9-c98ba1301d78"
      },
      "execution_count": null,
      "outputs": [
        {
          "output_type": "stream",
          "name": "stdout",
          "text": [
            "+-------+------+--------------------+---------+--------------------+-----------+-------------+--------------+-----------------+---------------------------+-----------------+----------------------+------------------+-----------------------+-------------------------+-------------+---------------+------+\n",
            "|    _c0|app_id|            app_name|review_id|              review|recommended|votes_helpful|steam_purchase|received_for_free|written_during_early_access|   author_steamid|author_num_games_owned|author_num_reviews|author_playtime_forever|author_playtime_at_review|review_length|sentiment_score|rating|\n",
            "+-------+------+--------------------+---------+--------------------+-----------+-------------+--------------+-----------------+---------------------------+-----------------+----------------------+------------------+-----------------------+-------------------------+-------------+---------------+------+\n",
            "|2274365|289070|Sid Meier's Civil...| 29700214|Been a fan of CIV...|       true|            0|          true|            false|                      false|76561198198606118|                   329|                14|                12579.0|                   1788.0|           74|         0.6908|   5.0|\n",
            "|2274373|289070|Sid Meier's Civil...| 29694077|This is a very sh...|      false|            1|          true|            false|                      false|76561198054022818|                   461|                21|                 5571.0|                   3334.0|         1915|        -0.9732|   1.0|\n",
            "|2274384|289070|Sid Meier's Civil...| 29683219|I enjoy this game...|       true|            0|          true|            false|                      false|76561198085356615|                   135|                 8|                24575.0|                   2505.0|           59|         0.4939|   4.0|\n",
            "|2274392|289070|Sid Meier's Civil...| 29680023|Game mechanics is...|       true|            1|         false|            false|                      false|76561198023326124|                    79|                 1|                 2821.0|                   1544.0|         2930|        -0.9913|   1.0|\n",
            "|2274399|289070|Sid Meier's Civil...| 29674571|Civ 6 offers noth...|      false|            4|         false|            false|                      false|76561198007235233|                   162|                 9|                 1255.0|                   1255.0|          124|         0.6369|   5.0|\n",
            "+-------+------+--------------------+---------+--------------------+-----------+-------------+--------------+-----------------+---------------------------+-----------------+----------------------+------------------+-----------------------+-------------------------+-------------+---------------+------+\n",
            "only showing top 5 rows\n",
            "\n"
          ]
        }
      ]
    },
    {
      "cell_type": "code",
      "source": [
        "test_df.show(5)"
      ],
      "metadata": {
        "colab": {
          "base_uri": "https://localhost:8080/"
        },
        "id": "Vlb6Iq8Tvxtk",
        "outputId": "47b828f2-4801-461f-c013-4b64cf4bc677"
      },
      "execution_count": null,
      "outputs": [
        {
          "output_type": "stream",
          "name": "stdout",
          "text": [
            "+-------+------+--------------------+---------+--------------------+-----------+-------------+--------------+-----------------+---------------------------+-----------------+----------------------+------------------+-----------------------+-------------------------+-------------+---------------+------+\n",
            "|    _c0|app_id|            app_name|review_id|              review|recommended|votes_helpful|steam_purchase|received_for_free|written_during_early_access|   author_steamid|author_num_games_owned|author_num_reviews|author_playtime_forever|author_playtime_at_review|review_length|sentiment_score|rating|\n",
            "+-------+------+--------------------+---------+--------------------+-----------+-------------+--------------+-----------------+---------------------------+-----------------+----------------------+------------------+-----------------------+-------------------------+-------------+---------------+------+\n",
            "|2274377|289070|Sid Meier's Civil...| 29688390|Almost 4 months a...|      false|            5|          true|            false|                      false|76561198011462074|                   436|                19|                 6623.0|                   1922.0|          263|        -0.7015|   1.0|\n",
            "|2274415|289070|Sid Meier's Civil...| 29665908|I've tried to lik...|      false|            4|          true|            false|                      false|76561197999281326|                   468|                 7|                18136.0|                   4185.0|          175|        -0.1779|   3.0|\n",
            "|2274419|289070|Sid Meier's Civil...| 29664300|Civilization VI i...|       true|            0|         false|            false|                      false|76561197972216471|                   163|                10|                32184.0|                  19755.0|         1158|           0.25|   4.0|\n",
            "|2274474|289070|Sid Meier's Civil...| 29636405|I feel cheated. I...|      false|            1|          true|            false|                      false|76561197989610747|                   144|                 5|                15734.0|                   5862.0|          960|        -0.6242|   1.0|\n",
            "|2274530|289070|Sid Meier's Civil...| 29595605|Completely broken...|      false|            6|         false|            false|                      false|76561198074042996|                     8|                 1|                11904.0|                   1258.0|          179|        -0.8464|   1.0|\n",
            "+-------+------+--------------------+---------+--------------------+-----------+-------------+--------------+-----------------+---------------------------+-----------------+----------------------+------------------+-----------------------+-------------------------+-------------+---------------+------+\n",
            "only showing top 5 rows\n",
            "\n"
          ]
        }
      ]
    },
    {
      "cell_type": "code",
      "source": [
        "#prepare indexing to input properly in ALS\n",
        "user_indexer = StringIndexer(inputCol=\"author_steamid\", outputCol=\"userIndex\", handleInvalid=\"keep\")\n",
        "item_indexer = StringIndexer(inputCol=\"app_id\", outputCol=\"itemIndex\", handleInvalid=\"keep\")\n",
        "\n",
        "# Fit indexers only on the training set\n",
        "user_indexer_model = user_indexer.fit(training_df)\n",
        "item_indexer_model = item_indexer.fit(training_df)\n",
        "\n",
        "# Transform both train and test using the fitted models\n",
        "training_df = user_indexer_model.transform(training_df)\n",
        "training_df = item_indexer_model.transform(training_df)\n",
        "\n",
        "test_df = user_indexer_model.transform(test_df)\n",
        "test_df = item_indexer_model.transform(test_df)\n",
        "\n",
        "# Save app_id labels for decoding later\n",
        "app_id_labels = item_indexer_model.labels"
      ],
      "metadata": {
        "id": "tNGejDoGMqFA"
      },
      "execution_count": null,
      "outputs": []
    },
    {
      "cell_type": "markdown",
      "source": [
        "We encountered an issue where the `StringIndexerModel` was trained only on the training set, so when we applied it to the test set, it failed to recognize userid's that appeared only in the test data. Since these unseen users were not part of the training set, the model didn’t know how to assign them an index. To prevent the process from crashing, we set the `handleInvalid` parameter to `\"keep\"` in the `StringIndexer`. This allows Spark to assign a special index, such as -1, to any unknown labels, ensuring the transformation continues smoothly even when new or unseen data is encountered.\n"
      ],
      "metadata": {
        "id": "Fl7QywyCzSnL"
      }
    },
    {
      "cell_type": "code",
      "source": [
        "training_df.show(5)"
      ],
      "metadata": {
        "colab": {
          "base_uri": "https://localhost:8080/"
        },
        "id": "LCJ5lu9c6-6O",
        "outputId": "9c5dc8aa-8ff4-4401-92f5-afa2ad549380"
      },
      "execution_count": null,
      "outputs": [
        {
          "output_type": "stream",
          "name": "stdout",
          "text": [
            "+-------+------+--------------------+---------+--------------------+-----------+-------------+--------------+-----------------+---------------------------+-----------------+----------------------+------------------+-----------------------+-------------------------+-------------+---------------+------+---------+---------+\n",
            "|    _c0|app_id|            app_name|review_id|              review|recommended|votes_helpful|steam_purchase|received_for_free|written_during_early_access|   author_steamid|author_num_games_owned|author_num_reviews|author_playtime_forever|author_playtime_at_review|review_length|sentiment_score|rating|userIndex|itemIndex|\n",
            "+-------+------+--------------------+---------+--------------------+-----------+-------------+--------------+-----------------+---------------------------+-----------------+----------------------+------------------+-----------------------+-------------------------+-------------+---------------+------+---------+---------+\n",
            "|2274365|289070|Sid Meier's Civil...| 29700214|Been a fan of CIV...|       true|            0|          true|            false|                      false|76561198198606118|                   329|                14|                12579.0|                   1788.0|           74|         0.6908|   5.0|  86657.0|     34.0|\n",
            "|2274373|289070|Sid Meier's Civil...| 29694077|This is a very sh...|      false|            1|          true|            false|                      false|76561198054022818|                   461|                21|                 5571.0|                   3334.0|         1915|        -0.9732|   1.0|  52893.0|     34.0|\n",
            "|2274384|289070|Sid Meier's Civil...| 29683219|I enjoy this game...|       true|            0|          true|            false|                      false|76561198085356615|                   135|                 8|                24575.0|                   2505.0|           59|         0.4939|   4.0| 464148.0|     34.0|\n",
            "|2274392|289070|Sid Meier's Civil...| 29680023|Game mechanics is...|       true|            1|         false|            false|                      false|76561198023326124|                    79|                 1|                 2821.0|                   1544.0|         2930|        -0.9913|   1.0| 253606.0|     34.0|\n",
            "|2274399|289070|Sid Meier's Civil...| 29674571|Civ 6 offers noth...|      false|            4|         false|            false|                      false|76561198007235233|                   162|                 9|                 1255.0|                   1255.0|          124|         0.6369|   5.0| 212003.0|     34.0|\n",
            "+-------+------+--------------------+---------+--------------------+-----------+-------------+--------------+-----------------+---------------------------+-----------------+----------------------+------------------+-----------------------+-------------------------+-------------+---------------+------+---------+---------+\n",
            "only showing top 5 rows\n",
            "\n"
          ]
        }
      ]
    },
    {
      "cell_type": "code",
      "source": [
        "test_df.show(5)"
      ],
      "metadata": {
        "colab": {
          "base_uri": "https://localhost:8080/"
        },
        "id": "whQfVYAzk6vS",
        "outputId": "54a7fef8-9374-494f-cb3d-d099d1711da6"
      },
      "execution_count": null,
      "outputs": [
        {
          "output_type": "stream",
          "name": "stdout",
          "text": [
            "+-------+------+--------------------+---------+--------------------+-----------+-------------+--------------+-----------------+---------------------------+-----------------+----------------------+------------------+-----------------------+-------------------------+-------------+---------------+------+---------+---------+\n",
            "|    _c0|app_id|            app_name|review_id|              review|recommended|votes_helpful|steam_purchase|received_for_free|written_during_early_access|   author_steamid|author_num_games_owned|author_num_reviews|author_playtime_forever|author_playtime_at_review|review_length|sentiment_score|rating|userIndex|itemIndex|\n",
            "+-------+------+--------------------+---------+--------------------+-----------+-------------+--------------+-----------------+---------------------------+-----------------+----------------------+------------------+-----------------------+-------------------------+-------------+---------------+------+---------+---------+\n",
            "|2274377|289070|Sid Meier's Civil...| 29688390|Almost 4 months a...|      false|            5|          true|            false|                      false|76561198011462074|                   436|                19|                 6623.0|                   1922.0|          263|        -0.7015|   1.0|1007212.0|     34.0|\n",
            "|2274415|289070|Sid Meier's Civil...| 29665908|I've tried to lik...|      false|            4|          true|            false|                      false|76561197999281326|                   468|                 7|                18136.0|                   4185.0|          175|        -0.1779|   3.0|1007212.0|     34.0|\n",
            "|2274419|289070|Sid Meier's Civil...| 29664300|Civilization VI i...|       true|            0|         false|            false|                      false|76561197972216471|                   163|                10|                32184.0|                  19755.0|         1158|           0.25|   4.0|1007212.0|     34.0|\n",
            "|2274474|289070|Sid Meier's Civil...| 29636405|I feel cheated. I...|      false|            1|          true|            false|                      false|76561197989610747|                   144|                 5|                15734.0|                   5862.0|          960|        -0.6242|   1.0| 166667.0|     34.0|\n",
            "|2274530|289070|Sid Meier's Civil...| 29595605|Completely broken...|      false|            6|         false|            false|                      false|76561198074042996|                     8|                 1|                11904.0|                   1258.0|          179|        -0.8464|   1.0|1007212.0|     34.0|\n",
            "+-------+------+--------------------+---------+--------------------+-----------+-------------+--------------+-----------------+---------------------------+-----------------+----------------------+------------------+-----------------------+-------------------------+-------------+---------------+------+---------+---------+\n",
            "only showing top 5 rows\n",
            "\n"
          ]
        }
      ]
    },
    {
      "cell_type": "markdown",
      "source": [
        "We trained the ALS model with fewer iterations initially so it would run faster, but later increased the number of iterations and adjusted the settings because the predictions were falling out of bounds\n"
      ],
      "metadata": {
        "id": "7Zhgaf6grbCr"
      }
    },
    {
      "cell_type": "code",
      "source": [
        "# Train ALS model - were fewer iterations so it runs faster, may increase it to get better results\n",
        "# update: increased iterations and settings due to preds out of bounds\n",
        "\n",
        "als = ALS(\n",
        "    userCol=\"userIndex\",\n",
        "    itemCol=\"itemIndex\",\n",
        "    ratingCol=\"rating\",\n",
        "    coldStartStrategy=\"drop\",\n",
        "    nonnegative=True,\n",
        "    rank=10,         # Reduce latent factors (default is 10)\n",
        "    maxIter=5,      # Fewer iterations\n",
        "    regParam=0.1   # Optional: Regularization\n",
        ")\n",
        "als_model = als.fit(training_df)\n",
        "\n"
      ],
      "metadata": {
        "id": "3-gtio0qTvCb"
      },
      "execution_count": null,
      "outputs": []
    },
    {
      "cell_type": "code",
      "source": [
        "# save to avoid out of memory errors and having to retrain\n",
        "als_model.write().overwrite().save(\"/content/als_model\")"
      ],
      "metadata": {
        "id": "QWPDK4383uqy"
      },
      "execution_count": null,
      "outputs": []
    },
    {
      "cell_type": "markdown",
      "source": [
        "Output the recommendations generated for a specific user. Notice that the output shows recommendations for a user outputing their userIndex and corresponding itemIndexes,  which is not the same as userid and appid's, we converted to userIndexes for ASL. However, we convert back to userid's and appid's in the next cells."
      ],
      "metadata": {
        "id": "BagJ9fyUr5H0"
      }
    },
    {
      "cell_type": "code",
      "source": [
        "# Get userIndex for a specific author_steamid\n",
        "target_user_index = training_df.filter(col(\"author_steamid\") == \"76561198054022818\") \\\n",
        "                              .select(\"userIndex\").distinct().limit(1) \\\n",
        "                              .collect()[0][\"userIndex\"]\n",
        "\n",
        "# Create a single-row DataFrame with this userIndex\n",
        "user_id_df = spark.createDataFrame([(int(target_user_index),)], [\"userIndex\"])\n",
        "\n",
        "# Get top 5 recommendations\n",
        "user_recs = als_model.recommendForUserSubset(user_id_df, 5)"
      ],
      "metadata": {
        "id": "WbJMJiM46oAd"
      },
      "execution_count": null,
      "outputs": []
    },
    {
      "cell_type": "code",
      "source": [
        "user_recs.show(truncate=False)"
      ],
      "metadata": {
        "colab": {
          "base_uri": "https://localhost:8080/"
        },
        "id": "Ux0KJMzfD8JL",
        "outputId": "87d6db33-6d22-4676-ee87-fe98be2317e3"
      },
      "execution_count": null,
      "outputs": [
        {
          "output_type": "stream",
          "name": "stdout",
          "text": [
            "+---------+----------------------------------------------------------------------------------+\n",
            "|userIndex|recommendations                                                                   |\n",
            "+---------+----------------------------------------------------------------------------------+\n",
            "|52893    |[{296, 4.450095}, {3, 4.4363112}, {41, 4.426834}, {230, 4.054623}, {4, 3.9141245}]|\n",
            "+---------+----------------------------------------------------------------------------------+\n",
            "\n"
          ]
        }
      ]
    },
    {
      "cell_type": "markdown",
      "source": [
        "This means that the user with author_steamid 76561198054022818, was mapped to userindex 52893, and is recommended the item with itemindex 296 with a score (rating) of approx 4.45 etc.\n",
        "We can find the recommendations and convert those itemindexes back to app ids\n",
        "before printing, using the code below."
      ],
      "metadata": {
        "id": "EM_iMq6gm4k7"
      }
    },
    {
      "cell_type": "code",
      "source": [
        "# code below works better i think than next cell, utilizes code from pevious cell as well\n",
        "rec_row = user_recs.collect()[0]\n",
        "\n",
        "# Map back to original app_id\n",
        "print(\"Recommended apps for user with author_steamid 76561198011462074:\")\n",
        "for rec in rec_row['recommendations']:\n",
        "    item_index = rec['itemIndex']\n",
        "    predicted_rating = rec['rating']\n",
        "    original_app_id = app_id_labels[int(item_index)]\n",
        "    print(f\"App ID: {original_app_id}, Predicted Rating: {predicted_rating:.2f}\")\n",
        "\n"
      ],
      "metadata": {
        "colab": {
          "base_uri": "https://localhost:8080/"
        },
        "id": "rrlaeruR8hc_",
        "outputId": "22194604-d6d0-45fe-e837-62a66923226d"
      },
      "execution_count": null,
      "outputs": [
        {
          "output_type": "stream",
          "name": "stdout",
          "text": [
            "Recommended apps for user with author_steamid 76561198011462074:\n",
            "App ID: 502280, Predicted Rating: 4.45\n",
            "App ID: 271590, Predicted Rating: 4.44\n",
            "App ID: 48700, Predicted Rating: 4.43\n",
            "App ID: 673950, Predicted Rating: 4.05\n",
            "App ID: 578080, Predicted Rating: 3.91\n"
          ]
        }
      ]
    },
    {
      "cell_type": "markdown",
      "source": [
        "Loading the model again due to repeated caching."
      ],
      "metadata": {
        "id": "MJxg7Q-Psozp"
      }
    },
    {
      "cell_type": "code",
      "source": [
        "als_model = ALSModel.load(\"/content/als_model\")"
      ],
      "metadata": {
        "id": "zlVzes9A38i2"
      },
      "execution_count": null,
      "outputs": []
    },
    {
      "cell_type": "code",
      "source": [
        "# Predict on subset\n",
        "predictions = als_model.transform(test_df)\n",
        "\n",
        "# Filter NaNs\n",
        "predictions = predictions.filter(col(\"prediction\").isNotNull()) # for coldstart problems\n",
        "\n",
        "# Evaluate\n",
        "evaluator = RegressionEvaluator(metricName=\"rmse\", labelCol=\"rating\", predictionCol=\"prediction\")\n",
        "rmse = evaluator.evaluate(predictions)\n",
        "print(f\"RMSE: {rmse:.4f}\")"
      ],
      "metadata": {
        "colab": {
          "base_uri": "https://localhost:8080/"
        },
        "id": "4Zcqc_NwKC2g",
        "outputId": "787ff20a-b96b-41c3-b7aa-588319a45e01"
      },
      "execution_count": null,
      "outputs": [
        {
          "output_type": "stream",
          "name": "stdout",
          "text": [
            "RMSE: 2.1454\n"
          ]
        }
      ]
    },
    {
      "cell_type": "markdown",
      "source": [
        "We get a relatively large RMSE, given the range of our predictions. The model predicts out of bounds, as can be seen in the cells below."
      ],
      "metadata": {
        "id": "Ro6XgWwXsxW0"
      }
    },
    {
      "cell_type": "code",
      "source": [
        "predictions.show(10)"
      ],
      "metadata": {
        "colab": {
          "base_uri": "https://localhost:8080/"
        },
        "id": "K5QR9j8tP_lY",
        "outputId": "514d024b-53db-402c-aa8f-aa13922ecb9f"
      },
      "execution_count": null,
      "outputs": [
        {
          "output_type": "stream",
          "name": "stdout",
          "text": [
            "+--------+------+--------------------+---------+--------------------+-----------+-------------+--------------+-----------------+---------------------------+-----------------+----------------------+------------------+-----------------------+-------------------------+-------------+---------------+------+---------+---------+----------+\n",
            "|     _c0|app_id|            app_name|review_id|              review|recommended|votes_helpful|steam_purchase|received_for_free|written_during_early_access|   author_steamid|author_num_games_owned|author_num_reviews|author_playtime_forever|author_playtime_at_review|review_length|sentiment_score|rating|userIndex|itemIndex|prediction|\n",
            "+--------+------+--------------------+---------+--------------------+-----------+-------------+--------------+-----------------+---------------------------+-----------------+----------------------+------------------+-----------------------+-------------------------+-------------+---------------+------+---------+---------+----------+\n",
            "| 3490218|250760|Shovel Knight: Tr...| 38201030|             not bad|       true|            0|          true|            false|                      false|76561197970460797|                   828|               265|                  131.0|                    131.0|            7|          0.431|   4.0|      1.0|    166.0| 3.0124013|\n",
            "|21594882|367520|       Hollow Knight| 35977740|It's one of those...|       true|            0|          true|            false|                      false|76561197970460797|                   828|               265|                 1207.0|                    832.0|           60|         0.4927|   4.0|      1.0|     17.0|  3.525615|\n",
            "| 3807275|427520|            Factorio| 50221187|[h1] DISCLAIMER: ...|       true|            1|          true|            false|                       true|76561198062813911|                  1584|              1621|                  225.0|                    215.0|          810|         0.9826|   5.0|      3.0|     35.0|  4.187248|\n",
            "|17011488|323190|           Frostpunk| 41937727|[h1] DISCLAIMER: ...|       true|            2|          true|            false|                      false|76561198062813911|                  1584|              1621|                 1077.0|                    618.0|         2776|         0.9974|   5.0|      3.0|    104.0| 3.2129135|\n",
            "| 7237660|537800|         Bomber Crew| 84699299|[h1] DISCLAIMER: ...|       true|            0|         false|             true|                      false|76561198062813911|                  1584|              1621|                  183.0|                    169.0|          564|          0.969|   5.0|      3.0|    207.0| 3.0909152|\n",
            "|21624895|447820|       Day of Infamy| 32070388|[h1] DISCLAIMER: ...|       true|            0|         false|            false|                      false|76561198062813911|                  1584|              1621|                  581.0|                    581.0|          762|         0.9447|   5.0|      3.0|    156.0| 2.7505474|\n",
            "| 1612945|  8930|Sid Meier's Civil...| 43800172|Classic Sid Meier <3|       true|            0|         false|            false|                      false|76561197970705552|                  1468|              1077|                  355.0|                    343.0|           20|         0.4404|   4.0|      4.0|     19.0| 3.3345633|\n",
            "| 7897833|552520|           Far Cry 5| 48970356|Far Cry -> Crytek...|       true|            0|          true|            false|                      false|76561197970705552|                  1468|              1077|                    7.0|                      7.0|           43|        -0.0516|   3.0|      4.0|     67.0| 3.2312775|\n",
            "| 3048552|621060|PC Building Simul...| 47172847|Building PCs in t...|       true|            0|          true|            false|                      false|76561198012374319|                   599|               266|                 4338.0|                   1101.0|          929|          0.865|   5.0|      5.0|    148.0| 3.4047964|\n",
            "|12629733| 35140|Batman: Arkham As...| 35474960|Na-na-na-na Batma...|       true|            1|         false|            false|                      false|76561198266073876|                   517|               331|                  303.0|                     16.0|          234|         0.8646|   5.0|      6.0|    137.0|  2.876648|\n",
            "+--------+------+--------------------+---------+--------------------+-----------+-------------+--------------+-----------------+---------------------------+-----------------+----------------------+------------------+-----------------------+-------------------------+-------------+---------------+------+---------+---------+----------+\n",
            "only showing top 10 rows\n",
            "\n"
          ]
        }
      ]
    },
    {
      "cell_type": "code",
      "source": [
        "max_pred = predictions.agg(spark_max(col(\"prediction\"))).collect()[0][0]\n",
        "print(f\"Maximum prediction: {max_pred}\")"
      ],
      "metadata": {
        "colab": {
          "base_uri": "https://localhost:8080/"
        },
        "id": "42BhR7dQ4sJe",
        "outputId": "f9f3d905-701d-493e-9044-0cd4510f31d0"
      },
      "execution_count": null,
      "outputs": [
        {
          "output_type": "stream",
          "name": "stdout",
          "text": [
            "Maximum prediction: 8.9924898147583\n"
          ]
        }
      ]
    },
    {
      "cell_type": "markdown",
      "source": [
        "The maximum prediction is around 9, even thoough the ratings are from 1 to 5. We try to mitigate this issue as it gives a large RMSE."
      ],
      "metadata": {
        "id": "cesmFjw2tj_i"
      }
    },
    {
      "cell_type": "markdown",
      "source": [
        "## In the cells below we attempt to normalise ratings before predicting, to mitigate the out of bounds predictions."
      ],
      "metadata": {
        "id": "kewvKNu8t0Yo"
      }
    },
    {
      "cell_type": "code",
      "source": [
        "# Another approach: Normalize ratings before predicting\n",
        "\n",
        "# Normalize to [0, 1]\n",
        "training_df = training_df.withColumn(\"norm_rating\", (col(\"rating\") - 1.0) / 4.0)\n",
        "\n",
        "# Train ALS on normalized ratings\n",
        "als = ALS(\n",
        "    userCol=\"userIndex\",\n",
        "    itemCol=\"itemIndex\",\n",
        "    ratingCol=\"norm_rating\",\n",
        "    coldStartStrategy=\"drop\",\n",
        "    nonnegative=True,\n",
        "    rank=10,\n",
        "    maxIter=5,\n",
        "    regParam=0.1\n",
        ")\n",
        "als_model = als.fit(training_df)\n",
        "\n",
        "# Later, rescale predictions back\n",
        "predictions = als_model.transform(test_df)\n",
        "predictions = predictions.withColumn(\"rescaled_prediction\", (col(\"prediction\") * 4.0) + 1.0)\n",
        "\n",
        "evaluator = RegressionEvaluator(\n",
        "    labelCol=\"rating\",\n",
        "    predictionCol=\"rescaled_prediction\",\n",
        "    metricName=\"rmse\"\n",
        ")\n",
        "\n",
        "rmse_valid = evaluator.evaluate(predictions)\n",
        "print(f\"RMSE (normalized predictions): {rmse_valid:.4f}\")\n"
      ],
      "metadata": {
        "id": "dC6GCQjp6P-F",
        "colab": {
          "base_uri": "https://localhost:8080/"
        },
        "outputId": "07649a4c-b684-4d95-8194-7dd8a24df78c"
      },
      "execution_count": null,
      "outputs": [
        {
          "output_type": "stream",
          "name": "stdout",
          "text": [
            "RMSE (normalized predictions): 1.7958\n"
          ]
        }
      ]
    },
    {
      "cell_type": "markdown",
      "source": [
        "RMSE is lower after normalising the ratings. However, we still get predictions slightly above 5, as can be seen by the cell below."
      ],
      "metadata": {
        "id": "8Pn3cYHmuB1I"
      }
    },
    {
      "cell_type": "code",
      "source": [
        "#check that we are not out of bounds (no greater than 5)\n",
        "max_pred = predictions.agg(spark_max(col(\"rescaled_prediction\"))).collect()[0][0]\n",
        "print(f\"Maximum prediction: {max_pred}\")"
      ],
      "metadata": {
        "id": "mmAJGldU6P7h",
        "colab": {
          "base_uri": "https://localhost:8080/"
        },
        "outputId": "fdaa7a1b-e0ee-4bb8-f1dc-8df5dc80646b"
      },
      "execution_count": null,
      "outputs": [
        {
          "output_type": "stream",
          "name": "stdout",
          "text": [
            "Maximum prediction: 5.065199375152588\n"
          ]
        }
      ]
    },
    {
      "cell_type": "markdown",
      "source": [
        "### For the above case of normalized predictions we present the recommendations for a user for illustration."
      ],
      "metadata": {
        "id": "EEvdVFCO3rhI"
      }
    },
    {
      "cell_type": "code",
      "source": [
        "#take as target user the user with steam id = 76561197996569707\n",
        "target_user_index = training_df.filter(col(\"author_steamid\") == \"76561197996569707\") \\\n",
        "                               .select(\"userIndex\").distinct().limit(1) \\\n",
        "                               .collect()[0][\"userIndex\"]\n",
        "\n",
        "user_id_df = spark.createDataFrame([(int(target_user_index),)], [\"userIndex\"])\n",
        "\n",
        "# find top 3 recommendations\n",
        "user_recs = als_model.recommendForUserSubset(user_id_df, 3)\n",
        "\n",
        "#create separate row for each recommendation\n",
        "exploded_recs = user_recs.select(\"userIndex\", explode(\"recommendations\").alias(\"rec\"))\n",
        "\n",
        "#Extract itemIndex and prediction from rec, and rescale prediction\n",
        "final_recs = exploded_recs.select(\n",
        "    col(\"userIndex\"),\n",
        "    col(\"rec.itemIndex\").alias(\"itemIndex\"),\n",
        "    ((col(\"rec.rating\") * 4.0) + 1.0).alias(\"rescaled_rating\")\n",
        ")\n",
        "\n",
        "\n",
        "app_id_map_df = spark.createDataFrame(\n",
        "    [(i, app_id_labels[i]) for i in range(len(app_id_labels))],\n",
        "    [\"itemIndex\", \"app_id\"]\n",
        ").withColumn(\"itemIndex\", col(\"itemIndex\").cast(\"double\"))\n",
        "\n",
        "\n",
        "final_table = final_recs.join(app_id_map_df, on=\"itemIndex\", how=\"left\") \\\n",
        "    .select(\"app_id\", \"rescaled_rating\") \\\n",
        "    .orderBy(col(\"rescaled_rating\").desc())\n",
        "\n",
        "# show the recommendation\n",
        "final_table.show(truncate=False)"
      ],
      "metadata": {
        "id": "n6FlVVWh3qA0"
      },
      "execution_count": null,
      "outputs": []
    },
    {
      "cell_type": "markdown",
      "source": [
        "## Try by keeping the sentiment (without mapping it to a rating)"
      ],
      "metadata": {
        "id": "1s5yTsCBtOuA"
      }
    },
    {
      "cell_type": "markdown",
      "source": [
        "Below we attempt to scale the sentiment score from 0 to 1, after using the sentiment lexicon, to input into ALS. This approach gives a smaller RMSE."
      ],
      "metadata": {
        "id": "1RH2J7RduQxa"
      }
    },
    {
      "cell_type": "code",
      "source": [
        "#Normalize sentiment_score to [0, 1] (ALS works better with positive values, cannot predict negative)\n",
        "training_df = training_df.withColumn(\"normalized_sentiment\", (col(\"sentiment_score\") + 1.0) / 2.0)\n",
        "test_df = test_df.withColumn(\"normalized_sentiment\", (col(\"sentiment_score\") + 1.0) / 2.0)\n",
        "\n",
        "#Train ALS model on normalized sentiment\n",
        "als_sentiment = ALS(\n",
        "    userCol=\"userIndex\",\n",
        "    itemCol=\"itemIndex\",\n",
        "    ratingCol=\"normalized_sentiment\",\n",
        "    coldStartStrategy=\"drop\",\n",
        "    nonnegative=True,\n",
        "    rank=10,\n",
        "    maxIter=5,\n",
        "    regParam=0.01\n",
        ")\n",
        "als_sentiment_model = als_sentiment.fit(training_df)"
      ],
      "metadata": {
        "id": "XQv0uxLQtORa",
        "colab": {
          "base_uri": "https://localhost:8080/"
        },
        "outputId": "4d25e5df-29ba-4678-8187-39ae2c7a41bc"
      },
      "execution_count": null,
      "outputs": [
        {
          "output_type": "stream",
          "name": "stdout",
          "text": [
            "Sentiment RMSE: 0.8951\n"
          ]
        }
      ]
    },
    {
      "cell_type": "code",
      "source": [
        "# again, save the model to avoid having to retrain\n",
        "als_sentiment_model.write().overwrite().save(\"/content/als_sentiment_model\")\n"
      ],
      "metadata": {
        "id": "h5QGLAJ3KED1"
      },
      "execution_count": null,
      "outputs": []
    },
    {
      "cell_type": "code",
      "source": [
        "als_sentiment_model = ALSModel.load(\"/content/als_sentiment_model\")"
      ],
      "metadata": {
        "id": "lQZxG26PLr1j"
      },
      "execution_count": null,
      "outputs": []
    },
    {
      "cell_type": "markdown",
      "source": [
        "## We reload the model and predict on the test set. We then rescale the predicted values back to a value from -1 to 1 like the raw sentiment scores."
      ],
      "metadata": {
        "id": "aYnQaYPVuvz4"
      }
    },
    {
      "cell_type": "code",
      "source": [
        "# Predict sentiment scores on test set\n",
        "sentiment_predictions = als_sentiment_model.transform(test_df)\n",
        "\n",
        "# Drop nulls from cold start users/items\n",
        "sentiment_predictions = sentiment_predictions.filter(col(\"prediction\").isNotNull())\n",
        "\n",
        "# Rescale prediction back to [-1, 1]\n",
        "sentiment_predictions = sentiment_predictions.withColumn(\n",
        "    \"rescaled_prediction\", (col(\"prediction\") * 2.0) - 1.0\n",
        ")\n",
        "\n",
        "# Evaluate RMSE on original sentiment_score\n",
        "evaluator = RegressionEvaluator(\n",
        "    metricName=\"rmse\",\n",
        "    labelCol=\"sentiment_score\",\n",
        "    predictionCol=\"rescaled_prediction\"\n",
        ")\n",
        "sentiment_rmse = evaluator.evaluate(sentiment_predictions)\n",
        "\n",
        "print(f\"Sentiment RMSE: {sentiment_rmse:.4f}\")"
      ],
      "metadata": {
        "colab": {
          "base_uri": "https://localhost:8080/"
        },
        "id": "PkySI296KudS",
        "outputId": "4f98cda5-5978-415d-af08-137247658f88"
      },
      "execution_count": null,
      "outputs": [
        {
          "output_type": "stream",
          "name": "stdout",
          "text": [
            "Sentiment RMSE: 0.8951\n"
          ]
        }
      ]
    },
    {
      "cell_type": "markdown",
      "source": [
        "## Below we attempt to keep the raw sentiment score, after using the sentiment lexicon, rather than scaling or converting to a rating to to input into ALS. This approach gives the smallest RMSE."
      ],
      "metadata": {
        "id": "OtqIqSUA0Uzq"
      }
    },
    {
      "cell_type": "code",
      "source": [
        "# Skip normalization — use raw sentiment_score directly\n",
        "# Make sure sentiment_score is within a range ALS can work with (e.g., non-null, reasonable scale)\n",
        "\n",
        "als_sentiment2 = ALS(\n",
        "    userCol=\"userIndex\",\n",
        "    itemCol=\"itemIndex\",\n",
        "    ratingCol=\"sentiment_score\",  # Use raw sentiment score directly\n",
        "    coldStartStrategy=\"drop\",\n",
        "    nonnegative=True,  # Ensure scores are non-negative, or set to False if using negative values\n",
        "    rank=10,\n",
        "    maxIter=5,\n",
        "    regParam=0.01\n",
        ")\n",
        "\n",
        "als_sentiment_model2 = als_sentiment2.fit(training_df)\n"
      ],
      "metadata": {
        "id": "_RoIe_CotOEo"
      },
      "execution_count": null,
      "outputs": []
    },
    {
      "cell_type": "code",
      "source": [
        "# save the model to avoid having to retrain and out of memory errors\n",
        "als_sentiment_model2.write().overwrite().save(\"/content/als_sentiment_model2\")"
      ],
      "metadata": {
        "id": "mD6I8v4LtOBE"
      },
      "execution_count": null,
      "outputs": []
    },
    {
      "cell_type": "code",
      "source": [
        "als_sentiment_model2 = ALSModel.load(\"/content/als_sentiment_model2\")"
      ],
      "metadata": {
        "id": "HBOW6dmGtN9k"
      },
      "execution_count": null,
      "outputs": []
    },
    {
      "cell_type": "code",
      "source": [
        "# Predict sentiment scores on test set\n",
        "sentiment_predictions2 = als_sentiment_model2.transform(test_df)\n",
        "\n",
        "# Drop nulls from cold start users/items\n",
        "sentiment_predictions2 = sentiment_predictions2.filter(col(\"prediction\").isNotNull())\n",
        "\n",
        "# Evaluate RMSE directly using original sentiment_score\n",
        "evaluator2 = RegressionEvaluator(\n",
        "    metricName=\"rmse\",\n",
        "    labelCol=\"sentiment_score\",\n",
        "    predictionCol=\"prediction\"\n",
        ")\n",
        "sentiment_rmse2 = evaluator2.evaluate(sentiment_predictions2)\n",
        "\n",
        "print(f\"Sentiment RMSE: {sentiment_rmse2:.4f}\")\n"
      ],
      "metadata": {
        "id": "X-kUiYuMtN6L",
        "colab": {
          "base_uri": "https://localhost:8080/"
        },
        "outputId": "ad08d7f9-2c49-4ee4-d208-ff135ea8aba8"
      },
      "execution_count": null,
      "outputs": [
        {
          "output_type": "stream",
          "name": "stdout",
          "text": [
            "Sentiment RMSE: 0.5760\n"
          ]
        }
      ]
    },
    {
      "cell_type": "markdown",
      "source": [
        "### For the above approach we illustrate the top 3 recommendations for a specific user"
      ],
      "metadata": {
        "id": "cSJPwbiW5cbX"
      }
    },
    {
      "cell_type": "code",
      "source": [
        "# target user\n",
        "target_user_id = \"76561197996569707\"\n",
        "\n",
        "target_user_index = training_df.filter(col(\"author_steamid\") == target_user_id) \\\n",
        "                               .select(\"userIndex\").distinct().limit(1) \\\n",
        "                               .collect()[0][\"userIndex\"]\n",
        "\n",
        "#Create a single-row DataFrame with the userIndex\n",
        "user_df = spark.createDataFrame([(int(target_user_index),)], [\"userIndex\"])\n",
        "\n",
        "#top 3 recommendations\n",
        "user_recs = als_sentiment_model2.recommendForUserSubset(user_df,3)\n",
        "\n",
        "recs_flat = user_recs.selectExpr(\"userIndex\", \"explode(recommendations) as rec\") \\\n",
        "                     .select(\"userIndex\", col(\"rec.itemIndex\").alias(\"itemIndex\"), col(\"rec.rating\").alias(\"predicted_sentiment\"))\n",
        "\n",
        "#bring itemIndex back to original app_id\n",
        "from pyspark.sql import Row\n",
        "\n",
        "index_to_appid = spark.createDataFrame([\n",
        "    Row(itemIndex=float(i), app_id=app_id_labels[i])\n",
        "    for i in range(len(app_id_labels))\n",
        "])\n",
        "\n",
        "# Join with recommendations\n",
        "final_recs = recs_flat.join(index_to_appid, on=\"itemIndex\", how=\"left\") \\\n",
        "                      .select(\"app_id\", \"predicted_sentiment\") \\\n",
        "                      .orderBy(col(\"predicted_sentiment\").desc())\n",
        "\n",
        "#show results\n",
        "final_recs.show(truncate=False)\n"
      ],
      "metadata": {
        "id": "Z_E9phJi6Pv0"
      },
      "execution_count": null,
      "outputs": []
    },
    {
      "cell_type": "markdown",
      "source": [
        "## Past Approaches that did not stand out"
      ],
      "metadata": {
        "id": "Eiq-JAGLwSq-"
      }
    },
    {
      "cell_type": "markdown",
      "metadata": {
        "id": "0AiRnabx3N4b"
      },
      "source": [
        "### Pre-processing"
      ]
    },
    {
      "cell_type": "code",
      "execution_count": null,
      "metadata": {
        "id": "6IUrbihoPsKI"
      },
      "outputs": [],
      "source": [
        "# Improved Mapping Function to Handle All Cases\n",
        "def map_recommendation(value):\n",
        "    if isinstance(value, str):\n",
        "        value = value.strip().lower()  # Handle spaces and case issues\n",
        "        if value in [\"true\", \"1\", \"yes\"]:   # Flexible matching for true\n",
        "            return 1\n",
        "        elif value in [\"false\", \"0\", \"no\"]: # Flexible matching for false\n",
        "            return 0\n",
        "    elif isinstance(value, bool):  # If values are directly boolean\n",
        "        return 1 if value else 0\n",
        "    return 0  # Default value for unexpected data\n",
        "\n",
        "# Register UDF (User Defined Function)\n",
        "from pyspark.sql import functions as F\n",
        "from pyspark.sql.functions import udf\n",
        "\n",
        "map_recommendation_udf = udf(map_recommendation, T.IntegerType())\n",
        "\n",
        "# Apply mapping logic\n",
        "sample_df2_mappping = sample_df2.withColumn(\"recommended\", map_recommendation_udf(\"recommended\"))"
      ]
    },
    {
      "cell_type": "code",
      "execution_count": null,
      "metadata": {
        "colab": {
          "base_uri": "https://localhost:8080/"
        },
        "id": "b4o8Hu0wz6oW",
        "outputId": "7edaa239-626b-44bc-b0f4-35e5ff120dd3"
      },
      "outputs": [
        {
          "output_type": "stream",
          "name": "stdout",
          "text": [
            "+-----------+-------+\n",
            "|recommended|  count|\n",
            "+-----------+-------+\n",
            "|          1|1285737|\n",
            "|          0| 156919|\n",
            "+-----------+-------+\n",
            "\n"
          ]
        }
      ],
      "source": [
        "# Check distribution after mapping\n",
        "sample_df2_mappping.groupBy(\"recommended\").count().show()"
      ]
    },
    {
      "cell_type": "code",
      "execution_count": null,
      "metadata": {
        "id": "mX5QQUAnIFaK"
      },
      "outputs": [],
      "source": [
        "# separating the classes\n",
        "majority_class = sample_df2_mappping.filter(\"recommended = 1\")\n",
        "minority_class = sample_df2_mappping.filter(\"recommended = 0\")\n",
        "\n",
        "# downsampling the majority class\n",
        "ratio = minority_class.count() / majority_class.count()\n",
        "downsampled_majority = majority_class.sample(False, ratio, seed=42)\n",
        "\n",
        "# combining the downsampled majority and the original minority\n",
        "balanced_data = downsampled_majority.union(minority_class)"
      ]
    },
    {
      "cell_type": "code",
      "execution_count": null,
      "metadata": {
        "colab": {
          "base_uri": "https://localhost:8080/"
        },
        "id": "xJDjCShwT_l3",
        "outputId": "2b820f56-ee43-43f6-978f-cee38ccaf045"
      },
      "outputs": [
        {
          "output_type": "stream",
          "name": "stdout",
          "text": [
            "+-----------+------+\n",
            "|recommended| count|\n",
            "+-----------+------+\n",
            "|          1|156948|\n",
            "|          0|156919|\n",
            "+-----------+------+\n",
            "\n"
          ]
        }
      ],
      "source": [
        "# verifying class balance\n",
        "balanced_data.groupBy(\"recommended\").count().show()"
      ]
    },
    {
      "cell_type": "code",
      "execution_count": null,
      "metadata": {
        "id": "D8MNKafz3xjC"
      },
      "outputs": [],
      "source": [
        "# Index user and item IDs for collaborative filtering\n",
        "user_indexer = StringIndexer(inputCol=\"author_steamid\", outputCol=\"userId\").fit(balanced_data) # we used to have \"review_id\" wrong.\n",
        "item_indexer = StringIndexer(inputCol=\"app_id\", outputCol=\"itemId\").fit(balanced_data)\n",
        "\n",
        "# Apply transformations\n",
        "balanced_data = user_indexer.transform(balanced_data)\n",
        "balanced_data = item_indexer.transform(balanced_data)\n",
        "\n",
        "# Select relevant columns\n",
        "data = balanced_data.select(\"userId\", \"itemId\", \"recommended\")"
      ]
    },
    {
      "cell_type": "code",
      "execution_count": null,
      "metadata": {
        "id": "J3c0KhT3d_yO"
      },
      "outputs": [],
      "source": [
        "data.write.mode(\"overwrite\").parquet(\"/content/data\")"
      ]
    },
    {
      "cell_type": "code",
      "execution_count": null,
      "metadata": {
        "id": "X8KKsHwSen1i"
      },
      "outputs": [],
      "source": [
        "data = spark.read.parquet(\"/content/data\")"
      ]
    },
    {
      "cell_type": "code",
      "execution_count": null,
      "metadata": {
        "colab": {
          "base_uri": "https://localhost:8080/"
        },
        "id": "9iFtQoQn6pHg",
        "outputId": "3b404d74-d483-43c7-a5b9-5d4cfcc5b1f2"
      },
      "outputs": [
        {
          "output_type": "stream",
          "name": "stdout",
          "text": [
            "+--------+------+-----------+\n",
            "|  userId|itemId|recommended|\n",
            "+--------+------+-----------+\n",
            "|209882.0| 184.0|          0|\n",
            "| 15931.0| 184.0|          0|\n",
            "|139160.0| 184.0|          0|\n",
            "|   482.0| 197.0|          0|\n",
            "|327695.0| 197.0|          0|\n",
            "+--------+------+-----------+\n",
            "only showing top 5 rows\n",
            "\n"
          ]
        }
      ],
      "source": [
        "data.show(5)"
      ]
    },
    {
      "cell_type": "code",
      "execution_count": null,
      "metadata": {
        "colab": {
          "base_uri": "https://localhost:8080/"
        },
        "id": "9M_ArI8AmeJa",
        "outputId": "a5f5dcbd-799c-4329-e6d2-4455d9cd14b3"
      },
      "outputs": [
        {
          "output_type": "stream",
          "name": "stdout",
          "text": [
            "+-----------+------+\n",
            "|recommended| count|\n",
            "+-----------+------+\n",
            "|          1|209388|\n",
            "|          0|209144|\n",
            "+-----------+------+\n",
            "\n"
          ]
        }
      ],
      "source": [
        "data.groupBy('recommended').count().show()"
      ]
    },
    {
      "cell_type": "markdown",
      "metadata": {
        "id": "nGnu0KNJ0WOK"
      },
      "source": [
        "### Collaborative Filtering using ALS"
      ]
    },
    {
      "cell_type": "code",
      "execution_count": null,
      "metadata": {
        "id": "SKgkm1p0ttLw"
      },
      "outputs": [],
      "source": [
        "# Split into train/test\n",
        "(training_data, test_data) = data.randomSplit([0.8, 0.2], seed=42)"
      ]
    },
    {
      "cell_type": "code",
      "execution_count": null,
      "metadata": {
        "colab": {
          "base_uri": "https://localhost:8080/"
        },
        "id": "A44vV5MD0xZU",
        "outputId": "a8212ca7-fd54-41ed-bb14-553d36925010"
      },
      "outputs": [
        {
          "name": "stdout",
          "output_type": "stream",
          "text": [
            "+------+------+-----------+\n",
            "|userId|itemId|recommended|\n",
            "+------+------+-----------+\n",
            "|   0.0|  26.0|          0|\n",
            "|   0.0|  46.0|          0|\n",
            "|   0.0|  99.0|          0|\n",
            "|   0.0| 120.0|          0|\n",
            "|   0.0| 195.0|          0|\n",
            "|   1.0|  11.0|          0|\n",
            "|   1.0| 120.0|          0|\n",
            "|   1.0| 155.0|          0|\n",
            "|   2.0|  22.0|          0|\n",
            "|   2.0| 102.0|          0|\n",
            "|   2.0| 221.0|          0|\n",
            "|   3.0|  69.0|          0|\n",
            "|   3.0|  98.0|          0|\n",
            "|   3.0|  99.0|          0|\n",
            "|   3.0| 160.0|          0|\n",
            "|   4.0| 181.0|          0|\n",
            "|   4.0| 206.0|          0|\n",
            "|   4.0| 255.0|          0|\n",
            "|   5.0| 216.0|          0|\n",
            "|   6.0|  11.0|          0|\n",
            "+------+------+-----------+\n",
            "only showing top 20 rows\n",
            "\n"
          ]
        }
      ],
      "source": [
        "training_data.show()"
      ]
    },
    {
      "cell_type": "code",
      "execution_count": null,
      "metadata": {
        "colab": {
          "base_uri": "https://localhost:8080/"
        },
        "id": "HHfCO-nx1YFs",
        "outputId": "f13f90bf-439e-48a4-9500-a9032cb2dff6"
      },
      "outputs": [
        {
          "name": "stdout",
          "output_type": "stream",
          "text": [
            "+------+------+-----------+\n",
            "|userId|itemId|recommended|\n",
            "+------+------+-----------+\n",
            "|   0.0|  26.0|          0|\n",
            "|   0.0|  46.0|          0|\n",
            "|   0.0|  99.0|          0|\n",
            "|   0.0| 120.0|          0|\n",
            "|   0.0| 195.0|          0|\n",
            "|   0.0|  23.0|          0|\n",
            "|   0.0|  52.0|          0|\n",
            "|   0.0|  54.0|          0|\n",
            "|   0.0|  91.0|          0|\n",
            "|   0.0| 100.0|          0|\n",
            "|   0.0| 172.0|          0|\n",
            "+------+------+-----------+\n",
            "\n"
          ]
        }
      ],
      "source": [
        "training_data.filter(col(\"userId\") == 0.0).show()"
      ]
    },
    {
      "cell_type": "code",
      "execution_count": null,
      "metadata": {
        "id": "zMKhzht00d2Y"
      },
      "outputs": [],
      "source": [
        "# ALS - we avoided rdd's for computational reasons - rdd's run forever"
      ]
    },
    {
      "cell_type": "code",
      "execution_count": null,
      "metadata": {
        "id": "19IxedK6ttOF"
      },
      "outputs": [],
      "source": [
        "als = ALS(\n",
        "    userCol=\"userId\",\n",
        "    itemCol=\"itemId\",\n",
        "    ratingCol=\"recommended\",\n",
        "    implicitPrefs=True,         # <- important!\n",
        "    nonnegative=True,\n",
        "    coldStartStrategy=\"drop\",\n",
        "    maxIter=10,\n",
        "    regParam=0.1,\n",
        "    rank=20\n",
        ")\n",
        "\n",
        "model = als.fit(training_data) # takes 4 mins with small sample"
      ]
    },
    {
      "cell_type": "code",
      "execution_count": null,
      "metadata": {
        "colab": {
          "base_uri": "https://localhost:8080/"
        },
        "id": "rq_Hazn9ttQt",
        "outputId": "faa4b425-662a-48f8-bbaa-26129aba320f"
      },
      "outputs": [
        {
          "name": "stdout",
          "output_type": "stream",
          "text": [
            "Root-mean-square error = 0.5847\n"
          ]
        }
      ],
      "source": [
        "predictions = model.transform(test_data)\n",
        "\n",
        "evaluator = RegressionEvaluator(metricName=\"rmse\", labelCol=\"recommended\", predictionCol=\"prediction\")\n",
        "rmse = evaluator.evaluate(predictions)\n",
        "print(f\"Root-mean-square error = {rmse:.4f}\")"
      ]
    },
    {
      "cell_type": "code",
      "execution_count": null,
      "metadata": {
        "colab": {
          "base_uri": "https://localhost:8080/"
        },
        "id": "XKbG474dttWb",
        "outputId": "bb26cc11-b540-40b3-dc78-8be394d1dae8"
      },
      "outputs": [
        {
          "name": "stdout",
          "output_type": "stream",
          "text": [
            "+------+------+---------------+\n",
            "|userId|itemId|predicted_score|\n",
            "+------+------+---------------+\n",
            "|     1|    99|            0.0|\n",
            "|     1|    98|            0.0|\n",
            "|     1|    97|            0.0|\n",
            "|     1|    96|            0.0|\n",
            "|     1|    95|            0.0|\n",
            "|     1|    94|            0.0|\n",
            "|     1|    93|            0.0|\n",
            "|     1|    92|            0.0|\n",
            "|     1|    91|            0.0|\n",
            "|     1|    90|            0.0|\n",
            "+------+------+---------------+\n",
            "only showing top 10 rows\n",
            "\n"
          ]
        }
      ],
      "source": [
        "user_recs = model.recommendForAllUsers(10)\n",
        "\n",
        "# Explode recommendations for readability\n",
        "user_recs = user_recs.selectExpr(\"userId\", \"explode(recommendations) as rec\") \\\n",
        "                     .selectExpr(\"userId\", \"rec.itemId as itemId\", \"rec.rating as predicted_score\")\n",
        "\n",
        "user_recs.show(10)"
      ]
    },
    {
      "cell_type": "markdown",
      "metadata": {
        "id": "ro5WGYmx72yY"
      },
      "source": [
        "since we see 0.0 above why is there not even a single 0.0 predicted score when i print the below?\n",
        "\n",
        "or are they rounded to zeros?"
      ]
    },
    {
      "cell_type": "code",
      "execution_count": null,
      "metadata": {
        "colab": {
          "base_uri": "https://localhost:8080/"
        },
        "id": "KRyokSAo2_tf",
        "outputId": "69a72c3f-559a-41e3-9d1b-588b9835b4da"
      },
      "outputs": [
        {
          "name": "stdout",
          "output_type": "stream",
          "text": [
            "+---------------+-----+\n",
            "|predicted_score|count|\n",
            "+---------------+-----+\n",
            "|    2.267511E-6|   21|\n",
            "|    0.031291004|  860|\n",
            "|     0.29093817|    1|\n",
            "|    0.014850931| 1901|\n",
            "|    0.006135369| 1060|\n",
            "|   0.0014933996|  507|\n",
            "|     0.27736363|    1|\n",
            "|    0.013082908|  678|\n",
            "|    0.028606664|    1|\n",
            "|    0.006225986|    7|\n",
            "|   6.8407814E-4|   66|\n",
            "|    0.012543356| 1525|\n",
            "|      0.4605072|    4|\n",
            "|     0.03383468|    3|\n",
            "|   0.0025839922|    1|\n",
            "|   0.0014022148|    1|\n",
            "|     0.23143281|    1|\n",
            "|    0.023759883|    1|\n",
            "|   0.0032866083|    1|\n",
            "|     0.41426116|    1|\n",
            "+---------------+-----+\n",
            "only showing top 20 rows\n",
            "\n"
          ]
        }
      ],
      "source": [
        "user_recs.groupBy('predicted_score').count().show()"
      ]
    },
    {
      "cell_type": "code",
      "execution_count": null,
      "metadata": {
        "colab": {
          "base_uri": "https://localhost:8080/"
        },
        "id": "VODNGRK35jBX",
        "outputId": "cbcf2ed5-921e-474b-aaa6-d5246fa62189"
      },
      "outputs": [
        {
          "data": {
            "text/plain": [
              "1500170"
            ]
          },
          "execution_count": 78,
          "metadata": {},
          "output_type": "execute_result"
        }
      ],
      "source": [
        "user_recs.filter(\"predicted_score == 0.0\").count()"
      ]
    },
    {
      "cell_type": "code",
      "execution_count": null,
      "metadata": {
        "colab": {
          "base_uri": "https://localhost:8080/"
        },
        "id": "Sv37DeKb7GzY",
        "outputId": "968351b3-43c9-4604-e9b7-821d56cffc5c"
      },
      "outputs": [
        {
          "name": "stdout",
          "output_type": "stream",
          "text": [
            "+------+------+---------------+\n",
            "|userId|itemId|predicted_score|\n",
            "+------+------+---------------+\n",
            "|     1|    99|            0.0|\n",
            "|     1|    98|            0.0|\n",
            "|     1|    97|            0.0|\n",
            "|     1|    96|            0.0|\n",
            "|     1|    95|            0.0|\n",
            "|     1|    94|            0.0|\n",
            "|     1|    93|            0.0|\n",
            "|     1|    92|            0.0|\n",
            "|     1|    91|            0.0|\n",
            "|     1|    90|            0.0|\n",
            "+------+------+---------------+\n",
            "\n"
          ]
        }
      ],
      "source": [
        "user_recs.filter(\"userId == 1\").show()\n"
      ]
    },
    {
      "cell_type": "code",
      "execution_count": null,
      "metadata": {
        "colab": {
          "base_uri": "https://localhost:8080/"
        },
        "id": "cjCFv0U_7Hgb",
        "outputId": "7ef2e9bc-f75f-4445-a5a7-36217f0d139b"
      },
      "outputs": [
        {
          "name": "stdout",
          "output_type": "stream",
          "text": [
            "+------+------+---------------+\n",
            "|userId|itemId|predicted_score|\n",
            "+------+------+---------------+\n",
            "|   100|    23|    0.001179014|\n",
            "|   100|    15|    7.059766E-4|\n",
            "|   100|    50|   6.9715985E-4|\n",
            "|   100|    26|    6.913242E-4|\n",
            "|   100|    16|   6.0458307E-4|\n",
            "|   100|    22|    5.622228E-4|\n",
            "|   100|    28|    5.272908E-4|\n",
            "|   100|    41|   4.8064493E-4|\n",
            "|   100|    62|    4.699941E-4|\n",
            "|   100|    18|   4.4189303E-4|\n",
            "+------+------+---------------+\n",
            "\n"
          ]
        }
      ],
      "source": [
        "user_recs.filter(\"userId == 100\").show()\n"
      ]
    },
    {
      "cell_type": "markdown",
      "metadata": {
        "id": "7BqrwCkg86Q2"
      },
      "source": [
        "each item is assigned a specific score"
      ]
    },
    {
      "cell_type": "code",
      "execution_count": null,
      "metadata": {
        "colab": {
          "base_uri": "https://localhost:8080/"
        },
        "id": "MS3eHE-3ttYx",
        "outputId": "a3662f5e-f87e-4fe1-9a49-3efecf801dc4"
      },
      "outputs": [
        {
          "name": "stdout",
          "output_type": "stream",
          "text": [
            "+------+------+---------------+\n",
            "|itemId|userId|predicted_score|\n",
            "+------+------+---------------+\n",
            "|     0|374090|      0.9585758|\n",
            "|     0|372212|      0.9585758|\n",
            "|     0|368071|      0.9585758|\n",
            "|     0|367938|      0.9585758|\n",
            "|     0|367320|      0.9585758|\n",
            "|     0|367180|      0.9585758|\n",
            "|     0|365651|      0.9585758|\n",
            "|     0|365191|      0.9585758|\n",
            "|     0|364660|      0.9585758|\n",
            "|     0|364230|      0.9585758|\n",
            "+------+------+---------------+\n",
            "only showing top 10 rows\n",
            "\n"
          ]
        }
      ],
      "source": [
        "# item-based\n",
        "\n",
        "item_recs = model.recommendForAllItems(10)\n",
        "\n",
        "item_recs = item_recs.selectExpr(\"itemId\", \"explode(recommendations) as rec\") \\\n",
        "                     .selectExpr(\"itemId\", \"rec.userId as userId\", \"rec.rating as predicted_score\")\n",
        "\n",
        "item_recs.show(10)\n"
      ]
    },
    {
      "cell_type": "code",
      "execution_count": null,
      "metadata": {
        "colab": {
          "base_uri": "https://localhost:8080/"
        },
        "id": "JlxmyiYz5v7b",
        "outputId": "f773c76d-8f43-43af-e293-d51043bf40bc"
      },
      "outputs": [
        {
          "name": "stdout",
          "output_type": "stream",
          "text": [
            "+------+------+---------------+\n",
            "|itemId|userId|predicted_score|\n",
            "+------+------+---------------+\n",
            "|     1|363901|      0.9597491|\n",
            "|     1|363171|      0.9597491|\n",
            "|     1|362491|      0.9597491|\n",
            "|     1|361164|      0.9597491|\n",
            "|     1|361098|      0.9597491|\n",
            "|     1|360990|      0.9597491|\n",
            "|     1|360812|      0.9597491|\n",
            "|     1|360571|      0.9597491|\n",
            "|     1|360418|      0.9597491|\n",
            "|     1|360221|      0.9597491|\n",
            "+------+------+---------------+\n",
            "\n",
            "+------+------+---------------+\n",
            "|itemId|userId|predicted_score|\n",
            "+------+------+---------------+\n",
            "|     2|358612|      0.9604678|\n",
            "|     2|358482|      0.9604678|\n",
            "|     2|358342|      0.9604678|\n",
            "|     2|358261|      0.9604678|\n",
            "|     2|358230|      0.9604678|\n",
            "|     2|357901|      0.9604678|\n",
            "|     2|357767|      0.9604678|\n",
            "|     2|357717|      0.9604678|\n",
            "|     2|357371|      0.9604678|\n",
            "|     2|357341|      0.9604678|\n",
            "+------+------+---------------+\n",
            "\n"
          ]
        }
      ],
      "source": [
        "item_recs.filter(\"itemId = 1\").show()\n",
        "item_recs.filter(\"itemId = 2\").show()"
      ]
    },
    {
      "cell_type": "markdown",
      "metadata": {
        "id": "9mC8CPn90g4d"
      },
      "source": [
        "To generate game recommendations based on user behavior, we implemented collaborative filtering using the ALS (Alternating Least Squares) algorithm. We trained the ALS model on a user-item matrix where each row indicates whether a user recommended a game. The model learns latent user and item features that best predict the observed preferences.\n",
        "\n",
        "After training, we generated:\n",
        "\n",
        "User-based recommendations: Top 10 games predicted for each user.\n",
        "\n",
        "Item-based recommendations: Top 10 users likely to enjoy each game.\n",
        "\n",
        "We also evaluated the model using RMSE on the test data."
      ]
    },
    {
      "cell_type": "markdown",
      "metadata": {
        "id": "RHaVKZ683Wt5"
      },
      "source": [
        "**ALS does not work well with binary (0 or 1), better with ratings.**"
      ]
    },
    {
      "cell_type": "markdown",
      "metadata": {
        "id": "K-noGaGb7oFF"
      },
      "source": [
        "For each item—say, item 1 or item 2—we noticed that the predicted scores for the top 10 users are exactly the same for that particular item, although they differ between items. This is a known behavior in ALS, especially when the item latent vector becomes dominant. That can happen when an item is particularly popular or highly rated. At the same time, if many users have very similar latent vectors—perhaps because they exhibit similar behavior or preferences—the model ends up learning more about the items than the users. This is often due to data imbalance or sparsity in the user-item interactions.\n",
        "\n",
        "As a result, ALS ends up assigning the same predicted score to multiple users for the same item, simply because those users aren’t distinguishable in the latent space. This doesn't mean ALS is broken—it’s actually doing what it was trained to do. It just reflects that your users aren't diverse enough in terms of behavior, or that the dataset doesn't provide enough information to differentiate them meaningfully. The outcome is a recommendation system that's more item-driven and less personalized.\n"
      ]
    },
    {
      "cell_type": "markdown",
      "metadata": {
        "id": "Qurxunw65x2m"
      },
      "source": [
        "### Cosine Similarity - We don't have enough data on each item (e.g. genre) therefore we may only proceed with user-based"
      ]
    },
    {
      "cell_type": "code",
      "execution_count": null,
      "metadata": {
        "id": "iMv5qTLS0iyF"
      },
      "outputs": [],
      "source": [
        "# Make sure the columns are typed correctly\n",
        "steam_df = data.withColumn(\"user_id\", col(\"userId\").cast(\"int\")) \\\n",
        "                   .withColumn(\"item_id\", col(\"itemId\").cast(\"int\")) \\\n",
        "                   .withColumn(\"recommended\", col(\"recommended\").cast(\"int\"))"
      ]
    },
    {
      "cell_type": "code",
      "execution_count": null,
      "metadata": {
        "colab": {
          "base_uri": "https://localhost:8080/"
        },
        "id": "yU9puVUI895I",
        "outputId": "d5a3dfa7-abb9-49a7-903a-9f8409ed9b54"
      },
      "outputs": [
        {
          "name": "stdout",
          "output_type": "stream",
          "text": [
            "+--------+------+-----------+-------+-------+\n",
            "|  userId|itemId|recommended|user_id|item_id|\n",
            "+--------+------+-----------+-------+-------+\n",
            "|209882.0| 184.0|          0| 209882|    184|\n",
            "| 15931.0| 184.0|          0|  15931|    184|\n",
            "|139160.0| 184.0|          0| 139160|    184|\n",
            "|   482.0| 197.0|          0|    482|    197|\n",
            "|327695.0| 197.0|          0| 327695|    197|\n",
            "| 13077.0| 197.0|          0|  13077|    197|\n",
            "|295302.0| 197.0|          0| 295302|    197|\n",
            "|259247.0| 197.0|          0| 259247|    197|\n",
            "|   572.0| 197.0|          0|    572|    197|\n",
            "| 10802.0| 197.0|          0|  10802|    197|\n",
            "|  2734.0| 197.0|          0|   2734|    197|\n",
            "|    96.0| 197.0|          0|     96|    197|\n",
            "|106703.0| 197.0|          0| 106703|    197|\n",
            "|354933.0| 197.0|          0| 354933|    197|\n",
            "|208765.0| 197.0|          0| 208765|    197|\n",
            "| 15094.0| 197.0|          0|  15094|    197|\n",
            "| 15298.0| 197.0|          0|  15298|    197|\n",
            "| 12557.0| 197.0|          0|  12557|    197|\n",
            "| 88308.0| 197.0|          0|  88308|    197|\n",
            "|301334.0| 197.0|          0| 301334|    197|\n",
            "+--------+------+-----------+-------+-------+\n",
            "only showing top 20 rows\n",
            "\n"
          ]
        }
      ],
      "source": [
        "steam_df.show()"
      ]
    },
    {
      "cell_type": "code",
      "execution_count": null,
      "metadata": {
        "colab": {
          "base_uri": "https://localhost:8080/"
        },
        "id": "7eJ-q8pk9Fi9",
        "outputId": "569085ac-b196-4f87-e59f-150b119e8157"
      },
      "outputs": [
        {
          "name": "stdout",
          "output_type": "stream",
          "text": [
            "+-----------+------+\n",
            "|recommended| count|\n",
            "+-----------+------+\n",
            "|          1|209388|\n",
            "|          0|209144|\n",
            "+-----------+------+\n",
            "\n"
          ]
        }
      ],
      "source": [
        "steam_df.groupBy('recommended').count().show()"
      ]
    },
    {
      "cell_type": "code",
      "execution_count": null,
      "metadata": {
        "id": "8kpGagcb3zfT"
      },
      "outputs": [],
      "source": [
        "# Pivot user-item matrix\n",
        "user_item_df = steam_df.groupBy(\"user_id\", \"item_id\") \\\n",
        "                       .agg(F.max(\"recommended\").alias(\"rating\"))\n",
        "\n",
        "# Pivot to create a matrix structure: each user is a row, items are columns\n",
        "pivoted = user_item_df.groupBy(\"user_id\").pivot(\"item_id\").agg(F.first(\"rating\")).fillna(0)\n",
        "\n",
        "# Collect item columns\n",
        "item_columns = pivoted.columns[1:]\n",
        "\n",
        "# Assemble them into a single vector column\n",
        "vec_assembler = VectorAssembler(inputCols=item_columns, outputCol=\"features\")\n",
        "pivoted_vec = vec_assembler.transform(pivoted).select(\"user_id\", \"features\")"
      ]
    },
    {
      "cell_type": "code",
      "execution_count": null,
      "metadata": {
        "id": "jq5epUTN0i0-"
      },
      "outputs": [],
      "source": [
        "# Create aliases for self join\n",
        "a = pivoted_vec.alias(\"a\")\n",
        "b = pivoted_vec.alias(\"b\")\n",
        "\n",
        "# Compute dot product, norms, and similarity\n",
        "def cosine_udf(v1, v2):\n",
        "    v1 = np.array(v1.toArray())\n",
        "    v2 = np.array(v2.toArray())\n",
        "    dot = np.dot(v1, v2)\n",
        "    norm1 = np.linalg.norm(v1)\n",
        "    norm2 = np.linalg.norm(v2)\n",
        "    if norm1 == 0 or norm2 == 0:\n",
        "        return float(0.0)\n",
        "    return float(dot / (norm1 * norm2))\n",
        "\n",
        "cosine_sim_udf = udf(cosine_udf, FloatType())\n",
        "\n",
        "# Self-join to compute similarity\n",
        "user_sim = a.crossJoin(b) \\\n",
        "            .filter(F.col(\"a.user_id\") != F.col(\"b.user_id\")) \\\n",
        "            .withColumn(\"similarity\", cosine_sim_udf(\"a.features\", \"b.features\")) \\\n",
        "            .select(F.col(\"a.user_id\").alias(\"user_a\"),\n",
        "                    F.col(\"b.user_id\").alias(\"user_b\"),\n",
        "                    \"similarity\")"
      ]
    },
    {
      "cell_type": "code",
      "execution_count": null,
      "metadata": {
        "colab": {
          "base_uri": "https://localhost:8080/"
        },
        "id": "3Zkj76Z3-UYA",
        "outputId": "b9735ba5-468b-4fe3-b83b-7fe6bc1e7d57"
      },
      "outputs": [
        {
          "name": "stdout",
          "output_type": "stream",
          "text": [
            "+-------+-----+\n",
            "|item_id|count|\n",
            "+-------+-----+\n",
            "|    126|    1|\n",
            "|    175|    1|\n",
            "+-------+-----+\n",
            "\n"
          ]
        }
      ],
      "source": [
        "top_sim_users = user_sim.filter(\"user_a = 123\") \\\n",
        "                        .orderBy(F.desc(\"similarity\")) \\\n",
        "                        .limit(5)\n",
        "\n",
        "# Get items these users recommended\n",
        "similar_user_ids = [row[\"user_b\"] for row in top_sim_users.collect()]\n",
        "\n",
        "recommended_items = steam_df.filter(F.col(\"user_id\").isin(similar_user_ids)) \\\n",
        "                            .filter(F.col(\"recommended\") == 1)\n",
        "\n",
        "# Exclude items already known to the target user\n",
        "target_items = steam_df.filter(\"user_id = 123\").select(\"item_id\").distinct()\n",
        "\n",
        "final_recs = recommended_items.join(target_items, on=\"item_id\", how=\"left_anti\") \\\n",
        "                              .groupBy(\"item_id\") \\\n",
        "                              .count() \\\n",
        "                              .orderBy(F.desc(\"count\"))\n",
        "\n",
        "final_recs.show()\n",
        " # for user 123"
      ]
    },
    {
      "cell_type": "markdown",
      "metadata": {
        "id": "dy4Tv4aXG2nK"
      },
      "source": [
        "This means that one of the top similar users of user 123 recommends item 126 and so on."
      ]
    },
    {
      "cell_type": "code",
      "execution_count": null,
      "metadata": {
        "colab": {
          "base_uri": "https://localhost:8080/"
        },
        "id": "sCMHUHdX-Uam",
        "outputId": "ebc9ce87-5241-4883-b5c6-c75185b375a5"
      },
      "outputs": [
        {
          "name": "stdout",
          "output_type": "stream",
          "text": [
            "+-------+-----+\n",
            "|user_id|count|\n",
            "+-------+-----+\n",
            "|      0|   15|\n",
            "|      1|   13|\n",
            "|      2|   11|\n",
            "|      3|   11|\n",
            "|      4|   10|\n",
            "|      6|   10|\n",
            "|      7|   10|\n",
            "|      5|   10|\n",
            "|      8|    9|\n",
            "|     12|    9|\n",
            "|     10|    9|\n",
            "|     13|    9|\n",
            "|     11|    9|\n",
            "|      9|    9|\n",
            "|     23|    8|\n",
            "|     22|    8|\n",
            "|     24|    8|\n",
            "|     16|    8|\n",
            "|     21|    8|\n",
            "|     20|    8|\n",
            "+-------+-----+\n",
            "only showing top 20 rows\n",
            "\n"
          ]
        }
      ],
      "source": [
        "steam_df.groupBy(\"user_id\").count().orderBy(F.desc(\"count\")).show()"
      ]
    },
    {
      "cell_type": "code",
      "execution_count": null,
      "metadata": {
        "colab": {
          "base_uri": "https://localhost:8080/"
        },
        "id": "sIOmpYhE-Udb",
        "outputId": "51acd93e-b96c-416b-8cdd-474328403515"
      },
      "outputs": [
        {
          "name": "stdout",
          "output_type": "stream",
          "text": [
            "+-------+-----+\n",
            "|item_id|count|\n",
            "+-------+-----+\n",
            "|      1|    1|\n",
            "|    126|    1|\n",
            "|    175|    1|\n",
            "+-------+-----+\n",
            "\n"
          ]
        }
      ],
      "source": [
        "top_sim_users = user_sim.filter(\"user_a = 85\") \\\n",
        "                        .orderBy(F.desc(\"similarity\")) \\\n",
        "                        .limit(5)\n",
        "\n",
        "# Get items these users recommended\n",
        "similar_user_ids = [row[\"user_b\"] for row in top_sim_users.collect()]\n",
        "\n",
        "recommended_items = steam_df.filter(F.col(\"user_id\").isin(similar_user_ids)) \\\n",
        "                            .filter(F.col(\"recommended\") == 1)\n",
        "\n",
        "# Exclude items already known to the target user\n",
        "target_items = steam_df.filter(\"user_id = 85\").select(\"item_id\").distinct()\n",
        "\n",
        "final_recs = recommended_items.join(target_items, on=\"item_id\", how=\"left_anti\") \\\n",
        "                              .groupBy(\"item_id\") \\\n",
        "                              .count() \\\n",
        "                              .orderBy(F.desc(\"count\"))\n",
        "\n",
        "final_recs.show()\n",
        " # for user 85"
      ]
    },
    {
      "cell_type": "code",
      "execution_count": null,
      "metadata": {
        "id": "OniCer9w_zJM"
      },
      "outputs": [],
      "source": [
        "### function\n",
        "\n",
        "def recommend_for_user_cosine(user_id, k_similar=5, top_n=10):\n",
        "\n",
        "    # Create user-item matrix\n",
        "    user_item_df = steam_df.groupBy(\"user_id\", \"item_id\") \\\n",
        "                           .agg(F.max(\"recommended\").alias(\"rating\"))\n",
        "\n",
        "    pivoted = user_item_df.groupBy(\"user_id\").pivot(\"item_id\").agg(F.first(\"rating\")).fillna(0)\n",
        "    item_columns = pivoted.columns[1:]  # Exclude 'user_id'\n",
        "\n",
        "    vec_assembler = VectorAssembler(inputCols=item_columns, outputCol=\"features\")\n",
        "    pivoted_vec = vec_assembler.transform(pivoted).select(\"user_id\", \"features\")\n",
        "\n",
        "    # Cosine similarity UDF\n",
        "    def cosine_udf(v1, v2):\n",
        "        v1 = np.array(v1.toArray())\n",
        "        v2 = np.array(v2.toArray())\n",
        "        dot = np.dot(v1, v2)\n",
        "        norm1 = np.linalg.norm(v1)\n",
        "        norm2 = np.linalg.norm(v2)\n",
        "        if norm1 == 0 or norm2 == 0:\n",
        "            return float(0.0)\n",
        "        return float(dot / (norm1 * norm2))\n",
        "\n",
        "    cosine_sim_udf = udf(cosine_udf, FloatType())\n",
        "\n",
        "    # compute similarity to all other users\n",
        "    a = pivoted_vec.alias(\"a\")\n",
        "    b = pivoted_vec.alias(\"b\")\n",
        "\n",
        "    user_sim = a.crossJoin(b) \\\n",
        "                .filter(F.col(\"a.user_id\") == user_id) \\\n",
        "                .filter(F.col(\"a.user_id\") != F.col(\"b.user_id\")) \\\n",
        "                .withColumn(\"similarity\", cosine_sim_udf(\"a.features\", \"b.features\")) \\\n",
        "                .select(F.col(\"a.user_id\").alias(\"user_a\"),\n",
        "                        F.col(\"b.user_id\").alias(\"user_b\"),\n",
        "                        \"similarity\") \\\n",
        "                .orderBy(F.desc(\"similarity\")) \\\n",
        "                .limit(k_similar)\n",
        "\n",
        "    similar_user_ids = [row[\"user_b\"] for row in user_sim.collect()]\n",
        "\n",
        "    if not similar_user_ids:\n",
        "        print(f\"No similar users found for user {user_id}\")\n",
        "        return None\n",
        "\n",
        "    # Get items recommended by similar users\n",
        "    recommended_items = steam_df.filter(F.col(\"user_id\").isin(similar_user_ids)) \\\n",
        "                                .filter(F.col(\"recommended\") == 1)\n",
        "\n",
        "    # Filter out already seen items\n",
        "    target_items = steam_df.filter(F.col(\"user_id\") == user_id).select(\"item_id\").distinct()\n",
        "\n",
        "    final_recs = recommended_items.join(target_items, on=\"item_id\", how=\"left_anti\") \\\n",
        "                                  .groupBy(\"item_id\") \\\n",
        "                                  .count() \\\n",
        "                                  .orderBy(F.desc(\"count\")) \\\n",
        "                                  .limit(top_n)\n",
        "\n",
        "    return final_recs"
      ]
    },
    {
      "cell_type": "code",
      "execution_count": null,
      "metadata": {
        "colab": {
          "base_uri": "https://localhost:8080/"
        },
        "id": "8wmXyiyZ_zLh",
        "outputId": "64b2e9e2-9f83-4cb7-b1a4-a61b6c413793"
      },
      "outputs": [
        {
          "name": "stdout",
          "output_type": "stream",
          "text": [
            "+-------+-----+\n",
            "|item_id|count|\n",
            "+-------+-----+\n",
            "|      1|    1|\n",
            "|    126|    1|\n",
            "|    175|    1|\n",
            "+-------+-----+\n",
            "\n"
          ]
        }
      ],
      "source": [
        "recommend_for_user_cosine(115, k_similar=5, top_n=10).show()"
      ]
    },
    {
      "cell_type": "markdown",
      "metadata": {
        "id": "-6Dx4ym0Adpm"
      },
      "source": [
        "If no user shares overlapping recommended items with another, even cosine similarity can't help generate any “new” suggestions. Checkingif we have overlapping recommendations."
      ]
    },
    {
      "cell_type": "code",
      "execution_count": null,
      "metadata": {
        "colab": {
          "base_uri": "https://localhost:8080/"
        },
        "id": "f5INzI3vAijZ",
        "outputId": "f093c832-c865-45f9-9067-d7b42be5ddec"
      },
      "outputs": [
        {
          "name": "stdout",
          "output_type": "stream",
          "text": [
            "+-------+-----+\n",
            "|user_id|count|\n",
            "+-------+-----+\n",
            "|    496|    4|\n",
            "|   2659|    3|\n",
            "|   3997|    3|\n",
            "|   3918|    3|\n",
            "|   2366|    3|\n",
            "|    471|    4|\n",
            "|   2866|    3|\n",
            "|   3794|    3|\n",
            "|   1088|    4|\n",
            "|   4101|    3|\n",
            "|   3175|    3|\n",
            "|   1591|    3|\n",
            "|    833|    4|\n",
            "|   1580|    3|\n",
            "|   1238|    3|\n",
            "|    148|    5|\n",
            "|   1342|    3|\n",
            "|   1829|    3|\n",
            "|   2122|    3|\n",
            "|   1959|    3|\n",
            "+-------+-----+\n",
            "only showing top 20 rows\n",
            "\n"
          ]
        }
      ],
      "source": [
        "active_users = steam_df.groupBy(\"user_id\") \\\n",
        "                       .count() \\\n",
        "                       .filter(\"count >= 3\")\n",
        "\n",
        "active_users.show()\n"
      ]
    },
    {
      "cell_type": "code",
      "source": [],
      "metadata": {
        "id": "cqO9H0IYKugo"
      },
      "execution_count": null,
      "outputs": []
    },
    {
      "cell_type": "code",
      "source": [],
      "metadata": {
        "id": "Wois44jQK6x7"
      },
      "execution_count": null,
      "outputs": []
    },
    {
      "cell_type": "markdown",
      "metadata": {
        "id": "N7fCr_PEBTPG"
      },
      "source": [
        "### Content-Based - gives us some information about users - items"
      ]
    },
    {
      "cell_type": "markdown",
      "source": [
        "Our approach here is to perform sentiment analysis on the review text and try to extract information about the app, which would be used later for the recommendation system. This is more similar to the final approach we did (using the vader lexicon, above)"
      ],
      "metadata": {
        "id": "ujwZ4ybwxEZM"
      }
    },
    {
      "cell_type": "code",
      "execution_count": null,
      "metadata": {
        "colab": {
          "base_uri": "https://localhost:8080/"
        },
        "id": "GCDVf-HBB0Gb",
        "outputId": "02b8cc27-06ee-4a52-e146-956a590aec12"
      },
      "outputs": [
        {
          "output_type": "stream",
          "name": "stdout",
          "text": [
            "+----+------+--------------------+---------+--------------------+-----------+-------------+--------------+-----------------+---------------------------+-------------+-----------------+----------------------+------------------+-----------------------+-------------------------+-------------+-----------------+-------------------------+--------+------+\n",
            "| _c0|app_id|            app_name|review_id|              review|recommended|votes_helpful|steam_purchase|received_for_free|written_during_early_access|votes_helpful|   author_steamid|author_num_games_owned|author_num_reviews|author_playtime_forever|author_playtime_at_review|review_length|playtime_category|playtime_forever_category|  userId|itemId|\n",
            "+----+------+--------------------+---------+--------------------+-----------+-------------+--------------+-----------------+---------------------------+-------------+-----------------+----------------------+------------------+-----------------------+-------------------------+-------------+-----------------+-------------------------+--------+------+\n",
            "| 248|292030|The Witcher 3: Wi...| 85134950|What great game. ...|          1|            0|          true|            false|                      false|            0|76561197996569707|                    81|                 2|                 1318.0|                   1182.0|           63|              Low|                      Low| 61569.0|  15.0|\n",
            "| 416|292030|The Witcher 3: Wi...| 85101319|    Fucking amazing!|          1|            0|          true|            false|                      false|            0|76561198076002843|                   520|                12|                 5030.0|                   5030.0|           16|           Medium|                   Medium|177245.0|  15.0|\n",
            "| 492|292030|The Witcher 3: Wi...| 85088338|I love this game....|          1|            0|          true|            false|                      false|            0|76561199043386060|                    10|                 2|                 1824.0|                   1824.0|          208|              Low|                      Low|379898.0|  15.0|\n",
            "|1049|292030|The Witcher 3: Wi...| 84977859|       I do love Yen|          1|            0|         false|            false|                      false|            0|76561198821830287|                    67|                 4|                 6338.0|                   6338.0|           13|           Medium|                   Medium|353696.0|  15.0|\n",
            "|1170|292030|The Witcher 3: Wi...| 84960214|Finished twice on...|          1|            0|          true|            false|                      false|            0|76561198028911941|                   261|                 7|                10802.0|                  10802.0|          124|           Medium|                   Medium|104224.0|  15.0|\n",
            "|1268|292030|The Witcher 3: Wi...| 84930192|It is just absolo...|          1|            0|          true|            false|                      false|            0|76561198349799232|                   135|                 2|                 1678.0|                   1419.0|           29|              Low|                      Low|324911.0|  15.0|\n",
            "|1357|292030|The Witcher 3: Wi...| 84914783|     Best game ever!|          1|            0|          true|            false|                      false|            0|76561198447650248|                     8|                 1|                 6890.0|                   5993.0|           15|           Medium|                   Medium|346921.0|  15.0|\n",
            "|1497|292030|The Witcher 3: Wi...| 84891275|Absolutely a mast...|          1|            0|          true|            false|                      false|            0|76561198969515234|                    25|                12|                 1441.0|                   1188.0|          131|              Low|                      Low|369875.0|  15.0|\n",
            "|1661|292030|The Witcher 3: Wi...| 84859912|     Fucking Awesome|          1|            0|          true|            false|                      false|            0|76561198210113257|                    73|                 6|                 2611.0|                   2538.0|           15|              Low|                      Low|279146.0|  15.0|\n",
            "|1986|292030|The Witcher 3: Wi...| 84803922|i came for the se...|          1|            0|          true|            false|                      false|            0|76561198367626271|                    36|                 5|                  524.0|                    203.0|           52|              Low|                      Low|331034.0|  15.0|\n",
            "|1993|292030|The Witcher 3: Wi...| 84802802|For me this game ...|          1|            2|          true|            false|                      false|            2|76561198283604974|                    90|                 3|                 9623.0|                   8372.0|          155|           Medium|                   Medium|303319.0|  15.0|\n",
            "|2303|292030|The Witcher 3: Wi...| 84751264|          It s good.|          1|            0|          true|            false|                      false|            0|76561198325733495|                    33|                 4|                 8282.0|                   8282.0|           10|           Medium|                   Medium|317795.0|  15.0|\n",
            "|2337|292030|The Witcher 3: Wi...| 84743762|                 yes|          1|            0|          true|            false|                      false|            0|76561198045604055|                   529|                11|                 1958.0|                   1318.0|            3|              Low|                      Low|130441.0|  15.0|\n",
            "|2349|292030|The Witcher 3: Wi...| 84741842|Our whole univers...|          1|            0|          true|            false|                      false|            0|76561198368148769|                    60|                 1|                12289.0|                   7002.0|          321|           Medium|                   Medium|331194.0|  15.0|\n",
            "|2423|292030|The Witcher 3: Wi...| 84729501|You can do everyt...|          1|            0|         false|            false|                      false|            0|76561197960382714|                    18|                 2|                 2244.0|                    366.0|           82|              Low|                      Low| 25924.0|  15.0|\n",
            "|2641|292030|The Witcher 3: Wi...| 84690350|         pretty sick|          1|            0|          true|            false|                      false|            0|76561198353403101|                   109|                 8|                 4700.0|                   4700.0|           11|              Low|                      Low|326226.0|  15.0|\n",
            "|2781|292030|The Witcher 3: Wi...| 84668884|The best game I h...|          1|            1|          true|            false|                      false|            1|76561199018223402|                     2|                 1|                 1934.0|                    238.0|           96|              Low|                      Low|377457.0|  15.0|\n",
            "|2900|292030|The Witcher 3: Wi...| 84649760|The game is just ...|          1|            0|          true|            false|                      false|            0|76561198056508128|                   134|                16|                 5861.0|                   5861.0|          615|           Medium|                   Medium|147496.0|  15.0|\n",
            "|2935|292030|The Witcher 3: Wi...| 84643103|            game gud|          1|            0|          true|            false|                      false|            0|76561199008439430|                    33|                 1|                 2387.0|                   2350.0|            8|              Low|                      Low|375196.0|  15.0|\n",
            "|3699|292030|The Witcher 3: Wi...| 84514566|I played 100's of...|          1|            0|          true|            false|                      false|            0|76561198097099920|                    22|                 1|                  213.0|                    213.0|           71|              Low|                      Low|202452.0|  15.0|\n",
            "+----+------+--------------------+---------+--------------------+-----------+-------------+--------------+-----------------+---------------------------+-------------+-----------------+----------------------+------------------+-----------------------+-------------------------+-------------+-----------------+-------------------------+--------+------+\n",
            "only showing top 20 rows\n",
            "\n"
          ]
        }
      ],
      "source": [
        "balanced_data.show()"
      ]
    },
    {
      "cell_type": "code",
      "execution_count": null,
      "metadata": {
        "id": "9Bimsc2WCV2j"
      },
      "outputs": [],
      "source": [
        "review_df = balanced_data.select(\"app_id\", \"app_name\", \"review\").dropna(subset=[\"review\"]).dropDuplicates([\"app_id\"])"
      ]
    },
    {
      "cell_type": "code",
      "execution_count": null,
      "metadata": {
        "id": "w9NOescOCH_m"
      },
      "outputs": [],
      "source": [
        "# Tokenize the reviews\n",
        "tokenizer = Tokenizer(inputCol=\"review\", outputCol=\"words\")\n",
        "words_data = tokenizer.transform(review_df)"
      ]
    },
    {
      "cell_type": "code",
      "execution_count": null,
      "metadata": {
        "id": "oAt9pRvnCd3G"
      },
      "outputs": [],
      "source": [
        "# using tfidf\n",
        "hashingTF = HashingTF(inputCol=\"words\", outputCol=\"rawFeatures\", numFeatures=1000)\n",
        "featurized_data = hashingTF.transform(words_data)\n",
        "\n",
        "idf = IDF(inputCol=\"rawFeatures\", outputCol=\"features\")\n",
        "idf_model = idf.fit(featurized_data)\n",
        "rescaled_data = idf_model.transform(featurized_data)"
      ]
    },
    {
      "cell_type": "code",
      "execution_count": null,
      "metadata": {
        "id": "Q1Mqqxw3AdMx"
      },
      "outputs": [],
      "source": [
        "a = rescaled_data.select(\"app_id\", \"app_name\", \"features\").alias(\"a\")\n",
        "b = rescaled_data.select(\"app_id\", \"app_name\", \"features\").alias(\"b\")"
      ]
    },
    {
      "cell_type": "code",
      "execution_count": null,
      "metadata": {
        "id": "i5ec-tvSCfzE"
      },
      "outputs": [],
      "source": [
        "# consine similarity udf\n",
        "def cosine_sim(v1, v2):\n",
        "    v1 = np.array(v1.toArray())\n",
        "    v2 = np.array(v2.toArray())\n",
        "    dot = np.dot(v1, v2)\n",
        "    norm1 = np.linalg.norm(v1)\n",
        "    norm2 = np.linalg.norm(v2)\n",
        "    if norm1 == 0 or norm2 == 0:\n",
        "        return float(0.0)\n",
        "    return float(dot / (norm1 * norm2))\n",
        "\n",
        "cosine_udf = udf(cosine_sim, FloatType())"
      ]
    },
    {
      "cell_type": "markdown",
      "metadata": {
        "id": "uVKU2AbAXoXd"
      },
      "source": [
        "We apply this on a specific app."
      ]
    },
    {
      "cell_type": "code",
      "execution_count": null,
      "metadata": {
        "colab": {
          "base_uri": "https://localhost:8080/"
        },
        "id": "ZKu07s7KCf1o",
        "outputId": "8aa1735c-03f3-49bb-dafd-9ff196eed378"
      },
      "outputs": [
        {
          "output_type": "stream",
          "name": "stdout",
          "text": [
            "+------------------------+-------------------------------------------+----------+\n",
            "|target_game             |similar_game                               |similarity|\n",
            "+------------------------+-------------------------------------------+----------+\n",
            "|The Witcher 3: Wild Hunt|Bloons TD 6                                |0.2962483 |\n",
            "|The Witcher 3: Wild Hunt|Ravenfield                                 |0.23291716|\n",
            "|The Witcher 3: Wild Hunt|NBA 2K19                                   |0.23291716|\n",
            "|The Witcher 3: Wild Hunt|Persona 4 Golden                           |0.22675912|\n",
            "|The Witcher 3: Wild Hunt|Wolfenstein: Youngblood                    |0.19041975|\n",
            "|The Witcher 3: Wild Hunt|Cyberdimension Neptunia: 4 Goddesses Online|0.18590274|\n",
            "|The Witcher 3: Wild Hunt|Planet Coaster                             |0.17731483|\n",
            "|The Witcher 3: Wild Hunt|Railway Empire                             |0.17483841|\n",
            "|The Witcher 3: Wild Hunt|Overcooked! 2                              |0.16393085|\n",
            "|The Witcher 3: Wild Hunt|Baba Is You                                |0.14864358|\n",
            "+------------------------+-------------------------------------------+----------+\n",
            "only showing top 10 rows\n",
            "\n"
          ]
        }
      ],
      "source": [
        "target_id = 292030  # The Witcher 3: Wild Hunt\n",
        "\n",
        "similarities = a.crossJoin(b) \\\n",
        "    .filter(col(\"a.app_id\") == target_id) \\\n",
        "    .filter(col(\"a.app_id\") != col(\"b.app_id\")) \\\n",
        "    .withColumn(\"similarity\", cosine_udf(col(\"a.features\"), col(\"b.features\"))) \\\n",
        "    .select(col(\"a.app_name\").alias(\"target_game\"),\n",
        "            col(\"b.app_name\").alias(\"similar_game\"),\n",
        "            \"similarity\") \\\n",
        "    .orderBy(col(\"similarity\").desc())\n",
        "\n",
        "similarities.show(10, truncate=False)"
      ]
    },
    {
      "cell_type": "code",
      "source": [
        "#parameters\n",
        "user_id = 61569\n",
        "target_game_id = 292030\n",
        "K = 10\n",
        "\n",
        "# Get liked app_ids from user in balanced_data\n",
        "user_likes_df = balanced_data.filter((col(\"userId\") == user_id) & (col(\"recommended\") == 1)) \\\n",
        "    .select(\"app_id\").distinct() \\\n",
        "    .withColumnRenamed(\"app_id\", \"liked_app_id\")\n",
        "\n",
        "#Get top-K recommendations using your similarity method\n",
        "# `a` and `b` are from your earlier feature + TF-IDF setup\n",
        "recommendations = a.crossJoin(b) \\\n",
        "    .filter(col(\"a.app_id\") == target_game_id) \\\n",
        "    .filter(col(\"a.app_id\") != col(\"b.app_id\")) \\\n",
        "    .withColumn(\"similarity\", cosine_udf(col(\"a.features\"), col(\"b.features\"))) \\\n",
        "    .select(\n",
        "        lit(user_id).alias(\"user_id\"),\n",
        "        col(\"b.app_id\").alias(\"recommended_app_id\")\n",
        "    ) \\\n",
        "    .orderBy(col(\"similarity\").desc()) \\\n",
        "    .limit(K)\n",
        "\n",
        "#Group liked & recommended as lists\n",
        "liked_grouped = user_likes_df.withColumn(\"user_id\", lit(user_id)) \\\n",
        "    .groupBy(\"user_id\") \\\n",
        "    .agg(collect_list(\"liked_app_id\").alias(\"liked_list\"))\n",
        "\n",
        "recommended_grouped = recommendations.groupBy(\"user_id\") \\\n",
        "    .agg(collect_list(\"recommended_app_id\").alias(\"recommended_list\"))\n",
        "\n",
        "#Join and compute Recall\n",
        "def recall_at_k(recommended, liked):\n",
        "    liked_set = set(liked)\n",
        "    rec_set = set(recommended)\n",
        "    return float(len(liked_set & rec_set)) / len(liked_set) if liked_set else 0.0\n",
        "\n",
        "recall_udf = udf(recall_at_k, FloatType())\n",
        "\n",
        "evaluated = recommended_grouped.join(liked_grouped, on=\"user_id\") \\\n",
        "    .withColumn(\"recall\", recall_udf(col(\"recommended_list\"), col(\"liked_list\")))\n",
        "\n",
        "evaluated.select(\"user_id\", \"recall\").show()"
      ],
      "metadata": {
        "colab": {
          "base_uri": "https://localhost:8080/"
        },
        "id": "lj1xZL1IFSGP",
        "outputId": "25a0669c-9457-44b6-a839-20341dc20150"
      },
      "execution_count": null,
      "outputs": [
        {
          "output_type": "stream",
          "name": "stdout",
          "text": [
            "+-------+------+\n",
            "|user_id|recall|\n",
            "+-------+------+\n",
            "|  61569|   0.0|\n",
            "+-------+------+\n",
            "\n"
          ]
        }
      ]
    },
    {
      "cell_type": "code",
      "source": [
        "#Parameters\n",
        "K = 10\n",
        "\n",
        "# Split dataset\n",
        "train_df, test_df = balanced_data.randomSplit([0.9, 0.1], seed=42)"
      ],
      "metadata": {
        "id": "NAt8Ixu0MbTw"
      },
      "execution_count": null,
      "outputs": []
    },
    {
      "cell_type": "code",
      "source": [
        "test_df.show()"
      ],
      "metadata": {
        "colab": {
          "base_uri": "https://localhost:8080/"
        },
        "id": "CmnDRUzt2cDD",
        "outputId": "1aaee6ef-f3fa-4f21-af01-4acdab91e7ab"
      },
      "execution_count": null,
      "outputs": [
        {
          "output_type": "stream",
          "name": "stdout",
          "text": [
            "+-----+------+--------------------+---------+--------------------+-----------+-------------+--------------+-----------------+---------------------------+-------------+-----------------+----------------------+------------------+-----------------------+-------------------------+-------------+-----------------+-------------------------+--------+------+\n",
            "|  _c0|app_id|            app_name|review_id|              review|recommended|votes_helpful|steam_purchase|received_for_free|written_during_early_access|votes_helpful|   author_steamid|author_num_games_owned|author_num_reviews|author_playtime_forever|author_playtime_at_review|review_length|playtime_category|playtime_forever_category|  userId|itemId|\n",
            "+-----+------+--------------------+---------+--------------------+-----------+-------------+--------------+-----------------+---------------------------+-------------+-----------------+----------------------+------------------+-----------------------+-------------------------+-------------+-----------------+-------------------------+--------+------+\n",
            "| 1357|292030|The Witcher 3: Wi...| 84914783|     Best game ever!|          1|            0|          true|            false|                      false|            0|76561198447650248|                     8|                 1|                 6890.0|                   5993.0|           15|           Medium|                   Medium|346921.0|  15.0|\n",
            "| 1661|292030|The Witcher 3: Wi...| 84859912|     Fucking Awesome|          1|            0|          true|            false|                      false|            0|76561198210113257|                    73|                 6|                 2611.0|                   2538.0|           15|              Low|                      Low|279146.0|  15.0|\n",
            "| 8239|292030|The Witcher 3: Wi...| 83863090|           cool game|          1|            0|          true|            false|                      false|            0|76561198993941889|                     5|                 2|                 2557.0|                    571.0|            9|              Low|                      Low|373288.0|  15.0|\n",
            "|10663|292030|The Witcher 3: Wi...| 83526489|so far so good th...|          1|            0|          true|            false|                      false|            0|76561198821135771|                     7|                 1|                 2791.0|                    495.0|          104|              Low|                      Low|353589.0|  15.0|\n",
            "|14880|292030|The Witcher 3: Wi...| 82932816|One of the best g...|          1|            0|          true|            false|                      false|            0|76561198273313937|                    50|                12|                 2979.0|                   2708.0|           45|              Low|                      Low|299021.0|  15.0|\n",
            "|17642|292030|The Witcher 3: Wi...| 82539084|Play this will yo...|          1|            1|          true|            false|                      false|            1|76561198152664891|                    57|                12|                 2446.0|                    663.0|           49|              Low|                      Low| 20428.0|  15.0|\n",
            "|22164|292030|The Witcher 3: Wi...| 81832608|           good game|          1|            0|         false|            false|                      false|            0|76561198357861702|                    16|                 6|                  652.0|                    350.0|            9|              Low|                      Low|328374.0|  15.0|\n",
            "|22303|292030|The Witcher 3: Wi...| 81815233|An amazing journe...|          1|            0|          true|            false|                      false|            0|76561198059747653|                   124|                 6|                 5959.0|                   5571.0|           49|           Medium|                   Medium|152207.0|  15.0|\n",
            "|24121|292030|The Witcher 3: Wi...| 81562935|game make my wee ...|          1|            0|          true|            false|                      false|            0|76561198081318717|                   121|                 5|                11721.0|                  10985.0|           30|           Medium|                   Medium|184757.0|  15.0|\n",
            "|27682|292030|The Witcher 3: Wi...| 81108668|Amazing game, one...|          1|            0|          true|            false|                      false|            0|76561198409094397|                    79|                 1|                 7822.0|                   7821.0|           62|           Medium|                   Medium|340835.0|  15.0|\n",
            "|29616|292030|The Witcher 3: Wi...| 80867875|         Great game!|          1|            0|         false|            false|                      false|            0|76561198271243004|                    36|                 2|                 8111.0|                   8110.0|           11|           Medium|                   Medium|297311.0|  15.0|\n",
            "|32551|292030|The Witcher 3: Wi...| 80502306|immersive storyli...|          1|            0|          true|            false|                      false|            0|76561198883374590|                    36|                 2|                12884.0|                  11416.0|           68|           Medium|                   Medium|365106.0|  15.0|\n",
            "|34544|292030|The Witcher 3: Wi...| 80259945|                  cc|          1|            0|         false|            false|                      false|            0|76561198353113588|                   360|                12|                  798.0|                    798.0|            2|              Low|                      Low| 24054.0|  15.0|\n",
            "|37456|292030|The Witcher 3: Wi...| 79868991|       Легенда доты!|          1|            0|          true|            false|                      false|            0|76561198337579128|                   164|                 7|                 6653.0|                   6653.0|           13|           Medium|                   Medium|321489.0|  15.0|\n",
            "|40358|292030|The Witcher 3: Wi...| 79363519|For those wanting...|          1|            4|          true|            false|                      false|            4|76561198278960568|                    98|                18|                 6090.0|                   6090.0|         3420|           Medium|                   Medium| 23036.0|  15.0|\n",
            "|40945|292030|The Witcher 3: Wi...| 79259817|                 yes|          1|            0|          true|            false|                      false|            0|76561198999658354|                    23|                 4|                 2411.0|                   2398.0|            3|              Low|                      Low|373970.0|  15.0|\n",
            "|43209|292030|The Witcher 3: Wi...| 78850839|                good|          1|            0|          true|            false|                      false|            0|76561198155552125|                   143|                 2|                 2953.0|                   2864.0|            4|              Low|                      Low|252461.0|  15.0|\n",
            "|45994|292030|The Witcher 3: Wi...| 78394360|        it good good|          1|            0|          true|            false|                      false|            0|76561198994031165|                    67|                48|                11241.0|                    212.0|           12|              Low|                   Medium| 25436.0|  15.0|\n",
            "|46159|292030|The Witcher 3: Wi...| 78360737|The best RPG I ha...|          1|            1|          true|            false|                      false|            1|76561198278841847|                    37|                 1|                18109.0|                  16619.0|           32|           Medium|                   Medium|301531.0|  15.0|\n",
            "|46698|292030|The Witcher 3: Wi...| 78252657|karizma adammmmmm...|          1|            0|         false|            false|                      false|            0|76561198212411616|                    77|                34|                 3348.0|                   1364.0|           29|              Low|                      Low|280147.0|  15.0|\n",
            "+-----+------+--------------------+---------+--------------------+-----------+-------------+--------------+-----------------+---------------------------+-------------+-----------------+----------------------+------------------+-----------------------+-------------------------+-------------+-----------------+-------------------------+--------+------+\n",
            "only showing top 20 rows\n",
            "\n"
          ]
        }
      ]
    },
    {
      "cell_type": "code",
      "source": [],
      "metadata": {
        "id": "wrJw_l703Nsk"
      },
      "execution_count": null,
      "outputs": []
    },
    {
      "cell_type": "code",
      "source": [
        "test_df.cache()\n",
        "test_df.count()  # triggers caching"
      ],
      "metadata": {
        "colab": {
          "base_uri": "https://localhost:8080/"
        },
        "id": "GUIo8zZ2CI1O",
        "outputId": "2023b223-624f-4567-e5cb-4eff60dd80ce"
      },
      "execution_count": null,
      "outputs": [
        {
          "output_type": "execute_result",
          "data": {
            "text/plain": [
              "41982"
            ]
          },
          "metadata": {},
          "execution_count": 31
        }
      ]
    },
    {
      "cell_type": "code",
      "source": [
        "#Prepare user-like groups from test\n",
        "user_likes_df = test_df.filter(col(\"recommended\") == 1) \\\n",
        "    .select(\"userId\", \"app_id\") \\\n",
        "    .distinct()"
      ],
      "metadata": {
        "id": "8gPC5FP82DaT"
      },
      "execution_count": null,
      "outputs": []
    },
    {
      "cell_type": "code",
      "source": [
        "user_likes_df.show()"
      ],
      "metadata": {
        "colab": {
          "base_uri": "https://localhost:8080/"
        },
        "id": "99lRHF8c2flX",
        "outputId": "0bc63837-7f7d-4543-ccdc-0009edc49c29"
      },
      "execution_count": null,
      "outputs": [
        {
          "output_type": "stream",
          "name": "stdout",
          "text": [
            "+--------+------+\n",
            "|  userId|app_id|\n",
            "+--------+------+\n",
            "| 22342.0|292030|\n",
            "|262630.0|292030|\n",
            "| 41889.0|   620|\n",
            "| 22453.0|  4000|\n",
            "|329920.0|  4000|\n",
            "|132227.0|381210|\n",
            "|367667.0|381210|\n",
            "|202325.0|   240|\n",
            "|125731.0|   620|\n",
            "|112342.0|  8930|\n",
            "|241183.0|  8930|\n",
            "| 70959.0|289070|\n",
            "|139139.0|289070|\n",
            "| 24057.0|    70|\n",
            "|132950.0|   240|\n",
            "|168038.0|    70|\n",
            "|274895.0|   420|\n",
            "|169537.0|   420|\n",
            "|134587.0|  2870|\n",
            "| 78070.0|  2870|\n",
            "+--------+------+\n",
            "only showing top 20 rows\n",
            "\n"
          ]
        }
      ]
    },
    {
      "cell_type": "code",
      "source": [
        "user_likes_df.cache()\n",
        "user_likes_df.count()"
      ],
      "metadata": {
        "colab": {
          "base_uri": "https://localhost:8080/"
        },
        "id": "SyEAWRmKEeV3",
        "outputId": "5fa1b49c-ff63-44e8-83c7-815d3f44f395"
      },
      "execution_count": null,
      "outputs": [
        {
          "output_type": "execute_result",
          "data": {
            "text/plain": [
              "20795"
            ]
          },
          "metadata": {},
          "execution_count": 34
        }
      ]
    },
    {
      "cell_type": "code",
      "source": [
        "#Filter users with at least 2 liked games\n",
        "user_like_counts = user_likes_df.groupBy(\"userId\").count().filter(col(\"count\") >= 2)\n",
        "\n",
        "valid_user_likes = user_likes_df.join(user_like_counts.select(\"userId\"), on=\"userId\")"
      ],
      "metadata": {
        "id": "g3fw1c072DXU"
      },
      "execution_count": null,
      "outputs": []
    },
    {
      "cell_type": "code",
      "source": [
        "valid_user_likes.show()"
      ],
      "metadata": {
        "colab": {
          "base_uri": "https://localhost:8080/"
        },
        "id": "ifIs4uASHhfl",
        "outputId": "fe15a29f-da1c-423e-c4fa-bcac985380da"
      },
      "execution_count": null,
      "outputs": [
        {
          "output_type": "stream",
          "name": "stdout",
          "text": [
            "+-------+-------+\n",
            "| userId| app_id|\n",
            "+-------+-------+\n",
            "| 6280.0| 489830|\n",
            "| 6280.0| 227300|\n",
            "| 4070.0| 225540|\n",
            "| 4070.0| 359550|\n",
            "| 2895.0|    240|\n",
            "| 2895.0|   4000|\n",
            "|18558.0| 397540|\n",
            "|18558.0| 218620|\n",
            "|19052.0| 292030|\n",
            "|19052.0|  72850|\n",
            "|17185.0| 493340|\n",
            "|17185.0| 204360|\n",
            "|14912.0|    240|\n",
            "|14912.0|1190460|\n",
            "|11460.0|  48700|\n",
            "|11460.0| 236850|\n",
            "| 6655.0| 281990|\n",
            "| 6655.0| 250320|\n",
            "|20090.0| 253230|\n",
            "|20090.0| 739630|\n",
            "+-------+-------+\n",
            "only showing top 20 rows\n",
            "\n"
          ]
        }
      ]
    },
    {
      "cell_type": "code",
      "source": [
        "#Assign row numbers to pick target vs eval items\n",
        "window_spec = Window.partitionBy(\"userId\").orderBy(\"app_id\")  # deterministic order\n",
        "labeled_likes = valid_user_likes.withColumn(\"row_num\", row_number().over(window_spec))"
      ],
      "metadata": {
        "id": "96GpK7bo2DUN"
      },
      "execution_count": null,
      "outputs": []
    },
    {
      "cell_type": "code",
      "source": [
        "labeled_likes.show()"
      ],
      "metadata": {
        "colab": {
          "base_uri": "https://localhost:8080/"
        },
        "id": "7DDKwhQBLs5R",
        "outputId": "117ae580-e757-467f-8145-d54cb8fdcf4b"
      },
      "execution_count": null,
      "outputs": [
        {
          "output_type": "stream",
          "name": "stdout",
          "text": [
            "+------+-------+-------+\n",
            "|userId| app_id|row_num|\n",
            "+------+-------+-------+\n",
            "| 284.0| 289070|      1|\n",
            "| 284.0| 485510|      2|\n",
            "| 296.0| 213670|      1|\n",
            "| 296.0| 239140|      2|\n",
            "| 304.0|  72850|      1|\n",
            "| 304.0| 203160|      2|\n",
            "| 480.0| 255710|      1|\n",
            "| 480.0| 690830|      2|\n",
            "| 530.0| 736260|      1|\n",
            "| 530.0| 760060|      2|\n",
            "|1657.0| 239140|      1|\n",
            "|1657.0| 285190|      2|\n",
            "|1990.0| 105600|      1|\n",
            "|1990.0| 275850|      2|\n",
            "|2015.0| 252490|      1|\n",
            "|2015.0|1289310|      2|\n",
            "|2044.0|  39210|      1|\n",
            "|2044.0| 367520|      2|\n",
            "|2304.0|  72850|      1|\n",
            "|2304.0| 271590|      2|\n",
            "+------+-------+-------+\n",
            "only showing top 20 rows\n",
            "\n"
          ]
        }
      ]
    },
    {
      "cell_type": "code",
      "source": [
        "# Get target game per user (first liked app)\n",
        "target_games = labeled_likes.filter(col(\"row_num\") == 1) \\\n",
        "    .select(col(\"userId\"), col(\"app_id\").alias(\"target_app\"))"
      ],
      "metadata": {
        "id": "DL42qZ623u1d"
      },
      "execution_count": null,
      "outputs": []
    },
    {
      "cell_type": "code",
      "source": [
        "target_games.show()"
      ],
      "metadata": {
        "colab": {
          "base_uri": "https://localhost:8080/"
        },
        "id": "yTCoFQajOv_0",
        "outputId": "9caa3882-b064-43a5-9782-2280bdc66c5e"
      },
      "execution_count": null,
      "outputs": [
        {
          "output_type": "stream",
          "name": "stdout",
          "text": [
            "+------+----------+\n",
            "|userId|target_app|\n",
            "+------+----------+\n",
            "| 284.0|    289070|\n",
            "| 296.0|    213670|\n",
            "| 304.0|     72850|\n",
            "| 480.0|    255710|\n",
            "| 530.0|    736260|\n",
            "|1657.0|    239140|\n",
            "|1990.0|    105600|\n",
            "|2015.0|    252490|\n",
            "|2044.0|     39210|\n",
            "|2304.0|     72850|\n",
            "|2490.0|    252950|\n",
            "|2893.0|    239030|\n",
            "|2895.0|       240|\n",
            "|3222.0|      4000|\n",
            "|3443.0|    218620|\n",
            "|3749.0|    255710|\n",
            "|3783.0|      8870|\n",
            "|4020.0|    105600|\n",
            "|4070.0|    225540|\n",
            "|4181.0|    252950|\n",
            "+------+----------+\n",
            "only showing top 20 rows\n",
            "\n"
          ]
        }
      ]
    },
    {
      "cell_type": "code",
      "source": [
        "# Get actual liked games excluding target\n",
        "actual_likes = labeled_likes.filter(col(\"row_num\") > 1) \\\n",
        "    .groupBy(\"userId\").agg(collect_list(\"app_id\").alias(\"liked_list\"))"
      ],
      "metadata": {
        "id": "F5UfMH753u3z"
      },
      "execution_count": null,
      "outputs": []
    },
    {
      "cell_type": "code",
      "source": [
        "actual_likes.show()"
      ],
      "metadata": {
        "colab": {
          "base_uri": "https://localhost:8080/"
        },
        "id": "uzIisvljO1hq",
        "outputId": "4f80e8f2-b174-4351-8f43-eeffb2bbabe1"
      },
      "execution_count": null,
      "outputs": [
        {
          "output_type": "stream",
          "name": "stdout",
          "text": [
            "+-------+----------+\n",
            "| userId|liked_list|\n",
            "+-------+----------+\n",
            "| 4214.0|  [582010]|\n",
            "|18463.0|  [362890]|\n",
            "|24874.0|  [367520]|\n",
            "|22437.0|  [739630]|\n",
            "| 2044.0|  [367520]|\n",
            "| 5373.0|  [863550]|\n",
            "|21353.0|  [238320]|\n",
            "|21130.0|  [107410]|\n",
            "|18154.0|  [782330]|\n",
            "|11161.0|  [431960]|\n",
            "|21369.0|  [252950]|\n",
            "| 4070.0|  [359550]|\n",
            "| 6655.0|  [281990]|\n",
            "|21106.0|  [739630]|\n",
            "|17185.0|  [493340]|\n",
            "|21448.0|  [218620]|\n",
            "|23388.0|  [377160]|\n",
            "| 3749.0|  [493340]|\n",
            "|20546.0|  [268500]|\n",
            "| 8494.0|  [292030]|\n",
            "+-------+----------+\n",
            "only showing top 20 rows\n",
            "\n"
          ]
        }
      ]
    },
    {
      "cell_type": "code",
      "source": [
        "# Prepare `a` to include user targets\n",
        "a_with_user = target_games.join(a, a.app_id == target_games.target_app) \\\n",
        "    .select(\"userId\", \"app_id\", \"features\") \\\n",
        "    .withColumnRenamed(\"app_id\", \"a_app_id\") \\\n",
        "    .withColumnRenamed(\"features\", \"a_features\")"
      ],
      "metadata": {
        "id": "wRo0em-G2DMK"
      },
      "execution_count": null,
      "outputs": []
    },
    {
      "cell_type": "code",
      "source": [
        "a_with_user.show()"
      ],
      "metadata": {
        "colab": {
          "base_uri": "https://localhost:8080/"
        },
        "id": "45EDPT62iR1S",
        "outputId": "8799c2ed-e019-45cf-921d-09d4d0f04de5"
      },
      "execution_count": null,
      "outputs": [
        {
          "output_type": "stream",
          "name": "stdout",
          "text": [
            "+------+--------+--------------------+\n",
            "|userId|a_app_id|          a_features|\n",
            "+------+--------+--------------------+\n",
            "| 284.0|  289070|(1000,[298,490,73...|\n",
            "| 296.0|  213670|(1000,[17,157,160...|\n",
            "| 304.0|   72850|(1000,[156,594,76...|\n",
            "| 480.0|  255710|(1000,[17,209,589...|\n",
            "| 530.0|  736260|(1000,[17,23,42,1...|\n",
            "|1657.0|  239140|(1000,[17,49,73,1...|\n",
            "|1990.0|  105600|(1000,[48,251,281...|\n",
            "|2015.0|  252490|(1000,[17,307,319...|\n",
            "|2044.0|   39210|(1000,[240,366,65...|\n",
            "|2304.0|   72850|(1000,[156,594,76...|\n",
            "|2490.0|  252950|(1000,[17,240,975...|\n",
            "|2893.0|  239030|(1000,[16,17,35,5...|\n",
            "|2895.0|     240|(1000,[125],[2.98...|\n",
            "|3222.0|    4000|(1000,[975,995],[...|\n",
            "|3443.0|  218620|(1000,[995],[3.27...|\n",
            "|3749.0|  255710|(1000,[17,209,589...|\n",
            "|3783.0|    8870|(1000,[17,69,104,...|\n",
            "|4020.0|  105600|(1000,[48,251,281...|\n",
            "|4070.0|  225540|(1000,[634,694,78...|\n",
            "|4181.0|  252950|(1000,[17,240,975...|\n",
            "+------+--------+--------------------+\n",
            "only showing top 20 rows\n",
            "\n"
          ]
        }
      ]
    },
    {
      "cell_type": "code",
      "source": [
        "# Cross join with `b` and compute similarities\n",
        "similarities = a_with_user.crossJoin(b) \\\n",
        "    .filter(col(\"a_app_id\") != col(\"b.app_id\")) \\\n",
        "    .withColumn(\"similarity\", cosine_udf(col(\"a_features\"), col(\"b.features\"))) \\\n",
        "    .select(\n",
        "        col(\"userId\"),\n",
        "        col(\"a_app_id\").alias(\"target_app_id\"),\n",
        "        col(\"b.app_id\").alias(\"recommended_app_id\"),\n",
        "        col(\"similarity\")\n",
        "    )"
      ],
      "metadata": {
        "id": "OlMN3LHXiRti"
      },
      "execution_count": null,
      "outputs": []
    },
    {
      "cell_type": "code",
      "source": [
        "similarities.cache()\n",
        "similarities.count()"
      ],
      "metadata": {
        "colab": {
          "base_uri": "https://localhost:8080/"
        },
        "id": "XXRe5_Yniq3D",
        "outputId": "ec5666f4-5454-4134-d30a-787ea3379920"
      },
      "execution_count": null,
      "outputs": [
        {
          "output_type": "execute_result",
          "data": {
            "text/plain": [
              "25120"
            ]
          },
          "metadata": {},
          "execution_count": 48
        }
      ]
    },
    {
      "cell_type": "code",
      "source": [
        "#Get top-K recommendations per user\n",
        "window_k = Window.partitionBy(\"userId\").orderBy(col(\"similarity\").desc())\n",
        "\n",
        "top_k = similarities.withColumn(\"rank\", row_number().over(window_k)) \\\n",
        "    .filter(col(\"rank\") <= K) \\\n",
        "    .groupBy(\"userId\") \\\n",
        "    .agg(collect_list(\"recommended_app_id\").alias(\"recommended_list\"))"
      ],
      "metadata": {
        "id": "TJZ2BwYTiYb6"
      },
      "execution_count": null,
      "outputs": []
    },
    {
      "cell_type": "code",
      "source": [
        "top_k.show()"
      ],
      "metadata": {
        "colab": {
          "base_uri": "https://localhost:8080/"
        },
        "id": "U8vLFSitixmk",
        "outputId": "8aa4fd1d-ea6b-491f-ad8f-04f3eba693bb"
      },
      "execution_count": null,
      "outputs": [
        {
          "output_type": "stream",
          "name": "stdout",
          "text": [
            "+-------+--------------------+\n",
            "| userId|    recommended_list|\n",
            "+-------+--------------------+\n",
            "| 4214.0|[40800, 552500, 6...|\n",
            "|18463.0|[218620, 431960, ...|\n",
            "|24874.0|[270880, 356190, ...|\n",
            "|22437.0|[544750, 834910, ...|\n",
            "| 2044.0|[589360, 35140, 2...|\n",
            "| 5373.0|[544750, 834910, ...|\n",
            "|21353.0|[817130, 334040, ...|\n",
            "|21130.0|[275390, 535930, ...|\n",
            "|18154.0|[274190, 397540, ...|\n",
            "|11161.0|[671510, 2870, 82...|\n",
            "|21369.0|[644930, 240720, ...|\n",
            "| 4070.0|[704850, 1240210,...|\n",
            "| 6655.0|[636480, 841370, ...|\n",
            "|21106.0|[250760, 513710, ...|\n",
            "|17185.0|[646570, 543460, ...|\n",
            "|21448.0|[858210, 551730, ...|\n",
            "|23388.0|[644560, 334040, ...|\n",
            "| 3749.0|[644930, 374320, ...|\n",
            "|20546.0|[544750, 834910, ...|\n",
            "| 8494.0|[284160, 503940, ...|\n",
            "+-------+--------------------+\n",
            "only showing top 20 rows\n",
            "\n"
          ]
        }
      ]
    },
    {
      "cell_type": "code",
      "source": [
        "#  Compute Recall\n",
        "def recall_at_k(recommended, liked):\n",
        "    liked_set = set(liked)\n",
        "    rec_set = set(recommended)\n",
        "    return float(len(liked_set & rec_set)) / len(liked_set) if liked_set else 0.0\n",
        "\n",
        "recall_udf = udf(recall_at_k, FloatType())\n",
        "\n",
        "recall_eval = top_k.join(actual_likes, on=\"userId\") \\\n",
        "    .withColumn(\"recall\", recall_udf(col(\"recommended_list\"), col(\"liked_list\")))\n"
      ],
      "metadata": {
        "id": "WDLkccUdiYZV"
      },
      "execution_count": null,
      "outputs": []
    },
    {
      "cell_type": "code",
      "source": [
        "#see recall\n",
        "recall_eval.select(\"userId\", \"recall\").show()\n",
        "recall_eval.selectExpr(\"avg(recall) as avg_recall\").show()"
      ],
      "metadata": {
        "colab": {
          "base_uri": "https://localhost:8080/",
          "height": 1000
        },
        "id": "QzykB81UiYWc",
        "outputId": "5f97bd48-1081-4463-ac7a-03947806cfa4"
      },
      "execution_count": null,
      "outputs": [
        {
          "output_type": "stream",
          "name": "stdout",
          "text": [
            "+-------+------+\n",
            "| userId|recall|\n",
            "+-------+------+\n",
            "| 4214.0|   0.0|\n",
            "|18463.0|   0.0|\n",
            "|24874.0|   0.0|\n",
            "|22437.0|   0.0|\n",
            "| 2044.0|   0.0|\n",
            "| 5373.0|   0.0|\n",
            "|21353.0|   0.0|\n",
            "|21130.0|   0.0|\n",
            "|18154.0|   0.0|\n",
            "|11161.0|   0.0|\n",
            "|21369.0|   0.0|\n",
            "| 4070.0|   0.0|\n",
            "| 6655.0|   0.0|\n",
            "|21106.0|   0.0|\n",
            "|17185.0|   0.0|\n",
            "|21448.0|   0.0|\n",
            "|23388.0|   0.0|\n",
            "| 3749.0|   0.0|\n",
            "|20546.0|   0.0|\n",
            "| 8494.0|   0.0|\n",
            "+-------+------+\n",
            "only showing top 20 rows\n",
            "\n"
          ]
        },
        {
          "output_type": "error",
          "ename": "Py4JJavaError",
          "evalue": "An error occurred while calling o893.showString.\n: org.apache.spark.SparkException: Job aborted due to stage failure: Task 20 in stage 343.0 failed 1 times, most recent failure: Lost task 20.0 in stage 343.0 (TID 8229) (66eceefe38c3 executor driver): java.lang.OutOfMemoryError: Java heap space\n\tat java.base/java.nio.HeapByteBuffer.<init>(HeapByteBuffer.java:61)\n\tat java.base/java.nio.ByteBuffer.allocate(ByteBuffer.java:348)\n\tat org.apache.spark.serializer.SerializerHelper$.$anonfun$serializeToChunkedBuffer$1(SerializerHelper.scala:40)\n\tat org.apache.spark.serializer.SerializerHelper$.$anonfun$serializeToChunkedBuffer$1$adapted(SerializerHelper.scala:40)\n\tat org.apache.spark.serializer.SerializerHelper$$$Lambda$1706/0x0000000840c09840.apply(Unknown Source)\n\tat org.apache.spark.util.io.ChunkedByteBufferOutputStream.allocateNewChunkIfNeeded(ChunkedByteBufferOutputStream.scala:87)\n\tat org.apache.spark.util.io.ChunkedByteBufferOutputStream.write(ChunkedByteBufferOutputStream.scala:75)\n\tat java.base/java.io.ObjectOutputStream$BlockDataOutputStream.drain(ObjectOutputStream.java:1873)\n\tat java.base/java.io.ObjectOutputStream$BlockDataOutputStream.setBlockDataMode(ObjectOutputStream.java:1782)\n\tat java.base/java.io.ObjectOutputStream.<init>(ObjectOutputStream.java:244)\n\tat org.apache.spark.serializer.JavaSerializationStream.<init>(JavaSerializer.scala:35)\n\tat org.apache.spark.serializer.JavaSerializerInstance.serializeStream(JavaSerializer.scala:133)\n\tat org.apache.spark.serializer.SerializerHelper$.serializeToChunkedBuffer(SerializerHelper.scala:41)\n\tat org.apache.spark.executor.Executor$TaskRunner.run(Executor.scala:665)\n\tat java.base/java.util.concurrent.ThreadPoolExecutor.runWorker(ThreadPoolExecutor.java:1128)\n\tat java.base/java.util.concurrent.ThreadPoolExecutor$Worker.run(ThreadPoolExecutor.java:628)\n\tat java.base/java.lang.Thread.run(Thread.java:829)\n\nDriver stacktrace:\n\tat org.apache.spark.scheduler.DAGScheduler.failJobAndIndependentStages(DAGScheduler.scala:2856)\n\tat org.apache.spark.scheduler.DAGScheduler.$anonfun$abortStage$2(DAGScheduler.scala:2792)\n\tat org.apache.spark.scheduler.DAGScheduler.$anonfun$abortStage$2$adapted(DAGScheduler.scala:2791)\n\tat scala.collection.mutable.ResizableArray.foreach(ResizableArray.scala:62)\n\tat scala.collection.mutable.ResizableArray.foreach$(ResizableArray.scala:55)\n\tat scala.collection.mutable.ArrayBuffer.foreach(ArrayBuffer.scala:49)\n\tat org.apache.spark.scheduler.DAGScheduler.abortStage(DAGScheduler.scala:2791)\n\tat org.apache.spark.scheduler.DAGScheduler.$anonfun$handleTaskSetFailed$1(DAGScheduler.scala:1247)\n\tat org.apache.spark.scheduler.DAGScheduler.$anonfun$handleTaskSetFailed$1$adapted(DAGScheduler.scala:1247)\n\tat scala.Option.foreach(Option.scala:407)\n\tat org.apache.spark.scheduler.DAGScheduler.handleTaskSetFailed(DAGScheduler.scala:1247)\n\tat org.apache.spark.scheduler.DAGSchedulerEventProcessLoop.doOnReceive(DAGScheduler.scala:3060)\n\tat org.apache.spark.scheduler.DAGSchedulerEventProcessLoop.onReceive(DAGScheduler.scala:2994)\n\tat org.apache.spark.scheduler.DAGSchedulerEventProcessLoop.onReceive(DAGScheduler.scala:2983)\n\tat org.apache.spark.util.EventLoop$$anon$1.run(EventLoop.scala:49)\nCaused by: java.lang.OutOfMemoryError: Java heap space\n\tat java.base/java.nio.HeapByteBuffer.<init>(HeapByteBuffer.java:61)\n\tat java.base/java.nio.ByteBuffer.allocate(ByteBuffer.java:348)\n\tat org.apache.spark.serializer.SerializerHelper$.$anonfun$serializeToChunkedBuffer$1(SerializerHelper.scala:40)\n\tat org.apache.spark.serializer.SerializerHelper$.$anonfun$serializeToChunkedBuffer$1$adapted(SerializerHelper.scala:40)\n\tat org.apache.spark.serializer.SerializerHelper$$$Lambda$1706/0x0000000840c09840.apply(Unknown Source)\n\tat org.apache.spark.util.io.ChunkedByteBufferOutputStream.allocateNewChunkIfNeeded(ChunkedByteBufferOutputStream.scala:87)\n\tat org.apache.spark.util.io.ChunkedByteBufferOutputStream.write(ChunkedByteBufferOutputStream.scala:75)\n\tat java.base/java.io.ObjectOutputStream$BlockDataOutputStream.drain(ObjectOutputStream.java:1873)\n\tat java.base/java.io.ObjectOutputStream$BlockDataOutputStream.setBlockDataMode(ObjectOutputStream.java:1782)\n\tat java.base/java.io.ObjectOutputStream.<init>(ObjectOutputStream.java:244)\n\tat org.apache.spark.serializer.JavaSerializationStream.<init>(JavaSerializer.scala:35)\n\tat org.apache.spark.serializer.JavaSerializerInstance.serializeStream(JavaSerializer.scala:133)\n\tat org.apache.spark.serializer.SerializerHelper$.serializeToChunkedBuffer(SerializerHelper.scala:41)\n\tat org.apache.spark.executor.Executor$TaskRunner.run(Executor.scala:665)\n\tat java.base/java.util.concurrent.ThreadPoolExecutor.runWorker(ThreadPoolExecutor.java:1128)\n\tat java.base/java.util.concurrent.ThreadPoolExecutor$Worker.run(ThreadPoolExecutor.java:628)\n\tat java.base/java.lang.Thread.run(Thread.java:829)\n",
          "traceback": [
            "\u001b[0;31m---------------------------------------------------------------------------\u001b[0m",
            "\u001b[0;31mPy4JJavaError\u001b[0m                             Traceback (most recent call last)",
            "\u001b[0;32m<ipython-input-52-ee5ccb46e09b>\u001b[0m in \u001b[0;36m<cell line: 0>\u001b[0;34m()\u001b[0m\n\u001b[1;32m      1\u001b[0m \u001b[0;31m# ---------- Step 7: Results ----------\u001b[0m\u001b[0;34m\u001b[0m\u001b[0;34m\u001b[0m\u001b[0m\n\u001b[1;32m      2\u001b[0m \u001b[0mrecall_eval\u001b[0m\u001b[0;34m.\u001b[0m\u001b[0mselect\u001b[0m\u001b[0;34m(\u001b[0m\u001b[0;34m\"userId\"\u001b[0m\u001b[0;34m,\u001b[0m \u001b[0;34m\"recall\"\u001b[0m\u001b[0;34m)\u001b[0m\u001b[0;34m.\u001b[0m\u001b[0mshow\u001b[0m\u001b[0;34m(\u001b[0m\u001b[0;34m)\u001b[0m\u001b[0;34m\u001b[0m\u001b[0;34m\u001b[0m\u001b[0m\n\u001b[0;32m----> 3\u001b[0;31m \u001b[0mrecall_eval\u001b[0m\u001b[0;34m.\u001b[0m\u001b[0mselectExpr\u001b[0m\u001b[0;34m(\u001b[0m\u001b[0;34m\"avg(recall) as avg_recall\"\u001b[0m\u001b[0;34m)\u001b[0m\u001b[0;34m.\u001b[0m\u001b[0mshow\u001b[0m\u001b[0;34m(\u001b[0m\u001b[0;34m)\u001b[0m\u001b[0;34m\u001b[0m\u001b[0;34m\u001b[0m\u001b[0m\n\u001b[0m",
            "\u001b[0;32m/usr/local/lib/python3.11/dist-packages/pyspark/sql/dataframe.py\u001b[0m in \u001b[0;36mshow\u001b[0;34m(self, n, truncate, vertical)\u001b[0m\n\u001b[1;32m    943\u001b[0m         \u001b[0mname\u001b[0m \u001b[0;34m|\u001b[0m \u001b[0mBob\u001b[0m\u001b[0;34m\u001b[0m\u001b[0;34m\u001b[0m\u001b[0m\n\u001b[1;32m    944\u001b[0m         \"\"\"\n\u001b[0;32m--> 945\u001b[0;31m         \u001b[0mprint\u001b[0m\u001b[0;34m(\u001b[0m\u001b[0mself\u001b[0m\u001b[0;34m.\u001b[0m\u001b[0m_show_string\u001b[0m\u001b[0;34m(\u001b[0m\u001b[0mn\u001b[0m\u001b[0;34m,\u001b[0m \u001b[0mtruncate\u001b[0m\u001b[0;34m,\u001b[0m \u001b[0mvertical\u001b[0m\u001b[0;34m)\u001b[0m\u001b[0;34m)\u001b[0m\u001b[0;34m\u001b[0m\u001b[0;34m\u001b[0m\u001b[0m\n\u001b[0m\u001b[1;32m    946\u001b[0m \u001b[0;34m\u001b[0m\u001b[0m\n\u001b[1;32m    947\u001b[0m     def _show_string(\n",
            "\u001b[0;32m/usr/local/lib/python3.11/dist-packages/pyspark/sql/dataframe.py\u001b[0m in \u001b[0;36m_show_string\u001b[0;34m(self, n, truncate, vertical)\u001b[0m\n\u001b[1;32m    961\u001b[0m \u001b[0;34m\u001b[0m\u001b[0m\n\u001b[1;32m    962\u001b[0m         \u001b[0;32mif\u001b[0m \u001b[0misinstance\u001b[0m\u001b[0;34m(\u001b[0m\u001b[0mtruncate\u001b[0m\u001b[0;34m,\u001b[0m \u001b[0mbool\u001b[0m\u001b[0;34m)\u001b[0m \u001b[0;32mand\u001b[0m \u001b[0mtruncate\u001b[0m\u001b[0;34m:\u001b[0m\u001b[0;34m\u001b[0m\u001b[0;34m\u001b[0m\u001b[0m\n\u001b[0;32m--> 963\u001b[0;31m             \u001b[0;32mreturn\u001b[0m \u001b[0mself\u001b[0m\u001b[0;34m.\u001b[0m\u001b[0m_jdf\u001b[0m\u001b[0;34m.\u001b[0m\u001b[0mshowString\u001b[0m\u001b[0;34m(\u001b[0m\u001b[0mn\u001b[0m\u001b[0;34m,\u001b[0m \u001b[0;36m20\u001b[0m\u001b[0;34m,\u001b[0m \u001b[0mvertical\u001b[0m\u001b[0;34m)\u001b[0m\u001b[0;34m\u001b[0m\u001b[0;34m\u001b[0m\u001b[0m\n\u001b[0m\u001b[1;32m    964\u001b[0m         \u001b[0;32melse\u001b[0m\u001b[0;34m:\u001b[0m\u001b[0;34m\u001b[0m\u001b[0;34m\u001b[0m\u001b[0m\n\u001b[1;32m    965\u001b[0m             \u001b[0;32mtry\u001b[0m\u001b[0;34m:\u001b[0m\u001b[0;34m\u001b[0m\u001b[0;34m\u001b[0m\u001b[0m\n",
            "\u001b[0;32m/usr/local/lib/python3.11/dist-packages/py4j/java_gateway.py\u001b[0m in \u001b[0;36m__call__\u001b[0;34m(self, *args)\u001b[0m\n\u001b[1;32m   1320\u001b[0m \u001b[0;34m\u001b[0m\u001b[0m\n\u001b[1;32m   1321\u001b[0m         \u001b[0manswer\u001b[0m \u001b[0;34m=\u001b[0m \u001b[0mself\u001b[0m\u001b[0;34m.\u001b[0m\u001b[0mgateway_client\u001b[0m\u001b[0;34m.\u001b[0m\u001b[0msend_command\u001b[0m\u001b[0;34m(\u001b[0m\u001b[0mcommand\u001b[0m\u001b[0;34m)\u001b[0m\u001b[0;34m\u001b[0m\u001b[0;34m\u001b[0m\u001b[0m\n\u001b[0;32m-> 1322\u001b[0;31m         return_value = get_return_value(\n\u001b[0m\u001b[1;32m   1323\u001b[0m             answer, self.gateway_client, self.target_id, self.name)\n\u001b[1;32m   1324\u001b[0m \u001b[0;34m\u001b[0m\u001b[0m\n",
            "\u001b[0;32m/usr/local/lib/python3.11/dist-packages/pyspark/errors/exceptions/captured.py\u001b[0m in \u001b[0;36mdeco\u001b[0;34m(*a, **kw)\u001b[0m\n\u001b[1;32m    177\u001b[0m     \u001b[0;32mdef\u001b[0m \u001b[0mdeco\u001b[0m\u001b[0;34m(\u001b[0m\u001b[0;34m*\u001b[0m\u001b[0ma\u001b[0m\u001b[0;34m:\u001b[0m \u001b[0mAny\u001b[0m\u001b[0;34m,\u001b[0m \u001b[0;34m**\u001b[0m\u001b[0mkw\u001b[0m\u001b[0;34m:\u001b[0m \u001b[0mAny\u001b[0m\u001b[0;34m)\u001b[0m \u001b[0;34m->\u001b[0m \u001b[0mAny\u001b[0m\u001b[0;34m:\u001b[0m\u001b[0;34m\u001b[0m\u001b[0;34m\u001b[0m\u001b[0m\n\u001b[1;32m    178\u001b[0m         \u001b[0;32mtry\u001b[0m\u001b[0;34m:\u001b[0m\u001b[0;34m\u001b[0m\u001b[0;34m\u001b[0m\u001b[0m\n\u001b[0;32m--> 179\u001b[0;31m             \u001b[0;32mreturn\u001b[0m \u001b[0mf\u001b[0m\u001b[0;34m(\u001b[0m\u001b[0;34m*\u001b[0m\u001b[0ma\u001b[0m\u001b[0;34m,\u001b[0m \u001b[0;34m**\u001b[0m\u001b[0mkw\u001b[0m\u001b[0;34m)\u001b[0m\u001b[0;34m\u001b[0m\u001b[0;34m\u001b[0m\u001b[0m\n\u001b[0m\u001b[1;32m    180\u001b[0m         \u001b[0;32mexcept\u001b[0m \u001b[0mPy4JJavaError\u001b[0m \u001b[0;32mas\u001b[0m \u001b[0me\u001b[0m\u001b[0;34m:\u001b[0m\u001b[0;34m\u001b[0m\u001b[0;34m\u001b[0m\u001b[0m\n\u001b[1;32m    181\u001b[0m             \u001b[0mconverted\u001b[0m \u001b[0;34m=\u001b[0m \u001b[0mconvert_exception\u001b[0m\u001b[0;34m(\u001b[0m\u001b[0me\u001b[0m\u001b[0;34m.\u001b[0m\u001b[0mjava_exception\u001b[0m\u001b[0;34m)\u001b[0m\u001b[0;34m\u001b[0m\u001b[0;34m\u001b[0m\u001b[0m\n",
            "\u001b[0;32m/usr/local/lib/python3.11/dist-packages/py4j/protocol.py\u001b[0m in \u001b[0;36mget_return_value\u001b[0;34m(answer, gateway_client, target_id, name)\u001b[0m\n\u001b[1;32m    324\u001b[0m             \u001b[0mvalue\u001b[0m \u001b[0;34m=\u001b[0m \u001b[0mOUTPUT_CONVERTER\u001b[0m\u001b[0;34m[\u001b[0m\u001b[0mtype\u001b[0m\u001b[0;34m]\u001b[0m\u001b[0;34m(\u001b[0m\u001b[0manswer\u001b[0m\u001b[0;34m[\u001b[0m\u001b[0;36m2\u001b[0m\u001b[0;34m:\u001b[0m\u001b[0;34m]\u001b[0m\u001b[0;34m,\u001b[0m \u001b[0mgateway_client\u001b[0m\u001b[0;34m)\u001b[0m\u001b[0;34m\u001b[0m\u001b[0;34m\u001b[0m\u001b[0m\n\u001b[1;32m    325\u001b[0m             \u001b[0;32mif\u001b[0m \u001b[0manswer\u001b[0m\u001b[0;34m[\u001b[0m\u001b[0;36m1\u001b[0m\u001b[0;34m]\u001b[0m \u001b[0;34m==\u001b[0m \u001b[0mREFERENCE_TYPE\u001b[0m\u001b[0;34m:\u001b[0m\u001b[0;34m\u001b[0m\u001b[0;34m\u001b[0m\u001b[0m\n\u001b[0;32m--> 326\u001b[0;31m                 raise Py4JJavaError(\n\u001b[0m\u001b[1;32m    327\u001b[0m                     \u001b[0;34m\"An error occurred while calling {0}{1}{2}.\\n\"\u001b[0m\u001b[0;34m.\u001b[0m\u001b[0;34m\u001b[0m\u001b[0;34m\u001b[0m\u001b[0m\n\u001b[1;32m    328\u001b[0m                     format(target_id, \".\", name), value)\n",
            "\u001b[0;31mPy4JJavaError\u001b[0m: An error occurred while calling o893.showString.\n: org.apache.spark.SparkException: Job aborted due to stage failure: Task 20 in stage 343.0 failed 1 times, most recent failure: Lost task 20.0 in stage 343.0 (TID 8229) (66eceefe38c3 executor driver): java.lang.OutOfMemoryError: Java heap space\n\tat java.base/java.nio.HeapByteBuffer.<init>(HeapByteBuffer.java:61)\n\tat java.base/java.nio.ByteBuffer.allocate(ByteBuffer.java:348)\n\tat org.apache.spark.serializer.SerializerHelper$.$anonfun$serializeToChunkedBuffer$1(SerializerHelper.scala:40)\n\tat org.apache.spark.serializer.SerializerHelper$.$anonfun$serializeToChunkedBuffer$1$adapted(SerializerHelper.scala:40)\n\tat org.apache.spark.serializer.SerializerHelper$$$Lambda$1706/0x0000000840c09840.apply(Unknown Source)\n\tat org.apache.spark.util.io.ChunkedByteBufferOutputStream.allocateNewChunkIfNeeded(ChunkedByteBufferOutputStream.scala:87)\n\tat org.apache.spark.util.io.ChunkedByteBufferOutputStream.write(ChunkedByteBufferOutputStream.scala:75)\n\tat java.base/java.io.ObjectOutputStream$BlockDataOutputStream.drain(ObjectOutputStream.java:1873)\n\tat java.base/java.io.ObjectOutputStream$BlockDataOutputStream.setBlockDataMode(ObjectOutputStream.java:1782)\n\tat java.base/java.io.ObjectOutputStream.<init>(ObjectOutputStream.java:244)\n\tat org.apache.spark.serializer.JavaSerializationStream.<init>(JavaSerializer.scala:35)\n\tat org.apache.spark.serializer.JavaSerializerInstance.serializeStream(JavaSerializer.scala:133)\n\tat org.apache.spark.serializer.SerializerHelper$.serializeToChunkedBuffer(SerializerHelper.scala:41)\n\tat org.apache.spark.executor.Executor$TaskRunner.run(Executor.scala:665)\n\tat java.base/java.util.concurrent.ThreadPoolExecutor.runWorker(ThreadPoolExecutor.java:1128)\n\tat java.base/java.util.concurrent.ThreadPoolExecutor$Worker.run(ThreadPoolExecutor.java:628)\n\tat java.base/java.lang.Thread.run(Thread.java:829)\n\nDriver stacktrace:\n\tat org.apache.spark.scheduler.DAGScheduler.failJobAndIndependentStages(DAGScheduler.scala:2856)\n\tat org.apache.spark.scheduler.DAGScheduler.$anonfun$abortStage$2(DAGScheduler.scala:2792)\n\tat org.apache.spark.scheduler.DAGScheduler.$anonfun$abortStage$2$adapted(DAGScheduler.scala:2791)\n\tat scala.collection.mutable.ResizableArray.foreach(ResizableArray.scala:62)\n\tat scala.collection.mutable.ResizableArray.foreach$(ResizableArray.scala:55)\n\tat scala.collection.mutable.ArrayBuffer.foreach(ArrayBuffer.scala:49)\n\tat org.apache.spark.scheduler.DAGScheduler.abortStage(DAGScheduler.scala:2791)\n\tat org.apache.spark.scheduler.DAGScheduler.$anonfun$handleTaskSetFailed$1(DAGScheduler.scala:1247)\n\tat org.apache.spark.scheduler.DAGScheduler.$anonfun$handleTaskSetFailed$1$adapted(DAGScheduler.scala:1247)\n\tat scala.Option.foreach(Option.scala:407)\n\tat org.apache.spark.scheduler.DAGScheduler.handleTaskSetFailed(DAGScheduler.scala:1247)\n\tat org.apache.spark.scheduler.DAGSchedulerEventProcessLoop.doOnReceive(DAGScheduler.scala:3060)\n\tat org.apache.spark.scheduler.DAGSchedulerEventProcessLoop.onReceive(DAGScheduler.scala:2994)\n\tat org.apache.spark.scheduler.DAGSchedulerEventProcessLoop.onReceive(DAGScheduler.scala:2983)\n\tat org.apache.spark.util.EventLoop$$anon$1.run(EventLoop.scala:49)\nCaused by: java.lang.OutOfMemoryError: Java heap space\n\tat java.base/java.nio.HeapByteBuffer.<init>(HeapByteBuffer.java:61)\n\tat java.base/java.nio.ByteBuffer.allocate(ByteBuffer.java:348)\n\tat org.apache.spark.serializer.SerializerHelper$.$anonfun$serializeToChunkedBuffer$1(SerializerHelper.scala:40)\n\tat org.apache.spark.serializer.SerializerHelper$.$anonfun$serializeToChunkedBuffer$1$adapted(SerializerHelper.scala:40)\n\tat org.apache.spark.serializer.SerializerHelper$$$Lambda$1706/0x0000000840c09840.apply(Unknown Source)\n\tat org.apache.spark.util.io.ChunkedByteBufferOutputStream.allocateNewChunkIfNeeded(ChunkedByteBufferOutputStream.scala:87)\n\tat org.apache.spark.util.io.ChunkedByteBufferOutputStream.write(ChunkedByteBufferOutputStream.scala:75)\n\tat java.base/java.io.ObjectOutputStream$BlockDataOutputStream.drain(ObjectOutputStream.java:1873)\n\tat java.base/java.io.ObjectOutputStream$BlockDataOutputStream.setBlockDataMode(ObjectOutputStream.java:1782)\n\tat java.base/java.io.ObjectOutputStream.<init>(ObjectOutputStream.java:244)\n\tat org.apache.spark.serializer.JavaSerializationStream.<init>(JavaSerializer.scala:35)\n\tat org.apache.spark.serializer.JavaSerializerInstance.serializeStream(JavaSerializer.scala:133)\n\tat org.apache.spark.serializer.SerializerHelper$.serializeToChunkedBuffer(SerializerHelper.scala:41)\n\tat org.apache.spark.executor.Executor$TaskRunner.run(Executor.scala:665)\n\tat java.base/java.util.concurrent.ThreadPoolExecutor.runWorker(ThreadPoolExecutor.java:1128)\n\tat java.base/java.util.concurrent.ThreadPoolExecutor$Worker.run(ThreadPoolExecutor.java:628)\n\tat java.base/java.lang.Thread.run(Thread.java:829)\n"
          ]
        }
      ]
    },
    {
      "cell_type": "markdown",
      "source": [
        "The results above aren't promising."
      ],
      "metadata": {
        "id": "3Q6rt7-Px5iC"
      }
    },
    {
      "cell_type": "code",
      "source": [],
      "metadata": {
        "id": "gwANhiK-iYO-"
      },
      "execution_count": null,
      "outputs": []
    },
    {
      "cell_type": "markdown",
      "source": [
        "\n",
        "### Another approach at content-based with review"
      ],
      "metadata": {
        "id": "clBMMRWOBRCF"
      }
    },
    {
      "cell_type": "code",
      "source": [
        "#Filter valid reviews\n",
        "review_df = balanced_data.select(\"userId\", \"app_id\", \"app_name\", \"review\", \"recommended\") \\\n",
        "                         .dropna(subset=[\"review\"]) \\\n",
        "                         .filter(col(\"recommended\") == 1)  # Only positive interactions"
      ],
      "metadata": {
        "id": "BGWOPVhSCyVw"
      },
      "execution_count": null,
      "outputs": []
    },
    {
      "cell_type": "code",
      "source": [
        "review_df.show()"
      ],
      "metadata": {
        "colab": {
          "base_uri": "https://localhost:8080/"
        },
        "id": "xhGTVvMjDyiK",
        "outputId": "5290111f-ebb0-41ce-f579-b0dad658dd99"
      },
      "execution_count": null,
      "outputs": [
        {
          "output_type": "stream",
          "name": "stdout",
          "text": [
            "+--------+------+--------------------+--------------------+-----------+\n",
            "|  userId|app_id|            app_name|              review|recommended|\n",
            "+--------+------+--------------------+--------------------+-----------+\n",
            "| 61569.0|292030|The Witcher 3: Wi...|What great game. ...|          1|\n",
            "|177245.0|292030|The Witcher 3: Wi...|    Fucking amazing!|          1|\n",
            "|379898.0|292030|The Witcher 3: Wi...|I love this game....|          1|\n",
            "|353696.0|292030|The Witcher 3: Wi...|       I do love Yen|          1|\n",
            "|104224.0|292030|The Witcher 3: Wi...|Finished twice on...|          1|\n",
            "|324911.0|292030|The Witcher 3: Wi...|It is just absolo...|          1|\n",
            "|346921.0|292030|The Witcher 3: Wi...|     Best game ever!|          1|\n",
            "|369875.0|292030|The Witcher 3: Wi...|Absolutely a mast...|          1|\n",
            "|279146.0|292030|The Witcher 3: Wi...|     Fucking Awesome|          1|\n",
            "|331034.0|292030|The Witcher 3: Wi...|i came for the se...|          1|\n",
            "|303319.0|292030|The Witcher 3: Wi...|For me this game ...|          1|\n",
            "|317795.0|292030|The Witcher 3: Wi...|          It s good.|          1|\n",
            "|130441.0|292030|The Witcher 3: Wi...|                 yes|          1|\n",
            "|331194.0|292030|The Witcher 3: Wi...|Our whole univers...|          1|\n",
            "| 25924.0|292030|The Witcher 3: Wi...|You can do everyt...|          1|\n",
            "|326226.0|292030|The Witcher 3: Wi...|         pretty sick|          1|\n",
            "|377457.0|292030|The Witcher 3: Wi...|The best game I h...|          1|\n",
            "|147496.0|292030|The Witcher 3: Wi...|The game is just ...|          1|\n",
            "|375196.0|292030|The Witcher 3: Wi...|            game gud|          1|\n",
            "|202452.0|292030|The Witcher 3: Wi...|I played 100's of...|          1|\n",
            "+--------+------+--------------------+--------------------+-----------+\n",
            "only showing top 20 rows\n",
            "\n"
          ]
        }
      ]
    },
    {
      "cell_type": "code",
      "source": [
        "# 2. TF-IDF vectorization\n",
        "tokenizer = Tokenizer(inputCol=\"review\", outputCol=\"words\")\n",
        "words_data = tokenizer.transform(review_df)\n",
        "\n",
        "hashingTF = HashingTF(inputCol=\"words\", outputCol=\"rawFeatures\", numFeatures=1000)\n",
        "featurized_data = hashingTF.transform(words_data)\n",
        "\n",
        "idf = IDF(inputCol=\"rawFeatures\", outputCol=\"features\")\n",
        "idf_model = idf.fit(featurized_data)\n",
        "tfidf_data = idf_model.transform(featurized_data).select(\"userId\", \"app_id\", \"features\")"
      ],
      "metadata": {
        "id": "ew60ckMQCySU"
      },
      "execution_count": null,
      "outputs": []
    },
    {
      "cell_type": "code",
      "source": [
        "# 3. Build item profile (one vector per app_id)\n",
        "item_profiles = tfidf_data.select(\"app_id\", \"features\").dropDuplicates([\"app_id\"])"
      ],
      "metadata": {
        "id": "sUEd6A7xCyN0"
      },
      "execution_count": null,
      "outputs": []
    },
    {
      "cell_type": "code",
      "source": [
        "# 4. Build user profiles by averaging vectors of positively reviewed items\n",
        "def average_vectors(vectors):\n",
        "    arrs = [v.toArray() for v in vectors]\n",
        "    mean = np.mean(arrs, axis=0)\n",
        "    return Vectors.dense(mean)\n",
        "\n",
        "avg_vec_udf = udf(average_vectors, VectorUDT())\n",
        "\n",
        "user_profiles = tfidf_data.groupBy(\"userId\") \\\n",
        "                          .agg(collect_list(\"features\").alias(\"features_list\")) \\\n",
        "                          .withColumn(\"user_profile\", avg_vec_udf(\"features_list\"))"
      ],
      "metadata": {
        "id": "dxVcUFNZCyKb"
      },
      "execution_count": null,
      "outputs": []
    },
    {
      "cell_type": "code",
      "source": [
        "# 5. Define cosine similarity UDF\n",
        "def cosine_sim(v1, v2):\n",
        "    v1 = np.array(v1.toArray())\n",
        "    v2 = np.array(v2.toArray())\n",
        "    dot = np.dot(v1, v2)\n",
        "    norm1 = np.linalg.norm(v1)\n",
        "    norm2 = np.linalg.norm(v2)\n",
        "    if norm1 == 0 or norm2 == 0:\n",
        "        return float(0.0)\n",
        "    return float(dot / (norm1 * norm2))\n",
        "\n",
        "cosine_udf = udf(cosine_sim, FloatType())"
      ],
      "metadata": {
        "id": "3t-evLalDc1p"
      },
      "execution_count": null,
      "outputs": []
    },
    {
      "cell_type": "code",
      "source": [
        "# 6. Build utility matrix (user-item scores)\n",
        "u = user_profiles.alias(\"u\")\n",
        "i = item_profiles.alias(\"i\")\n",
        "\n",
        "utility_matrix = u.crossJoin(i) \\\n",
        "    .withColumn(\"similarity\", cosine_udf(col(\"u.user_profile\"), col(\"i.features\"))) \\\n",
        "    .select(col(\"u.userId\"), col(\"i.app_id\"), col(\"similarity\"))"
      ],
      "metadata": {
        "id": "if_oGeHPDc4g"
      },
      "execution_count": null,
      "outputs": []
    },
    {
      "cell_type": "code",
      "source": [
        "# 7. (Optional) Remove items already reviewed by users\n",
        "# already_reviewed = tfidf_data.select(\"userId\", \"app_id\").distinct()\n",
        "# utility_matrix = utility_matrix.join(already_reviewed, on=[\"userId\", \"app_id\"], how=\"left_anti\")"
      ],
      "metadata": {
        "id": "iDAepUa6Dc-n"
      },
      "execution_count": null,
      "outputs": []
    },
    {
      "cell_type": "code",
      "source": [
        "# 8. Top-N recommendations\n",
        "window_spec = Window.partitionBy(\"userId\").orderBy(col(\"similarity\").desc())\n",
        "\n",
        "top_n = utility_matrix.withColumn(\"rank\", row_number().over(window_spec)) \\\n",
        "                      .filter(col(\"rank\") <= 5)  # Top-5\n",
        "\n",
        "top_n.show(truncate=False)"
      ],
      "metadata": {
        "colab": {
          "base_uri": "https://localhost:8080/",
          "height": 543
        },
        "id": "ep9A3SRyDdCM",
        "outputId": "a02a76f6-681b-4cab-aa38-d05edd402521"
      },
      "execution_count": null,
      "outputs": [
        {
          "output_type": "stream",
          "name": "stderr",
          "text": [
            "ERROR:root:KeyboardInterrupt while sending command.\n",
            "Traceback (most recent call last):\n",
            "  File \"/usr/local/lib/python3.11/dist-packages/py4j/java_gateway.py\", line 1038, in send_command\n",
            "    response = connection.send_command(command)\n",
            "               ^^^^^^^^^^^^^^^^^^^^^^^^^^^^^^^^\n",
            "  File \"/usr/local/lib/python3.11/dist-packages/py4j/clientserver.py\", line 511, in send_command\n",
            "    answer = smart_decode(self.stream.readline()[:-1])\n",
            "                          ^^^^^^^^^^^^^^^^^^^^^^\n",
            "  File \"/usr/lib/python3.11/socket.py\", line 718, in readinto\n",
            "    return self._sock.recv_into(b)\n",
            "           ^^^^^^^^^^^^^^^^^^^^^^^\n",
            "KeyboardInterrupt\n"
          ]
        },
        {
          "output_type": "error",
          "ename": "KeyboardInterrupt",
          "evalue": "",
          "traceback": [
            "\u001b[0;31m---------------------------------------------------------------------------\u001b[0m",
            "\u001b[0;31mKeyboardInterrupt\u001b[0m                         Traceback (most recent call last)",
            "\u001b[0;32m<ipython-input-35-7409d4d9e06e>\u001b[0m in \u001b[0;36m<cell line: 0>\u001b[0;34m()\u001b[0m\n\u001b[1;32m      5\u001b[0m                       \u001b[0;34m.\u001b[0m\u001b[0mfilter\u001b[0m\u001b[0;34m(\u001b[0m\u001b[0mcol\u001b[0m\u001b[0;34m(\u001b[0m\u001b[0;34m\"rank\"\u001b[0m\u001b[0;34m)\u001b[0m \u001b[0;34m<=\u001b[0m \u001b[0;36m5\u001b[0m\u001b[0;34m)\u001b[0m  \u001b[0;31m# Top-5\u001b[0m\u001b[0;34m\u001b[0m\u001b[0;34m\u001b[0m\u001b[0m\n\u001b[1;32m      6\u001b[0m \u001b[0;34m\u001b[0m\u001b[0m\n\u001b[0;32m----> 7\u001b[0;31m \u001b[0mtop_n\u001b[0m\u001b[0;34m.\u001b[0m\u001b[0mshow\u001b[0m\u001b[0;34m(\u001b[0m\u001b[0mtruncate\u001b[0m\u001b[0;34m=\u001b[0m\u001b[0;32mFalse\u001b[0m\u001b[0;34m)\u001b[0m\u001b[0;34m\u001b[0m\u001b[0;34m\u001b[0m\u001b[0m\n\u001b[0m",
            "\u001b[0;32m/usr/local/lib/python3.11/dist-packages/pyspark/sql/dataframe.py\u001b[0m in \u001b[0;36mshow\u001b[0;34m(self, n, truncate, vertical)\u001b[0m\n\u001b[1;32m    943\u001b[0m         \u001b[0mname\u001b[0m \u001b[0;34m|\u001b[0m \u001b[0mBob\u001b[0m\u001b[0;34m\u001b[0m\u001b[0;34m\u001b[0m\u001b[0m\n\u001b[1;32m    944\u001b[0m         \"\"\"\n\u001b[0;32m--> 945\u001b[0;31m         \u001b[0mprint\u001b[0m\u001b[0;34m(\u001b[0m\u001b[0mself\u001b[0m\u001b[0;34m.\u001b[0m\u001b[0m_show_string\u001b[0m\u001b[0;34m(\u001b[0m\u001b[0mn\u001b[0m\u001b[0;34m,\u001b[0m \u001b[0mtruncate\u001b[0m\u001b[0;34m,\u001b[0m \u001b[0mvertical\u001b[0m\u001b[0;34m)\u001b[0m\u001b[0;34m)\u001b[0m\u001b[0;34m\u001b[0m\u001b[0;34m\u001b[0m\u001b[0m\n\u001b[0m\u001b[1;32m    946\u001b[0m \u001b[0;34m\u001b[0m\u001b[0m\n\u001b[1;32m    947\u001b[0m     def _show_string(\n",
            "\u001b[0;32m/usr/local/lib/python3.11/dist-packages/pyspark/sql/dataframe.py\u001b[0m in \u001b[0;36m_show_string\u001b[0;34m(self, n, truncate, vertical)\u001b[0m\n\u001b[1;32m    974\u001b[0m                 )\n\u001b[1;32m    975\u001b[0m \u001b[0;34m\u001b[0m\u001b[0m\n\u001b[0;32m--> 976\u001b[0;31m             \u001b[0;32mreturn\u001b[0m \u001b[0mself\u001b[0m\u001b[0;34m.\u001b[0m\u001b[0m_jdf\u001b[0m\u001b[0;34m.\u001b[0m\u001b[0mshowString\u001b[0m\u001b[0;34m(\u001b[0m\u001b[0mn\u001b[0m\u001b[0;34m,\u001b[0m \u001b[0mint_truncate\u001b[0m\u001b[0;34m,\u001b[0m \u001b[0mvertical\u001b[0m\u001b[0;34m)\u001b[0m\u001b[0;34m\u001b[0m\u001b[0;34m\u001b[0m\u001b[0m\n\u001b[0m\u001b[1;32m    977\u001b[0m \u001b[0;34m\u001b[0m\u001b[0m\n\u001b[1;32m    978\u001b[0m     \u001b[0;32mdef\u001b[0m \u001b[0m__repr__\u001b[0m\u001b[0;34m(\u001b[0m\u001b[0mself\u001b[0m\u001b[0;34m)\u001b[0m \u001b[0;34m->\u001b[0m \u001b[0mstr\u001b[0m\u001b[0;34m:\u001b[0m\u001b[0;34m\u001b[0m\u001b[0;34m\u001b[0m\u001b[0m\n",
            "\u001b[0;32m/usr/local/lib/python3.11/dist-packages/py4j/java_gateway.py\u001b[0m in \u001b[0;36m__call__\u001b[0;34m(self, *args)\u001b[0m\n\u001b[1;32m   1319\u001b[0m             \u001b[0mproto\u001b[0m\u001b[0;34m.\u001b[0m\u001b[0mEND_COMMAND_PART\u001b[0m\u001b[0;34m\u001b[0m\u001b[0;34m\u001b[0m\u001b[0m\n\u001b[1;32m   1320\u001b[0m \u001b[0;34m\u001b[0m\u001b[0m\n\u001b[0;32m-> 1321\u001b[0;31m         \u001b[0manswer\u001b[0m \u001b[0;34m=\u001b[0m \u001b[0mself\u001b[0m\u001b[0;34m.\u001b[0m\u001b[0mgateway_client\u001b[0m\u001b[0;34m.\u001b[0m\u001b[0msend_command\u001b[0m\u001b[0;34m(\u001b[0m\u001b[0mcommand\u001b[0m\u001b[0;34m)\u001b[0m\u001b[0;34m\u001b[0m\u001b[0;34m\u001b[0m\u001b[0m\n\u001b[0m\u001b[1;32m   1322\u001b[0m         return_value = get_return_value(\n\u001b[1;32m   1323\u001b[0m             answer, self.gateway_client, self.target_id, self.name)\n",
            "\u001b[0;32m/usr/local/lib/python3.11/dist-packages/py4j/java_gateway.py\u001b[0m in \u001b[0;36msend_command\u001b[0;34m(self, command, retry, binary)\u001b[0m\n\u001b[1;32m   1036\u001b[0m         \u001b[0mconnection\u001b[0m \u001b[0;34m=\u001b[0m \u001b[0mself\u001b[0m\u001b[0;34m.\u001b[0m\u001b[0m_get_connection\u001b[0m\u001b[0;34m(\u001b[0m\u001b[0;34m)\u001b[0m\u001b[0;34m\u001b[0m\u001b[0;34m\u001b[0m\u001b[0m\n\u001b[1;32m   1037\u001b[0m         \u001b[0;32mtry\u001b[0m\u001b[0;34m:\u001b[0m\u001b[0;34m\u001b[0m\u001b[0;34m\u001b[0m\u001b[0m\n\u001b[0;32m-> 1038\u001b[0;31m             \u001b[0mresponse\u001b[0m \u001b[0;34m=\u001b[0m \u001b[0mconnection\u001b[0m\u001b[0;34m.\u001b[0m\u001b[0msend_command\u001b[0m\u001b[0;34m(\u001b[0m\u001b[0mcommand\u001b[0m\u001b[0;34m)\u001b[0m\u001b[0;34m\u001b[0m\u001b[0;34m\u001b[0m\u001b[0m\n\u001b[0m\u001b[1;32m   1039\u001b[0m             \u001b[0;32mif\u001b[0m \u001b[0mbinary\u001b[0m\u001b[0;34m:\u001b[0m\u001b[0;34m\u001b[0m\u001b[0;34m\u001b[0m\u001b[0m\n\u001b[1;32m   1040\u001b[0m                 \u001b[0;32mreturn\u001b[0m \u001b[0mresponse\u001b[0m\u001b[0;34m,\u001b[0m \u001b[0mself\u001b[0m\u001b[0;34m.\u001b[0m\u001b[0m_create_connection_guard\u001b[0m\u001b[0;34m(\u001b[0m\u001b[0mconnection\u001b[0m\u001b[0;34m)\u001b[0m\u001b[0;34m\u001b[0m\u001b[0;34m\u001b[0m\u001b[0m\n",
            "\u001b[0;32m/usr/local/lib/python3.11/dist-packages/py4j/clientserver.py\u001b[0m in \u001b[0;36msend_command\u001b[0;34m(self, command)\u001b[0m\n\u001b[1;32m    509\u001b[0m         \u001b[0;32mtry\u001b[0m\u001b[0;34m:\u001b[0m\u001b[0;34m\u001b[0m\u001b[0;34m\u001b[0m\u001b[0m\n\u001b[1;32m    510\u001b[0m             \u001b[0;32mwhile\u001b[0m \u001b[0;32mTrue\u001b[0m\u001b[0;34m:\u001b[0m\u001b[0;34m\u001b[0m\u001b[0;34m\u001b[0m\u001b[0m\n\u001b[0;32m--> 511\u001b[0;31m                 \u001b[0manswer\u001b[0m \u001b[0;34m=\u001b[0m \u001b[0msmart_decode\u001b[0m\u001b[0;34m(\u001b[0m\u001b[0mself\u001b[0m\u001b[0;34m.\u001b[0m\u001b[0mstream\u001b[0m\u001b[0;34m.\u001b[0m\u001b[0mreadline\u001b[0m\u001b[0;34m(\u001b[0m\u001b[0;34m)\u001b[0m\u001b[0;34m[\u001b[0m\u001b[0;34m:\u001b[0m\u001b[0;34m-\u001b[0m\u001b[0;36m1\u001b[0m\u001b[0;34m]\u001b[0m\u001b[0;34m)\u001b[0m\u001b[0;34m\u001b[0m\u001b[0;34m\u001b[0m\u001b[0m\n\u001b[0m\u001b[1;32m    512\u001b[0m                 \u001b[0mlogger\u001b[0m\u001b[0;34m.\u001b[0m\u001b[0mdebug\u001b[0m\u001b[0;34m(\u001b[0m\u001b[0;34m\"Answer received: {0}\"\u001b[0m\u001b[0;34m.\u001b[0m\u001b[0mformat\u001b[0m\u001b[0;34m(\u001b[0m\u001b[0manswer\u001b[0m\u001b[0;34m)\u001b[0m\u001b[0;34m)\u001b[0m\u001b[0;34m\u001b[0m\u001b[0;34m\u001b[0m\u001b[0m\n\u001b[1;32m    513\u001b[0m                 \u001b[0;31m# Happens when a the other end is dead. There might be an empty\u001b[0m\u001b[0;34m\u001b[0m\u001b[0;34m\u001b[0m\u001b[0m\n",
            "\u001b[0;32m/usr/lib/python3.11/socket.py\u001b[0m in \u001b[0;36mreadinto\u001b[0;34m(self, b)\u001b[0m\n\u001b[1;32m    716\u001b[0m         \u001b[0;32mwhile\u001b[0m \u001b[0;32mTrue\u001b[0m\u001b[0;34m:\u001b[0m\u001b[0;34m\u001b[0m\u001b[0;34m\u001b[0m\u001b[0m\n\u001b[1;32m    717\u001b[0m             \u001b[0;32mtry\u001b[0m\u001b[0;34m:\u001b[0m\u001b[0;34m\u001b[0m\u001b[0;34m\u001b[0m\u001b[0m\n\u001b[0;32m--> 718\u001b[0;31m                 \u001b[0;32mreturn\u001b[0m \u001b[0mself\u001b[0m\u001b[0;34m.\u001b[0m\u001b[0m_sock\u001b[0m\u001b[0;34m.\u001b[0m\u001b[0mrecv_into\u001b[0m\u001b[0;34m(\u001b[0m\u001b[0mb\u001b[0m\u001b[0;34m)\u001b[0m\u001b[0;34m\u001b[0m\u001b[0;34m\u001b[0m\u001b[0m\n\u001b[0m\u001b[1;32m    719\u001b[0m             \u001b[0;32mexcept\u001b[0m \u001b[0mtimeout\u001b[0m\u001b[0;34m:\u001b[0m\u001b[0;34m\u001b[0m\u001b[0;34m\u001b[0m\u001b[0m\n\u001b[1;32m    720\u001b[0m                 \u001b[0mself\u001b[0m\u001b[0;34m.\u001b[0m\u001b[0m_timeout_occurred\u001b[0m \u001b[0;34m=\u001b[0m \u001b[0;32mTrue\u001b[0m\u001b[0;34m\u001b[0m\u001b[0;34m\u001b[0m\u001b[0m\n",
            "\u001b[0;31mKeyboardInterrupt\u001b[0m: "
          ]
        }
      ]
    },
    {
      "cell_type": "markdown",
      "source": [
        "### Content-based with review and other features"
      ],
      "metadata": {
        "id": "LXjCHcPOBXCO"
      }
    },
    {
      "cell_type": "code",
      "source": [
        "# Combine review text with relevant metadata into one string\n",
        "data_cb = balanced_data.select(\"userId\", \"app_id\", \"app_name\", \"review\",\n",
        "                            \"review_length\", \"playtime_category\",\n",
        "                            \"votes_helpful\", \"steam_purchase\",\n",
        "                            \"received_for_free\", \"written_during_early_access\") \\\n",
        "                    .dropna(subset=[\"review\"])\n",
        "\n",
        "data_cb = data_cb.withColumn(\"combined_text\", concat_ws(\" \",\n",
        "    col(\"review\"),\n",
        "    col(\"review_length\").cast(\"string\"),\n",
        "    col(\"playtime_category\"),\n",
        "    col(\"votes_helpful\").cast(\"string\"),\n",
        "    col(\"steam_purchase\").cast(\"string\"),\n",
        "    col(\"received_for_free\").cast(\"string\"),\n",
        "    col(\"written_during_early_access\").cast(\"string\")\n",
        "))"
      ],
      "metadata": {
        "id": "sX9Gk8thBQCC"
      },
      "execution_count": null,
      "outputs": []
    },
    {
      "cell_type": "code",
      "source": [
        "# Tokenize and vectorize\n",
        "tokenizer = Tokenizer(inputCol=\"combined_text\", outputCol=\"words\")\n",
        "words_data = tokenizer.transform(data_cb)\n",
        "\n",
        "hashingTF = HashingTF(inputCol=\"words\", outputCol=\"rawFeatures\", numFeatures=1000)\n",
        "featurized_data = hashingTF.transform(words_data)\n",
        "\n",
        "idf = IDF(inputCol=\"rawFeatures\", outputCol=\"features\")\n",
        "idf_model = idf.fit(featurized_data)\n",
        "item_feature_data = idf_model.transform(featurized_data) \\\n",
        "                              .select(\"app_id\", \"userId\", \"features\") \\\n",
        "                              .dropna()\n"
      ],
      "metadata": {
        "id": "e_vWOzwhBQE9"
      },
      "execution_count": null,
      "outputs": []
    },
    {
      "cell_type": "code",
      "source": [
        "# creating item profiles\n",
        "item_profiles = item_feature_data.select(\"app_id\", \"features\") \\\n",
        "                                 .dropDuplicates([\"app_id\"])"
      ],
      "metadata": {
        "id": "t04SHQpgBQHB"
      },
      "execution_count": null,
      "outputs": []
    },
    {
      "cell_type": "code",
      "source": [
        "# build user profiles (avg item vectors)\n",
        "# Average UDF for feature vectors\n",
        "def average_vectors(vectors):\n",
        "    arrs = [v.toArray() for v in vectors]\n",
        "    mean = np.mean(arrs, axis=0)\n",
        "    return Vectors.dense(mean)\n",
        "\n",
        "avg_vec_udf = udf(average_vectors, VectorUDT())\n",
        "\n",
        "# Aggregate features for each user\n",
        "user_profiles = item_feature_data.groupBy(\"userId\") \\\n",
        "                                 .agg(collect_list(\"features\").alias(\"features_list\")) \\\n",
        "                                 .withColumn(\"user_profile\", avg_vec_udf(\"features_list\"))\n"
      ],
      "metadata": {
        "id": "oZsJPvhPBQJo"
      },
      "execution_count": null,
      "outputs": []
    },
    {
      "cell_type": "code",
      "source": [
        "def cosine_sim(v1, v2):\n",
        "    v1 = np.array(v1.toArray())\n",
        "    v2 = np.array(v2.toArray())\n",
        "    dot = np.dot(v1, v2)\n",
        "    norm1 = np.linalg.norm(v1)\n",
        "    norm2 = np.linalg.norm(v2)\n",
        "    if norm1 == 0 or norm2 == 0:\n",
        "        return float(0.0)\n",
        "    return float(dot / (norm1 * norm2))\n",
        "\n",
        "cosine_udf = udf(cosine_sim, FloatType())"
      ],
      "metadata": {
        "id": "NAr_ZJB2BQMd"
      },
      "execution_count": null,
      "outputs": []
    },
    {
      "cell_type": "code",
      "source": [
        "# utility matrix (user-item similarities)\n",
        "\n",
        "user_alias = user_profiles.alias(\"u\")\n",
        "item_alias = item_profiles.alias(\"i\")\n",
        "\n",
        "utility_matrix = user_alias.crossJoin(item_alias) \\\n",
        "    .withColumn(\"similarity\", cosine_udf(col(\"u.user_profile\"), col(\"i.features\"))) \\\n",
        "    .select(col(\"u.userId\"), col(\"i.app_id\"), col(\"similarity\"))"
      ],
      "metadata": {
        "id": "XrlON6VOCBhd"
      },
      "execution_count": null,
      "outputs": []
    },
    {
      "cell_type": "code",
      "source": [
        "#Rank top 5 games for each user\n",
        "window_spec = Window.partitionBy(\"userId\").orderBy(col(\"similarity\").desc())\n",
        "\n",
        "top_n_recommendations = utility_matrix.withColumn(\"rank\", row_number().over(window_spec)) \\\n",
        "                                      .filter(col(\"rank\") <= 5)"
      ],
      "metadata": {
        "id": "Zh4TQa33CBmJ"
      },
      "execution_count": null,
      "outputs": []
    },
    {
      "cell_type": "code",
      "source": [],
      "metadata": {
        "id": "9uvem4KaBQQp"
      },
      "execution_count": null,
      "outputs": []
    },
    {
      "cell_type": "code",
      "execution_count": null,
      "metadata": {
        "id": "uDVlHMS-Cmyq"
      },
      "outputs": [],
      "source": []
    },
    {
      "cell_type": "markdown",
      "source": [
        "### This concludes the recommendation system section of the project."
      ],
      "metadata": {
        "id": "OW3xUz3LyNpC"
      }
    },
    {
      "cell_type": "markdown",
      "metadata": {
        "id": "XY6G8j9eT_l7"
      },
      "source": [
        "## Sentiment Analysis of the Review column"
      ]
    },
    {
      "cell_type": "code",
      "execution_count": null,
      "metadata": {
        "id": "iqfzuTN8T_l7"
      },
      "outputs": [],
      "source": [
        "# Data Preprocessing\n",
        "# lowercasing and removing non alphabetic characters\n",
        "df_cleaned = balanced_data.withColumn(\"review\", lower(regexp_replace(col(\"review\"), \"[^a-zA-Z\\\\s]\", \"\")))"
      ]
    },
    {
      "cell_type": "code",
      "execution_count": null,
      "metadata": {
        "id": "8xRYThz6T_l7"
      },
      "outputs": [],
      "source": [
        "# Tokenizing\n",
        "tokenizer = Tokenizer(inputCol=\"review\", outputCol=\"words\")"
      ]
    },
    {
      "cell_type": "code",
      "execution_count": null,
      "metadata": {
        "id": "9c1kadA0T_l7"
      },
      "outputs": [],
      "source": [
        "#removing stopwords\n",
        "remover = StopWordsRemover(inputCol=\"words\", outputCol=\"filtered_words\")"
      ]
    },
    {
      "cell_type": "code",
      "execution_count": null,
      "metadata": {
        "id": "0Ew1jB5bT_l7"
      },
      "outputs": [],
      "source": [
        "df_tokenized = tokenizer.transform(df_cleaned)\n",
        "df_filtered = remover.transform(df_tokenized)"
      ]
    },
    {
      "cell_type": "code",
      "execution_count": null,
      "metadata": {
        "id": "xJDBe7JCT_l7"
      },
      "outputs": [],
      "source": [
        "# Feature Extraction with TF-IDF\n",
        "hashing_tf = HashingTF(inputCol=\"filtered_words\", outputCol=\"raw_features\", numFeatures=10000)\n",
        "idf = IDF(inputCol=\"raw_features\", outputCol=\"features\")\n",
        "df_tf = hashing_tf.transform(df_filtered)"
      ]
    },
    {
      "cell_type": "code",
      "execution_count": null,
      "metadata": {
        "colab": {
          "base_uri": "https://localhost:8080/"
        },
        "id": "U1daOXL4ZFFW",
        "outputId": "16201d78-f126-43c3-a632-4773f77721a1"
      },
      "outputs": [
        {
          "output_type": "execute_result",
          "data": {
            "text/plain": [
              "0"
            ]
          },
          "metadata": {},
          "execution_count": 17
        }
      ],
      "source": [
        "df_tf.filter(df_tf['review'].isNull()).count()\n"
      ]
    },
    {
      "cell_type": "code",
      "execution_count": null,
      "metadata": {
        "id": "VxEoyh3iT_l8"
      },
      "outputs": [],
      "source": [
        "idf_model = idf.fit(df_tf)\n",
        "df_tfidf = idf_model.transform(df_tf)"
      ]
    },
    {
      "cell_type": "code",
      "execution_count": null,
      "metadata": {
        "id": "_rQeGR6xT_l8"
      },
      "outputs": [],
      "source": [
        "# Label Indexing\n",
        "indexer = StringIndexer(inputCol=\"recommended\", outputCol=\"label\")\n",
        "df_indexed = indexer.fit(df_tfidf).transform(df_tfidf)"
      ]
    },
    {
      "cell_type": "code",
      "execution_count": null,
      "metadata": {
        "id": "bVrfiCHUT_l8"
      },
      "outputs": [],
      "source": [
        "# Splitting Data\n",
        "train_df, test_df = df_indexed.randomSplit([0.8, 0.2], seed=42)"
      ]
    },
    {
      "cell_type": "code",
      "execution_count": null,
      "metadata": {
        "id": "DVumGVfsT_l8"
      },
      "outputs": [],
      "source": [
        "# Scaling (AFTER SPLITTING)\n",
        "scaler = StandardScaler(inputCol=\"features\", outputCol=\"scaled_features\", withMean=True, withStd=True)\n",
        "scaler_model = scaler.fit(train_df)\n",
        "train_df_scaled = scaler_model.transform(train_df)\n",
        "test_df_scaled = scaler_model.transform(test_df)"
      ]
    },
    {
      "cell_type": "markdown",
      "metadata": {
        "id": "aqeHnTcbZKP1"
      },
      "source": [
        "### Decision tree"
      ]
    },
    {
      "cell_type": "code",
      "execution_count": null,
      "metadata": {
        "id": "OfSSDDDAT2vH"
      },
      "outputs": [],
      "source": [
        "# training decision tree\n",
        "dt = DecisionTreeClassifier(featuresCol=\"scaled_features\", labelCol=\"label\", maxDepth=5)\n",
        "dt_model = dt.fit(train_df_scaled)\n"
      ]
    },
    {
      "cell_type": "code",
      "execution_count": null,
      "metadata": {
        "colab": {
          "base_uri": "https://localhost:8080/"
        },
        "id": "znTMIsxkVLoB",
        "outputId": "d230c1b0-8e09-429d-df3c-491319505b60"
      },
      "outputs": [
        {
          "output_type": "stream",
          "name": "stdout",
          "text": [
            "+--------------------+-----+----------+\n",
            "|              review|label|prediction|\n",
            "+--------------------+-----+----------+\n",
            "|very refreshing n...|  0.0|       0.0|\n",
            "|is civilization p...|  0.0|       1.0|\n",
            "|                yeah|  0.0|       1.0|\n",
            "|sid meiers civili...|  0.0|       0.0|\n",
            "|civ  is a great e...|  0.0|       1.0|\n",
            "|better than v in ...|  0.0|       1.0|\n",
            "|ill be honest im ...|  0.0|       1.0|\n",
            "|gandhi praised me...|  0.0|       1.0|\n",
            "|the most fun ive ...|  0.0|       0.0|\n",
            "|      its a civ game|  0.0|       1.0|\n",
            "+--------------------+-----+----------+\n",
            "only showing top 10 rows\n",
            "\n"
          ]
        }
      ],
      "source": [
        "# predict\n",
        "predictions = dt_model.transform(test_df_scaled)\n",
        "predictions.select(\"review\", \"label\", \"prediction\").show(10)"
      ]
    },
    {
      "cell_type": "code",
      "execution_count": null,
      "metadata": {
        "colab": {
          "base_uri": "https://localhost:8080/"
        },
        "id": "OpvCUwD6T_l8",
        "outputId": "280dde00-07bc-4a82-af2a-2d666dcfdf79"
      },
      "outputs": [
        {
          "output_type": "stream",
          "name": "stdout",
          "text": [
            "Accuracy: 0.6274265843582013\n"
          ]
        }
      ],
      "source": [
        "# Model Evaluation\n",
        "evaluator = MulticlassClassificationEvaluator(labelCol=\"label\", predictionCol=\"prediction\", metricName=\"accuracy\")\n",
        "accuracy = evaluator.evaluate(predictions)\n",
        "print(f\"Accuracy: {accuracy}\")"
      ]
    },
    {
      "cell_type": "markdown",
      "metadata": {
        "id": "bKujMmLxZhAw"
      },
      "source": [
        "These results aren't as well as we'd hope. We may increase tree depth to address any potential underfitting, or attempt more complex tree-based models like random forest."
      ]
    },
    {
      "cell_type": "code",
      "source": [],
      "metadata": {
        "id": "d7ekDWR6gtr7"
      },
      "execution_count": null,
      "outputs": []
    },
    {
      "cell_type": "code",
      "source": [],
      "metadata": {
        "id": "uRGW0_GMgt0B"
      },
      "execution_count": null,
      "outputs": []
    },
    {
      "cell_type": "markdown",
      "metadata": {
        "id": "OGhnuRc-ZcaP"
      },
      "source": [
        "### Random Forest"
      ]
    },
    {
      "cell_type": "code",
      "execution_count": null,
      "metadata": {
        "id": "5CaGzJh7ZYdI"
      },
      "outputs": [],
      "source": [
        "# training random forest\n",
        "rf = RandomForestClassifier(featuresCol=\"scaled_features\", labelCol=\"label\", numTrees=10, maxDepth=5)\n",
        "rf_model = rf.fit(train_df_scaled)"
      ]
    },
    {
      "cell_type": "code",
      "execution_count": null,
      "metadata": {
        "id": "0SXUxg4XZwAa",
        "colab": {
          "base_uri": "https://localhost:8080/"
        },
        "outputId": "6e6a72db-bdf1-47b6-f525-97afec6fee2c"
      },
      "outputs": [
        {
          "output_type": "stream",
          "name": "stdout",
          "text": [
            "+--------------------+-----+----------+\n",
            "|              review|label|prediction|\n",
            "+--------------------+-----+----------+\n",
            "|very refreshing n...|  0.0|       1.0|\n",
            "|is civilization p...|  0.0|       0.0|\n",
            "|                yeah|  0.0|       0.0|\n",
            "|sid meiers civili...|  0.0|       0.0|\n",
            "|civ  is a great e...|  0.0|       1.0|\n",
            "|better than v in ...|  0.0|       0.0|\n",
            "|ill be honest im ...|  0.0|       1.0|\n",
            "|gandhi praised me...|  0.0|       0.0|\n",
            "|the most fun ive ...|  0.0|       0.0|\n",
            "|      its a civ game|  0.0|       0.0|\n",
            "+--------------------+-----+----------+\n",
            "only showing top 10 rows\n",
            "\n"
          ]
        }
      ],
      "source": [
        "# predict using random forest\n",
        "predictionsrf = rf_model.transform(test_df_scaled)\n",
        "predictionsrf.select(\"review\", \"label\", \"prediction\").show(10)"
      ]
    },
    {
      "cell_type": "code",
      "execution_count": null,
      "metadata": {
        "id": "u19jIikNZ0Pf",
        "colab": {
          "base_uri": "https://localhost:8080/"
        },
        "outputId": "9224f3b8-94a1-4957-eeef-06d9dddecab8"
      },
      "outputs": [
        {
          "output_type": "stream",
          "name": "stdout",
          "text": [
            "Accuracy: 0.6344929894243193\n"
          ]
        }
      ],
      "source": [
        "# Model Evaluation\n",
        "evaluator = MulticlassClassificationEvaluator(labelCol=\"label\", predictionCol=\"prediction\", metricName=\"accuracy\")\n",
        "accuracyrf = evaluator.evaluate(predictionsrf)\n",
        "print(f\"Accuracy: {accuracyrf}\")"
      ]
    },
    {
      "cell_type": "markdown",
      "source": [
        "Still the accuracy isn't as high as one would hope."
      ],
      "metadata": {
        "id": "xYD42FaPzWDl"
      }
    },
    {
      "cell_type": "code",
      "execution_count": null,
      "metadata": {
        "id": "s2N0VgyqZ80b",
        "colab": {
          "base_uri": "https://localhost:8080/"
        },
        "outputId": "ee9a93cc-e3b0-4bb7-d74d-de26e2578869"
      },
      "outputs": [
        {
          "output_type": "stream",
          "name": "stdout",
          "text": [
            "+--------------------+-----+----------+\n",
            "|              review|label|prediction|\n",
            "+--------------------+-----+----------+\n",
            "|very refreshing n...|  0.0|       1.0|\n",
            "|is civilization p...|  0.0|       0.0|\n",
            "|                yeah|  0.0|       0.0|\n",
            "|sid meiers civili...|  0.0|       0.0|\n",
            "|civ  is a great e...|  0.0|       1.0|\n",
            "|better than v in ...|  0.0|       0.0|\n",
            "|ill be honest im ...|  0.0|       1.0|\n",
            "|gandhi praised me...|  0.0|       0.0|\n",
            "|the most fun ive ...|  0.0|       0.0|\n",
            "|      its a civ game|  0.0|       0.0|\n",
            "+--------------------+-----+----------+\n",
            "only showing top 10 rows\n",
            "\n"
          ]
        }
      ],
      "source": [
        "# Display Predictions\n",
        "predictionsrf.select(\"review\", \"label\", \"prediction\").show(10)"
      ]
    },
    {
      "cell_type": "markdown",
      "source": [
        "Hence, we proceed with minmax scaling for the Naive Bayes classifier."
      ],
      "metadata": {
        "id": "GzNO29Vuzcye"
      }
    },
    {
      "cell_type": "markdown",
      "metadata": {
        "id": "SaB0ay8NZZD4"
      },
      "source": [
        "### MinmMax for NB"
      ]
    },
    {
      "cell_type": "code",
      "execution_count": null,
      "metadata": {
        "id": "6dXzB9aOYMsy"
      },
      "outputs": [],
      "source": [
        "scaler_minmax = MinMaxScaler(inputCol=\"features\", outputCol=\"scaled_features_minmax\")\n",
        "scaler_model_minmax = scaler_minmax.fit(train_df)\n",
        "train_df_minmax = scaler_model_minmax.transform(train_df)\n",
        "test_df_minmax = scaler_model_minmax.transform(test_df)"
      ]
    },
    {
      "cell_type": "code",
      "execution_count": null,
      "metadata": {
        "id": "-6cdkyCXh1CW"
      },
      "outputs": [],
      "source": [
        "nb = NaiveBayes(featuresCol=\"scaled_features_minmax\", labelCol=\"label\", modelType=\"multinomial\")\n",
        "nb_model = nb.fit(train_df_minmax)"
      ]
    },
    {
      "cell_type": "code",
      "execution_count": null,
      "metadata": {
        "id": "qplw4XKUaIWq",
        "colab": {
          "base_uri": "https://localhost:8080/"
        },
        "outputId": "f77880c6-51dc-4f16-8dd7-5fc48b152d8a"
      },
      "outputs": [
        {
          "output_type": "stream",
          "name": "stdout",
          "text": [
            "+--------------------+-----+----------+\n",
            "|              review|label|prediction|\n",
            "+--------------------+-----+----------+\n",
            "|very refreshing n...|  0.0|       0.0|\n",
            "|is civilization p...|  0.0|       0.0|\n",
            "|                yeah|  0.0|       0.0|\n",
            "|sid meiers civili...|  0.0|       0.0|\n",
            "|civ  is a great e...|  0.0|       1.0|\n",
            "|better than v in ...|  0.0|       0.0|\n",
            "|ill be honest im ...|  0.0|       1.0|\n",
            "|gandhi praised me...|  0.0|       0.0|\n",
            "|the most fun ive ...|  0.0|       0.0|\n",
            "|      its a civ game|  0.0|       1.0|\n",
            "+--------------------+-----+----------+\n",
            "only showing top 10 rows\n",
            "\n"
          ]
        }
      ],
      "source": [
        "predictionsnb = nb_model.transform(test_df_minmax)\n",
        "predictionsnb.select(\"review\", \"label\", \"prediction\").show(10)"
      ]
    },
    {
      "cell_type": "code",
      "execution_count": null,
      "metadata": {
        "id": "-ZmFBaTkaI06",
        "colab": {
          "base_uri": "https://localhost:8080/"
        },
        "outputId": "ae975565-5da4-4f23-e21a-a7ffa8eb5612"
      },
      "outputs": [
        {
          "output_type": "stream",
          "name": "stdout",
          "text": [
            "Accuracy: 0.7953773268890272\n"
          ]
        }
      ],
      "source": [
        "# Model Evaluation\n",
        "evaluator = MulticlassClassificationEvaluator(labelCol=\"label\", predictionCol=\"prediction\", metricName=\"accuracy\")\n",
        "accuracynb = evaluator.evaluate(predictionsnb)\n",
        "print(f\"Accuracy: {accuracynb}\")"
      ]
    },
    {
      "cell_type": "markdown",
      "source": [
        "We get a much better accuracy score using Naive Bayes."
      ],
      "metadata": {
        "id": "ps_-0xDbzmSt"
      }
    },
    {
      "cell_type": "code",
      "execution_count": null,
      "metadata": {
        "id": "sUbkd_EpaQP3",
        "colab": {
          "base_uri": "https://localhost:8080/"
        },
        "outputId": "580f8420-dc71-4b08-a7e9-fdc2aea67ea2"
      },
      "outputs": [
        {
          "output_type": "stream",
          "name": "stdout",
          "text": [
            "+--------------------+-----+----------+\n",
            "|              review|label|prediction|\n",
            "+--------------------+-----+----------+\n",
            "|very refreshing n...|  0.0|       0.0|\n",
            "|is civilization p...|  0.0|       0.0|\n",
            "|                yeah|  0.0|       0.0|\n",
            "|sid meiers civili...|  0.0|       0.0|\n",
            "|civ  is a great e...|  0.0|       1.0|\n",
            "|better than v in ...|  0.0|       0.0|\n",
            "|ill be honest im ...|  0.0|       1.0|\n",
            "|gandhi praised me...|  0.0|       0.0|\n",
            "|the most fun ive ...|  0.0|       0.0|\n",
            "|      its a civ game|  0.0|       1.0|\n",
            "+--------------------+-----+----------+\n",
            "only showing top 10 rows\n",
            "\n"
          ]
        }
      ],
      "source": [
        "# Display Predictions\n",
        "predictionsnb.select(\"review\", \"label\", \"prediction\").show(10)"
      ]
    },
    {
      "cell_type": "markdown",
      "source": [
        "# Conclusion\n",
        "This project investigates user behavior and preferences on the Steam gaming platform through two parallel tasks: building a personalized recommendation system and conducting sentiment analysis on user-written reviews. The Steam Reviews dataset includes millions of user interactions, offering rich insights but also posing significant computational challenges. To address this, we performed a detailed exploratory data analysis (EDA) to understand usage patterns, recommendation distributions, and user engagement trends. Working with such a large-scale dataset required efficient strategies for storage, memory management, and processing speed. Distributed data handling tools and optimized workflows were used to ensure that the models remained scalable and responsive.\n",
        "\n",
        "For the recommendation system, we applied collaborative filtering using the Alternating Least Squares (ALS) algorithm, which is particularly effective for modeling user-item interactions at scale. A key challenge in developing this system was creating meaningful features to input into ALS. We explored the use of sentiment lexicons to quantify the emotional tone of reviews and integrate that information into the recommendation process. However, because ALS expects structured numeric input—typically user, item, and rating—translating subjective text sentiment into consistent, useful numerical features required significant experimentation and refinement. Another challenge involved the model producing out-of-bounds rating predictions—values falling outside the expected range. These inaccuracies were addressed through normalization techniques. Despite these hurdles, ALS proved effective in capturing broad behavioral trends.\n",
        "\n",
        "In parallel, sentiment analysis was performed on the review text as an independent task, aiming to interpret the emotional tone behind player feedback. By analyzing how users express satisfaction or dissatisfaction in their written reviews, this component added depth to the understanding of user preferences. Although developed separately from the recommendation engine, the sentiment insights provided a qualitative complement to numeric ratings and helped contextualize user engagement. This enriched perspective not only enhances the interpretability of the data but also holds potential for future hybrid models that combine behavioral patterns with emotional sentiment to deliver more nuanced and accurate recommendations.\n",
        "\n",
        "To handle the scale and complexity of the dataset, we leveraged distributed computing techniques using Apache Spark, which allowed us to process and analyze data in parallel across multiple nodes, significantly reducing computation time. We used in-memory caching to avoid redundant computations during repeated transformations and model training cycles, and employed strategic data partitioning to balance workloads and minimize data shuffling. To further optimize performance, the raw dataset was converted to Parquet format—an efficient columnar storage format that significantly improved read/write speed and reduced disk usage. Intermediate results, such as indexed dataframes and trained models, were saved throughout the pipeline to avoid unnecessary recomputation during iterative experimentation. These combined techniques ensured that our preprocessing, training, and evaluation workflows remained scalable and responsive, even under the high memory and processing demands of the Steam Reviews dataset.\n",
        "\n"
      ],
      "metadata": {
        "id": "t6uSRg-5zzof"
      }
    },
    {
      "cell_type": "code",
      "source": [],
      "metadata": {
        "id": "_nXa0hD54otB"
      },
      "execution_count": null,
      "outputs": []
    }
  ],
  "metadata": {
    "colab": {
      "provenance": []
    },
    "kernelspec": {
      "display_name": "Python [conda env:base] *",
      "language": "python",
      "name": "conda-base-py"
    },
    "language_info": {
      "codemirror_mode": {
        "name": "ipython",
        "version": 3
      },
      "file_extension": ".py",
      "mimetype": "text/x-python",
      "name": "python",
      "nbconvert_exporter": "python",
      "pygments_lexer": "ipython3",
      "version": "3.12.7"
    }
  },
  "nbformat": 4,
  "nbformat_minor": 0
}