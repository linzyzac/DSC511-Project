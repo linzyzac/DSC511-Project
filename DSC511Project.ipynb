{
  "cells": [
    {
      "cell_type": "markdown",
      "metadata": {
        "id": "IdjStboIRmXq"
      },
      "source": [
        "# Importing necessary libraries"
      ]
    },
    {
      "cell_type": "code",
      "execution_count": 2,
      "metadata": {
        "id": "dPJprpLQRhk4"
      },
      "outputs": [],
      "source": [
        "import kagglehub\n",
        "from pyspark.sql import SparkSession\n",
        "from pyspark.sql.functions import udf\n",
        "from pyspark.sql.types import StringType\n",
        "from pyspark.sql.functions import col, create_map, lit\n",
        "from pyspark.sql.functions import length, trim\n",
        "from itertools import chain\n",
        "from pyspark import SparkContext\n",
        "from pyspark.sql.functions import length\n",
        "from pyspark.sql.functions import when, col\n",
        "import matplotlib.pyplot as plt"
      ]
    },
    {
      "cell_type": "markdown",
      "metadata": {
        "id": "7GcHYVq3NEMf"
      },
      "source": [
        "# Importing dataset"
      ]
    },
    {
      "cell_type": "code",
      "execution_count": 3,
      "metadata": {
        "colab": {
          "base_uri": "https://localhost:8080/"
        },
        "id": "91q5S9OTMq1_",
        "outputId": "243a0647-2a80-4c36-dc60-e4995f5e41a8"
      },
      "outputs": [
        {
          "output_type": "stream",
          "name": "stdout",
          "text": [
            "Downloading from https://www.kaggle.com/api/v1/datasets/download/najzeko/steam-reviews-2021?dataset_version_number=1...\n"
          ]
        },
        {
          "output_type": "stream",
          "name": "stderr",
          "text": [
            "100%|██████████| 2.97G/2.97G [02:19<00:00, 22.8MB/s]"
          ]
        },
        {
          "output_type": "stream",
          "name": "stdout",
          "text": [
            "Extracting files...\n"
          ]
        },
        {
          "output_type": "stream",
          "name": "stderr",
          "text": [
            "\n"
          ]
        },
        {
          "output_type": "stream",
          "name": "stdout",
          "text": [
            "Path to dataset files: /root/.cache/kagglehub/datasets/najzeko/steam-reviews-2021/versions/1\n"
          ]
        }
      ],
      "source": [
        "# Download latest version\n",
        "path = kagglehub.dataset_download(\"najzeko/steam-reviews-2021\")\n",
        "\n",
        "print(\"Path to dataset files:\", path)"
      ]
    },
    {
      "cell_type": "code",
      "execution_count": 4,
      "metadata": {
        "colab": {
          "base_uri": "https://localhost:8080/"
        },
        "id": "s8RYdfSPN0bZ",
        "outputId": "587623c8-d1c6-4c10-c944-39592c56bb2b"
      },
      "outputs": [
        {
          "output_type": "stream",
          "name": "stdout",
          "text": [
            "+---+------+--------------------+---------+--------+----------------------------------+-----------------+-----------------+-----------+-------------+-----------+-------------------+-------------+--------------+-----------------+---------------------------+-----------------+----------------------+------------------+-----------------------+------------------------------+-------------------------+------------------+\n",
            "|_c0|app_id|            app_name|review_id|language|                            review|timestamp_created|timestamp_updated|recommended|votes_helpful|votes_funny|weighted_vote_score|comment_count|steam_purchase|received_for_free|written_during_early_access|   author.steamid|author.num_games_owned|author.num_reviews|author.playtime_forever|author.playtime_last_two_weeks|author.playtime_at_review|author.last_played|\n",
            "+---+------+--------------------+---------+--------+----------------------------------+-----------------+-----------------+-----------+-------------+-----------+-------------------+-------------+--------------+-----------------+---------------------------+-----------------+----------------------+------------------+-----------------------+------------------------------+-------------------------+------------------+\n",
            "|  0|292030|The Witcher 3: Wi...| 85185598|schinese|不玩此生遗憾，RPG游戏里的天花板...|       1611381629|       1611381629|       true|            0|          0|                0.0|            0|          true|            false|                      false|76561199095369542|                     6|                 2|                 1909.0|                        1448.0|                   1909.0|     1.611343383E9|\n",
            "|  1|292030|The Witcher 3: Wi...| 85185250|schinese|       拔DIAO无情打桩机--杰洛特!!!|       1611381030|       1611381030|       true|            0|          0|                0.0|            0|          true|            false|                      false|76561198949504115|                    30|                10|                 2764.0|                        2743.0|                   2674.0|     1.611386307E9|\n",
            "|  2|292030|The Witcher 3: Wi...| 85185111|schinese|                           巫师3NB|       1611380800|       1611380800|       true|            0|          0|                0.0|            0|          true|            false|                      false|76561199090098988|                     5|                 1|                 1061.0|                        1061.0|                   1060.0|     1.611383777E9|\n",
            "|  3|292030|The Witcher 3: Wi...| 85184605| english|              One of the best R...|       1611379970|       1611379970|       true|            0|          0|                0.0|            0|          true|            false|                      false|76561199054755373|                     5|                 3|                 5587.0|                        3200.0|                   5524.0|     1.611383744E9|\n",
            "|  4|292030|The Witcher 3: Wi...| 85184287|schinese|                              大作|       1611379427|       1611379427|       true|            0|          0|                0.0|            0|          true|            false|                      false|76561199028326951|                     7|                 4|                  217.0|                          42.0|                    217.0|     1.610788249E9|\n",
            "+---+------+--------------------+---------+--------+----------------------------------+-----------------+-----------------+-----------+-------------+-----------+-------------------+-------------+--------------+-----------------+---------------------------+-----------------+----------------------+------------------+-----------------------+------------------------------+-------------------------+------------------+\n",
            "only showing top 5 rows\n",
            "\n"
          ]
        }
      ],
      "source": [
        "# Initialize Spark session\n",
        "spark = SparkSession.builder \\\n",
        "    .appName(\"Steam Reviews Analysis\") \\\n",
        "    .getOrCreate()\n",
        "\n",
        "# Path to the dataset folder\n",
        "dataset_path = \"/root/.cache/kagglehub/datasets/najzeko/steam-reviews-2021/versions/1\"\n",
        "\n",
        "# Identify the CSV file\n",
        "file_path = f\"{dataset_path}/steam_reviews.csv\"\n",
        "\n",
        "# Load the data into a PySpark DataFrame\n",
        "df = spark.read.csv(file_path, header=True, inferSchema=True, multiLine=True, escape='\"')\n",
        "\n",
        "# Show a sample of the data\n",
        "df.show(5)\n",
        "# \"schinese\" is \"simple chinese\", \"tchinese\" is \"traditional chinese\""
      ]
    },
    {
      "cell_type": "markdown",
      "metadata": {
        "id": "sdQx3a4br_tx"
      },
      "source": [
        "We tried translating every review to English but our machine could not process so much records. For this reason we decided to take a sample of the reviews (only those that are English). The number of those is around 9 million, which is considered to be Big Data."
      ]
    },
    {
      "cell_type": "code",
      "execution_count": 5,
      "metadata": {
        "colab": {
          "base_uri": "https://localhost:8080/"
        },
        "id": "DbXgJYr2VckQ",
        "outputId": "b91a4ba5-8e80-4d02-c262-c89c06fbd2ca"
      },
      "outputs": [
        {
          "output_type": "execute_result",
          "data": {
            "text/plain": [
              "9635437"
            ]
          },
          "metadata": {},
          "execution_count": 5
        }
      ],
      "source": [
        "df.filter(df.language == \"english\").count()"
      ]
    },
    {
      "cell_type": "code",
      "execution_count": 6,
      "metadata": {
        "id": "UeDoKHQrsvJg"
      },
      "outputs": [],
      "source": [
        "sample_df = df.filter(df.language == \"english\")"
      ]
    },
    {
      "cell_type": "code",
      "execution_count": 7,
      "metadata": {
        "id": "wu1g4mhx_U5s"
      },
      "outputs": [],
      "source": [
        "sample_df = sample_df.withColumn(\"review_length\", length(\"review\")) #create new column with the length of each review"
      ]
    },
    {
      "cell_type": "markdown",
      "metadata": {
        "id": "-RI3URrstdl6"
      },
      "source": [
        "##  **Exploratory Data Analysis**"
      ]
    },
    {
      "cell_type": "code",
      "execution_count": 8,
      "metadata": {
        "colab": {
          "base_uri": "https://localhost:8080/"
        },
        "id": "YIt6sUl4yIfJ",
        "outputId": "b13a91d6-05e6-4eca-9095-abaa9f2ab183"
      },
      "outputs": [
        {
          "output_type": "stream",
          "name": "stdout",
          "text": [
            "['_c0', 'app_id', 'app_name', 'review_id', 'language', 'review', 'timestamp_created', 'timestamp_updated', 'recommended', 'votes_helpful', 'votes_funny', 'weighted_vote_score', 'comment_count', 'steam_purchase', 'received_for_free', 'written_during_early_access', 'author_steamid', 'author_num_games_owned', 'author_num_reviews', 'author_playtime_forever', 'author_playtime_last_two_weeks', 'author_playtime_at_review', 'author_last_played', 'review_length']\n"
          ]
        }
      ],
      "source": [
        "#Rename the columns\n",
        "from pyspark.sql.functions import col\n",
        "\n",
        "# Rename each column manually\n",
        "sample_df = sample_df.withColumnRenamed(\"author.steamid\", \"author_steamid\") \\\n",
        "                     .withColumnRenamed(\"author.num_games_owned\", \"author_num_games_owned\") \\\n",
        "                     .withColumnRenamed(\"author.num_reviews\", \"author_num_reviews\") \\\n",
        "                     .withColumnRenamed(\"author.playtime_forever\", \"author_playtime_forever\") \\\n",
        "                     .withColumnRenamed(\"author.playtime_last_two_weeks\", \"author_playtime_last_two_weeks\") \\\n",
        "                     .withColumnRenamed(\"author.playtime_at_review\", \"author_playtime_at_review\") \\\n",
        "                     .withColumnRenamed(\"author.last_played\", \"author_last_played\")\n",
        "\n",
        "# Check the updated column names\n",
        "print(sample_df.columns)"
      ]
    },
    {
      "cell_type": "code",
      "execution_count": 9,
      "metadata": {
        "id": "NHqXb6NTfdJ-"
      },
      "outputs": [],
      "source": [
        "sample_df = sample_df.select(\"_c0\",\"app_id\",\"app_name\",\"review_id\",\"review\",\"recommended\",\"votes_helpful\",\"steam_purchase\",\"received_for_free\",\"written_during_early_access\",\"votes_helpful\",\"author_steamid\", \"author_num_games_owned\", \"author_num_reviews\", \"author_playtime_forever\", \"author_playtime_at_review\")"
      ]
    },
    {
      "cell_type": "code",
      "execution_count": 10,
      "metadata": {
        "colab": {
          "base_uri": "https://localhost:8080/"
        },
        "id": "XYOMUkQNtScu",
        "outputId": "b248c6aa-16d6-48e0-b043-1e57540fe252"
      },
      "outputs": [
        {
          "output_type": "stream",
          "name": "stdout",
          "text": [
            "+---+------+--------------------+---------+--------------------+-----------+-------------+--------------+-----------------+---------------------------+-------------+-----------------+----------------------+------------------+-----------------------+-------------------------+\n",
            "|_c0|app_id|            app_name|review_id|              review|recommended|votes_helpful|steam_purchase|received_for_free|written_during_early_access|votes_helpful|   author_steamid|author_num_games_owned|author_num_reviews|author_playtime_forever|author_playtime_at_review|\n",
            "+---+------+--------------------+---------+--------------------+-----------+-------------+--------------+-----------------+---------------------------+-------------+-----------------+----------------------+------------------+-----------------------+-------------------------+\n",
            "|  3|292030|The Witcher 3: Wi...| 85184605|One of the best R...|       true|            0|          true|            false|                      false|            0|76561199054755373|                     5|                 3|                 5587.0|                   5524.0|\n",
            "|  5|292030|The Witcher 3: Wi...| 85184171|good story, good ...|       true|            0|          true|            false|                      false|            0|76561198170193529|                    11|                 1|                  823.0|                    823.0|\n",
            "|  6|292030|The Witcher 3: Wi...| 85184064|            dis gud,|       true|            0|          true|            false|                      false|            0|76561198119302812|                    27|                 2|                 4192.0|                   4192.0|\n",
            "| 18|292030|The Witcher 3: Wi...| 85180436|favorite game of ...|       true|            0|          true|            false|                      false|            0|76561198065591528|                    33|                 1|                23329.0|                  23329.0|\n",
            "| 20|292030|The Witcher 3: Wi...| 85179753|Why wouldn't you ...|       true|            0|          true|            false|                      false|            0|76561198996835044|                   131|                 2|                 8557.0|                   8557.0|\n",
            "+---+------+--------------------+---------+--------------------+-----------+-------------+--------------+-----------------+---------------------------+-------------+-----------------+----------------------+------------------+-----------------------+-------------------------+\n",
            "only showing top 5 rows\n",
            "\n"
          ]
        }
      ],
      "source": [
        "sample_df.show(5)"
      ]
    },
    {
      "cell_type": "code",
      "execution_count": 11,
      "metadata": {
        "colab": {
          "base_uri": "https://localhost:8080/"
        },
        "id": "SIqGj4QXAKcr",
        "outputId": "a1bfbcc6-50f4-4b33-f934-aee80e4d6f0a"
      },
      "outputs": [
        {
          "output_type": "stream",
          "name": "stdout",
          "text": [
            "+-------+-------------------------+\n",
            "|summary|author_playtime_at_review|\n",
            "+-------+-------------------------+\n",
            "|  count|                  9623590|\n",
            "|   mean|        9140.550526778468|\n",
            "| stddev|       26469.392176559402|\n",
            "|    min|                      1.0|\n",
            "|    max|                3228103.0|\n",
            "+-------+-------------------------+\n",
            "\n"
          ]
        }
      ],
      "source": [
        "sample_df.select(\"author_playtime_at_review\").describe().show()"
      ]
    },
    {
      "cell_type": "code",
      "execution_count": 12,
      "metadata": {
        "colab": {
          "base_uri": "https://localhost:8080/"
        },
        "id": "NpCot9UwD5AF",
        "outputId": "9694d27a-4896-4d21-c7ad-93056ba3fcf3"
      },
      "outputs": [
        {
          "output_type": "stream",
          "name": "stdout",
          "text": [
            "+-------+-----------------------+\n",
            "|summary|author_playtime_forever|\n",
            "+-------+-----------------------+\n",
            "|  count|                9635435|\n",
            "|   mean|     16350.428221870627|\n",
            "| stddev|     40881.450936788984|\n",
            "|    min|                    0.0|\n",
            "|    max|              3744943.0|\n",
            "+-------+-----------------------+\n",
            "\n"
          ]
        }
      ],
      "source": [
        "sample_df.select(\"author_playtime_forever\").describe().show()"
      ]
    },
    {
      "cell_type": "code",
      "execution_count": 13,
      "metadata": {
        "id": "JSQca78VB2JJ"
      },
      "outputs": [],
      "source": [
        "# Create new columns for playtime categories\n",
        "sample_df = sample_df.withColumn(\n",
        "    \"playtime_category\",\n",
        "    when(col(\"author_playtime_at_review\") < 5000, \"Low\")\n",
        "    .when((col(\"author_playtime_at_review\") >= 5000) & (col(\"author_playtime_at_review\") < 20000), \"Medium\")\n",
        "    .otherwise(\"High\")\n",
        ")\n",
        "\n",
        "sample_df = sample_df.withColumn(\n",
        "    \"playtime_forever_category\",\n",
        "    when(col(\"author_playtime_forever\") < 5000, \"Low\")\n",
        "    .when((col(\"author_playtime_forever\") >= 5000) & (col(\"author_playtime_forever\") < 20000), \"Medium\")\n",
        "    .otherwise(\"High\")\n",
        ")"
      ]
    },
    {
      "cell_type": "code",
      "execution_count": null,
      "metadata": {
        "id": "0dsN419rCyhv"
      },
      "outputs": [],
      "source": [
        "# Convert PySpark DataFrame to Pandas\n",
        "pandas_df = sample_df.select(\"playtime_category\").toPandas()\n",
        "\n",
        "# Count occurrences of each category\n",
        "category_counts = pandas_df[\"playtime_category\"].value_counts()\n",
        "\n",
        "# Plot bar chart\n",
        "plt.figure(figsize=(8, 5))\n",
        "category_counts.plot(kind=\"bar\", color=[\"blue\", \"orange\", \"green\"])\n",
        "plt.title(\"Distribution of Playtime Categories\")\n",
        "plt.xlabel(\"Playtime Category\")\n",
        "plt.ylabel(\"Count\")\n",
        "plt.xticks(rotation=0)\n",
        "plt.grid(axis=\"y\", linestyle=\"--\", alpha=0.7)\n",
        "\n",
        "# Show plot\n",
        "plt.show()"
      ]
    },
    {
      "cell_type": "code",
      "execution_count": null,
      "metadata": {
        "id": "W9rJG8s6FXF1"
      },
      "outputs": [],
      "source": [
        "# Convert PySpark DataFrame to Pandas\n",
        "pandas_df = sample_df.select(\"playtime_forever_category\").toPandas()\n",
        "\n",
        "# Count occurrences of each category\n",
        "category_counts_forever = pandas_df[\"playtime_forever_category\"].value_counts()\n",
        "\n",
        "# Plot bar chart\n",
        "plt.figure(figsize=(8, 5))\n",
        "category_counts_forever.plot(kind=\"bar\", color=[\"blue\", \"orange\", \"green\"])\n",
        "plt.title(\"Distribution of Total Playtime Categories\")\n",
        "plt.xlabel(\"Total Playtime Category\")\n",
        "plt.ylabel(\"Count\")\n",
        "plt.xticks(rotation=0)\n",
        "plt.grid(axis=\"y\", linestyle=\"--\", alpha=0.7)\n",
        "\n",
        "# Show plot\n",
        "plt.show()"
      ]
    },
    {
      "cell_type": "code",
      "execution_count": null,
      "metadata": {
        "id": "l0rBEb-20OjJ"
      },
      "outputs": [],
      "source": [
        "sample_df.select(\"app_name\").distinct().show()"
      ]
    },
    {
      "cell_type": "code",
      "execution_count": null,
      "metadata": {
        "id": "MIerzgsK0PBt"
      },
      "outputs": [],
      "source": [
        "sample_df.select(\"app_name\").distinct().count()"
      ]
    },
    {
      "cell_type": "code",
      "execution_count": null,
      "metadata": {
        "id": "6ftJo2EM0PMU"
      },
      "outputs": [],
      "source": [
        "sample_df.groupBy(\"app_name\").count().show()"
      ]
    },
    {
      "cell_type": "code",
      "source": [],
      "metadata": {
        "id": "hmQAUfy1gdOK"
      },
      "execution_count": null,
      "outputs": []
    },
    {
      "cell_type": "code",
      "execution_count": null,
      "metadata": {
        "id": "D0iHT-Zl0PdG"
      },
      "outputs": [],
      "source": [
        "sample_df.groupBy(\"steam_purchase\").count().show()"
      ]
    },
    {
      "cell_type": "code",
      "source": [],
      "metadata": {
        "id": "ku_ODOS5gb9F"
      },
      "execution_count": null,
      "outputs": []
    },
    {
      "cell_type": "code",
      "execution_count": null,
      "metadata": {
        "colab": {
          "base_uri": "https://localhost:8080/"
        },
        "id": "rHPsBhs20Pjy",
        "outputId": "5ffd55c0-555f-4b60-935d-b603d672f546"
      },
      "outputs": [
        {
          "name": "stdout",
          "output_type": "stream",
          "text": [
            "+-----------------+-------+\n",
            "|received_for_free|  count|\n",
            "+-----------------+-------+\n",
            "|             true| 279384|\n",
            "|            false|9356053|\n",
            "+-----------------+-------+\n",
            "\n"
          ]
        }
      ],
      "source": [
        "sample_df.groupBy(\"received_for_free\").count().show()"
      ]
    },
    {
      "cell_type": "code",
      "execution_count": null,
      "metadata": {
        "colab": {
          "base_uri": "https://localhost:8080/"
        },
        "id": "NbdNX67x2YNS",
        "outputId": "e7a738d5-f4dd-4e03-c552-33f9b2399d84"
      },
      "outputs": [
        {
          "name": "stdout",
          "output_type": "stream",
          "text": [
            "+---------------------------+-------+\n",
            "|written_during_early_access|  count|\n",
            "+---------------------------+-------+\n",
            "|                       true| 959460|\n",
            "|                      false|8675977|\n",
            "+---------------------------+-------+\n",
            "\n"
          ]
        }
      ],
      "source": [
        "sample_df.groupBy(\"written_during_early_access\").count().show()"
      ]
    },
    {
      "cell_type": "code",
      "execution_count": null,
      "metadata": {
        "colab": {
          "base_uri": "https://localhost:8080/"
        },
        "id": "FeM0gU6S2YXL",
        "outputId": "fefd7607-e0f5-49a3-e099-fa9462c9cd34"
      },
      "outputs": [
        {
          "name": "stdout",
          "output_type": "stream",
          "text": [
            "+-------------+-----+\n",
            "|votes_helpful|count|\n",
            "+-------------+-----+\n",
            "|           26| 2140|\n",
            "|           29| 1722|\n",
            "|          474|   11|\n",
            "|         2214|    1|\n",
            "|         2453|    1|\n",
            "|           65|  449|\n",
            "|         1277|    4|\n",
            "|         1258|    1|\n",
            "|          191|   72|\n",
            "|          541|    8|\n",
            "|         1010|    3|\n",
            "|          418|   19|\n",
            "|          558|    4|\n",
            "|         2173|    1|\n",
            "|         3199|    1|\n",
            "|          293|   33|\n",
            "|          270|   37|\n",
            "|          222|   44|\n",
            "|         1127|    3|\n",
            "|          938|    6|\n",
            "+-------------+-----+\n",
            "only showing top 20 rows\n",
            "\n"
          ]
        }
      ],
      "source": [
        "sample_df.groupBy(\"votes_helpful\").count().show()"
      ]
    },
    {
      "cell_type": "code",
      "execution_count": null,
      "metadata": {
        "colab": {
          "background_save": true,
          "base_uri": "https://localhost:8080/"
        },
        "id": "ofw-D9lK2YeN",
        "outputId": "283dedb8-b0ed-475a-97f6-a3ccf332a2ad"
      },
      "outputs": [
        {
          "name": "stdout",
          "output_type": "stream",
          "text": [
            "+-----------------+-----+\n",
            "|   author_steamid|count|\n",
            "+-----------------+-----+\n",
            "|76561198246061920|    4|\n",
            "|76561198882961757|    5|\n",
            "|76561198275504346|    7|\n",
            "|76561198292152379|    3|\n",
            "|76561198108626657|    4|\n",
            "|76561198196390727|    3|\n",
            "|76561198346006505|    1|\n",
            "|76561199017986758|    1|\n",
            "|76561197972712795|    2|\n",
            "|76561198188685569|    7|\n",
            "|76561199000227118|    2|\n",
            "|76561198815886925|    1|\n",
            "|76561198978750636|    2|\n",
            "|76561198202624007|    4|\n",
            "|76561198969165474|    4|\n",
            "|76561198125844638|    4|\n",
            "|76561198017020374|   13|\n",
            "|76561198082328602|    1|\n",
            "|76561198821635183|    1|\n",
            "|76561198375448594|    4|\n",
            "+-----------------+-----+\n",
            "only showing top 20 rows\n",
            "\n"
          ]
        }
      ],
      "source": [
        "sample_df.groupBy(\"author_steamid\").count().show()"
      ]
    },
    {
      "cell_type": "code",
      "execution_count": null,
      "metadata": {
        "colab": {
          "background_save": true
        },
        "id": "Xg-gCvP72Yih",
        "outputId": "54ce35c5-b3fd-4215-bcc4-86cb8b941b4c"
      },
      "outputs": [
        {
          "name": "stdout",
          "output_type": "stream",
          "text": [
            "+----------------------+-----+\n",
            "|author_num_games_owned|count|\n",
            "+----------------------+-----+\n",
            "|                    26|65912|\n",
            "|                    29|63475|\n",
            "|                   474| 2339|\n",
            "|                   964|  375|\n",
            "|                  1950|   24|\n",
            "|                  2040|   87|\n",
            "|                  2927|   26|\n",
            "|                  1806|   21|\n",
            "|                  2214|   20|\n",
            "|                  1677|  100|\n",
            "|                  2250|   31|\n",
            "|                  5385|    6|\n",
            "|                  1697|   32|\n",
            "|                  3091|   10|\n",
            "|                  7279|    3|\n",
            "|                  2453|   12|\n",
            "|                  2529|    5|\n",
            "|                  3764|    2|\n",
            "|                  2509|    3|\n",
            "|                  4590|    1|\n",
            "+----------------------+-----+\n",
            "only showing top 20 rows\n",
            "\n"
          ]
        }
      ],
      "source": [
        "sample_df.groupBy(\"author_num_games_owned\").count().show()"
      ]
    },
    {
      "cell_type": "code",
      "execution_count": null,
      "metadata": {
        "colab": {
          "background_save": true
        },
        "id": "ecNCwDMu2Yml",
        "outputId": "d779f954-f79c-419a-c252-0908c5621085"
      },
      "outputs": [
        {
          "name": "stdout",
          "output_type": "stream",
          "text": [
            "+------------------+-----+\n",
            "|author_num_reviews|count|\n",
            "+------------------+-----+\n",
            "|                29|37867|\n",
            "|                26|45971|\n",
            "|               474|   29|\n",
            "|              3764|    3|\n",
            "|                65| 6558|\n",
            "|               191|  370|\n",
            "|               418|    5|\n",
            "|              1010|    1|\n",
            "|               293|  182|\n",
            "|               222|  130|\n",
            "|               270|  102|\n",
            "|               243|  232|\n",
            "|               367|   31|\n",
            "|               278|   20|\n",
            "|                19|82042|\n",
            "|                54| 9990|\n",
            "|               296|   24|\n",
            "|               348|   65|\n",
            "|               287|   62|\n",
            "|              1077|   15|\n",
            "+------------------+-----+\n",
            "only showing top 20 rows\n",
            "\n"
          ]
        }
      ],
      "source": [
        "sample_df.groupBy(\"author_num_reviews\").count().show()"
      ]
    },
    {
      "cell_type": "code",
      "execution_count": null,
      "metadata": {
        "colab": {
          "background_save": true
        },
        "id": "wxTeo4eb2YqO",
        "outputId": "0acd9e01-e7a0-4730-8460-b97a36085155"
      },
      "outputs": [
        {
          "name": "stdout",
          "output_type": "stream",
          "text": [
            "+-----------------------+-----+\n",
            "|author_playtime_forever|count|\n",
            "+-----------------------+-----+\n",
            "|                  558.0| 1945|\n",
            "|                11028.0|  172|\n",
            "|                 1051.0| 1552|\n",
            "|                 3597.0|  621|\n",
            "|                 6454.0|  306|\n",
            "|                 3980.0|  539|\n",
            "|                  496.0| 2045|\n",
            "|                  299.0| 2244|\n",
            "|                13533.0|  129|\n",
            "|                22797.0|   58|\n",
            "|                10831.0|  180|\n",
            "|                 4066.0|  533|\n",
            "|                 5360.0|  427|\n",
            "|                10129.0|  172|\n",
            "|                 5776.0|  342|\n",
            "|                11112.0|  171|\n",
            "|                  769.0| 1858|\n",
            "|                12172.0|  140|\n",
            "|                14452.0|  120|\n",
            "|                10024.0|  196|\n",
            "+-----------------------+-----+\n",
            "only showing top 20 rows\n",
            "\n"
          ]
        }
      ],
      "source": [
        "sample_df.groupBy(\"author_playtime_forever\").count().show()"
      ]
    },
    {
      "cell_type": "code",
      "execution_count": null,
      "metadata": {
        "colab": {
          "background_save": true
        },
        "id": "MBjgkHvX2y7o",
        "outputId": "4e17d563-2521-4840-9919-9327b0617099"
      },
      "outputs": [
        {
          "name": "stdout",
          "output_type": "stream",
          "text": [
            "+-------------------------+-----+\n",
            "|author_playtime_at_review|count|\n",
            "+-------------------------+-----+\n",
            "|                  52086.0|    9|\n",
            "|                   6765.0|  221|\n",
            "|                  11028.0|  121|\n",
            "|                    305.0| 4569|\n",
            "|                    496.0| 3220|\n",
            "|                  10930.0|  124|\n",
            "|                   3980.0|  451|\n",
            "|                   2862.0|  715|\n",
            "|                  22797.0|   35|\n",
            "|                   5983.0|  275|\n",
            "|                    692.0| 2871|\n",
            "|                    299.0| 4613|\n",
            "|                    934.0| 2253|\n",
            "|                   4142.0|  503|\n",
            "|                    558.0| 3053|\n",
            "|                   5776.0|  283|\n",
            "|                  11112.0|  130|\n",
            "|                   3597.0|  530|\n",
            "|                   1761.0| 1089|\n",
            "|                  20689.0|   51|\n",
            "+-------------------------+-----+\n",
            "only showing top 20 rows\n",
            "\n"
          ]
        }
      ],
      "source": [
        "sample_df.groupBy(\"author_playtime_at_review\").count().show()"
      ]
    },
    {
      "cell_type": "code",
      "execution_count": null,
      "metadata": {
        "colab": {
          "background_save": true
        },
        "id": "aCL3uBpe3G6c",
        "outputId": "6d49d7bb-024a-47d0-bb17-f218fb08597a"
      },
      "outputs": [
        {
          "name": "stdout",
          "output_type": "stream",
          "text": [
            "+-----------------+-----------+-------+\n",
            "|received_for_free|recommended|  count|\n",
            "+-----------------+-----------+-------+\n",
            "|             true|      false|  30930|\n",
            "|             true|       true| 248454|\n",
            "|            false|      false|1020063|\n",
            "|            false|       true|8335990|\n",
            "+-----------------+-----------+-------+\n",
            "\n"
          ]
        }
      ],
      "source": [
        "sample_df.groupBy(\"received_for_free\", \"recommended\").count().show()"
      ]
    },
    {
      "cell_type": "code",
      "execution_count": null,
      "metadata": {
        "colab": {
          "background_save": true
        },
        "id": "yO9LFPt-8CeR",
        "outputId": "5b08488e-d49c-44a5-9082-451c07a5d8f8"
      },
      "outputs": [
        {
          "name": "stdout",
          "output_type": "stream",
          "text": [
            "+--------------------+--------------+-----+\n",
            "|            app_name|steam_purchase|count|\n",
            "+--------------------+--------------+-----+\n",
            "|          The Forest|         false|14816|\n",
            "|     Rapture Rejects|         false|  822|\n",
            "|         Axiom Verge|          true| 2716|\n",
            "|   Dragon Cliff 龙崖|          true|  693|\n",
            "|              Vampyr|         false| 1698|\n",
            "|     Into the Breach|          true| 6681|\n",
            "|         Garry's Mod|         false|49127|\n",
            "|Euro Truck Simula...|          true|58829|\n",
            "|   People Playground|         false|  870|\n",
            "|        Satisfactory|         false| 2398|\n",
            "|SENRAN KAGURA EST...|         false|   91|\n",
            "|           Half-Life|          true|21651|\n",
            "|          Foundation|          true| 3441|\n",
            "|           Blackwake|         false| 1735|\n",
            "|         Due Process|         false|  611|\n",
            "|  METAL GEAR SURVIVE|          true| 1680|\n",
            "|    Finding Paradise|          true| 3224|\n",
            "|Monster Hunter: W...|          true|63320|\n",
            "|        Bless Online|         false| 1533|\n",
            "|BERSERK and the B...|         false|  111|\n",
            "+--------------------+--------------+-----+\n",
            "only showing top 20 rows\n",
            "\n"
          ]
        }
      ],
      "source": [
        "sample_df.groupBy(\"app_name\", \"steam_purchase\").count().show()"
      ]
    },
    {
      "cell_type": "code",
      "execution_count": null,
      "metadata": {
        "colab": {
          "background_save": true
        },
        "id": "qzWbzUv43Hvd",
        "outputId": "a376661f-0e50-41d8-c28f-bda7944be8b4"
      },
      "outputs": [
        {
          "name": "stdout",
          "output_type": "stream",
          "text": [
            "+--------------------+-----------+-----+\n",
            "|            app_name|recommended|count|\n",
            "+--------------------+-----------+-----+\n",
            "|          The Forest|      false| 5106|\n",
            "|     Rapture Rejects|      false|  639|\n",
            "|         Axiom Verge|       true| 2835|\n",
            "|   Dragon Cliff 龙崖|       true|  614|\n",
            "|              Vampyr|      false| 1726|\n",
            "|     Into the Breach|       true| 7404|\n",
            "|         Garry's Mod|      false|11112|\n",
            "|Euro Truck Simula...|       true|79739|\n",
            "|   People Playground|      false|  195|\n",
            "|        Satisfactory|      false|  615|\n",
            "|SENRAN KAGURA EST...|      false|   52|\n",
            "|           Half-Life|       true|27418|\n",
            "|          Foundation|       true| 3174|\n",
            "|           Blackwake|      false| 1650|\n",
            "|         Due Process|      false|  372|\n",
            "|  METAL GEAR SURVIVE|       true| 1610|\n",
            "|    Finding Paradise|       true| 3726|\n",
            "|Monster Hunter: W...|       true|87842|\n",
            "|        Bless Online|      false| 4050|\n",
            "|BERSERK and the B...|      false|  199|\n",
            "+--------------------+-----------+-----+\n",
            "only showing top 20 rows\n",
            "\n"
          ]
        }
      ],
      "source": [
        "sample_df.groupBy(\"app_name\", \"recommended\").count().show()"
      ]
    },
    {
      "cell_type": "code",
      "execution_count": null,
      "metadata": {
        "colab": {
          "background_save": true
        },
        "id": "CPgXQzw13H1n",
        "outputId": "5fa2e946-2c35-4534-f6c1-5f0420c18a97"
      },
      "outputs": [
        {
          "name": "stdout",
          "output_type": "stream",
          "text": [
            "+--------------------+-----------------+------+\n",
            "|            app_name|received_for_free| count|\n",
            "+--------------------+-----------------+------+\n",
            "|          The Forest|            false| 91032|\n",
            "|     Rapture Rejects|            false|   791|\n",
            "|         Axiom Verge|             true|    23|\n",
            "|   Dragon Cliff 龙崖|             true|     7|\n",
            "|              Vampyr|            false|  6591|\n",
            "|     Into the Breach|             true|    69|\n",
            "|         Garry's Mod|            false|321341|\n",
            "|Euro Truck Simula...|             true|  3907|\n",
            "|   People Playground|            false| 16406|\n",
            "|        Satisfactory|            false| 24840|\n",
            "|SENRAN KAGURA EST...|            false|  1089|\n",
            "|           Half-Life|             true|  1249|\n",
            "|          Foundation|             true|    32|\n",
            "|           Blackwake|            false| 10667|\n",
            "|         Due Process|            false|  2489|\n",
            "|  METAL GEAR SURVIVE|             true|    45|\n",
            "|    Finding Paradise|             true|    46|\n",
            "|Monster Hunter: W...|             true|  2089|\n",
            "|        Bless Online|            false|  6180|\n",
            "|BERSERK and the B...|            false|   937|\n",
            "+--------------------+-----------------+------+\n",
            "only showing top 20 rows\n",
            "\n"
          ]
        }
      ],
      "source": [
        "sample_df.groupBy(\"app_name\", \"received_for_free\").count().show()"
      ]
    },
    {
      "cell_type": "code",
      "execution_count": null,
      "metadata": {
        "colab": {
          "background_save": true
        },
        "id": "5O413DhP8Vqr",
        "outputId": "2cd0e3cd-341b-45e8-885f-61749d24f4b5"
      },
      "outputs": [
        {
          "name": "stdout",
          "output_type": "stream",
          "text": [
            "+--------------------+---------------------------+------+\n",
            "|            app_name|written_during_early_access| count|\n",
            "+--------------------+---------------------------+------+\n",
            "|          The Forest|                      false| 56609|\n",
            "|   Dragon Cliff 龙崖|                       true|    19|\n",
            "|              Vampyr|                      false|  6686|\n",
            "|         Garry's Mod|                      false|331621|\n",
            "|   People Playground|                      false| 17100|\n",
            "|SENRAN KAGURA EST...|                      false|  1119|\n",
            "|          Foundation|                       true|  3665|\n",
            "|           Blackwake|                      false|  3582|\n",
            "|         Due Process|                      false|   569|\n",
            "|        Bless Online|                      false|  1744|\n",
            "|BERSERK and the B...|                      false|   948|\n",
            "|Sid Meier's Civil...|                      false|104257|\n",
            "|Total War: WARHAM...|                      false| 47822|\n",
            "|  Deep Rock Galactic|                       true| 20785|\n",
            "|Freeman: Guerrill...|                      false|  1812|\n",
            "|Tom Clancy's Rain...|                      false|371154|\n",
            "|    Wallpaper Engine|                      false| 65724|\n",
            "|          Toukiden 2|                      false|   521|\n",
            "|Warhammer 40,000:...|                      false|  9732|\n",
            "|       Hotline Miami|                      false| 31172|\n",
            "+--------------------+---------------------------+------+\n",
            "only showing top 20 rows\n",
            "\n"
          ]
        }
      ],
      "source": [
        "sample_df.groupBy(\"app_name\", \"written_during_early_access\").count().show()"
      ]
    },
    {
      "cell_type": "code",
      "execution_count": null,
      "metadata": {
        "colab": {
          "background_save": true
        },
        "id": "3GywZasYHoWU",
        "outputId": "ff9d8336-e679-4ca1-d8a8-5ae890403e39"
      },
      "outputs": [
        {
          "ename": "AnalysisException",
          "evalue": "[UNRESOLVED_COLUMN.WITH_SUGGESTION] A column or function parameter with name `reccomended` cannot be resolved. Did you mean one of the following? [`recommended`, `review`, `review_id`, `_c0`, `app_id`].;\n'Aggregate [steam_purchase#13, 'reccomended], [steam_purchase#13, 'reccomended, count(1) AS count#1311L]\n+- Project [_c0#0, app_id#1, app_name#2, review_id#3, review#5, recommended#8, votes_helpful#9L, steam_purchase#13, received_for_free#14, written_during_early_access#15, votes_helpful#9L, author_steamid#217L, author_num_games_owned#242L, author_num_reviews#267L, author_playtime_forever#292, author_playtime_at_review#342, playtime_category#677, CASE WHEN (author_playtime_forever#292 < cast(5000 as double)) THEN Low WHEN ((author_playtime_forever#292 >= cast(5000 as double)) AND (author_playtime_forever#292 < cast(20000 as double))) THEN Medium ELSE High END AS playtime_forever_category#695]\n   +- Project [_c0#0, app_id#1, app_name#2, review_id#3, review#5, recommended#8, votes_helpful#9L, steam_purchase#13, received_for_free#14, written_during_early_access#15, votes_helpful#9L, author_steamid#217L, author_num_games_owned#242L, author_num_reviews#267L, author_playtime_forever#292, author_playtime_at_review#342, CASE WHEN (author_playtime_at_review#342 < cast(5000 as double)) THEN Low WHEN ((author_playtime_at_review#342 >= cast(5000 as double)) AND (author_playtime_at_review#342 < cast(20000 as double))) THEN Medium ELSE High END AS playtime_category#677]\n      +- Project [_c0#0, app_id#1, app_name#2, review_id#3, review#5, recommended#8, votes_helpful#9L, steam_purchase#13, received_for_free#14, written_during_early_access#15, votes_helpful#9L, author_steamid#217L, author_num_games_owned#242L, author_num_reviews#267L, author_playtime_forever#292, author_playtime_at_review#342]\n         +- Project [_c0#0, app_id#1, app_name#2, review_id#3, language#4, review#5, timestamp_created#6, timestamp_updated#7L, recommended#8, votes_helpful#9L, votes_funny#10L, weighted_vote_score#11, comment_count#12, steam_purchase#13, received_for_free#14, written_during_early_access#15, author_steamid#217L, author_num_games_owned#242L, author_num_reviews#267L, author_playtime_forever#292, author_playtime_last_two_weeks#317, author_playtime_at_review#342, author.last_played#22 AS author_last_played#367, review_length#192]\n            +- Project [_c0#0, app_id#1, app_name#2, review_id#3, language#4, review#5, timestamp_created#6, timestamp_updated#7L, recommended#8, votes_helpful#9L, votes_funny#10L, weighted_vote_score#11, comment_count#12, steam_purchase#13, received_for_free#14, written_during_early_access#15, author_steamid#217L, author_num_games_owned#242L, author_num_reviews#267L, author_playtime_forever#292, author_playtime_last_two_weeks#317, author.playtime_at_review#21 AS author_playtime_at_review#342, author.last_played#22, review_length#192]\n               +- Project [_c0#0, app_id#1, app_name#2, review_id#3, language#4, review#5, timestamp_created#6, timestamp_updated#7L, recommended#8, votes_helpful#9L, votes_funny#10L, weighted_vote_score#11, comment_count#12, steam_purchase#13, received_for_free#14, written_during_early_access#15, author_steamid#217L, author_num_games_owned#242L, author_num_reviews#267L, author_playtime_forever#292, author.playtime_last_two_weeks#20 AS author_playtime_last_two_weeks#317, author.playtime_at_review#21, author.last_played#22, review_length#192]\n                  +- Project [_c0#0, app_id#1, app_name#2, review_id#3, language#4, review#5, timestamp_created#6, timestamp_updated#7L, recommended#8, votes_helpful#9L, votes_funny#10L, weighted_vote_score#11, comment_count#12, steam_purchase#13, received_for_free#14, written_during_early_access#15, author_steamid#217L, author_num_games_owned#242L, author_num_reviews#267L, author.playtime_forever#19 AS author_playtime_forever#292, author.playtime_last_two_weeks#20, author.playtime_at_review#21, author.last_played#22, review_length#192]\n                     +- Project [_c0#0, app_id#1, app_name#2, review_id#3, language#4, review#5, timestamp_created#6, timestamp_updated#7L, recommended#8, votes_helpful#9L, votes_funny#10L, weighted_vote_score#11, comment_count#12, steam_purchase#13, received_for_free#14, written_during_early_access#15, author_steamid#217L, author_num_games_owned#242L, author.num_reviews#18L AS author_num_reviews#267L, author.playtime_forever#19, author.playtime_last_two_weeks#20, author.playtime_at_review#21, author.last_played#22, review_length#192]\n                        +- Project [_c0#0, app_id#1, app_name#2, review_id#3, language#4, review#5, timestamp_created#6, timestamp_updated#7L, recommended#8, votes_helpful#9L, votes_funny#10L, weighted_vote_score#11, comment_count#12, steam_purchase#13, received_for_free#14, written_during_early_access#15, author_steamid#217L, author.num_games_owned#17L AS author_num_games_owned#242L, author.num_reviews#18L, author.playtime_forever#19, author.playtime_last_two_weeks#20, author.playtime_at_review#21, author.last_played#22, review_length#192]\n                           +- Project [_c0#0, app_id#1, app_name#2, review_id#3, language#4, review#5, timestamp_created#6, timestamp_updated#7L, recommended#8, votes_helpful#9L, votes_funny#10L, weighted_vote_score#11, comment_count#12, steam_purchase#13, received_for_free#14, written_during_early_access#15, author.steamid#16L AS author_steamid#217L, author.num_games_owned#17L, author.num_reviews#18L, author.playtime_forever#19, author.playtime_last_two_weeks#20, author.playtime_at_review#21, author.last_played#22, review_length#192]\n                              +- Project [_c0#0, app_id#1, app_name#2, review_id#3, language#4, review#5, timestamp_created#6, timestamp_updated#7L, recommended#8, votes_helpful#9L, votes_funny#10L, weighted_vote_score#11, comment_count#12, steam_purchase#13, received_for_free#14, written_during_early_access#15, author.steamid#16L, author.num_games_owned#17L, author.num_reviews#18L, author.playtime_forever#19, author.playtime_last_two_weeks#20, author.playtime_at_review#21, author.last_played#22, length(review#5) AS review_length#192]\n                                 +- Filter (language#4 = english)\n                                    +- Relation [_c0#0,app_id#1,app_name#2,review_id#3,language#4,review#5,timestamp_created#6,timestamp_updated#7L,recommended#8,votes_helpful#9L,votes_funny#10L,weighted_vote_score#11,comment_count#12,steam_purchase#13,received_for_free#14,written_during_early_access#15,author.steamid#16L,author.num_games_owned#17L,author.num_reviews#18L,author.playtime_forever#19,author.playtime_last_two_weeks#20,author.playtime_at_review#21,author.last_played#22] csv\n",
          "output_type": "error",
          "traceback": [
            "\u001b[0;31m---------------------------------------------------------------------------\u001b[0m",
            "\u001b[0;31mAnalysisException\u001b[0m                         Traceback (most recent call last)",
            "\u001b[0;32m<ipython-input-32-99bc0dce2f35>\u001b[0m in \u001b[0;36m<cell line: 0>\u001b[0;34m()\u001b[0m\n\u001b[0;32m----> 1\u001b[0;31m \u001b[0msample_df\u001b[0m\u001b[0;34m.\u001b[0m\u001b[0mgroupBy\u001b[0m\u001b[0;34m(\u001b[0m\u001b[0;34m\"steam_purchase\"\u001b[0m\u001b[0;34m,\u001b[0m \u001b[0;34m\"reccomended\"\u001b[0m\u001b[0;34m)\u001b[0m\u001b[0;34m.\u001b[0m\u001b[0mcount\u001b[0m\u001b[0;34m(\u001b[0m\u001b[0;34m)\u001b[0m\u001b[0;34m.\u001b[0m\u001b[0mshow\u001b[0m\u001b[0;34m(\u001b[0m\u001b[0;34m)\u001b[0m\u001b[0;34m\u001b[0m\u001b[0;34m\u001b[0m\u001b[0m\n\u001b[0m",
            "\u001b[0;32m/usr/local/lib/python3.11/dist-packages/pyspark/sql/group.py\u001b[0m in \u001b[0;36m_api\u001b[0;34m(self)\u001b[0m\n\u001b[1;32m     36\u001b[0m     \u001b[0;32mdef\u001b[0m \u001b[0m_api\u001b[0m\u001b[0;34m(\u001b[0m\u001b[0mself\u001b[0m\u001b[0;34m:\u001b[0m \u001b[0;34m\"GroupedData\"\u001b[0m\u001b[0;34m)\u001b[0m \u001b[0;34m->\u001b[0m \u001b[0mDataFrame\u001b[0m\u001b[0;34m:\u001b[0m\u001b[0;34m\u001b[0m\u001b[0;34m\u001b[0m\u001b[0m\n\u001b[1;32m     37\u001b[0m         \u001b[0mname\u001b[0m \u001b[0;34m=\u001b[0m \u001b[0mf\u001b[0m\u001b[0;34m.\u001b[0m\u001b[0m__name__\u001b[0m\u001b[0;34m\u001b[0m\u001b[0;34m\u001b[0m\u001b[0m\n\u001b[0;32m---> 38\u001b[0;31m         \u001b[0mjdf\u001b[0m \u001b[0;34m=\u001b[0m \u001b[0mgetattr\u001b[0m\u001b[0;34m(\u001b[0m\u001b[0mself\u001b[0m\u001b[0;34m.\u001b[0m\u001b[0m_jgd\u001b[0m\u001b[0;34m,\u001b[0m \u001b[0mname\u001b[0m\u001b[0;34m)\u001b[0m\u001b[0;34m(\u001b[0m\u001b[0;34m)\u001b[0m\u001b[0;34m\u001b[0m\u001b[0;34m\u001b[0m\u001b[0m\n\u001b[0m\u001b[1;32m     39\u001b[0m         \u001b[0;32mreturn\u001b[0m \u001b[0mDataFrame\u001b[0m\u001b[0;34m(\u001b[0m\u001b[0mjdf\u001b[0m\u001b[0;34m,\u001b[0m \u001b[0mself\u001b[0m\u001b[0;34m.\u001b[0m\u001b[0msession\u001b[0m\u001b[0;34m)\u001b[0m\u001b[0;34m\u001b[0m\u001b[0;34m\u001b[0m\u001b[0m\n\u001b[1;32m     40\u001b[0m \u001b[0;34m\u001b[0m\u001b[0m\n",
            "\u001b[0;32m/usr/local/lib/python3.11/dist-packages/py4j/java_gateway.py\u001b[0m in \u001b[0;36m__call__\u001b[0;34m(self, *args)\u001b[0m\n\u001b[1;32m   1320\u001b[0m \u001b[0;34m\u001b[0m\u001b[0m\n\u001b[1;32m   1321\u001b[0m         \u001b[0manswer\u001b[0m \u001b[0;34m=\u001b[0m \u001b[0mself\u001b[0m\u001b[0;34m.\u001b[0m\u001b[0mgateway_client\u001b[0m\u001b[0;34m.\u001b[0m\u001b[0msend_command\u001b[0m\u001b[0;34m(\u001b[0m\u001b[0mcommand\u001b[0m\u001b[0;34m)\u001b[0m\u001b[0;34m\u001b[0m\u001b[0;34m\u001b[0m\u001b[0m\n\u001b[0;32m-> 1322\u001b[0;31m         return_value = get_return_value(\n\u001b[0m\u001b[1;32m   1323\u001b[0m             answer, self.gateway_client, self.target_id, self.name)\n\u001b[1;32m   1324\u001b[0m \u001b[0;34m\u001b[0m\u001b[0m\n",
            "\u001b[0;32m/usr/local/lib/python3.11/dist-packages/pyspark/errors/exceptions/captured.py\u001b[0m in \u001b[0;36mdeco\u001b[0;34m(*a, **kw)\u001b[0m\n\u001b[1;32m    183\u001b[0m                 \u001b[0;31m# Hide where the exception came from that shows a non-Pythonic\u001b[0m\u001b[0;34m\u001b[0m\u001b[0;34m\u001b[0m\u001b[0m\n\u001b[1;32m    184\u001b[0m                 \u001b[0;31m# JVM exception message.\u001b[0m\u001b[0;34m\u001b[0m\u001b[0;34m\u001b[0m\u001b[0m\n\u001b[0;32m--> 185\u001b[0;31m                 \u001b[0;32mraise\u001b[0m \u001b[0mconverted\u001b[0m \u001b[0;32mfrom\u001b[0m \u001b[0;32mNone\u001b[0m\u001b[0;34m\u001b[0m\u001b[0;34m\u001b[0m\u001b[0m\n\u001b[0m\u001b[1;32m    186\u001b[0m             \u001b[0;32melse\u001b[0m\u001b[0;34m:\u001b[0m\u001b[0;34m\u001b[0m\u001b[0;34m\u001b[0m\u001b[0m\n\u001b[1;32m    187\u001b[0m                 \u001b[0;32mraise\u001b[0m\u001b[0;34m\u001b[0m\u001b[0;34m\u001b[0m\u001b[0m\n",
            "\u001b[0;31mAnalysisException\u001b[0m: [UNRESOLVED_COLUMN.WITH_SUGGESTION] A column or function parameter with name `reccomended` cannot be resolved. Did you mean one of the following? [`recommended`, `review`, `review_id`, `_c0`, `app_id`].;\n'Aggregate [steam_purchase#13, 'reccomended], [steam_purchase#13, 'reccomended, count(1) AS count#1311L]\n+- Project [_c0#0, app_id#1, app_name#2, review_id#3, review#5, recommended#8, votes_helpful#9L, steam_purchase#13, received_for_free#14, written_during_early_access#15, votes_helpful#9L, author_steamid#217L, author_num_games_owned#242L, author_num_reviews#267L, author_playtime_forever#292, author_playtime_at_review#342, playtime_category#677, CASE WHEN (author_playtime_forever#292 < cast(5000 as double)) THEN Low WHEN ((author_playtime_forever#292 >= cast(5000 as double)) AND (author_playtime_forever#292 < cast(20000 as double))) THEN Medium ELSE High END AS playtime_forever_category#695]\n   +- Project [_c0#0, app_id#1, app_name#2, review_id#3, review#5, recommended#8, votes_helpful#9L, steam_purchase#13, received_for_free#14, written_during_early_access#15, votes_helpful#9L, author_steamid#217L, author_num_games_owned#242L, author_num_reviews#267L, author_playtime_forever#292, author_playtime_at_review#342, CASE WHEN (author_playtime_at_review#342 < cast(5000 as double)) THEN Low WHEN ((author_playtime_at_review#342 >= cast(5000 as double)) AND (author_playtime_at_review#342 < cast(20000 as double))) THEN Medium ELSE High END AS playtime_category#677]\n      +- Project [_c0#0, app_id#1, app_name#2, review_id#3, review#5, recommended#8, votes_helpful#9L, steam_purchase#13, received_for_free#14, written_during_early_access#15, votes_helpful#9L, author_steamid#217L, author_num_games_owned#242L, author_num_reviews#267L, author_playtime_forever#292, author_playtime_at_review#342]\n         +- Project [_c0#0, app_id#1, app_name#2, review_id#3, language#4, review#5, timestamp_created#6, timestamp_updated#7L, recommended#8, votes_helpful#9L, votes_funny#10L, weighted_vote_score#11, comment_count#12, steam_purchase#13, received_for_free#14, written_during_early_access#15, author_steamid#217L, author_num_games_owned#242L, author_num_reviews#267L, author_playtime_forever#292, author_playtime_last_two_weeks#317, author_playtime_at_review#342, author.last_played#22 AS author_last_played#367, review_length#192]\n            +- Project [_c0#0, app_id#1, app_name#2, review_id#3, language#4, review#5, timestamp_created#6, timestamp_updated#7L, recommended#8, votes_helpful#9L, votes_funny#10L, weighted_vote_score#11, comment_count#12, steam_purchase#13, received_for_free#14, written_during_early_access#15, author_steamid#217L, author_num_games_owned#242L, author_num_reviews#267L, author_playtime_forever#292, author_playtime_last_two_weeks#317, author.playtime_at_review#21 AS author_playtime_at_review#342, author.last_played#22, review_length#192]\n               +- Project [_c0#0, app_id#1, app_name#2, review_id#3, language#4, review#5, timestamp_created#6, timestamp_updated#7L, recommended#8, votes_helpful#9L, votes_funny#10L, weighted_vote_score#11, comment_count#12, steam_purchase#13, received_for_free#14, written_during_early_access#15, author_steamid#217L, author_num_games_owned#242L, author_num_reviews#267L, author_playtime_forever#292, author.playtime_last_two_weeks#20 AS author_playtime_last_two_weeks#317, author.playtime_at_review#21, author.last_played#22, review_length#192]\n                  +- Project [_c0#0, app_id#1, app_name#2, review_id#3, language#4, review#5, timestamp_created#6, timestamp_updated#7L, recommended#8, votes_helpful#9L, votes_funny#10L, weighted_vote_score#11, comment_count#12, steam_purchase#13, received_for_free#14, written_during_early_access#15, author_steamid#217L, author_num_games_owned#242L, author_num_reviews#267L, author.playtime_forever#19 AS author_playtime_forever#292, author.playtime_last_two_weeks#20, author.playtime_at_review#21, author.last_played#22, review_length#192]\n                     +- Project [_c0#0, app_id#1, app_name#2, review_id#3, language#4, review#5, timestamp_created#6, timestamp_updated#7L, recommended#8, votes_helpful#9L, votes_funny#10L, weighted_vote_score#11, comment_count#12, steam_purchase#13, received_for_free#14, written_during_early_access#15, author_steamid#217L, author_num_games_owned#242L, author.num_reviews#18L AS author_num_reviews#267L, author.playtime_forever#19, author.playtime_last_two_weeks#20, author.playtime_at_review#21, author.last_played#22, review_length#192]\n                        +- Project [_c0#0, app_id#1, app_name#2, review_id#3, language#4, review#5, timestamp_created#6, timestamp_updated#7L, recommended#8, votes_helpful#9L, votes_funny#10L, weighted_vote_score#11, comment_count#12, steam_purchase#13, received_for_free#14, written_during_early_access#15, author_steamid#217L, author.num_games_owned#17L AS author_num_games_owned#242L, author.num_reviews#18L, author.playtime_forever#19, author.playtime_last_two_weeks#20, author.playtime_at_review#21, author.last_played#22, review_length#192]\n                           +- Project [_c0#0, app_id#1, app_name#2, review_id#3, language#4, review#5, timestamp_created#6, timestamp_updated#7L, recommended#8, votes_helpful#9L, votes_funny#10L, weighted_vote_score#11, comment_count#12, steam_purchase#13, received_for_free#14, written_during_early_access#15, author.steamid#16L AS author_steamid#217L, author.num_games_owned#17L, author.num_reviews#18L, author.playtime_forever#19, author.playtime_last_two_weeks#20, author.playtime_at_review#21, author.last_played#22, review_length#192]\n                              +- Project [_c0#0, app_id#1, app_name#2, review_id#3, language#4, review#5, timestamp_created#6, timestamp_updated#7L, recommended#8, votes_helpful#9L, votes_funny#10L, weighted_vote_score#11, comment_count#12, steam_purchase#13, received_for_free#14, written_during_early_access#15, author.steamid#16L, author.num_games_owned#17L, author.num_reviews#18L, author.playtime_forever#19, author.playtime_last_two_weeks#20, author.playtime_at_review#21, author.last_played#22, length(review#5) AS review_length#192]\n                                 +- Filter (language#4 = english)\n                                    +- Relation [_c0#0,app_id#1,app_name#2,review_id#3,language#4,review#5,timestamp_created#6,timestamp_updated#7L,recommended#8,votes_helpful#9L,votes_funny#10L,weighted_vote_score#11,comment_count#12,steam_purchase#13,received_for_free#14,written_during_early_access#15,author.steamid#16L,author.num_games_owned#17L,author.num_reviews#18L,author.playtime_forever#19,author.playtime_last_two_weeks#20,author.playtime_at_review#21,author.last_played#22] csv\n"
          ]
        }
      ],
      "source": [
        "sample_df.groupBy(\"steam_purchase\", \"reccomended\").count().show()"
      ]
    },
    {
      "cell_type": "code",
      "execution_count": null,
      "metadata": {
        "colab": {
          "background_save": true
        },
        "id": "o1j1e4l63IA9"
      },
      "outputs": [],
      "source": [
        "sample_df.groupBy(\"author_steamid\", \"written_during_early_access\").count().show()"
      ]
    },
    {
      "cell_type": "code",
      "execution_count": null,
      "metadata": {
        "colab": {
          "background_save": true
        },
        "id": "ro37YXNH6Yrj"
      },
      "outputs": [],
      "source": [
        "sample_df.groupBy(\"playtime_forever_category\", \"recommended\").count().show()"
      ]
    },
    {
      "cell_type": "code",
      "execution_count": null,
      "metadata": {
        "colab": {
          "background_save": true
        },
        "id": "YCoXE3Mp6Yvm"
      },
      "outputs": [],
      "source": [
        "sample_df.groupBy(\"playtime_category\", \"recommended\").count().show()"
      ]
    },
    {
      "cell_type": "code",
      "execution_count": null,
      "metadata": {
        "colab": {
          "background_save": true
        },
        "id": "L625Loh46Y0w"
      },
      "outputs": [],
      "source": [
        "sample_df.groupBy(\"written_during_early_access\", \"recommended\").count().show()"
      ]
    },
    {
      "cell_type": "code",
      "execution_count": null,
      "metadata": {
        "colab": {
          "background_save": true
        },
        "id": "Q2VIoTrGKFCS"
      },
      "outputs": [],
      "source": [
        "sample_df.groupBy(\"author_num_games_owned\", \"recommended\").count().show()"
      ]
    },
    {
      "cell_type": "code",
      "execution_count": null,
      "metadata": {
        "colab": {
          "background_save": true
        },
        "id": "Dv4_T26wKFIu"
      },
      "outputs": [],
      "source": []
    },
    {
      "cell_type": "code",
      "execution_count": null,
      "metadata": {
        "colab": {
          "background_save": true
        },
        "id": "MLjKA6X8KFOk"
      },
      "outputs": [],
      "source": []
    },
    {
      "cell_type": "code",
      "execution_count": null,
      "metadata": {
        "colab": {
          "background_save": true
        },
        "id": "JqZclkrEKFTZ"
      },
      "outputs": [],
      "source": []
    }
  ],
  "metadata": {
    "accelerator": "GPU",
    "colab": {
      "gpuType": "T4",
      "provenance": []
    },
    "kernelspec": {
      "display_name": "Python 3",
      "name": "python3"
    },
    "language_info": {
      "name": "python"
    }
  },
  "nbformat": 4,
  "nbformat_minor": 0
}