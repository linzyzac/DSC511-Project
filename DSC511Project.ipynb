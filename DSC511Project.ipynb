{
  "cells": [
    {
      "cell_type": "markdown",
      "metadata": {
        "id": "IdjStboIRmXq"
      },
      "source": [
        "# Importing necessary libraries"
      ]
    },
    {
      "cell_type": "code",
      "execution_count": 1,
      "metadata": {
        "id": "dPJprpLQRhk4"
      },
      "outputs": [],
      "source": [
        "import kagglehub\n",
        "from pyspark.sql import SparkSession\n",
        "from pyspark.sql.functions import udf\n",
        "from pyspark.sql.types import StringType\n",
        "from pyspark.sql.functions import col, create_map, lit\n",
        "from pyspark.sql.functions import length, trim\n",
        "from itertools import chain\n",
        "from pyspark import SparkContext\n",
        "from pyspark.sql.functions import length\n",
        "from pyspark.sql.functions import when, col\n",
        "import matplotlib.pyplot as plt\n",
        "from pyspark.sql import functions as F"
      ]
    },
    {
      "cell_type": "markdown",
      "metadata": {
        "id": "7GcHYVq3NEMf"
      },
      "source": [
        "# Importing dataset"
      ]
    },
    {
      "cell_type": "code",
      "execution_count": 2,
      "metadata": {
        "colab": {
          "base_uri": "https://localhost:8080/"
        },
        "id": "91q5S9OTMq1_",
        "outputId": "bc8f5b35-57a4-4987-8a8f-51922560ba30"
      },
      "outputs": [
        {
          "output_type": "stream",
          "name": "stdout",
          "text": [
            "Downloading from https://www.kaggle.com/api/v1/datasets/download/najzeko/steam-reviews-2021?dataset_version_number=1...\n"
          ]
        },
        {
          "output_type": "stream",
          "name": "stderr",
          "text": [
            "100%|██████████| 2.97G/2.97G [00:38<00:00, 83.0MB/s]"
          ]
        },
        {
          "output_type": "stream",
          "name": "stdout",
          "text": [
            "Extracting files...\n"
          ]
        },
        {
          "output_type": "stream",
          "name": "stderr",
          "text": [
            "\n"
          ]
        },
        {
          "output_type": "stream",
          "name": "stdout",
          "text": [
            "Path to dataset files: /root/.cache/kagglehub/datasets/najzeko/steam-reviews-2021/versions/1\n"
          ]
        }
      ],
      "source": [
        "# Download latest version\n",
        "path = kagglehub.dataset_download(\"najzeko/steam-reviews-2021\")\n",
        "\n",
        "print(\"Path to dataset files:\", path)"
      ]
    },
    {
      "cell_type": "code",
      "execution_count": 3,
      "metadata": {
        "colab": {
          "base_uri": "https://localhost:8080/"
        },
        "id": "s8RYdfSPN0bZ",
        "outputId": "9b285dbc-f125-4f12-a1cb-5bf298ff855a"
      },
      "outputs": [
        {
          "output_type": "stream",
          "name": "stdout",
          "text": [
            "+---+------+--------------------+---------+--------+----------------------------------+-----------------+-----------------+-----------+-------------+-----------+-------------------+-------------+--------------+-----------------+---------------------------+-----------------+----------------------+------------------+-----------------------+------------------------------+-------------------------+------------------+\n",
            "|_c0|app_id|            app_name|review_id|language|                            review|timestamp_created|timestamp_updated|recommended|votes_helpful|votes_funny|weighted_vote_score|comment_count|steam_purchase|received_for_free|written_during_early_access|   author.steamid|author.num_games_owned|author.num_reviews|author.playtime_forever|author.playtime_last_two_weeks|author.playtime_at_review|author.last_played|\n",
            "+---+------+--------------------+---------+--------+----------------------------------+-----------------+-----------------+-----------+-------------+-----------+-------------------+-------------+--------------+-----------------+---------------------------+-----------------+----------------------+------------------+-----------------------+------------------------------+-------------------------+------------------+\n",
            "|  0|292030|The Witcher 3: Wi...| 85185598|schinese|不玩此生遗憾，RPG游戏里的天花板...|       1611381629|       1611381629|       true|            0|          0|                0.0|            0|          true|            false|                      false|76561199095369542|                     6|                 2|                 1909.0|                        1448.0|                   1909.0|     1.611343383E9|\n",
            "|  1|292030|The Witcher 3: Wi...| 85185250|schinese|       拔DIAO无情打桩机--杰洛特!!!|       1611381030|       1611381030|       true|            0|          0|                0.0|            0|          true|            false|                      false|76561198949504115|                    30|                10|                 2764.0|                        2743.0|                   2674.0|     1.611386307E9|\n",
            "|  2|292030|The Witcher 3: Wi...| 85185111|schinese|                           巫师3NB|       1611380800|       1611380800|       true|            0|          0|                0.0|            0|          true|            false|                      false|76561199090098988|                     5|                 1|                 1061.0|                        1061.0|                   1060.0|     1.611383777E9|\n",
            "|  3|292030|The Witcher 3: Wi...| 85184605| english|              One of the best R...|       1611379970|       1611379970|       true|            0|          0|                0.0|            0|          true|            false|                      false|76561199054755373|                     5|                 3|                 5587.0|                        3200.0|                   5524.0|     1.611383744E9|\n",
            "|  4|292030|The Witcher 3: Wi...| 85184287|schinese|                              大作|       1611379427|       1611379427|       true|            0|          0|                0.0|            0|          true|            false|                      false|76561199028326951|                     7|                 4|                  217.0|                          42.0|                    217.0|     1.610788249E9|\n",
            "+---+------+--------------------+---------+--------+----------------------------------+-----------------+-----------------+-----------+-------------+-----------+-------------------+-------------+--------------+-----------------+---------------------------+-----------------+----------------------+------------------+-----------------------+------------------------------+-------------------------+------------------+\n",
            "only showing top 5 rows\n",
            "\n"
          ]
        }
      ],
      "source": [
        "# Initialize Spark session\n",
        "spark = SparkSession.builder \\\n",
        "    .appName(\"Steam Reviews Analysis\") \\\n",
        "    .getOrCreate()\n",
        "\n",
        "# Path to the dataset folder\n",
        "dataset_path = \"/root/.cache/kagglehub/datasets/najzeko/steam-reviews-2021/versions/1\"\n",
        "\n",
        "# Identify the CSV file\n",
        "file_path = f\"{dataset_path}/steam_reviews.csv\"\n",
        "\n",
        "# Load the data into a PySpark DataFrame\n",
        "df = spark.read.csv(file_path, header=True, inferSchema=True, multiLine=True, escape='\"')\n",
        "\n",
        "# Show a sample of the data\n",
        "df.show(5)\n",
        "# \"schinese\" is \"simple chinese\", \"tchinese\" is \"traditional chinese\""
      ]
    },
    {
      "cell_type": "markdown",
      "metadata": {
        "id": "sdQx3a4br_tx"
      },
      "source": [
        "In our analysis we took a sample of the dataset due to runtime errors we got, since our machines could not process the amount of the original dataset (21 million records). Our sample consists of only the English reviews, which are around 9 million, and is still considered to be a dataset suitable for Big Data."
      ]
    },
    {
      "cell_type": "code",
      "execution_count": 30,
      "metadata": {
        "colab": {
          "base_uri": "https://localhost:8080/"
        },
        "id": "DbXgJYr2VckQ",
        "outputId": "4fdb618e-841d-4c9f-afcf-3c5460556ff3"
      },
      "outputs": [
        {
          "output_type": "execute_result",
          "data": {
            "text/plain": [
              "9635437"
            ]
          },
          "metadata": {},
          "execution_count": 30
        }
      ],
      "source": [
        "df.filter(df.language == \"english\").count()"
      ]
    },
    {
      "cell_type": "code",
      "execution_count": 5,
      "metadata": {
        "id": "UeDoKHQrsvJg"
      },
      "outputs": [],
      "source": [
        "sample_df = df.filter(df.language == \"english\")"
      ]
    },
    {
      "cell_type": "code",
      "execution_count": 6,
      "metadata": {
        "id": "wu1g4mhx_U5s"
      },
      "outputs": [],
      "source": [
        "sample_df = sample_df.withColumn(\"review_length\", length(\"review\")) #create new column with the length of each review"
      ]
    },
    {
      "cell_type": "markdown",
      "metadata": {
        "id": "-RI3URrstdl6"
      },
      "source": [
        "##  **Exploratory Data Analysis**"
      ]
    },
    {
      "cell_type": "code",
      "execution_count": 33,
      "metadata": {
        "colab": {
          "base_uri": "https://localhost:8080/"
        },
        "id": "YIt6sUl4yIfJ",
        "outputId": "56bd505a-5c28-4562-b29f-7293c20f708c"
      },
      "outputs": [
        {
          "output_type": "stream",
          "name": "stdout",
          "text": [
            "['_c0', 'app_id', 'app_name', 'review_id', 'language', 'review', 'timestamp_created', 'timestamp_updated', 'recommended', 'votes_helpful', 'votes_funny', 'weighted_vote_score', 'comment_count', 'steam_purchase', 'received_for_free', 'written_during_early_access', 'author_steamid', 'author_num_games_owned', 'author_num_reviews', 'author_playtime_forever', 'author_playtime_last_two_weeks', 'author_playtime_at_review', 'author_last_played', 'review_length']\n"
          ]
        }
      ],
      "source": [
        "# Rename the columns that have \".\" since we have errors in accessing them with their original name\n",
        "sample_df = sample_df.withColumnRenamed(\"author.steamid\", \"author_steamid\") \\\n",
        "                     .withColumnRenamed(\"author.num_games_owned\", \"author_num_games_owned\") \\\n",
        "                     .withColumnRenamed(\"author.num_reviews\", \"author_num_reviews\") \\\n",
        "                     .withColumnRenamed(\"author.playtime_forever\", \"author_playtime_forever\") \\\n",
        "                     .withColumnRenamed(\"author.playtime_last_two_weeks\", \"author_playtime_last_two_weeks\") \\\n",
        "                     .withColumnRenamed(\"author.playtime_at_review\", \"author_playtime_at_review\") \\\n",
        "                     .withColumnRenamed(\"author.last_played\", \"author_last_played\")\n",
        "\n",
        "# Print the new column names\n",
        "print(sample_df.columns)"
      ]
    },
    {
      "cell_type": "markdown",
      "source": [
        "We observed that certain columns are not informative for our objective, therefore we decided to keep only the relevant features."
      ],
      "metadata": {
        "id": "dua3Rd59Ou_I"
      }
    },
    {
      "cell_type": "code",
      "execution_count": 34,
      "metadata": {
        "id": "NHqXb6NTfdJ-"
      },
      "outputs": [],
      "source": [
        "# Keep only the relevant features\n",
        "sample_df = sample_df.select(\"_c0\",\"app_id\",\"app_name\",\"review_id\",\"review\",\"recommended\",\"votes_helpful\",\"steam_purchase\",\"received_for_free\",\"written_during_early_access\",\"votes_helpful\",\"author_steamid\", \"author_num_games_owned\", \"author_num_reviews\", \"author_playtime_forever\", \"author_playtime_at_review\", \"review_length\")"
      ]
    },
    {
      "cell_type": "markdown",
      "source": [
        "View the first records of our dataset to understand the data that we have."
      ],
      "metadata": {
        "id": "GZrHVhclPC1a"
      }
    },
    {
      "cell_type": "code",
      "execution_count": 35,
      "metadata": {
        "colab": {
          "base_uri": "https://localhost:8080/"
        },
        "id": "XYOMUkQNtScu",
        "outputId": "b5e69881-7777-4a86-cb3c-f5e3a0f6553d"
      },
      "outputs": [
        {
          "output_type": "stream",
          "name": "stdout",
          "text": [
            "+---+------+--------------------+---------+--------------------+-----------+-------------+--------------+-----------------+---------------------------+-------------+-----------------+----------------------+------------------+-----------------------+-------------------------+-------------+\n",
            "|_c0|app_id|            app_name|review_id|              review|recommended|votes_helpful|steam_purchase|received_for_free|written_during_early_access|votes_helpful|   author_steamid|author_num_games_owned|author_num_reviews|author_playtime_forever|author_playtime_at_review|review_length|\n",
            "+---+------+--------------------+---------+--------------------+-----------+-------------+--------------+-----------------+---------------------------+-------------+-----------------+----------------------+------------------+-----------------------+-------------------------+-------------+\n",
            "|  3|292030|The Witcher 3: Wi...| 85184605|One of the best R...|       true|            0|          true|            false|                      false|            0|76561199054755373|                     5|                 3|                 5587.0|                   5524.0|           59|\n",
            "|  5|292030|The Witcher 3: Wi...| 85184171|good story, good ...|       true|            0|          true|            false|                      false|            0|76561198170193529|                    11|                 1|                  823.0|                    823.0|           38|\n",
            "|  6|292030|The Witcher 3: Wi...| 85184064|            dis gud,|       true|            0|          true|            false|                      false|            0|76561198119302812|                    27|                 2|                 4192.0|                   4192.0|            8|\n",
            "| 18|292030|The Witcher 3: Wi...| 85180436|favorite game of ...|       true|            0|          true|            false|                      false|            0|76561198065591528|                    33|                 1|                23329.0|                  23329.0|           59|\n",
            "| 20|292030|The Witcher 3: Wi...| 85179753|Why wouldn't you ...|       true|            0|          true|            false|                      false|            0|76561198996835044|                   131|                 2|                 8557.0|                   8557.0|           25|\n",
            "+---+------+--------------------+---------+--------------------+-----------+-------------+--------------+-----------------+---------------------------+-------------+-----------------+----------------------+------------------+-----------------------+-------------------------+-------------+\n",
            "only showing top 5 rows\n",
            "\n"
          ]
        }
      ],
      "source": [
        "sample_df.show(5)"
      ]
    },
    {
      "cell_type": "markdown",
      "source": [
        "Calculate summary statistics regarding the time (in minutes) that users played the game at the moment of writing their review. Using those, we will categorize users into three main categories, according to whether they have played for little, medium, or much time."
      ],
      "metadata": {
        "id": "v-2x4BDmPO4F"
      }
    },
    {
      "cell_type": "code",
      "execution_count": 36,
      "metadata": {
        "colab": {
          "base_uri": "https://localhost:8080/",
          "height": 510
        },
        "id": "SIqGj4QXAKcr",
        "outputId": "5c33364e-9e98-4c45-edfc-b6b5babd9b64"
      },
      "outputs": [
        {
          "output_type": "stream",
          "name": "stderr",
          "text": [
            "ERROR:root:KeyboardInterrupt while sending command.\n",
            "Traceback (most recent call last):\n",
            "  File \"/usr/local/lib/python3.11/dist-packages/py4j/java_gateway.py\", line 1038, in send_command\n",
            "    response = connection.send_command(command)\n",
            "               ^^^^^^^^^^^^^^^^^^^^^^^^^^^^^^^^\n",
            "  File \"/usr/local/lib/python3.11/dist-packages/py4j/clientserver.py\", line 511, in send_command\n",
            "    answer = smart_decode(self.stream.readline()[:-1])\n",
            "                          ^^^^^^^^^^^^^^^^^^^^^^\n",
            "  File \"/usr/lib/python3.11/socket.py\", line 718, in readinto\n",
            "    return self._sock.recv_into(b)\n",
            "           ^^^^^^^^^^^^^^^^^^^^^^^\n",
            "KeyboardInterrupt\n"
          ]
        },
        {
          "output_type": "error",
          "ename": "KeyboardInterrupt",
          "evalue": "",
          "traceback": [
            "\u001b[0;31m---------------------------------------------------------------------------\u001b[0m",
            "\u001b[0;31mKeyboardInterrupt\u001b[0m                         Traceback (most recent call last)",
            "\u001b[0;32m<ipython-input-36-d31a773c3fd2>\u001b[0m in \u001b[0;36m<cell line: 0>\u001b[0;34m()\u001b[0m\n\u001b[0;32m----> 1\u001b[0;31m \u001b[0msample_df\u001b[0m\u001b[0;34m.\u001b[0m\u001b[0mselect\u001b[0m\u001b[0;34m(\u001b[0m\u001b[0;34m\"author_playtime_at_review\"\u001b[0m\u001b[0;34m)\u001b[0m\u001b[0;34m.\u001b[0m\u001b[0mdescribe\u001b[0m\u001b[0;34m(\u001b[0m\u001b[0;34m)\u001b[0m\u001b[0;34m.\u001b[0m\u001b[0mshow\u001b[0m\u001b[0;34m(\u001b[0m\u001b[0;34m)\u001b[0m\u001b[0;34m\u001b[0m\u001b[0;34m\u001b[0m\u001b[0m\n\u001b[0m",
            "\u001b[0;32m/usr/local/lib/python3.11/dist-packages/pyspark/sql/dataframe.py\u001b[0m in \u001b[0;36mshow\u001b[0;34m(self, n, truncate, vertical)\u001b[0m\n\u001b[1;32m    945\u001b[0m         \u001b[0mname\u001b[0m \u001b[0;34m|\u001b[0m \u001b[0mBob\u001b[0m\u001b[0;34m\u001b[0m\u001b[0;34m\u001b[0m\u001b[0m\n\u001b[1;32m    946\u001b[0m         \"\"\"\n\u001b[0;32m--> 947\u001b[0;31m         \u001b[0mprint\u001b[0m\u001b[0;34m(\u001b[0m\u001b[0mself\u001b[0m\u001b[0;34m.\u001b[0m\u001b[0m_show_string\u001b[0m\u001b[0;34m(\u001b[0m\u001b[0mn\u001b[0m\u001b[0;34m,\u001b[0m \u001b[0mtruncate\u001b[0m\u001b[0;34m,\u001b[0m \u001b[0mvertical\u001b[0m\u001b[0;34m)\u001b[0m\u001b[0;34m)\u001b[0m\u001b[0;34m\u001b[0m\u001b[0;34m\u001b[0m\u001b[0m\n\u001b[0m\u001b[1;32m    948\u001b[0m \u001b[0;34m\u001b[0m\u001b[0m\n\u001b[1;32m    949\u001b[0m     def _show_string(\n",
            "\u001b[0;32m/usr/local/lib/python3.11/dist-packages/pyspark/sql/dataframe.py\u001b[0m in \u001b[0;36m_show_string\u001b[0;34m(self, n, truncate, vertical)\u001b[0m\n\u001b[1;32m    963\u001b[0m \u001b[0;34m\u001b[0m\u001b[0m\n\u001b[1;32m    964\u001b[0m         \u001b[0;32mif\u001b[0m \u001b[0misinstance\u001b[0m\u001b[0;34m(\u001b[0m\u001b[0mtruncate\u001b[0m\u001b[0;34m,\u001b[0m \u001b[0mbool\u001b[0m\u001b[0;34m)\u001b[0m \u001b[0;32mand\u001b[0m \u001b[0mtruncate\u001b[0m\u001b[0;34m:\u001b[0m\u001b[0;34m\u001b[0m\u001b[0;34m\u001b[0m\u001b[0m\n\u001b[0;32m--> 965\u001b[0;31m             \u001b[0;32mreturn\u001b[0m \u001b[0mself\u001b[0m\u001b[0;34m.\u001b[0m\u001b[0m_jdf\u001b[0m\u001b[0;34m.\u001b[0m\u001b[0mshowString\u001b[0m\u001b[0;34m(\u001b[0m\u001b[0mn\u001b[0m\u001b[0;34m,\u001b[0m \u001b[0;36m20\u001b[0m\u001b[0;34m,\u001b[0m \u001b[0mvertical\u001b[0m\u001b[0;34m)\u001b[0m\u001b[0;34m\u001b[0m\u001b[0;34m\u001b[0m\u001b[0m\n\u001b[0m\u001b[1;32m    966\u001b[0m         \u001b[0;32melse\u001b[0m\u001b[0;34m:\u001b[0m\u001b[0;34m\u001b[0m\u001b[0;34m\u001b[0m\u001b[0m\n\u001b[1;32m    967\u001b[0m             \u001b[0;32mtry\u001b[0m\u001b[0;34m:\u001b[0m\u001b[0;34m\u001b[0m\u001b[0;34m\u001b[0m\u001b[0m\n",
            "\u001b[0;32m/usr/local/lib/python3.11/dist-packages/py4j/java_gateway.py\u001b[0m in \u001b[0;36m__call__\u001b[0;34m(self, *args)\u001b[0m\n\u001b[1;32m   1319\u001b[0m             \u001b[0mproto\u001b[0m\u001b[0;34m.\u001b[0m\u001b[0mEND_COMMAND_PART\u001b[0m\u001b[0;34m\u001b[0m\u001b[0;34m\u001b[0m\u001b[0m\n\u001b[1;32m   1320\u001b[0m \u001b[0;34m\u001b[0m\u001b[0m\n\u001b[0;32m-> 1321\u001b[0;31m         \u001b[0manswer\u001b[0m \u001b[0;34m=\u001b[0m \u001b[0mself\u001b[0m\u001b[0;34m.\u001b[0m\u001b[0mgateway_client\u001b[0m\u001b[0;34m.\u001b[0m\u001b[0msend_command\u001b[0m\u001b[0;34m(\u001b[0m\u001b[0mcommand\u001b[0m\u001b[0;34m)\u001b[0m\u001b[0;34m\u001b[0m\u001b[0;34m\u001b[0m\u001b[0m\n\u001b[0m\u001b[1;32m   1322\u001b[0m         return_value = get_return_value(\n\u001b[1;32m   1323\u001b[0m             answer, self.gateway_client, self.target_id, self.name)\n",
            "\u001b[0;32m/usr/local/lib/python3.11/dist-packages/py4j/java_gateway.py\u001b[0m in \u001b[0;36msend_command\u001b[0;34m(self, command, retry, binary)\u001b[0m\n\u001b[1;32m   1036\u001b[0m         \u001b[0mconnection\u001b[0m \u001b[0;34m=\u001b[0m \u001b[0mself\u001b[0m\u001b[0;34m.\u001b[0m\u001b[0m_get_connection\u001b[0m\u001b[0;34m(\u001b[0m\u001b[0;34m)\u001b[0m\u001b[0;34m\u001b[0m\u001b[0;34m\u001b[0m\u001b[0m\n\u001b[1;32m   1037\u001b[0m         \u001b[0;32mtry\u001b[0m\u001b[0;34m:\u001b[0m\u001b[0;34m\u001b[0m\u001b[0;34m\u001b[0m\u001b[0m\n\u001b[0;32m-> 1038\u001b[0;31m             \u001b[0mresponse\u001b[0m \u001b[0;34m=\u001b[0m \u001b[0mconnection\u001b[0m\u001b[0;34m.\u001b[0m\u001b[0msend_command\u001b[0m\u001b[0;34m(\u001b[0m\u001b[0mcommand\u001b[0m\u001b[0;34m)\u001b[0m\u001b[0;34m\u001b[0m\u001b[0;34m\u001b[0m\u001b[0m\n\u001b[0m\u001b[1;32m   1039\u001b[0m             \u001b[0;32mif\u001b[0m \u001b[0mbinary\u001b[0m\u001b[0;34m:\u001b[0m\u001b[0;34m\u001b[0m\u001b[0;34m\u001b[0m\u001b[0m\n\u001b[1;32m   1040\u001b[0m                 \u001b[0;32mreturn\u001b[0m \u001b[0mresponse\u001b[0m\u001b[0;34m,\u001b[0m \u001b[0mself\u001b[0m\u001b[0;34m.\u001b[0m\u001b[0m_create_connection_guard\u001b[0m\u001b[0;34m(\u001b[0m\u001b[0mconnection\u001b[0m\u001b[0;34m)\u001b[0m\u001b[0;34m\u001b[0m\u001b[0;34m\u001b[0m\u001b[0m\n",
            "\u001b[0;32m/usr/local/lib/python3.11/dist-packages/py4j/clientserver.py\u001b[0m in \u001b[0;36msend_command\u001b[0;34m(self, command)\u001b[0m\n\u001b[1;32m    509\u001b[0m         \u001b[0;32mtry\u001b[0m\u001b[0;34m:\u001b[0m\u001b[0;34m\u001b[0m\u001b[0;34m\u001b[0m\u001b[0m\n\u001b[1;32m    510\u001b[0m             \u001b[0;32mwhile\u001b[0m \u001b[0;32mTrue\u001b[0m\u001b[0;34m:\u001b[0m\u001b[0;34m\u001b[0m\u001b[0;34m\u001b[0m\u001b[0m\n\u001b[0;32m--> 511\u001b[0;31m                 \u001b[0manswer\u001b[0m \u001b[0;34m=\u001b[0m \u001b[0msmart_decode\u001b[0m\u001b[0;34m(\u001b[0m\u001b[0mself\u001b[0m\u001b[0;34m.\u001b[0m\u001b[0mstream\u001b[0m\u001b[0;34m.\u001b[0m\u001b[0mreadline\u001b[0m\u001b[0;34m(\u001b[0m\u001b[0;34m)\u001b[0m\u001b[0;34m[\u001b[0m\u001b[0;34m:\u001b[0m\u001b[0;34m-\u001b[0m\u001b[0;36m1\u001b[0m\u001b[0;34m]\u001b[0m\u001b[0;34m)\u001b[0m\u001b[0;34m\u001b[0m\u001b[0;34m\u001b[0m\u001b[0m\n\u001b[0m\u001b[1;32m    512\u001b[0m                 \u001b[0mlogger\u001b[0m\u001b[0;34m.\u001b[0m\u001b[0mdebug\u001b[0m\u001b[0;34m(\u001b[0m\u001b[0;34m\"Answer received: {0}\"\u001b[0m\u001b[0;34m.\u001b[0m\u001b[0mformat\u001b[0m\u001b[0;34m(\u001b[0m\u001b[0manswer\u001b[0m\u001b[0;34m)\u001b[0m\u001b[0;34m)\u001b[0m\u001b[0;34m\u001b[0m\u001b[0;34m\u001b[0m\u001b[0m\n\u001b[1;32m    513\u001b[0m                 \u001b[0;31m# Happens when a the other end is dead. There might be an empty\u001b[0m\u001b[0;34m\u001b[0m\u001b[0;34m\u001b[0m\u001b[0m\n",
            "\u001b[0;32m/usr/lib/python3.11/socket.py\u001b[0m in \u001b[0;36mreadinto\u001b[0;34m(self, b)\u001b[0m\n\u001b[1;32m    716\u001b[0m         \u001b[0;32mwhile\u001b[0m \u001b[0;32mTrue\u001b[0m\u001b[0;34m:\u001b[0m\u001b[0;34m\u001b[0m\u001b[0;34m\u001b[0m\u001b[0m\n\u001b[1;32m    717\u001b[0m             \u001b[0;32mtry\u001b[0m\u001b[0;34m:\u001b[0m\u001b[0;34m\u001b[0m\u001b[0;34m\u001b[0m\u001b[0m\n\u001b[0;32m--> 718\u001b[0;31m                 \u001b[0;32mreturn\u001b[0m \u001b[0mself\u001b[0m\u001b[0;34m.\u001b[0m\u001b[0m_sock\u001b[0m\u001b[0;34m.\u001b[0m\u001b[0mrecv_into\u001b[0m\u001b[0;34m(\u001b[0m\u001b[0mb\u001b[0m\u001b[0;34m)\u001b[0m\u001b[0;34m\u001b[0m\u001b[0;34m\u001b[0m\u001b[0m\n\u001b[0m\u001b[1;32m    719\u001b[0m             \u001b[0;32mexcept\u001b[0m \u001b[0mtimeout\u001b[0m\u001b[0;34m:\u001b[0m\u001b[0;34m\u001b[0m\u001b[0;34m\u001b[0m\u001b[0m\n\u001b[1;32m    720\u001b[0m                 \u001b[0mself\u001b[0m\u001b[0;34m.\u001b[0m\u001b[0m_timeout_occurred\u001b[0m \u001b[0;34m=\u001b[0m \u001b[0;32mTrue\u001b[0m\u001b[0;34m\u001b[0m\u001b[0;34m\u001b[0m\u001b[0m\n",
            "\u001b[0;31mKeyboardInterrupt\u001b[0m: "
          ]
        }
      ],
      "source": [
        "sample_df.select(\"author_playtime_at_review\").describe().show()"
      ]
    },
    {
      "cell_type": "markdown",
      "source": [
        "Similarly, we calculate summary statistics regarding the total playtime of users and we will categorize them into three categories according to the amount of time they played games in total."
      ],
      "metadata": {
        "id": "RCAhiV7vP-tI"
      }
    },
    {
      "cell_type": "code",
      "execution_count": null,
      "metadata": {
        "id": "NpCot9UwD5AF"
      },
      "outputs": [],
      "source": [
        "sample_df.select(\"author_playtime_forever\").describe().show()"
      ]
    },
    {
      "cell_type": "code",
      "execution_count": null,
      "metadata": {
        "id": "JSQca78VB2JJ"
      },
      "outputs": [],
      "source": [
        "# Create new columns for playtime categories\n",
        "sample_df = sample_df.withColumn(\n",
        "    \"playtime_category\",\n",
        "    when(col(\"author_playtime_at_review\") < 5000, \"Low\")\n",
        "    .when((col(\"author_playtime_at_review\") >= 5000) & (col(\"author_playtime_at_review\") < 20000), \"Medium\")\n",
        "    .otherwise(\"High\")\n",
        ")\n",
        "\n",
        "sample_df = sample_df.withColumn(\n",
        "    \"playtime_forever_category\",\n",
        "    when(col(\"author_playtime_forever\") < 5000, \"Low\")\n",
        "    .when((col(\"author_playtime_forever\") >= 5000) & (col(\"author_playtime_forever\") < 20000), \"Medium\")\n",
        "    .otherwise(\"High\")\n",
        ")"
      ]
    },
    {
      "cell_type": "markdown",
      "source": [
        "Use the aforementioned categories to visualize the number of users in each category, using barplots."
      ],
      "metadata": {
        "id": "KL1H87lhQQor"
      }
    },
    {
      "cell_type": "code",
      "execution_count": null,
      "metadata": {
        "id": "0dsN419rCyhv"
      },
      "outputs": [],
      "source": [
        "# Convert PySpark DataFrame to Pandas\n",
        "pandas_df = sample_df.select(\"playtime_category\").toPandas()\n",
        "\n",
        "# Count occurrences of each category\n",
        "category_counts = pandas_df[\"playtime_category\"].value_counts()\n",
        "\n",
        "# Plot bar chart\n",
        "plt.figure(figsize=(8, 5))\n",
        "category_counts.plot(kind=\"bar\", color=[\"#7C6E7F\", \"#FF9999\", \"#99CCFF\"])\n",
        "plt.title(\"Distribution of Playtime Categories\")\n",
        "plt.xlabel(\"Playtime Category\")\n",
        "plt.ylabel(\"Count\")\n",
        "plt.xticks(rotation=0)\n",
        "plt.grid(axis=\"y\", linestyle=\"--\", alpha=0.7)\n",
        "\n",
        "# Show plot\n",
        "plt.show()"
      ]
    },
    {
      "cell_type": "code",
      "execution_count": null,
      "metadata": {
        "id": "W9rJG8s6FXF1"
      },
      "outputs": [],
      "source": [
        "# Convert PySpark DataFrame to Pandas\n",
        "pandas_df = sample_df.select(\"playtime_forever_category\").toPandas()\n",
        "\n",
        "# Count occurrences of each category\n",
        "category_counts_forever = pandas_df[\"playtime_forever_category\"].value_counts()\n",
        "\n",
        "# Plot bar chart\n",
        "plt.figure(figsize=(8, 5))\n",
        "category_counts_forever.plot(kind=\"bar\", color=[\"#7C6E7F\", \"#FF9999\", \"#99CCFF\"])\n",
        "plt.title(\"Distribution of Total Playtime Categories\")\n",
        "plt.xlabel(\"Total Playtime Category\")\n",
        "plt.ylabel(\"Count\")\n",
        "plt.xticks(rotation=0)\n",
        "plt.grid(axis=\"y\", linestyle=\"--\", alpha=0.7)\n",
        "\n",
        "# Show plot\n",
        "plt.show()"
      ]
    },
    {
      "cell_type": "markdown",
      "source": [
        "Check all the unique games in the reviews."
      ],
      "metadata": {
        "id": "LbWSnV1vRydA"
      }
    },
    {
      "cell_type": "code",
      "execution_count": null,
      "metadata": {
        "id": "l0rBEb-20OjJ"
      },
      "outputs": [],
      "source": [
        "sample_df.select(\"app_name\").distinct().show()"
      ]
    },
    {
      "cell_type": "code",
      "execution_count": null,
      "metadata": {
        "id": "6ftJo2EM0PMU"
      },
      "outputs": [],
      "source": [
        "sample_df.groupBy(\"app_name\").count().sort(col(\"count\").desc()).show()  #sort in desc order to find apps with many reviews"
      ]
    },
    {
      "cell_type": "code",
      "execution_count": null,
      "metadata": {
        "id": "hmQAUfy1gdOK"
      },
      "outputs": [],
      "source": [
        "#The following plot is not very interpretable, due to the large number of app names\n",
        "\n",
        "# Convert Spark DataFrame to Pandas DataFrame\n",
        "pandas_df = sample_df.groupBy(\"app_name\").count().toPandas()\n",
        "\n",
        "plt.figure(figsize=(12, 6))\n",
        "plt.bar(pandas_df['app_name'].astype(str), pandas_df['count'])\n",
        "plt.xticks(rotation=90)\n",
        "plt.xlabel(\"App Name\")\n",
        "plt.ylabel(\"Count\")\n",
        "plt.title(\"App Name Counts Distribution\")\n",
        "plt.tight_layout()\n",
        "plt.show()\n"
      ]
    },
    {
      "cell_type": "markdown",
      "source": [
        "See how many users have purchased the app through Steam."
      ],
      "metadata": {
        "id": "Wik0AbDySK5c"
      }
    },
    {
      "cell_type": "code",
      "execution_count": null,
      "metadata": {
        "id": "D0iHT-Zl0PdG"
      },
      "outputs": [],
      "source": [
        "sample_df.groupBy(\"steam_purchase\").count().show()"
      ]
    },
    {
      "cell_type": "code",
      "execution_count": null,
      "metadata": {
        "id": "AX4sXXR-lEa8"
      },
      "outputs": [],
      "source": [
        "# Convert Spark DataFrame to Pandas DataFrame\n",
        "pandas_df = sample_df.groupBy(\"steam_purchase\").count().toPandas()\n",
        "\n",
        "plt.figure(figsize=(12, 6))\n",
        "plt.bar(pandas_df['steam_purchase'].astype(str), pandas_df['count'])\n",
        "plt.xticks(rotation=90)\n",
        "plt.xlabel(\"steam_purchase\")\n",
        "plt.ylabel(\"Count\")\n",
        "plt.title(\"steam_purchase Counts Distribution\")\n",
        "plt.tight_layout()\n",
        "plt.show()\n"
      ]
    },
    {
      "cell_type": "code",
      "execution_count": null,
      "metadata": {
        "id": "ku_ODOS5gb9F"
      },
      "outputs": [],
      "source": [
        "# Convert Spark DataFrame to Pandas DataFrame\n",
        "pandas_df = sample_df.groupBy(\"recommended\").count().toPandas()\n",
        "\n",
        "plt.figure(figsize=(12, 6))\n",
        "plt.bar(pandas_df['recommended'].astype(str), pandas_df['count'])\n",
        "plt.xticks(rotation=90)\n",
        "plt.xlabel(\"recommended\")\n",
        "plt.ylabel(\"Count\")\n",
        "plt.title(\"recommended Counts Distribution\")\n",
        "plt.tight_layout()\n",
        "plt.show()\n",
        "\n",
        "\n",
        "#we observe here that most reviews are positive - meaning they would recommend the app to other users"
      ]
    },
    {
      "cell_type": "markdown",
      "source": [
        "Check how many users have received the app for free."
      ],
      "metadata": {
        "id": "vmmR-J-sShap"
      }
    },
    {
      "cell_type": "code",
      "execution_count": null,
      "metadata": {
        "id": "rHPsBhs20Pjy"
      },
      "outputs": [],
      "source": [
        "sample_df.groupBy(\"received_for_free\").count().show()"
      ]
    },
    {
      "cell_type": "code",
      "execution_count": null,
      "metadata": {
        "id": "OX6jkJh8lU6D"
      },
      "outputs": [],
      "source": [
        "# Convert Spark DataFrame to Pandas DataFrame\n",
        "pandas_df = sample_df.groupBy(\"received_for_free\").count().toPandas()\n",
        "\n",
        "plt.figure(figsize=(12, 6))\n",
        "plt.bar(pandas_df['received_for_free'].astype(str), pandas_df['count'])\n",
        "plt.xticks(rotation=90)\n",
        "plt.xlabel(\"received_for_free\")\n",
        "plt.ylabel(\"Count\")\n",
        "plt.title(\"received_for_free Counts Distribution\")\n",
        "plt.tight_layout()\n",
        "plt.show()\n",
        "\n",
        "#most users did not receive the app for free"
      ]
    },
    {
      "cell_type": "markdown",
      "source": [
        "Check how many reiviews are written by users that purchased their app before the official release (early access)."
      ],
      "metadata": {
        "id": "EGW1rIA8Soxe"
      }
    },
    {
      "cell_type": "code",
      "execution_count": null,
      "metadata": {
        "id": "NbdNX67x2YNS"
      },
      "outputs": [],
      "source": [
        "sample_df.groupBy(\"written_during_early_access\").count().show()"
      ]
    },
    {
      "cell_type": "code",
      "execution_count": null,
      "metadata": {
        "id": "qV5E45pWlZ24"
      },
      "outputs": [],
      "source": [
        "# Convert Spark DataFrame to Pandas DataFrame\n",
        "pandas_df = sample_df.groupBy(\"written_during_early_access\").count().toPandas()\n",
        "\n",
        "plt.figure(figsize=(12, 6))\n",
        "plt.bar(pandas_df['written_during_early_access'].astype(str), pandas_df['count'])\n",
        "plt.xticks(rotation=90)\n",
        "plt.xlabel(\"written_during_early_access\")\n",
        "plt.ylabel(\"Count\")\n",
        "plt.title(\"written_during_early_access Counts Distribution\")\n",
        "plt.tight_layout()\n",
        "plt.show()\n"
      ]
    },
    {
      "cell_type": "code",
      "execution_count": null,
      "metadata": {
        "id": "ofw-D9lK2YeN"
      },
      "outputs": [],
      "source": [
        "sample_df.groupBy(\"author_steamid\").count().sort(col(\"count\").desc()).show()   #sort in descending order to see the most frequent reviewers!"
      ]
    },
    {
      "cell_type": "markdown",
      "metadata": {
        "id": "lkjSBB3GyBRl"
      },
      "source": [
        "# Bivariate analysis"
      ]
    },
    {
      "cell_type": "markdown",
      "metadata": {
        "id": "GdS5-Uzy6yoU"
      },
      "source": [
        "We want to check if a user is more likely to recommend an app if they receive it for free"
      ]
    },
    {
      "cell_type": "code",
      "execution_count": null,
      "metadata": {
        "id": "Xg-gCvP72Yih"
      },
      "outputs": [],
      "source": [
        "# Calculate total reviews and recommended true counts\n",
        "pivot_table = df.groupBy('received_for_free').agg(\n",
        "    {'recommended': 'count'}\n",
        ").withColumnRenamed('count(recommended)', 'Total Reviews')\n",
        "\n",
        "recommended_true = df.filter(df['recommended'] == True).groupBy('received_for_free').count().withColumnRenamed('count', 'Recommended (True)')\n",
        "\n",
        "# Join the two DataFrames\n",
        "pivot_table = pivot_table.join(recommended_true, 'received_for_free', 'left_outer')\n",
        "\n",
        "# Calculate proportion\n",
        "pivot_table = pivot_table.withColumn('Proportion Recommended', pivot_table['Recommended (True)'] / pivot_table['Total Reviews'])\n",
        "\n",
        "# Show results\n",
        "pivot_table.show()"
      ]
    },
    {
      "cell_type": "markdown",
      "metadata": {
        "id": "3445DVlg6UPu"
      },
      "source": [
        "As shown in the above table, the proportion of users who recieved the apps for free and would recommend them is roughly equal to the proportion of users who did not receive the apps for free and would recommend them."
      ]
    },
    {
      "cell_type": "markdown",
      "metadata": {
        "id": "GgXnQGSL9Gwm"
      },
      "source": [
        "To see if longer reviews are more positive or negative"
      ]
    },
    {
      "cell_type": "code",
      "execution_count": null,
      "metadata": {
        "id": "ecNCwDMu2Yml"
      },
      "outputs": [],
      "source": [
        "# Calculate total reviews and recommended true counts for 'review_length'\n",
        "pivot_table = sample_df.groupBy('review_length').agg(\n",
        "    {'recommended': 'count'}\n",
        ").withColumnRenamed('count(recommended)', 'Total Reviews')\n",
        "\n",
        "recommended_true = sample_df.filter(df['recommended'] == True).groupBy('review_length').count().withColumnRenamed('count', 'Recommended (True)')\n",
        "\n",
        "# Join and calculate proportion\n",
        "pivot_table = pivot_table.join(recommended_true, 'review_length', 'left_outer')\n",
        "pivot_table = pivot_table.withColumn('Proportion Recommended', pivot_table['Recommended (True)'] / pivot_table['Total Reviews'])\n",
        "\n",
        "# Show results\n",
        "pivot_table.sort(col(\"review_length\").desc()).show()  # to see longer reviews first\n",
        "\n",
        "\n",
        "\n",
        "\n",
        "#NOTE: we can make a scatterplot of these values to check for correlation -- see cell below"
      ]
    },
    {
      "cell_type": "code",
      "execution_count": null,
      "metadata": {
        "id": "-3IGhdk3_op2"
      },
      "outputs": [],
      "source": [
        "# Convert Spark DataFrame to Pandas for visualization\n",
        "pivot_table_pd = pivot_table.select('review_length', 'Proportion Recommended').toPandas()\n",
        "\n",
        "# Scatterplot\n",
        "plt.figure(figsize=(10, 6))\n",
        "plt.scatter(pivot_table_pd['review_length'], pivot_table_pd['Proportion Recommended'], alpha=0.5)\n",
        "plt.title('Review Length vs Proportion Recommended')\n",
        "plt.xlabel('Review Length')\n",
        "plt.ylabel('Proportion Recommended')\n",
        "plt.grid(True)\n",
        "plt.show()"
      ]
    },
    {
      "cell_type": "code",
      "execution_count": null,
      "metadata": {
        "id": "wxTeo4eb2YqO"
      },
      "outputs": [],
      "source": []
    },
    {
      "cell_type": "markdown",
      "metadata": {
        "id": "_iTHzkzr-KYK"
      },
      "source": [
        "Does higher playtime correlate with positive recommendations?"
      ]
    },
    {
      "cell_type": "code",
      "execution_count": null,
      "metadata": {
        "id": "MBjgkHvX2y7o"
      },
      "outputs": [],
      "source": [
        "# Calculate total reviews and recommended true counts for 'author_playtime_at_review'\n",
        "pivot_table = sample_df.groupBy('author_playtime_at_review').agg(\n",
        "    {'recommended': 'count'}\n",
        ").withColumnRenamed('count(recommended)', 'Total Reviews')\n",
        "\n",
        "recommended_true = sample_df.filter(df['recommended'] == True).groupBy('author_playtime_at_review').count().withColumnRenamed('count', 'Recommended (True)')\n",
        "\n",
        "# Join and calculate proportion\n",
        "pivot_table = pivot_table.join(recommended_true, 'author_playtime_at_review', 'left_outer')\n",
        "pivot_table = pivot_table.withColumn('Proportion Recommended', pivot_table['Recommended (True)'] / pivot_table['Total Reviews'])\n",
        "\n",
        "# Show results\n",
        "pivot_table.sort(col(\"author_playtime_at_review\").desc()).show()  # to see people who played for longer first\n"
      ]
    },
    {
      "cell_type": "code",
      "execution_count": null,
      "metadata": {
        "id": "TfK6LvFT_xZk"
      },
      "outputs": [],
      "source": [
        "# Convert Spark DataFrame to Pandas for visualization\n",
        "pivot_table_pd = pivot_table.select('author_playtime_at_review', 'Proportion Recommended').toPandas()\n",
        "\n",
        "# Scatterplot\n",
        "plt.figure(figsize=(10, 6))\n",
        "plt.scatter(pivot_table_pd['author_playtime_at_review'], pivot_table_pd['Proportion Recommended'], alpha=0.5)\n",
        "plt.title('author_playtime_at_review vs Proportion Recommended')\n",
        "plt.xlabel('author_playtime_at_review')\n",
        "plt.ylabel('Proportion Recommended')\n",
        "plt.grid(True)\n",
        "plt.show()"
      ]
    },
    {
      "cell_type": "markdown",
      "metadata": {
        "id": "NJaHAJyP-gzV"
      },
      "source": [
        "Are frequent reviewers more positive or critical?"
      ]
    },
    {
      "cell_type": "code",
      "execution_count": null,
      "metadata": {
        "id": "KuTWzY5k-f9H"
      },
      "outputs": [],
      "source": [
        "# Calculate total reviews and recommended true counts for 'author_num_reviews'\n",
        "pivot_table = sample_df.groupBy('author_num_reviews').agg(\n",
        "    {'recommended': 'count'}\n",
        ").withColumnRenamed('count(recommended)', 'Total Reviews')\n",
        "\n",
        "recommended_true = sample_df.filter(df['recommended'] == True).groupBy('author_num_reviews').count().withColumnRenamed('count', 'Recommended (True)')\n",
        "\n",
        "# Join and calculate proportion\n",
        "pivot_table = pivot_table.join(recommended_true, 'author_num_reviews', 'left_outer')\n",
        "pivot_table = pivot_table.withColumn('Proportion Recommended', pivot_table['Recommended (True)'] / pivot_table['Total Reviews'])\n",
        "\n",
        "# Show results\n",
        "pivot_table.sort(col(\"author_num_reviews\").desc()).show()  # to see people who have made more reviews first\n"
      ]
    },
    {
      "cell_type": "code",
      "execution_count": null,
      "metadata": {
        "id": "MQW1rdoV-gRj"
      },
      "outputs": [],
      "source": [
        "# Convert Spark DataFrame to Pandas for visualization\n",
        "pivot_table_pd = pivot_table.select('author_num_reviews', 'Proportion Recommended').toPandas()\n",
        "\n",
        "# Scatterplot\n",
        "plt.figure(figsize=(10, 6))\n",
        "plt.scatter(pivot_table_pd['author_num_reviews'], pivot_table_pd['Proportion Recommended'], alpha=0.5)\n",
        "plt.title('author_num_reviews vs Proportion Recommended')\n",
        "plt.xlabel('author_num_reviews')\n",
        "plt.ylabel('Proportion Recommended')\n",
        "plt.grid(True)\n",
        "plt.show()"
      ]
    },
    {
      "cell_type": "markdown",
      "source": [
        "Of those that received the app for free, how many reccomend the app?"
      ],
      "metadata": {
        "id": "0buojGpcTUX9"
      }
    },
    {
      "cell_type": "code",
      "source": [
        "df_pivot = sample_df.groupBy(\"received_for_free\") \\\n",
        "    .pivot(\"recommended\") \\\n",
        "    .agg(F.count(\"*\")) \\\n",
        "    .withColumnRenamed(\"true\", \"recommended_true\") \\\n",
        "    .withColumnRenamed(\"false\", \"recommended_false\")\n",
        "\n",
        "df_pivot.show()"
      ],
      "metadata": {
        "colab": {
          "base_uri": "https://localhost:8080/"
        },
        "id": "EqzosNlwRDQg",
        "outputId": "1c1fadeb-1f07-4de4-8c32-c047dad32480"
      },
      "execution_count": 9,
      "outputs": [
        {
          "output_type": "stream",
          "name": "stdout",
          "text": [
            "+-----------------+-----------------+----------------+\n",
            "|received_for_free|recommended_false|recommended_true|\n",
            "+-----------------+-----------------+----------------+\n",
            "|             true|            30930|          248454|\n",
            "|            false|          1020063|         8335990|\n",
            "+-----------------+-----------------+----------------+\n",
            "\n"
          ]
        }
      ]
    },
    {
      "cell_type": "markdown",
      "source": [
        "Of all the apps that are being reviewed, how many were purchased on Steam?"
      ],
      "metadata": {
        "id": "GtM-FhiATh3p"
      }
    },
    {
      "cell_type": "code",
      "source": [
        "df_pivot = sample_df.groupBy(\"app_name\") \\\n",
        "    .pivot(\"steam_purchase\") \\\n",
        "    .agg(F.count(\"*\")) \\\n",
        "    .withColumnRenamed(\"true\", \"steam_purchase_true\") \\\n",
        "    .withColumnRenamed(\"false\", \"steam_purchase_false\")\n",
        "\n",
        "df_pivot.show()"
      ],
      "metadata": {
        "id": "iaoJZbrMTuIl"
      },
      "execution_count": null,
      "outputs": []
    },
    {
      "cell_type": "markdown",
      "source": [
        "For each app, how many users have recommended it?"
      ],
      "metadata": {
        "id": "sOmKR9IpUGCN"
      }
    },
    {
      "cell_type": "code",
      "source": [
        "df_pivot = sample_df.groupBy(\"app_name\") \\\n",
        "    .pivot(\"recommended\") \\\n",
        "    .agg(F.count(\"*\")) \\\n",
        "    .withColumnRenamed(\"true\", \"recommended_true\") \\\n",
        "    .withColumnRenamed(\"false\", \"recommended_false\")\n",
        "\n",
        "df_pivot.show()"
      ],
      "metadata": {
        "id": "U7JQ5Ub1UEfh"
      },
      "execution_count": null,
      "outputs": []
    },
    {
      "cell_type": "markdown",
      "source": [
        "For each app, how many users have got it for free?"
      ],
      "metadata": {
        "id": "SY3T53ADUPdj"
      }
    },
    {
      "cell_type": "code",
      "source": [
        "df_pivot = sample_df.groupBy(\"app_name\") \\\n",
        "    .pivot(\"received_for_free\") \\\n",
        "    .agg(F.count(\"*\")) \\\n",
        "    .withColumnRenamed(\"true\", \"received_for_free_true\") \\\n",
        "    .withColumnRenamed(\"false\", \"received_for_free_false\")\n",
        "\n",
        "df_pivot.show()"
      ],
      "metadata": {
        "id": "Hii8tIUyUc_F"
      },
      "execution_count": null,
      "outputs": []
    },
    {
      "cell_type": "markdown",
      "source": [
        "For each app, how many reviews have been written from users that had early access?"
      ],
      "metadata": {
        "id": "7cqwPci6UjUW"
      }
    },
    {
      "cell_type": "code",
      "source": [
        "df_pivot = sample_df.groupBy(\"app_name\") \\\n",
        "    .pivot(\"written_during_early_access\") \\\n",
        "    .agg(F.count(\"*\")) \\\n",
        "    .withColumnRenamed(\"true\", \"written_during_early_access_true\") \\\n",
        "    .withColumnRenamed(\"false\", \"written_during_early_access_false\")\n",
        "\n",
        "df_pivot.show()"
      ],
      "metadata": {
        "id": "zCv4Ncs1UqIC"
      },
      "execution_count": null,
      "outputs": []
    },
    {
      "cell_type": "markdown",
      "source": [
        "Of all the apps that have been purchased through Steam, how many are recommended?"
      ],
      "metadata": {
        "id": "NUxMFX3SUvfn"
      }
    },
    {
      "cell_type": "code",
      "source": [
        "df_pivot = sample_df.groupBy(\"steam_purchase\") \\\n",
        "    .pivot(\"reccomended\") \\\n",
        "    .agg(F.count(\"*\")) \\\n",
        "    .withColumnRenamed(\"true\", \"reccomended_true\") \\\n",
        "    .withColumnRenamed(\"false\", \"reccomended_false\")\n",
        "\n",
        "df_pivot.show()"
      ],
      "metadata": {
        "id": "t7_zDgAHU03N"
      },
      "execution_count": null,
      "outputs": []
    },
    {
      "cell_type": "markdown",
      "source": [
        "How many apps did each user had early access on?\n"
      ],
      "metadata": {
        "id": "zukge9fDU8qY"
      }
    },
    {
      "cell_type": "code",
      "source": [
        "df_pivot = sample_df.groupBy(\"author_steamid\") \\\n",
        "    .pivot(\"written_during_early_access\") \\\n",
        "    .agg(F.count(\"*\")) \\\n",
        "    .withColumnRenamed(\"true\", \"written_during_early_access_true\") \\\n",
        "    .withColumnRenamed(\"false\", \"written_during_early_access_false\")\n",
        "\n",
        "df_pivot.show()"
      ],
      "metadata": {
        "id": "vti2VZoBVJIz"
      },
      "execution_count": null,
      "outputs": []
    },
    {
      "cell_type": "markdown",
      "source": [
        "For each For each category of the playtime (up to the day of the review), how many users have reccomended the apps of the review?"
      ],
      "metadata": {
        "id": "P3xvRQ9PVn--"
      }
    },
    {
      "cell_type": "code",
      "source": [
        "df_pivot = sample_df.groupBy(\"playtime_category\") \\\n",
        "    .pivot(\"recommended\") \\\n",
        "    .agg(F.count(\"*\")) \\\n",
        "    .withColumnRenamed(\"true\", \"recommended_true\") \\\n",
        "    .withColumnRenamed(\"false\", \"recommended_false\")\n",
        "\n",
        "df_pivot.show()"
      ],
      "metadata": {
        "id": "Sfwt9RAMVrEg"
      },
      "execution_count": null,
      "outputs": []
    },
    {
      "cell_type": "markdown",
      "source": [
        "For each category of the total playtime, how many users have reccomended the apps of the review?"
      ],
      "metadata": {
        "id": "uvdoQ8ZAVPl-"
      }
    },
    {
      "cell_type": "code",
      "source": [
        "df_pivot = sample_df.groupBy(\"playtime_forever_category\") \\\n",
        "    .pivot(\"recommended\") \\\n",
        "    .agg(F.count(\"*\")) \\\n",
        "    .withColumnRenamed(\"true\", \"recommended_true\") \\\n",
        "    .withColumnRenamed(\"false\", \"recommended_false\")\n",
        "\n",
        "df_pivot.show()"
      ],
      "metadata": {
        "id": "zqRxJApRVYTB"
      },
      "execution_count": null,
      "outputs": []
    },
    {
      "cell_type": "markdown",
      "source": [
        "Of the apps that have been purchased during early access, how many are recommended?"
      ],
      "metadata": {
        "id": "kk5KST5TV1yU"
      }
    },
    {
      "cell_type": "code",
      "source": [
        "df_pivot = sample_df.groupBy(\"written_during_early_access\") \\\n",
        "    .pivot(\"recommended\") \\\n",
        "    .agg(F.count(\"*\")) \\\n",
        "    .withColumnRenamed(\"true\", \"recommended_true\") \\\n",
        "    .withColumnRenamed(\"false\", \"recommended_false\")\n",
        "\n",
        "df_pivot.show()"
      ],
      "metadata": {
        "id": "iacHpB-gV-wK"
      },
      "execution_count": null,
      "outputs": []
    },
    {
      "cell_type": "markdown",
      "source": [
        "For each category of number of games owned, how many apps are recommended?"
      ],
      "metadata": {
        "id": "zJFPNwSSWB0A"
      }
    },
    {
      "cell_type": "code",
      "execution_count": null,
      "metadata": {
        "id": "MLjKA6X8KFOk"
      },
      "outputs": [],
      "source": [
        "df_pivot = sample_df.groupBy(\"author_num_games_owned\") \\\n",
        "    .pivot(\"recommended\") \\\n",
        "    .agg(F.count(\"*\")) \\\n",
        "    .withColumnRenamed(\"true\", \"recommended_true\") \\\n",
        "    .withColumnRenamed(\"false\", \"recommended_false\")\n",
        "\n",
        "df_pivot.show()"
      ]
    },
    {
      "cell_type": "code",
      "execution_count": null,
      "metadata": {
        "id": "JqZclkrEKFTZ"
      },
      "outputs": [],
      "source": []
    },
    {
      "cell_type": "code",
      "execution_count": null,
      "metadata": {
        "id": "4ZwVUccz1ovs"
      },
      "outputs": [],
      "source": []
    }
  ],
  "metadata": {
    "colab": {
      "provenance": []
    },
    "kernelspec": {
      "display_name": "Python 3",
      "name": "python3"
    },
    "language_info": {
      "name": "python"
    }
  },
  "nbformat": 4,
  "nbformat_minor": 0
}