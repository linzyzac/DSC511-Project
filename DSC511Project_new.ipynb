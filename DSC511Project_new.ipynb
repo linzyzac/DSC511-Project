{
 "cells": [
  {
   "cell_type": "markdown",
   "metadata": {
    "id": "IdjStboIRmXq"
   },
   "source": [
    "# Importing necessary libraries"
   ]
  },
  {
   "cell_type": "code",
   "execution_count": 2,
   "metadata": {
    "id": "dPJprpLQRhk4"
   },
   "outputs": [],
   "source": [
    "import kagglehub\n",
    "from pyspark.sql import SparkSession\n",
    "from pyspark.sql.functions import udf\n",
    "from pyspark.sql.types import StringType\n",
    "from pyspark.sql.functions import col, create_map, lit\n",
    "from pyspark.sql.functions import length, trim\n",
    "from itertools import chain\n",
    "from pyspark import SparkContext\n",
    "from pyspark.sql.functions import length\n",
    "from pyspark.sql.functions import when, col\n",
    "import matplotlib.pyplot as plt\n",
    "from pyspark.sql import functions as F\n",
    "from pyspark.ml.recommendation import ALS\n",
    "from pyspark.ml.evaluation import RegressionEvaluator\n",
    "from pyspark.ml.feature import VectorAssembler, StringIndexer\n",
    "from pyspark.ml.classification import RandomForestClassifier\n",
    "from pyspark.ml import Pipeline"
   ]
  },
  {
   "cell_type": "markdown",
   "metadata": {
    "id": "7GcHYVq3NEMf"
   },
   "source": [
    "# Importing dataset"
   ]
  },
  {
   "cell_type": "code",
   "execution_count": 4,
   "metadata": {
    "colab": {
     "base_uri": "https://localhost:8080/"
    },
    "id": "91q5S9OTMq1_",
    "outputId": "5a55d89e-cac4-47c1-8ae0-fe17632d0f2a"
   },
   "outputs": [
    {
     "name": "stdout",
     "output_type": "stream",
     "text": [
      "Resuming download from 126877696 bytes (3066529214 bytes left)...\n",
      "Resuming download from https://www.kaggle.com/api/v1/datasets/download/najzeko/steam-reviews-2021?dataset_version_number=1 (126877696/3193406910) bytes left.\n"
     ]
    },
    {
     "name": "stderr",
     "output_type": "stream",
     "text": [
      " 15%|███████████▊                                                                  | 463M/2.97G [01:40<12:37, 3.58MB/s]\n"
     ]
    },
    {
     "ename": "KeyboardInterrupt",
     "evalue": "",
     "output_type": "error",
     "traceback": [
      "\u001b[1;31m---------------------------------------------------------------------------\u001b[0m",
      "\u001b[1;31mKeyboardInterrupt\u001b[0m                         Traceback (most recent call last)",
      "Cell \u001b[1;32mIn[4], line 2\u001b[0m\n\u001b[0;32m      1\u001b[0m \u001b[38;5;66;03m# Download latest version\u001b[39;00m\n\u001b[1;32m----> 2\u001b[0m path \u001b[38;5;241m=\u001b[39m kagglehub\u001b[38;5;241m.\u001b[39mdataset_download(\u001b[38;5;124m\"\u001b[39m\u001b[38;5;124mnajzeko/steam-reviews-2021\u001b[39m\u001b[38;5;124m\"\u001b[39m)\n\u001b[0;32m      4\u001b[0m \u001b[38;5;28mprint\u001b[39m(\u001b[38;5;124m\"\u001b[39m\u001b[38;5;124mPath to dataset files:\u001b[39m\u001b[38;5;124m\"\u001b[39m, path)\n",
      "File \u001b[1;32m~\\anaconda3\\Lib\\site-packages\\kagglehub\\datasets.py:35\u001b[0m, in \u001b[0;36mdataset_download\u001b[1;34m(handle, path, force_download)\u001b[0m\n\u001b[0;32m     33\u001b[0m h \u001b[38;5;241m=\u001b[39m parse_dataset_handle(handle)\n\u001b[0;32m     34\u001b[0m logger\u001b[38;5;241m.\u001b[39minfo(\u001b[38;5;124mf\u001b[39m\u001b[38;5;124m\"\u001b[39m\u001b[38;5;124mDownloading Dataset: \u001b[39m\u001b[38;5;132;01m{\u001b[39;00mh\u001b[38;5;241m.\u001b[39mto_url()\u001b[38;5;132;01m}\u001b[39;00m\u001b[38;5;124m ...\u001b[39m\u001b[38;5;124m\"\u001b[39m, extra\u001b[38;5;241m=\u001b[39m{\u001b[38;5;241m*\u001b[39m\u001b[38;5;241m*\u001b[39mEXTRA_CONSOLE_BLOCK})\n\u001b[1;32m---> 35\u001b[0m path, _ \u001b[38;5;241m=\u001b[39m registry\u001b[38;5;241m.\u001b[39mdataset_resolver(h, path, force_download\u001b[38;5;241m=\u001b[39mforce_download)\n\u001b[0;32m     36\u001b[0m \u001b[38;5;28;01mreturn\u001b[39;00m path\n",
      "File \u001b[1;32m~\\anaconda3\\Lib\\site-packages\\kagglehub\\registry.py:28\u001b[0m, in \u001b[0;36mMultiImplRegistry.__call__\u001b[1;34m(self, *args, **kwargs)\u001b[0m\n\u001b[0;32m     26\u001b[0m \u001b[38;5;28;01mfor\u001b[39;00m impl \u001b[38;5;129;01min\u001b[39;00m \u001b[38;5;28mreversed\u001b[39m(\u001b[38;5;28mself\u001b[39m\u001b[38;5;241m.\u001b[39m_impls):\n\u001b[0;32m     27\u001b[0m     \u001b[38;5;28;01mif\u001b[39;00m impl\u001b[38;5;241m.\u001b[39mis_supported(\u001b[38;5;241m*\u001b[39margs, \u001b[38;5;241m*\u001b[39m\u001b[38;5;241m*\u001b[39mkwargs):\n\u001b[1;32m---> 28\u001b[0m         \u001b[38;5;28;01mreturn\u001b[39;00m impl(\u001b[38;5;241m*\u001b[39margs, \u001b[38;5;241m*\u001b[39m\u001b[38;5;241m*\u001b[39mkwargs)\n\u001b[0;32m     29\u001b[0m     \u001b[38;5;28;01melse\u001b[39;00m:\n\u001b[0;32m     30\u001b[0m         fails\u001b[38;5;241m.\u001b[39mappend(\u001b[38;5;28mtype\u001b[39m(impl)\u001b[38;5;241m.\u001b[39m\u001b[38;5;18m__name__\u001b[39m)\n",
      "File \u001b[1;32m~\\anaconda3\\Lib\\site-packages\\kagglehub\\resolver.py:29\u001b[0m, in \u001b[0;36mResolver.__call__\u001b[1;34m(self, handle, path, force_download)\u001b[0m\n\u001b[0;32m     15\u001b[0m \u001b[38;5;28;01mdef\u001b[39;00m \u001b[38;5;21m__call__\u001b[39m(\n\u001b[0;32m     16\u001b[0m     \u001b[38;5;28mself\u001b[39m, handle: T, path: Optional[\u001b[38;5;28mstr\u001b[39m] \u001b[38;5;241m=\u001b[39m \u001b[38;5;28;01mNone\u001b[39;00m, \u001b[38;5;241m*\u001b[39m, force_download: Optional[\u001b[38;5;28mbool\u001b[39m] \u001b[38;5;241m=\u001b[39m \u001b[38;5;28;01mFalse\u001b[39;00m\n\u001b[0;32m     17\u001b[0m ) \u001b[38;5;241m-\u001b[39m\u001b[38;5;241m>\u001b[39m \u001b[38;5;28mtuple\u001b[39m[\u001b[38;5;28mstr\u001b[39m, Optional[\u001b[38;5;28mint\u001b[39m]]:\n\u001b[0;32m     18\u001b[0m \u001b[38;5;250m    \u001b[39m\u001b[38;5;124;03m\"\"\"Resolves a handle into a path with the requested file(s) and the resource's version number.\u001b[39;00m\n\u001b[0;32m     19\u001b[0m \n\u001b[0;32m     20\u001b[0m \u001b[38;5;124;03m    Args:\u001b[39;00m\n\u001b[1;32m   (...)\u001b[0m\n\u001b[0;32m     27\u001b[0m \u001b[38;5;124;03m        Some cases where version number might be missing: Competition datasource, API-based models.\u001b[39;00m\n\u001b[0;32m     28\u001b[0m \u001b[38;5;124;03m    \"\"\"\u001b[39;00m\n\u001b[1;32m---> 29\u001b[0m     path, version \u001b[38;5;241m=\u001b[39m \u001b[38;5;28mself\u001b[39m\u001b[38;5;241m.\u001b[39m_resolve(handle, path, force_download\u001b[38;5;241m=\u001b[39mforce_download)\n\u001b[0;32m     31\u001b[0m     \u001b[38;5;66;03m# Note handles are immutable, so _resolve() could not have altered our reference\u001b[39;00m\n\u001b[0;32m     32\u001b[0m     register_datasource_access(handle, version)\n",
      "File \u001b[1;32m~\\anaconda3\\Lib\\site-packages\\kagglehub\\http_resolver.py:130\u001b[0m, in \u001b[0;36mDatasetHttpResolver._resolve\u001b[1;34m(self, h, path, force_download)\u001b[0m\n\u001b[0;32m    127\u001b[0m os\u001b[38;5;241m.\u001b[39mmakedirs(os\u001b[38;5;241m.\u001b[39mpath\u001b[38;5;241m.\u001b[39mdirname(archive_path), exist_ok\u001b[38;5;241m=\u001b[39m\u001b[38;5;28;01mTrue\u001b[39;00m)\n\u001b[0;32m    129\u001b[0m \u001b[38;5;66;03m# First, we download the archive.\u001b[39;00m\n\u001b[1;32m--> 130\u001b[0m api_client\u001b[38;5;241m.\u001b[39mdownload_file(url_path, archive_path, h)\n\u001b[0;32m    132\u001b[0m _extract_archive(archive_path, out_path)\n\u001b[0;32m    134\u001b[0m \u001b[38;5;66;03m# Delete the archive\u001b[39;00m\n",
      "File \u001b[1;32m~\\anaconda3\\Lib\\site-packages\\kagglehub\\clients.py:214\u001b[0m, in \u001b[0;36mKaggleApiV1Client.download_file\u001b[1;34m(self, path, out_file, resource_handle, cached_path, extract_auto_compressed_file)\u001b[0m\n\u001b[0;32m    206\u001b[0m     \u001b[38;5;28;01mwith\u001b[39;00m requests\u001b[38;5;241m.\u001b[39mget(\n\u001b[0;32m    207\u001b[0m         response\u001b[38;5;241m.\u001b[39murl,  \u001b[38;5;66;03m# URL after redirection\u001b[39;00m\n\u001b[0;32m    208\u001b[0m         stream\u001b[38;5;241m=\u001b[39m\u001b[38;5;28;01mTrue\u001b[39;00m,\n\u001b[1;32m   (...)\u001b[0m\n\u001b[0;32m    211\u001b[0m         headers\u001b[38;5;241m=\u001b[39m{\u001b[38;5;124m\"\u001b[39m\u001b[38;5;124mRange\u001b[39m\u001b[38;5;124m\"\u001b[39m: \u001b[38;5;124mf\u001b[39m\u001b[38;5;124m\"\u001b[39m\u001b[38;5;124mbytes=\u001b[39m\u001b[38;5;132;01m{\u001b[39;00msize_read\u001b[38;5;132;01m}\u001b[39;00m\u001b[38;5;124m-\u001b[39m\u001b[38;5;124m\"\u001b[39m},\n\u001b[0;32m    212\u001b[0m     ) \u001b[38;5;28;01mas\u001b[39;00m resumed_response:\n\u001b[0;32m    213\u001b[0m         logger\u001b[38;5;241m.\u001b[39minfo(\u001b[38;5;124mf\u001b[39m\u001b[38;5;124m\"\u001b[39m\u001b[38;5;124mResuming download from \u001b[39m\u001b[38;5;132;01m{\u001b[39;00murl\u001b[38;5;132;01m}\u001b[39;00m\u001b[38;5;124m (\u001b[39m\u001b[38;5;132;01m{\u001b[39;00msize_read\u001b[38;5;132;01m}\u001b[39;00m\u001b[38;5;124m/\u001b[39m\u001b[38;5;132;01m{\u001b[39;00mtotal_size\u001b[38;5;132;01m}\u001b[39;00m\u001b[38;5;124m) bytes left.\u001b[39m\u001b[38;5;124m\"\u001b[39m)\n\u001b[1;32m--> 214\u001b[0m         _download_file(resumed_response, out_file, size_read, total_size, hash_object)\n\u001b[0;32m    215\u001b[0m \u001b[38;5;28;01melse\u001b[39;00m:\n\u001b[0;32m    216\u001b[0m     logger\u001b[38;5;241m.\u001b[39minfo(\u001b[38;5;124mf\u001b[39m\u001b[38;5;124m\"\u001b[39m\u001b[38;5;124mDownloading from \u001b[39m\u001b[38;5;132;01m{\u001b[39;00murl\u001b[38;5;132;01m}\u001b[39;00m\u001b[38;5;124m...\u001b[39m\u001b[38;5;124m\"\u001b[39m)\n",
      "File \u001b[1;32m~\\anaconda3\\Lib\\site-packages\\kagglehub\\clients.py:276\u001b[0m, in \u001b[0;36m_download_file\u001b[1;34m(response, out_file, size_read, total_size, hash_object)\u001b[0m\n\u001b[0;32m    274\u001b[0m \u001b[38;5;28;01mwith\u001b[39;00m tqdm(total\u001b[38;5;241m=\u001b[39mtotal_size, initial\u001b[38;5;241m=\u001b[39msize_read, unit\u001b[38;5;241m=\u001b[39m\u001b[38;5;124m\"\u001b[39m\u001b[38;5;124mB\u001b[39m\u001b[38;5;124m\"\u001b[39m, unit_scale\u001b[38;5;241m=\u001b[39m\u001b[38;5;28;01mTrue\u001b[39;00m, unit_divisor\u001b[38;5;241m=\u001b[39m\u001b[38;5;241m1024\u001b[39m) \u001b[38;5;28;01mas\u001b[39;00m progress_bar:\n\u001b[0;32m    275\u001b[0m     \u001b[38;5;28;01mwith\u001b[39;00m \u001b[38;5;28mopen\u001b[39m(out_file, open_mode) \u001b[38;5;28;01mas\u001b[39;00m f:\n\u001b[1;32m--> 276\u001b[0m         \u001b[38;5;28;01mfor\u001b[39;00m chunk \u001b[38;5;129;01min\u001b[39;00m response\u001b[38;5;241m.\u001b[39miter_content(CHUNK_SIZE):\n\u001b[0;32m    277\u001b[0m             f\u001b[38;5;241m.\u001b[39mwrite(chunk)\n\u001b[0;32m    278\u001b[0m             \u001b[38;5;28;01mif\u001b[39;00m hash_object:\n",
      "File \u001b[1;32m~\\anaconda3\\Lib\\site-packages\\requests\\models.py:820\u001b[0m, in \u001b[0;36mResponse.iter_content.<locals>.generate\u001b[1;34m()\u001b[0m\n\u001b[0;32m    818\u001b[0m \u001b[38;5;28;01mif\u001b[39;00m \u001b[38;5;28mhasattr\u001b[39m(\u001b[38;5;28mself\u001b[39m\u001b[38;5;241m.\u001b[39mraw, \u001b[38;5;124m\"\u001b[39m\u001b[38;5;124mstream\u001b[39m\u001b[38;5;124m\"\u001b[39m):\n\u001b[0;32m    819\u001b[0m     \u001b[38;5;28;01mtry\u001b[39;00m:\n\u001b[1;32m--> 820\u001b[0m         \u001b[38;5;28;01myield from\u001b[39;00m \u001b[38;5;28mself\u001b[39m\u001b[38;5;241m.\u001b[39mraw\u001b[38;5;241m.\u001b[39mstream(chunk_size, decode_content\u001b[38;5;241m=\u001b[39m\u001b[38;5;28;01mTrue\u001b[39;00m)\n\u001b[0;32m    821\u001b[0m     \u001b[38;5;28;01mexcept\u001b[39;00m ProtocolError \u001b[38;5;28;01mas\u001b[39;00m e:\n\u001b[0;32m    822\u001b[0m         \u001b[38;5;28;01mraise\u001b[39;00m ChunkedEncodingError(e)\n",
      "File \u001b[1;32m~\\anaconda3\\Lib\\site-packages\\urllib3\\response.py:1060\u001b[0m, in \u001b[0;36mHTTPResponse.stream\u001b[1;34m(self, amt, decode_content)\u001b[0m\n\u001b[0;32m   1058\u001b[0m \u001b[38;5;28;01melse\u001b[39;00m:\n\u001b[0;32m   1059\u001b[0m     \u001b[38;5;28;01mwhile\u001b[39;00m \u001b[38;5;129;01mnot\u001b[39;00m is_fp_closed(\u001b[38;5;28mself\u001b[39m\u001b[38;5;241m.\u001b[39m_fp) \u001b[38;5;129;01mor\u001b[39;00m \u001b[38;5;28mlen\u001b[39m(\u001b[38;5;28mself\u001b[39m\u001b[38;5;241m.\u001b[39m_decoded_buffer) \u001b[38;5;241m>\u001b[39m \u001b[38;5;241m0\u001b[39m:\n\u001b[1;32m-> 1060\u001b[0m         data \u001b[38;5;241m=\u001b[39m \u001b[38;5;28mself\u001b[39m\u001b[38;5;241m.\u001b[39mread(amt\u001b[38;5;241m=\u001b[39mamt, decode_content\u001b[38;5;241m=\u001b[39mdecode_content)\n\u001b[0;32m   1062\u001b[0m         \u001b[38;5;28;01mif\u001b[39;00m data:\n\u001b[0;32m   1063\u001b[0m             \u001b[38;5;28;01myield\u001b[39;00m data\n",
      "File \u001b[1;32m~\\anaconda3\\Lib\\site-packages\\urllib3\\response.py:949\u001b[0m, in \u001b[0;36mHTTPResponse.read\u001b[1;34m(self, amt, decode_content, cache_content)\u001b[0m\n\u001b[0;32m    946\u001b[0m     \u001b[38;5;28;01mif\u001b[39;00m \u001b[38;5;28mlen\u001b[39m(\u001b[38;5;28mself\u001b[39m\u001b[38;5;241m.\u001b[39m_decoded_buffer) \u001b[38;5;241m>\u001b[39m\u001b[38;5;241m=\u001b[39m amt:\n\u001b[0;32m    947\u001b[0m         \u001b[38;5;28;01mreturn\u001b[39;00m \u001b[38;5;28mself\u001b[39m\u001b[38;5;241m.\u001b[39m_decoded_buffer\u001b[38;5;241m.\u001b[39mget(amt)\n\u001b[1;32m--> 949\u001b[0m data \u001b[38;5;241m=\u001b[39m \u001b[38;5;28mself\u001b[39m\u001b[38;5;241m.\u001b[39m_raw_read(amt)\n\u001b[0;32m    951\u001b[0m flush_decoder \u001b[38;5;241m=\u001b[39m amt \u001b[38;5;129;01mis\u001b[39;00m \u001b[38;5;28;01mNone\u001b[39;00m \u001b[38;5;129;01mor\u001b[39;00m (amt \u001b[38;5;241m!=\u001b[39m \u001b[38;5;241m0\u001b[39m \u001b[38;5;129;01mand\u001b[39;00m \u001b[38;5;129;01mnot\u001b[39;00m data)\n\u001b[0;32m    953\u001b[0m \u001b[38;5;28;01mif\u001b[39;00m \u001b[38;5;129;01mnot\u001b[39;00m data \u001b[38;5;129;01mand\u001b[39;00m \u001b[38;5;28mlen\u001b[39m(\u001b[38;5;28mself\u001b[39m\u001b[38;5;241m.\u001b[39m_decoded_buffer) \u001b[38;5;241m==\u001b[39m \u001b[38;5;241m0\u001b[39m:\n",
      "File \u001b[1;32m~\\anaconda3\\Lib\\site-packages\\urllib3\\response.py:873\u001b[0m, in \u001b[0;36mHTTPResponse._raw_read\u001b[1;34m(self, amt, read1)\u001b[0m\n\u001b[0;32m    870\u001b[0m fp_closed \u001b[38;5;241m=\u001b[39m \u001b[38;5;28mgetattr\u001b[39m(\u001b[38;5;28mself\u001b[39m\u001b[38;5;241m.\u001b[39m_fp, \u001b[38;5;124m\"\u001b[39m\u001b[38;5;124mclosed\u001b[39m\u001b[38;5;124m\"\u001b[39m, \u001b[38;5;28;01mFalse\u001b[39;00m)\n\u001b[0;32m    872\u001b[0m \u001b[38;5;28;01mwith\u001b[39;00m \u001b[38;5;28mself\u001b[39m\u001b[38;5;241m.\u001b[39m_error_catcher():\n\u001b[1;32m--> 873\u001b[0m     data \u001b[38;5;241m=\u001b[39m \u001b[38;5;28mself\u001b[39m\u001b[38;5;241m.\u001b[39m_fp_read(amt, read1\u001b[38;5;241m=\u001b[39mread1) \u001b[38;5;28;01mif\u001b[39;00m \u001b[38;5;129;01mnot\u001b[39;00m fp_closed \u001b[38;5;28;01melse\u001b[39;00m \u001b[38;5;124mb\u001b[39m\u001b[38;5;124m\"\u001b[39m\u001b[38;5;124m\"\u001b[39m\n\u001b[0;32m    874\u001b[0m     \u001b[38;5;28;01mif\u001b[39;00m amt \u001b[38;5;129;01mis\u001b[39;00m \u001b[38;5;129;01mnot\u001b[39;00m \u001b[38;5;28;01mNone\u001b[39;00m \u001b[38;5;129;01mand\u001b[39;00m amt \u001b[38;5;241m!=\u001b[39m \u001b[38;5;241m0\u001b[39m \u001b[38;5;129;01mand\u001b[39;00m \u001b[38;5;129;01mnot\u001b[39;00m data:\n\u001b[0;32m    875\u001b[0m         \u001b[38;5;66;03m# Platform-specific: Buggy versions of Python.\u001b[39;00m\n\u001b[0;32m    876\u001b[0m         \u001b[38;5;66;03m# Close the connection when no data is returned\u001b[39;00m\n\u001b[1;32m   (...)\u001b[0m\n\u001b[0;32m    881\u001b[0m         \u001b[38;5;66;03m# not properly close the connection in all cases. There is\u001b[39;00m\n\u001b[0;32m    882\u001b[0m         \u001b[38;5;66;03m# no harm in redundantly calling close.\u001b[39;00m\n\u001b[0;32m    883\u001b[0m         \u001b[38;5;28mself\u001b[39m\u001b[38;5;241m.\u001b[39m_fp\u001b[38;5;241m.\u001b[39mclose()\n",
      "File \u001b[1;32m~\\anaconda3\\Lib\\site-packages\\urllib3\\response.py:856\u001b[0m, in \u001b[0;36mHTTPResponse._fp_read\u001b[1;34m(self, amt, read1)\u001b[0m\n\u001b[0;32m    853\u001b[0m     \u001b[38;5;28;01mreturn\u001b[39;00m \u001b[38;5;28mself\u001b[39m\u001b[38;5;241m.\u001b[39m_fp\u001b[38;5;241m.\u001b[39mread1(amt) \u001b[38;5;28;01mif\u001b[39;00m amt \u001b[38;5;129;01mis\u001b[39;00m \u001b[38;5;129;01mnot\u001b[39;00m \u001b[38;5;28;01mNone\u001b[39;00m \u001b[38;5;28;01melse\u001b[39;00m \u001b[38;5;28mself\u001b[39m\u001b[38;5;241m.\u001b[39m_fp\u001b[38;5;241m.\u001b[39mread1()\n\u001b[0;32m    854\u001b[0m \u001b[38;5;28;01melse\u001b[39;00m:\n\u001b[0;32m    855\u001b[0m     \u001b[38;5;66;03m# StringIO doesn't like amt=None\u001b[39;00m\n\u001b[1;32m--> 856\u001b[0m     \u001b[38;5;28;01mreturn\u001b[39;00m \u001b[38;5;28mself\u001b[39m\u001b[38;5;241m.\u001b[39m_fp\u001b[38;5;241m.\u001b[39mread(amt) \u001b[38;5;28;01mif\u001b[39;00m amt \u001b[38;5;129;01mis\u001b[39;00m \u001b[38;5;129;01mnot\u001b[39;00m \u001b[38;5;28;01mNone\u001b[39;00m \u001b[38;5;28;01melse\u001b[39;00m \u001b[38;5;28mself\u001b[39m\u001b[38;5;241m.\u001b[39m_fp\u001b[38;5;241m.\u001b[39mread()\n",
      "File \u001b[1;32m~\\anaconda3\\Lib\\http\\client.py:479\u001b[0m, in \u001b[0;36mHTTPResponse.read\u001b[1;34m(self, amt)\u001b[0m\n\u001b[0;32m    476\u001b[0m \u001b[38;5;28;01mif\u001b[39;00m \u001b[38;5;28mself\u001b[39m\u001b[38;5;241m.\u001b[39mlength \u001b[38;5;129;01mis\u001b[39;00m \u001b[38;5;129;01mnot\u001b[39;00m \u001b[38;5;28;01mNone\u001b[39;00m \u001b[38;5;129;01mand\u001b[39;00m amt \u001b[38;5;241m>\u001b[39m \u001b[38;5;28mself\u001b[39m\u001b[38;5;241m.\u001b[39mlength:\n\u001b[0;32m    477\u001b[0m     \u001b[38;5;66;03m# clip the read to the \"end of response\"\u001b[39;00m\n\u001b[0;32m    478\u001b[0m     amt \u001b[38;5;241m=\u001b[39m \u001b[38;5;28mself\u001b[39m\u001b[38;5;241m.\u001b[39mlength\n\u001b[1;32m--> 479\u001b[0m s \u001b[38;5;241m=\u001b[39m \u001b[38;5;28mself\u001b[39m\u001b[38;5;241m.\u001b[39mfp\u001b[38;5;241m.\u001b[39mread(amt)\n\u001b[0;32m    480\u001b[0m \u001b[38;5;28;01mif\u001b[39;00m \u001b[38;5;129;01mnot\u001b[39;00m s \u001b[38;5;129;01mand\u001b[39;00m amt:\n\u001b[0;32m    481\u001b[0m     \u001b[38;5;66;03m# Ideally, we would raise IncompleteRead if the content-length\u001b[39;00m\n\u001b[0;32m    482\u001b[0m     \u001b[38;5;66;03m# wasn't satisfied, but it might break compatibility.\u001b[39;00m\n\u001b[0;32m    483\u001b[0m     \u001b[38;5;28mself\u001b[39m\u001b[38;5;241m.\u001b[39m_close_conn()\n",
      "File \u001b[1;32m~\\anaconda3\\Lib\\socket.py:707\u001b[0m, in \u001b[0;36mSocketIO.readinto\u001b[1;34m(self, b)\u001b[0m\n\u001b[0;32m    705\u001b[0m \u001b[38;5;28;01mwhile\u001b[39;00m \u001b[38;5;28;01mTrue\u001b[39;00m:\n\u001b[0;32m    706\u001b[0m     \u001b[38;5;28;01mtry\u001b[39;00m:\n\u001b[1;32m--> 707\u001b[0m         \u001b[38;5;28;01mreturn\u001b[39;00m \u001b[38;5;28mself\u001b[39m\u001b[38;5;241m.\u001b[39m_sock\u001b[38;5;241m.\u001b[39mrecv_into(b)\n\u001b[0;32m    708\u001b[0m     \u001b[38;5;28;01mexcept\u001b[39;00m timeout:\n\u001b[0;32m    709\u001b[0m         \u001b[38;5;28mself\u001b[39m\u001b[38;5;241m.\u001b[39m_timeout_occurred \u001b[38;5;241m=\u001b[39m \u001b[38;5;28;01mTrue\u001b[39;00m\n",
      "File \u001b[1;32m~\\anaconda3\\Lib\\ssl.py:1252\u001b[0m, in \u001b[0;36mSSLSocket.recv_into\u001b[1;34m(self, buffer, nbytes, flags)\u001b[0m\n\u001b[0;32m   1248\u001b[0m     \u001b[38;5;28;01mif\u001b[39;00m flags \u001b[38;5;241m!=\u001b[39m \u001b[38;5;241m0\u001b[39m:\n\u001b[0;32m   1249\u001b[0m         \u001b[38;5;28;01mraise\u001b[39;00m \u001b[38;5;167;01mValueError\u001b[39;00m(\n\u001b[0;32m   1250\u001b[0m           \u001b[38;5;124m\"\u001b[39m\u001b[38;5;124mnon-zero flags not allowed in calls to recv_into() on \u001b[39m\u001b[38;5;132;01m%s\u001b[39;00m\u001b[38;5;124m\"\u001b[39m \u001b[38;5;241m%\u001b[39m\n\u001b[0;32m   1251\u001b[0m           \u001b[38;5;28mself\u001b[39m\u001b[38;5;241m.\u001b[39m\u001b[38;5;18m__class__\u001b[39m)\n\u001b[1;32m-> 1252\u001b[0m     \u001b[38;5;28;01mreturn\u001b[39;00m \u001b[38;5;28mself\u001b[39m\u001b[38;5;241m.\u001b[39mread(nbytes, buffer)\n\u001b[0;32m   1253\u001b[0m \u001b[38;5;28;01melse\u001b[39;00m:\n\u001b[0;32m   1254\u001b[0m     \u001b[38;5;28;01mreturn\u001b[39;00m \u001b[38;5;28msuper\u001b[39m()\u001b[38;5;241m.\u001b[39mrecv_into(buffer, nbytes, flags)\n",
      "File \u001b[1;32m~\\anaconda3\\Lib\\ssl.py:1104\u001b[0m, in \u001b[0;36mSSLSocket.read\u001b[1;34m(self, len, buffer)\u001b[0m\n\u001b[0;32m   1102\u001b[0m \u001b[38;5;28;01mtry\u001b[39;00m:\n\u001b[0;32m   1103\u001b[0m     \u001b[38;5;28;01mif\u001b[39;00m buffer \u001b[38;5;129;01mis\u001b[39;00m \u001b[38;5;129;01mnot\u001b[39;00m \u001b[38;5;28;01mNone\u001b[39;00m:\n\u001b[1;32m-> 1104\u001b[0m         \u001b[38;5;28;01mreturn\u001b[39;00m \u001b[38;5;28mself\u001b[39m\u001b[38;5;241m.\u001b[39m_sslobj\u001b[38;5;241m.\u001b[39mread(\u001b[38;5;28mlen\u001b[39m, buffer)\n\u001b[0;32m   1105\u001b[0m     \u001b[38;5;28;01melse\u001b[39;00m:\n\u001b[0;32m   1106\u001b[0m         \u001b[38;5;28;01mreturn\u001b[39;00m \u001b[38;5;28mself\u001b[39m\u001b[38;5;241m.\u001b[39m_sslobj\u001b[38;5;241m.\u001b[39mread(\u001b[38;5;28mlen\u001b[39m)\n",
      "\u001b[1;31mKeyboardInterrupt\u001b[0m: "
     ]
    }
   ],
   "source": [
    "# Download latest version\n",
    "path = kagglehub.dataset_download(\"najzeko/steam-reviews-2021\")\n",
    "\n",
    "print(\"Path to dataset files:\", path)"
   ]
  },
  {
   "cell_type": "code",
   "execution_count": null,
   "metadata": {
    "colab": {
     "base_uri": "https://localhost:8080/"
    },
    "id": "s8RYdfSPN0bZ",
    "outputId": "e1389477-991a-4d10-b6bd-d2f87beefdbf"
   },
   "outputs": [],
   "source": [
    "# Initialize Spark session\n",
    "spark = SparkSession.builder \\\n",
    "    .appName(\"Steam Reviews Analysis\") \\\n",
    "    .getOrCreate()\n",
    "\n",
    "# Path to the dataset folder\n",
    "dataset_path = \"/root/.cache/kagglehub/datasets/najzeko/steam-reviews-2021/versions/1\"\n",
    "\n",
    "# Identify the CSV file\n",
    "file_path = f\"{dataset_path}/steam_reviews.csv\"\n",
    "\n",
    "# Load the data into a PySpark DataFrame\n",
    "df = spark.read.csv(file_path, header=True, inferSchema=True, multiLine=True, escape='\"')\n",
    "\n",
    "# Show a sample of the data\n",
    "df.show(5)\n",
    "# \"schinese\" is \"simple chinese\", \"tchinese\" is \"traditional chinese\""
   ]
  },
  {
   "cell_type": "markdown",
   "metadata": {
    "id": "sdQx3a4br_tx"
   },
   "source": [
    "In our analysis we took a sample of the dataset due to runtime errors we got, since our machines could not process the amount of the original dataset (21 million records). Our sample consists of only the English reviews, which are around 9 million, and is still considered to be a dataset suitable for Big Data."
   ]
  },
  {
   "cell_type": "code",
   "execution_count": null,
   "metadata": {
    "colab": {
     "base_uri": "https://localhost:8080/"
    },
    "id": "DbXgJYr2VckQ",
    "outputId": "bd5c8808-115c-4ba9-86e3-af9591925c7c"
   },
   "outputs": [],
   "source": [
    "df.filter(df.language == \"english\").count()"
   ]
  },
  {
   "cell_type": "code",
   "execution_count": null,
   "metadata": {
    "id": "UeDoKHQrsvJg"
   },
   "outputs": [],
   "source": [
    "df.filter(df.language == \"english\").write.parquet(\"sample_df\", mode=\"overwrite\")\n",
    "sample_df = spark.read.parquet(\"sample_df.parquet\")"
   ]
  },
  {
   "cell_type": "code",
   "execution_count": null,
   "metadata": {
    "id": "wu1g4mhx_U5s"
   },
   "outputs": [],
   "source": [
    "sample_df = sample_df.withColumn(\"review_length\", length(\"review\")) #create new column with the length of each review"
   ]
  },
  {
   "cell_type": "code",
   "execution_count": null,
   "metadata": {},
   "outputs": [],
   "source": []
  },
  {
   "cell_type": "markdown",
   "metadata": {
    "id": "-RI3URrstdl6"
   },
   "source": [
    "##  **Exploratory Data Analysis**"
   ]
  },
  {
   "cell_type": "code",
   "execution_count": null,
   "metadata": {
    "colab": {
     "base_uri": "https://localhost:8080/"
    },
    "id": "YIt6sUl4yIfJ",
    "outputId": "d7f0e2f3-4933-4502-ea04-35832b6d6818"
   },
   "outputs": [],
   "source": [
    "# Rename the columns that have \".\" since we have errors in accessing them with their original name\n",
    "sample_df = sample_df.withColumnRenamed(\"author.steamid\", \"author_steamid\") \\\n",
    "                     .withColumnRenamed(\"author.num_games_owned\", \"author_num_games_owned\") \\\n",
    "                     .withColumnRenamed(\"author.num_reviews\", \"author_num_reviews\") \\\n",
    "                     .withColumnRenamed(\"author.playtime_forever\", \"author_playtime_forever\") \\\n",
    "                     .withColumnRenamed(\"author.playtime_last_two_weeks\", \"author_playtime_last_two_weeks\") \\\n",
    "                     .withColumnRenamed(\"author.playtime_at_review\", \"author_playtime_at_review\") \\\n",
    "                     .withColumnRenamed(\"author.last_played\", \"author_last_played\")\n",
    "\n",
    "# Print the new column names\n",
    "print(sample_df.columns)"
   ]
  },
  {
   "cell_type": "markdown",
   "metadata": {
    "id": "dua3Rd59Ou_I"
   },
   "source": [
    "We observed that certain columns are not informative for our objective, therefore we decided to keep only the relevant features."
   ]
  },
  {
   "cell_type": "code",
   "execution_count": null,
   "metadata": {
    "id": "NHqXb6NTfdJ-"
   },
   "outputs": [],
   "source": [
    "# Keep only the relevant features\n",
    "sample_df = sample_df.select(\"_c0\",\"app_id\",\"app_name\",\"review_id\",\"review\",\"recommended\",\"votes_helpful\",\"steam_purchase\",\"received_for_free\",\"written_during_early_access\",\"votes_helpful\",\"author_steamid\", \"author_num_games_owned\", \"author_num_reviews\", \"author_playtime_forever\", \"author_playtime_at_review\", \"review_length\")"
   ]
  },
  {
   "cell_type": "markdown",
   "metadata": {
    "id": "GZrHVhclPC1a"
   },
   "source": [
    "View the first records of our dataset to understand the data that we have."
   ]
  },
  {
   "cell_type": "code",
   "execution_count": null,
   "metadata": {
    "colab": {
     "base_uri": "https://localhost:8080/"
    },
    "id": "XYOMUkQNtScu",
    "outputId": "726ea075-0fbb-418a-f561-7b8818bc806f"
   },
   "outputs": [],
   "source": [
    "sample_df.show(5)"
   ]
  },
  {
   "cell_type": "markdown",
   "metadata": {
    "id": "v-2x4BDmPO4F"
   },
   "source": [
    "Calculate summary statistics regarding the time (in minutes) that users played the game at the moment of writing their review. Using those, we will categorize users into three main categories, according to whether they have played for little, medium, or much time."
   ]
  },
  {
   "cell_type": "code",
   "execution_count": null,
   "metadata": {
    "colab": {
     "base_uri": "https://localhost:8080/"
    },
    "id": "SIqGj4QXAKcr",
    "outputId": "d8a54835-59e6-4059-fb65-6230fe151307"
   },
   "outputs": [],
   "source": [
    "sample_df.select(\"author_playtime_at_review\").describe().show()"
   ]
  },
  {
   "cell_type": "markdown",
   "metadata": {
    "id": "RCAhiV7vP-tI"
   },
   "source": [
    "Similarly, we calculate summary statistics regarding the total playtime of users and we will categorize them into three categories according to the amount of time they played games in total."
   ]
  },
  {
   "cell_type": "code",
   "execution_count": null,
   "metadata": {
    "colab": {
     "base_uri": "https://localhost:8080/"
    },
    "id": "NpCot9UwD5AF",
    "outputId": "72b2b6b3-3cf2-4777-b716-6ac862c7216e"
   },
   "outputs": [],
   "source": [
    "sample_df.select(\"author_playtime_forever\").describe().show()"
   ]
  },
  {
   "cell_type": "code",
   "execution_count": null,
   "metadata": {
    "id": "JSQca78VB2JJ"
   },
   "outputs": [],
   "source": [
    "# Create new columns for playtime categories\n",
    "sample_df = sample_df.withColumn(\n",
    "    \"playtime_category\",\n",
    "    when(col(\"author_playtime_at_review\") < 5000, \"Low\")\n",
    "    .when((col(\"author_playtime_at_review\") >= 5000) & (col(\"author_playtime_at_review\") < 20000), \"Medium\")\n",
    "    .otherwise(\"High\")\n",
    ")\n",
    "\n",
    "sample_df = sample_df.withColumn(\n",
    "    \"playtime_forever_category\",\n",
    "    when(col(\"author_playtime_forever\") < 5000, \"Low\")\n",
    "    .when((col(\"author_playtime_forever\") >= 5000) & (col(\"author_playtime_forever\") < 20000), \"Medium\")\n",
    "    .otherwise(\"High\")\n",
    ")"
   ]
  },
  {
   "cell_type": "markdown",
   "metadata": {
    "id": "KL1H87lhQQor"
   },
   "source": [
    "Use the aforementioned categories to visualize the number of users in each category, using barplots."
   ]
  },
  {
   "cell_type": "code",
   "execution_count": null,
   "metadata": {
    "colab": {
     "base_uri": "https://localhost:8080/",
     "height": 487
    },
    "id": "0dsN419rCyhv",
    "outputId": "ec218169-8720-4afc-fba5-e684fdcaccc0"
   },
   "outputs": [],
   "source": [
    "# Convert PySpark DataFrame to Pandas\n",
    "pandas_df = sample_df.select(\"playtime_category\").toPandas()\n",
    "\n",
    "# Count occurrences of each category\n",
    "category_counts = pandas_df[\"playtime_category\"].value_counts()\n",
    "\n",
    "# Plot bar chart\n",
    "plt.figure(figsize=(8, 5))\n",
    "category_counts.plot(kind=\"bar\", color=[\"#7C6E7F\", \"#FF9999\", \"#99CCFF\"])\n",
    "plt.title(\"Distribution of Playtime Categories\")\n",
    "plt.xlabel(\"Playtime Category\")\n",
    "plt.ylabel(\"Count\")\n",
    "plt.xticks(rotation=0)\n",
    "plt.grid(axis=\"y\", linestyle=\"--\", alpha=0.7)\n",
    "\n",
    "# Show plot\n",
    "plt.show()"
   ]
  },
  {
   "cell_type": "code",
   "execution_count": null,
   "metadata": {
    "colab": {
     "base_uri": "https://localhost:8080/",
     "height": 487
    },
    "id": "W9rJG8s6FXF1",
    "outputId": "9fceb404-7ce0-4940-c41d-5cb86ef41772"
   },
   "outputs": [],
   "source": [
    "# Convert PySpark DataFrame to Pandas\n",
    "pandas_df = sample_df.select(\"playtime_forever_category\").toPandas()\n",
    "\n",
    "# Count occurrences of each category\n",
    "category_counts_forever = pandas_df[\"playtime_forever_category\"].value_counts()\n",
    "\n",
    "# Plot bar chart\n",
    "plt.figure(figsize=(8, 5))\n",
    "category_counts_forever.plot(kind=\"bar\", color=[\"#7C6E7F\", \"#FF9999\", \"#99CCFF\"])\n",
    "plt.title(\"Distribution of Total Playtime Categories\")\n",
    "plt.xlabel(\"Total Playtime Category\")\n",
    "plt.ylabel(\"Count\")\n",
    "plt.xticks(rotation=0)\n",
    "plt.grid(axis=\"y\", linestyle=\"--\", alpha=0.7)\n",
    "\n",
    "# Show plot\n",
    "plt.show()"
   ]
  },
  {
   "cell_type": "markdown",
   "metadata": {
    "id": "LbWSnV1vRydA"
   },
   "source": [
    "Check all the unique games in the reviews."
   ]
  },
  {
   "cell_type": "code",
   "execution_count": null,
   "metadata": {
    "colab": {
     "base_uri": "https://localhost:8080/"
    },
    "id": "l0rBEb-20OjJ",
    "outputId": "b85f99ab-3dd5-45be-c489-63a13e4e3f24"
   },
   "outputs": [],
   "source": [
    "sample_df.select(\"app_name\").distinct().show()"
   ]
  },
  {
   "cell_type": "code",
   "execution_count": null,
   "metadata": {
    "colab": {
     "base_uri": "https://localhost:8080/"
    },
    "id": "6ftJo2EM0PMU",
    "outputId": "6faa53f5-efbf-4642-d2b6-a83d295a4f93"
   },
   "outputs": [],
   "source": [
    "sample_df.groupBy(\"app_name\").count().sort(col(\"count\").desc()).show()  #sort in desc order to find apps with many reviews"
   ]
  },
  {
   "cell_type": "code",
   "execution_count": null,
   "metadata": {
    "colab": {
     "base_uri": "https://localhost:8080/",
     "height": 1000
    },
    "id": "hmQAUfy1gdOK",
    "outputId": "62542ad1-4d49-47d1-db3b-c34f7e61e938"
   },
   "outputs": [],
   "source": [
    "#The following plot is not very interpretable, due to the large number of app names\n",
    "\n",
    "# Convert Spark DataFrame to Pandas DataFrame\n",
    "pandas_df = sample_df.groupBy(\"app_name\").count().toPandas()\n",
    "\n",
    "plt.figure(figsize=(12, 6))\n",
    "plt.bar(pandas_df['app_name'].astype(str), pandas_df['count'])\n",
    "plt.xticks(rotation=90)\n",
    "plt.xlabel(\"App Name\")\n",
    "plt.ylabel(\"Count\")\n",
    "plt.title(\"App Name Counts Distribution\")\n",
    "plt.tight_layout()\n",
    "plt.show()\n"
   ]
  },
  {
   "cell_type": "markdown",
   "metadata": {
    "id": "Wik0AbDySK5c"
   },
   "source": [
    "See how many users have purchased the app through Steam."
   ]
  },
  {
   "cell_type": "code",
   "execution_count": null,
   "metadata": {
    "colab": {
     "base_uri": "https://localhost:8080/"
    },
    "id": "D0iHT-Zl0PdG",
    "outputId": "55afa31d-3943-471b-da89-52ad4dd3a3bb"
   },
   "outputs": [],
   "source": [
    "sample_df.groupBy(\"steam_purchase\").count().show()"
   ]
  },
  {
   "cell_type": "code",
   "execution_count": null,
   "metadata": {
    "colab": {
     "base_uri": "https://localhost:8080/",
     "height": 533
    },
    "id": "AX4sXXR-lEa8",
    "outputId": "9aa87041-a2da-4dd8-e77b-e032d83e0c49"
   },
   "outputs": [],
   "source": [
    "# Convert Spark DataFrame to Pandas DataFrame\n",
    "pandas_df = sample_df.groupBy(\"steam_purchase\").count().toPandas()\n",
    "\n",
    "plt.figure(figsize=(12, 6))\n",
    "plt.bar(pandas_df['steam_purchase'].astype(str), pandas_df['count'])\n",
    "plt.xticks(rotation=90)\n",
    "plt.xlabel(\"steam_purchase\")\n",
    "plt.ylabel(\"Count\")\n",
    "plt.title(\"steam_purchase Counts Distribution\")\n",
    "plt.tight_layout()\n",
    "plt.show()\n"
   ]
  },
  {
   "cell_type": "code",
   "execution_count": null,
   "metadata": {
    "colab": {
     "base_uri": "https://localhost:8080/",
     "height": 533
    },
    "id": "ku_ODOS5gb9F",
    "outputId": "9e6667e6-1825-4331-c367-0d2c5f7f06ed"
   },
   "outputs": [],
   "source": [
    "# Convert Spark DataFrame to Pandas DataFrame\n",
    "pandas_df = sample_df.groupBy(\"recommended\").count().toPandas()\n",
    "\n",
    "plt.figure(figsize=(12, 6))\n",
    "plt.bar(pandas_df['recommended'].astype(str), pandas_df['count'])\n",
    "plt.xticks(rotation=90)\n",
    "plt.xlabel(\"recommended\")\n",
    "plt.ylabel(\"Count\")\n",
    "plt.title(\"recommended Counts Distribution\")\n",
    "plt.tight_layout()\n",
    "plt.show()\n",
    "\n",
    "\n",
    "#we observe here that most reviews are positive - meaning they would recommend the app to other users"
   ]
  },
  {
   "cell_type": "markdown",
   "metadata": {
    "id": "vmmR-J-sShap"
   },
   "source": [
    "Check how many users have received the app for free."
   ]
  },
  {
   "cell_type": "code",
   "execution_count": null,
   "metadata": {
    "colab": {
     "base_uri": "https://localhost:8080/"
    },
    "id": "rHPsBhs20Pjy",
    "outputId": "60a4ab99-dc60-4e2f-99a2-5b70ea08f4bd"
   },
   "outputs": [],
   "source": [
    "sample_df.groupBy(\"received_for_free\").count().show()"
   ]
  },
  {
   "cell_type": "code",
   "execution_count": null,
   "metadata": {
    "colab": {
     "base_uri": "https://localhost:8080/",
     "height": 533
    },
    "id": "OX6jkJh8lU6D",
    "outputId": "09e47300-062b-4062-adcf-d2951adb5ab4"
   },
   "outputs": [],
   "source": [
    "# Convert Spark DataFrame to Pandas DataFrame\n",
    "pandas_df = sample_df.groupBy(\"received_for_free\").count().toPandas()\n",
    "\n",
    "plt.figure(figsize=(12, 6))\n",
    "plt.bar(pandas_df['received_for_free'].astype(str), pandas_df['count'])\n",
    "plt.xticks(rotation=90)\n",
    "plt.xlabel(\"received_for_free\")\n",
    "plt.ylabel(\"Count\")\n",
    "plt.title(\"received_for_free Counts Distribution\")\n",
    "plt.tight_layout()\n",
    "plt.show()\n",
    "\n",
    "#most users did not receive the app for free"
   ]
  },
  {
   "cell_type": "markdown",
   "metadata": {
    "id": "EGW1rIA8Soxe"
   },
   "source": [
    "Check how many reiviews are written by users that purchased their app before the official release (early access)."
   ]
  },
  {
   "cell_type": "code",
   "execution_count": null,
   "metadata": {
    "colab": {
     "base_uri": "https://localhost:8080/"
    },
    "id": "NbdNX67x2YNS",
    "outputId": "d5c7f9be-a3b8-479e-82ad-4be5308602bf"
   },
   "outputs": [],
   "source": [
    "sample_df.groupBy(\"written_during_early_access\").count().show()"
   ]
  },
  {
   "cell_type": "code",
   "execution_count": null,
   "metadata": {
    "colab": {
     "base_uri": "https://localhost:8080/",
     "height": 533
    },
    "id": "qV5E45pWlZ24",
    "outputId": "93f6296d-da27-4a43-9f06-79e85b065527"
   },
   "outputs": [],
   "source": [
    "# Convert Spark DataFrame to Pandas DataFrame\n",
    "pandas_df = sample_df.groupBy(\"written_during_early_access\").count().toPandas()\n",
    "\n",
    "plt.figure(figsize=(12, 6))\n",
    "plt.bar(pandas_df['written_during_early_access'].astype(str), pandas_df['count'])\n",
    "plt.xticks(rotation=90)\n",
    "plt.xlabel(\"written_during_early_access\")\n",
    "plt.ylabel(\"Count\")\n",
    "plt.title(\"written_during_early_access Counts Distribution\")\n",
    "plt.tight_layout()\n",
    "plt.show()\n"
   ]
  },
  {
   "cell_type": "code",
   "execution_count": null,
   "metadata": {
    "colab": {
     "base_uri": "https://localhost:8080/"
    },
    "id": "ofw-D9lK2YeN",
    "outputId": "75e3d594-ec21-44c2-d6ab-8ae66bbbaad0"
   },
   "outputs": [],
   "source": [
    "sample_df.groupBy(\"author_steamid\").count().sort(col(\"count\").desc()).show()   #sort in descending order to see the most frequent reviewers!"
   ]
  },
  {
   "cell_type": "markdown",
   "metadata": {
    "id": "lkjSBB3GyBRl"
   },
   "source": [
    "# Bivariate analysis"
   ]
  },
  {
   "cell_type": "markdown",
   "metadata": {
    "id": "GdS5-Uzy6yoU"
   },
   "source": [
    "We want to check if a user is more likely to recommend an app if they receive it for free"
   ]
  },
  {
   "cell_type": "code",
   "execution_count": null,
   "metadata": {
    "colab": {
     "base_uri": "https://localhost:8080/"
    },
    "id": "Xg-gCvP72Yih",
    "outputId": "61a3d921-c62e-4b1e-9bce-3da0e18061d8"
   },
   "outputs": [],
   "source": [
    "# Calculate total reviews and recommended true counts\n",
    "pivot_table = df.groupBy('received_for_free').agg(\n",
    "    {'recommended': 'count'}\n",
    ").withColumnRenamed('count(recommended)', 'Total Reviews')\n",
    "\n",
    "recommended_true = df.filter(df['recommended'] == True).groupBy('received_for_free').count().withColumnRenamed('count', 'Recommended (True)')\n",
    "\n",
    "# Join the two DataFrames\n",
    "pivot_table = pivot_table.join(recommended_true, 'received_for_free', 'left_outer')\n",
    "\n",
    "# Calculate proportion\n",
    "pivot_table = pivot_table.withColumn('Proportion Recommended', pivot_table['Recommended (True)'] / pivot_table['Total Reviews'])\n",
    "\n",
    "# Show results\n",
    "pivot_table.show()"
   ]
  },
  {
   "cell_type": "markdown",
   "metadata": {
    "id": "3445DVlg6UPu"
   },
   "source": [
    "As shown in the above table, the proportion of users who recieved the apps for free and would recommend them is roughly equal to the proportion of users who did not receive the apps for free and would recommend them."
   ]
  },
  {
   "cell_type": "markdown",
   "metadata": {
    "id": "GgXnQGSL9Gwm"
   },
   "source": [
    "To see if longer reviews are more positive or negative"
   ]
  },
  {
   "cell_type": "code",
   "execution_count": null,
   "metadata": {
    "colab": {
     "base_uri": "https://localhost:8080/"
    },
    "id": "ecNCwDMu2Yml",
    "outputId": "8f969468-a95b-4106-ff58-f4cdcd41a806"
   },
   "outputs": [],
   "source": [
    "# Calculate total reviews and recommended true counts for 'review_length'\n",
    "pivot_table = sample_df.groupBy('review_length').agg(\n",
    "    {'recommended': 'count'}\n",
    ").withColumnRenamed('count(recommended)', 'Total Reviews')\n",
    "\n",
    "recommended_true = sample_df.filter(df['recommended'] == True).groupBy('review_length').count().withColumnRenamed('count', 'Recommended (True)')\n",
    "\n",
    "# Join and calculate proportion\n",
    "pivot_table = pivot_table.join(recommended_true, 'review_length', 'left_outer')\n",
    "pivot_table = pivot_table.withColumn('Proportion Recommended', pivot_table['Recommended (True)'] / pivot_table['Total Reviews'])\n",
    "\n",
    "# Show results\n",
    "pivot_table.sort(col(\"review_length\").desc()).show()  # to see longer reviews first\n",
    "\n",
    "\n",
    "\n",
    "\n",
    "#NOTE: we can make a scatterplot of these values to check for correlation -- see cell below"
   ]
  },
  {
   "cell_type": "code",
   "execution_count": null,
   "metadata": {
    "colab": {
     "base_uri": "https://localhost:8080/",
     "height": 564
    },
    "id": "-3IGhdk3_op2",
    "outputId": "2cff54b3-5b52-4744-cc7b-d998e30a71a8"
   },
   "outputs": [],
   "source": [
    "# Convert Spark DataFrame to Pandas for visualization\n",
    "pivot_table_pd = pivot_table.select('review_length', 'Proportion Recommended').toPandas()\n",
    "\n",
    "# Scatterplot\n",
    "plt.figure(figsize=(10, 6))\n",
    "plt.scatter(pivot_table_pd['review_length'], pivot_table_pd['Proportion Recommended'], alpha=0.5)\n",
    "plt.title('Review Length vs Proportion Recommended')\n",
    "plt.xlabel('Review Length')\n",
    "plt.ylabel('Proportion Recommended')\n",
    "plt.grid(True)\n",
    "plt.show()"
   ]
  },
  {
   "cell_type": "code",
   "execution_count": null,
   "metadata": {
    "id": "wxTeo4eb2YqO"
   },
   "outputs": [],
   "source": []
  },
  {
   "cell_type": "markdown",
   "metadata": {
    "id": "_iTHzkzr-KYK"
   },
   "source": [
    "Does higher playtime correlate with positive recommendations?"
   ]
  },
  {
   "cell_type": "code",
   "execution_count": null,
   "metadata": {
    "colab": {
     "base_uri": "https://localhost:8080/"
    },
    "id": "MBjgkHvX2y7o",
    "outputId": "06a42604-e023-452a-c9fe-76297988a4b7"
   },
   "outputs": [],
   "source": [
    "# Calculate total reviews and recommended true counts for 'author_playtime_at_review'\n",
    "pivot_table = sample_df.groupBy('author_playtime_at_review').agg(\n",
    "    {'recommended': 'count'}\n",
    ").withColumnRenamed('count(recommended)', 'Total Reviews')\n",
    "\n",
    "recommended_true = sample_df.filter(df['recommended'] == True).groupBy('author_playtime_at_review').count().withColumnRenamed('count', 'Recommended (True)')\n",
    "\n",
    "# Join and calculate proportion\n",
    "pivot_table = pivot_table.join(recommended_true, 'author_playtime_at_review', 'left_outer')\n",
    "pivot_table = pivot_table.withColumn('Proportion Recommended', pivot_table['Recommended (True)'] / pivot_table['Total Reviews'])\n",
    "\n",
    "# Show results\n",
    "pivot_table.sort(col(\"author_playtime_at_review\").desc()).show()  # to see people who played for longer first\n"
   ]
  },
  {
   "cell_type": "code",
   "execution_count": null,
   "metadata": {
    "colab": {
     "base_uri": "https://localhost:8080/",
     "height": 564
    },
    "id": "TfK6LvFT_xZk",
    "outputId": "07c64edd-ce5d-47f2-c5b8-c91c548d18bf"
   },
   "outputs": [],
   "source": [
    "# Convert Spark DataFrame to Pandas for visualization\n",
    "pivot_table_pd = pivot_table.select('author_playtime_at_review', 'Proportion Recommended').toPandas()\n",
    "\n",
    "# Scatterplot\n",
    "plt.figure(figsize=(10, 6))\n",
    "plt.scatter(pivot_table_pd['author_playtime_at_review'], pivot_table_pd['Proportion Recommended'], alpha=0.5)\n",
    "plt.title('author_playtime_at_review vs Proportion Recommended')\n",
    "plt.xlabel('author_playtime_at_review')\n",
    "plt.ylabel('Proportion Recommended')\n",
    "plt.grid(True)\n",
    "plt.show()"
   ]
  },
  {
   "cell_type": "markdown",
   "metadata": {
    "id": "NJaHAJyP-gzV"
   },
   "source": [
    "Are frequent reviewers more positive or critical?"
   ]
  },
  {
   "cell_type": "code",
   "execution_count": null,
   "metadata": {
    "colab": {
     "base_uri": "https://localhost:8080/"
    },
    "id": "KuTWzY5k-f9H",
    "outputId": "45f7e094-4167-4961-ee3c-b9c60cd24db8"
   },
   "outputs": [],
   "source": [
    "# Calculate total reviews and recommended true counts for 'author_num_reviews'\n",
    "pivot_table = sample_df.groupBy('author_num_reviews').agg(\n",
    "    {'recommended': 'count'}\n",
    ").withColumnRenamed('count(recommended)', 'Total Reviews')\n",
    "\n",
    "recommended_true = sample_df.filter(df['recommended'] == True).groupBy('author_num_reviews').count().withColumnRenamed('count', 'Recommended (True)')\n",
    "\n",
    "# Join and calculate proportion\n",
    "pivot_table = pivot_table.join(recommended_true, 'author_num_reviews', 'left_outer')\n",
    "pivot_table = pivot_table.withColumn('Proportion Recommended', pivot_table['Recommended (True)'] / pivot_table['Total Reviews'])\n",
    "\n",
    "# Show results\n",
    "pivot_table.sort(col(\"author_num_reviews\").desc()).show()  # to see people who have made more reviews first\n"
   ]
  },
  {
   "cell_type": "code",
   "execution_count": null,
   "metadata": {
    "colab": {
     "base_uri": "https://localhost:8080/",
     "height": 564
    },
    "id": "MQW1rdoV-gRj",
    "outputId": "3e718d22-743b-48ac-ecfa-6405a569cb4f"
   },
   "outputs": [],
   "source": [
    "# Convert Spark DataFrame to Pandas for visualization\n",
    "pivot_table_pd = pivot_table.select('author_num_reviews', 'Proportion Recommended').toPandas()\n",
    "\n",
    "# Scatterplot\n",
    "plt.figure(figsize=(10, 6))\n",
    "plt.scatter(pivot_table_pd['author_num_reviews'], pivot_table_pd['Proportion Recommended'], alpha=0.5)\n",
    "plt.title('author_num_reviews vs Proportion Recommended')\n",
    "plt.xlabel('author_num_reviews')\n",
    "plt.ylabel('Proportion Recommended')\n",
    "plt.grid(True)\n",
    "plt.show()"
   ]
  },
  {
   "cell_type": "markdown",
   "metadata": {
    "id": "0buojGpcTUX9"
   },
   "source": [
    "Of those that received the app for free, how many reccomend the app?"
   ]
  },
  {
   "cell_type": "code",
   "execution_count": null,
   "metadata": {
    "colab": {
     "base_uri": "https://localhost:8080/"
    },
    "id": "EqzosNlwRDQg",
    "outputId": "146f2d9b-17c6-491a-e283-e80686ddcbf9"
   },
   "outputs": [],
   "source": [
    "df_pivot = sample_df.groupBy(\"received_for_free\") \\\n",
    "    .pivot(\"recommended\") \\\n",
    "    .agg(F.count(\"*\")) \\\n",
    "    .withColumnRenamed(\"true\", \"recommended_true\") \\\n",
    "    .withColumnRenamed(\"false\", \"recommended_false\")\n",
    "\n",
    "df_pivot.show()"
   ]
  },
  {
   "cell_type": "markdown",
   "metadata": {
    "id": "GtM-FhiATh3p"
   },
   "source": [
    "Of all the apps that are being reviewed, how many were purchased on Steam?"
   ]
  },
  {
   "cell_type": "code",
   "execution_count": null,
   "metadata": {
    "colab": {
     "base_uri": "https://localhost:8080/"
    },
    "id": "iaoJZbrMTuIl",
    "outputId": "5fbec473-3447-4685-90f7-dca6cfd5bcdc"
   },
   "outputs": [],
   "source": [
    "df_pivot = sample_df.groupBy(\"app_name\") \\\n",
    "    .pivot(\"steam_purchase\") \\\n",
    "    .agg(F.count(\"*\")) \\\n",
    "    .withColumnRenamed(\"true\", \"steam_purchase_true\") \\\n",
    "    .withColumnRenamed(\"false\", \"steam_purchase_false\")\n",
    "\n",
    "df_pivot.show()"
   ]
  },
  {
   "cell_type": "markdown",
   "metadata": {
    "id": "sOmKR9IpUGCN"
   },
   "source": [
    "For each app, how many users have recommended it?"
   ]
  },
  {
   "cell_type": "code",
   "execution_count": null,
   "metadata": {
    "colab": {
     "base_uri": "https://localhost:8080/"
    },
    "id": "U7JQ5Ub1UEfh",
    "outputId": "9020661c-f525-4e53-85ee-678e2c1b26aa"
   },
   "outputs": [],
   "source": [
    "df_pivot = sample_df.groupBy(\"app_name\") \\\n",
    "    .pivot(\"recommended\") \\\n",
    "    .agg(F.count(\"*\")) \\\n",
    "    .withColumnRenamed(\"true\", \"recommended_true\") \\\n",
    "    .withColumnRenamed(\"false\", \"recommended_false\")\n",
    "\n",
    "df_pivot.show()"
   ]
  },
  {
   "cell_type": "markdown",
   "metadata": {
    "id": "SY3T53ADUPdj"
   },
   "source": [
    "For each app, how many users have got it for free?"
   ]
  },
  {
   "cell_type": "code",
   "execution_count": null,
   "metadata": {
    "colab": {
     "base_uri": "https://localhost:8080/"
    },
    "id": "Hii8tIUyUc_F",
    "outputId": "bd2d8203-2da6-434f-9b31-6ea463384465"
   },
   "outputs": [],
   "source": [
    "df_pivot = sample_df.groupBy(\"app_name\") \\\n",
    "    .pivot(\"received_for_free\") \\\n",
    "    .agg(F.count(\"*\")) \\\n",
    "    .withColumnRenamed(\"true\", \"received_for_free_true\") \\\n",
    "    .withColumnRenamed(\"false\", \"received_for_free_false\")\n",
    "\n",
    "df_pivot.show()"
   ]
  },
  {
   "cell_type": "markdown",
   "metadata": {
    "id": "7cqwPci6UjUW"
   },
   "source": [
    "For each app, how many reviews have been written from users that had early access?"
   ]
  },
  {
   "cell_type": "code",
   "execution_count": null,
   "metadata": {
    "colab": {
     "base_uri": "https://localhost:8080/"
    },
    "id": "zCv4Ncs1UqIC",
    "outputId": "5e32f3c4-aff5-4268-f186-6338358b6190"
   },
   "outputs": [],
   "source": [
    "df_pivot = sample_df.groupBy(\"app_name\") \\\n",
    "    .pivot(\"written_during_early_access\") \\\n",
    "    .agg(F.count(\"*\")) \\\n",
    "    .withColumnRenamed(\"true\", \"written_during_early_access_true\") \\\n",
    "    .withColumnRenamed(\"false\", \"written_during_early_access_false\")\n",
    "\n",
    "df_pivot.show()"
   ]
  },
  {
   "cell_type": "markdown",
   "metadata": {
    "id": "NUxMFX3SUvfn"
   },
   "source": [
    "Of all the apps that have been purchased through Steam, how many are recommended?"
   ]
  },
  {
   "cell_type": "code",
   "execution_count": null,
   "metadata": {
    "colab": {
     "base_uri": "https://localhost:8080/"
    },
    "id": "t7_zDgAHU03N",
    "outputId": "a5579f7d-19c3-42b1-e981-74405d619d6a"
   },
   "outputs": [],
   "source": [
    "df_pivot = sample_df.groupBy(\"steam_purchase\") \\\n",
    "    .pivot(\"recommended\") \\\n",
    "    .agg(F.count(\"*\")) \\\n",
    "    .withColumnRenamed(\"true\", \"recommended_true\") \\\n",
    "    .withColumnRenamed(\"false\", \"recommended_false\")\n",
    "\n",
    "df_pivot.show()"
   ]
  },
  {
   "cell_type": "markdown",
   "metadata": {
    "id": "zukge9fDU8qY"
   },
   "source": [
    "How many apps did each user had early access on?\n"
   ]
  },
  {
   "cell_type": "code",
   "execution_count": null,
   "metadata": {
    "colab": {
     "base_uri": "https://localhost:8080/",
     "height": 546
    },
    "id": "vti2VZoBVJIz",
    "outputId": "c91dee5f-2730-40e4-8057-b7c8e23d5a6d"
   },
   "outputs": [],
   "source": [
    "df_pivot = sample_df.groupBy(\"author_steamid\") \\\n",
    "    .pivot(\"written_during_early_access\") \\\n",
    "    .agg(F.count(\"*\")) \\\n",
    "    .withColumnRenamed(\"true\", \"written_during_early_access_true\") \\\n",
    "    .withColumnRenamed(\"false\", \"written_during_early_access_false\")\n",
    "\n",
    "df_pivot.show()"
   ]
  },
  {
   "cell_type": "markdown",
   "metadata": {
    "id": "P3xvRQ9PVn--"
   },
   "source": [
    "For each For each category of the playtime (up to the day of the review), how many users have reccomended the apps of the review?"
   ]
  },
  {
   "cell_type": "code",
   "execution_count": null,
   "metadata": {
    "id": "Sfwt9RAMVrEg"
   },
   "outputs": [],
   "source": [
    "df_pivot = sample_df.groupBy(\"playtime_category\") \\\n",
    "    .pivot(\"recommended\") \\\n",
    "    .agg(F.count(\"*\")) \\\n",
    "    .withColumnRenamed(\"true\", \"recommended_true\") \\\n",
    "    .withColumnRenamed(\"false\", \"recommended_false\")\n",
    "\n",
    "df_pivot.show()"
   ]
  },
  {
   "cell_type": "markdown",
   "metadata": {
    "id": "uvdoQ8ZAVPl-"
   },
   "source": [
    "For each category of the total playtime, how many users have reccomended the apps of the review?"
   ]
  },
  {
   "cell_type": "code",
   "execution_count": null,
   "metadata": {
    "id": "zqRxJApRVYTB"
   },
   "outputs": [],
   "source": [
    "df_pivot = sample_df.groupBy(\"playtime_forever_category\") \\\n",
    "    .pivot(\"recommended\") \\\n",
    "    .agg(F.count(\"*\")) \\\n",
    "    .withColumnRenamed(\"true\", \"recommended_true\") \\\n",
    "    .withColumnRenamed(\"false\", \"recommended_false\")\n",
    "\n",
    "df_pivot.show()"
   ]
  },
  {
   "cell_type": "markdown",
   "metadata": {
    "id": "kk5KST5TV1yU"
   },
   "source": [
    "Of the apps that have been purchased during early access, how many are recommended?"
   ]
  },
  {
   "cell_type": "code",
   "execution_count": null,
   "metadata": {
    "id": "iacHpB-gV-wK"
   },
   "outputs": [],
   "source": [
    "df_pivot = sample_df.groupBy(\"written_during_early_access\") \\\n",
    "    .pivot(\"recommended\") \\\n",
    "    .agg(F.count(\"*\")) \\\n",
    "    .withColumnRenamed(\"true\", \"recommended_true\") \\\n",
    "    .withColumnRenamed(\"false\", \"recommended_false\")\n",
    "\n",
    "df_pivot.show()"
   ]
  },
  {
   "cell_type": "markdown",
   "metadata": {
    "id": "zJFPNwSSWB0A"
   },
   "source": [
    "For each category of number of games owned, how many apps are recommended?"
   ]
  },
  {
   "cell_type": "code",
   "execution_count": null,
   "metadata": {
    "id": "MLjKA6X8KFOk"
   },
   "outputs": [],
   "source": [
    "df_pivot = sample_df.groupBy(\"author_num_games_owned\") \\\n",
    "    .pivot(\"recommended\") \\\n",
    "    .agg(F.count(\"*\")) \\\n",
    "    .withColumnRenamed(\"true\", \"recommended_true\") \\\n",
    "    .withColumnRenamed(\"false\", \"recommended_false\")\n",
    "\n",
    "df_pivot.show()"
   ]
  },
  {
   "cell_type": "markdown",
   "metadata": {
    "id": "O7OkMCz5UrSN"
   },
   "source": [
    "# Collaborative Filtering"
   ]
  },
  {
   "cell_type": "code",
   "execution_count": null,
   "metadata": {
    "colab": {
     "base_uri": "https://localhost:8080/"
    },
    "id": "HLzWZw2sttzU",
    "outputId": "e094a319-2802-4418-8405-b5b3c3829c00"
   },
   "outputs": [],
   "source": [
    "sample_df.show(10)"
   ]
  },
  {
   "cell_type": "code",
   "execution_count": null,
   "metadata": {
    "colab": {
     "base_uri": "https://localhost:8080/"
    },
    "id": "OHbPTN5GuDha",
    "outputId": "a28c564d-5109-4271-e754-70091a5ae208"
   },
   "outputs": [],
   "source": [
    "sample_df.select(\"recommended\").distinct().show()"
   ]
  },
  {
   "cell_type": "code",
   "execution_count": null,
   "metadata": {
    "colab": {
     "base_uri": "https://localhost:8080/"
    },
    "id": "9px6RDbBUp5Q",
    "outputId": "7044460f-a0a1-4583-de78-04e1f7e8df9a"
   },
   "outputs": [],
   "source": [
    "# Identify distribution in the 'recommended' column\n",
    "sample_df.groupBy('recommended').count().show()"
   ]
  },
  {
   "cell_type": "markdown",
   "metadata": {
    "id": "J_FrN1FIsSzd"
   },
   "source": [
    "We observe a significant class imbalance (true: 8.58M and false: 1.05M) and hence, we proceed with 3% for Dominant Class & 10% for Minority Class (balanced reduction).\n"
   ]
  },
  {
   "cell_type": "markdown",
   "metadata": {
    "id": "oAgBHq9k1UF5"
   },
   "source": [
    "We tried using a stratified approach but the stratified df was returning 0 rows (.sampleBy() may fail if the specified fraction is too small to select records from a partition).\n",
    "\n",
    "```python\n",
    "# Define sampling fractions for each category\n",
    "fractions = {\"true\": 0.03, \"false\": 0.10}  # Stratified sampling with balanced reduction\n",
    "\n",
    "# Perform stratified sampling\n",
    "stratified_sample = sample_df.sampleBy(\"recommended\", fractions=fractions, seed=42)\n",
    "\n",
    "# Show sampled data\n",
    "stratified_sample.show(5)\n",
    "\n",
    "# Count rows to verify sample size\n",
    "print(\"Total Rows in Sample:\", stratified_sample.count())\n",
    "```\n",
    "\n",
    "Hence, we proceeded with the sample() function."
   ]
  },
  {
   "cell_type": "code",
   "execution_count": null,
   "metadata": {
    "colab": {
     "base_uri": "https://localhost:8080/"
    },
    "id": "G-9c2cgXsssT",
    "outputId": "009c5d73-ed52-4219-afc3-b648db27c421"
   },
   "outputs": [],
   "source": [
    "# Sample 5% for balanced speed and accuracy\n",
    "sample_df2 = sample_df.sample(fraction=0.05, seed=42)\n",
    "\n",
    "sample_df2.show(5)"
   ]
  },
  {
   "cell_type": "code",
   "execution_count": null,
   "metadata": {
    "colab": {
     "base_uri": "https://localhost:8080/"
    },
    "id": "DZFlNjJlzzCS",
    "outputId": "34770f49-1e5b-4a5b-9167-d001eb3e730c"
   },
   "outputs": [],
   "source": [
    "sample_df2.groupBy('recommended').count().show()"
   ]
  },
  {
   "cell_type": "markdown",
   "metadata": {
    "id": "0AiRnabx3N4b"
   },
   "source": [
    "### Pre-processing"
   ]
  },
  {
   "cell_type": "code",
   "execution_count": null,
   "metadata": {
    "id": "b4o8Hu0wz6oW"
   },
   "outputs": [],
   "source": [
    "from pyspark.ml.feature import StringIndexer\n",
    "from pyspark.sql import Row\n",
    "from pyspark.sql import types as T\n",
    "\n",
    "# Create a mapping dictionary\n",
    "def map_recommendation(value):\n",
    "    if value == \"true\":\n",
    "        return 1\n",
    "    elif value == \"false\":\n",
    "        return 0\n",
    "    else:\n",
    "        return 0  # Default value in case of unexpected data\n",
    "\n",
    "# Register UDF (User Defined Function)\n",
    "from pyspark.sql import functions as F\n",
    "from pyspark.sql.functions import udf\n",
    "\n",
    "map_recommendation_udf = udf(map_recommendation, T.IntegerType())\n",
    "\n",
    "# Apply mapping logic\n",
    "sample_df2 = sample_df2.withColumn(\"recommended\", map_recommendation_udf(\"recommended\"))\n",
    "\n",
    "# Index user and item IDs for collaborative filtering\n",
    "user_indexer = StringIndexer(inputCol=\"review_id\", outputCol=\"userId\").fit(sample_df2)\n",
    "item_indexer = StringIndexer(inputCol=\"app_id\", outputCol=\"itemId\").fit(sample_df2)\n",
    "\n",
    "# Apply transformations\n",
    "sample_df2 = user_indexer.transform(sample_df2)\n",
    "sample_df2 = item_indexer.transform(sample_df2)\n",
    "\n",
    "# Select relevant columns\n",
    "data = sample_df2.select(\"userId\", \"itemId\", \"recommended\")"
   ]
  },
  {
   "cell_type": "code",
   "execution_count": null,
   "metadata": {
    "colab": {
     "base_uri": "https://localhost:8080/"
    },
    "id": "9iFtQoQn6pHg",
    "outputId": "ee175015-23ee-42c1-f59d-70f7e99086cc"
   },
   "outputs": [],
   "source": [
    "data.show(5)"
   ]
  },
  {
   "cell_type": "markdown",
   "metadata": {
    "id": "ORpMJGl963Ma"
   },
   "source": [
    "### Collaborative Filtering Using ALS (Alternating Least Squares)"
   ]
  },
  {
   "cell_type": "code",
   "execution_count": null,
   "metadata": {
    "id": "IpiLcHjl3YVb"
   },
   "outputs": [],
   "source": [
    "from pyspark.ml.recommendation import ALS\n",
    "from pyspark.ml.evaluation import BinaryClassificationEvaluator\n",
    "\n",
    "# Define ALS model\n",
    "als = ALS(\n",
    "    maxIter=10,\n",
    "    regParam=0.1,\n",
    "    userCol=\"userId\",\n",
    "    itemCol=\"itemId\",\n",
    "    ratingCol=\"recommended\",\n",
    "    coldStartStrategy=\"drop\", # Prevent issues with unseen items in test data\n",
    "    implicitPrefs=True  # For imbalanced data\n",
    ")\n",
    "\n",
    "# Train-test split\n",
    "train_data, test_data = data.randomSplit([0.8, 0.2], seed=42)\n",
    "\n",
    "# Train the model\n",
    "model = als.fit(train_data)"
   ]
  },
  {
   "cell_type": "code",
   "execution_count": null,
   "metadata": {
    "colab": {
     "base_uri": "https://localhost:8080/"
    },
    "id": "V11HPymf64sx",
    "outputId": "a9eb49ba-c07d-4569-e86b-495efa31a671"
   },
   "outputs": [],
   "source": [
    "# Predictions\n",
    "predictions = model.transform(test_data)\n",
    "\n",
    "# Cast 'prediction' to double to satisfy evaluator's requirement\n",
    "predictions = predictions.withColumn(\"prediction\", predictions[\"prediction\"].cast(\"double\"))\n",
    "\n",
    "# Evaluate using BinaryClassificationEvaluator\n",
    "evaluator = BinaryClassificationEvaluator(\n",
    "    labelCol=\"recommended\",\n",
    "    rawPredictionCol=\"prediction\",\n",
    "    metricName=\"areaUnderROC\"\n",
    ")\n",
    "\n",
    "# Compute AUC\n",
    "auc = evaluator.evaluate(predictions)\n",
    "print(f\"AUC (Area Under Curve): {auc:.4f}\")"
   ]
  },
  {
   "cell_type": "markdown",
   "metadata": {
    "id": "mj1LmnPN_nfc"
   },
   "source": [
    "### Generating Recommendations"
   ]
  },
  {
   "cell_type": "markdown",
   "metadata": {
    "id": "BZP8MyDY_0po"
   },
   "source": [
    "Generating personalized recommendations for both users and items."
   ]
  },
  {
   "cell_type": "code",
   "execution_count": null,
   "metadata": {
    "colab": {
     "base_uri": "https://localhost:8080/"
    },
    "id": "3hNiTxMA-xAA",
    "outputId": "fa0741cc-2413-4266-b6d0-1bc7bd12e78d"
   },
   "outputs": [],
   "source": [
    "# User-based recommendations\n",
    "# Recommend top 10 items for each user\n",
    "user_recommendations = model.recommendForAllUsers(10)\n",
    "user_recommendations.show(5)"
   ]
  },
  {
   "cell_type": "code",
   "execution_count": null,
   "metadata": {
    "colab": {
     "base_uri": "https://localhost:8080/"
    },
    "id": "v9ACY78N_7oj",
    "outputId": "1f6fbb30-f8be-449d-bbcb-0ee5da3e1d05"
   },
   "outputs": [],
   "source": [
    "# Item-based recommendations\n",
    "# Recommend top 10 users for each item\n",
    "item_recommendations = model.recommendForAllItems(10)\n",
    "item_recommendations.show(5)"
   ]
  },
  {
   "cell_type": "markdown",
   "metadata": {
    "id": "T3_6rncDAIAs"
   },
   "source": [
    "### Cosine Similarity"
   ]
  },
  {
   "cell_type": "code",
   "execution_count": null,
   "metadata": {
    "colab": {
     "base_uri": "https://localhost:8080/"
    },
    "id": "MONcfJVBAIYK",
    "outputId": "5644f094-fc49-4b4a-94f6-c7eb6584aab2"
   },
   "outputs": [],
   "source": [
    "import numpy as np\n",
    "\n",
    "# Extract item factors from ALS model\n",
    "item_factors = model.itemFactors.rdd.map(lambda row: (row.id, np.array(row.features)))\n",
    "\n",
    "# Compute cosine similarity using RDD\n",
    "def cosine_similarity(x, y):\n",
    "    dot_product = np.dot(x, y)\n",
    "    norm_x = np.linalg.norm(x)\n",
    "    norm_y = np.linalg.norm(y)\n",
    "    return float(dot_product / (norm_x * norm_y))\n",
    "\n",
    "# Generate all possible combinations for similarity comparison\n",
    "pairs = item_factors.cartesian(item_factors).filter(lambda x: x[0][0] != x[1][0])\n",
    "\n",
    "# Compute cosine similarity for each pair\n",
    "similarity_rdd = pairs.map(lambda pair: (\n",
    "    pair[0][0],   # Item 1 ID\n",
    "    pair[1][0],   # Item 2 ID\n",
    "    cosine_similarity(pair[0][1], pair[1][1])  # Cosine similarity score\n",
    "))\n",
    "\n",
    "# Convert back to DataFrame\n",
    "similarity_df = spark.createDataFrame(similarity_rdd, [\"item1\", \"item2\", \"similarity\"])\n",
    "\n",
    "# Filter most similar items (e.g., similarity > 0.8)\n",
    "top_similar_items = similarity_df.filter(\"similarity > 0.8\")\n",
    "top_similar_items.show(10)"
   ]
  },
  {
   "cell_type": "code",
   "execution_count": null,
   "metadata": {
    "id": "8HL0wgV4F8zR"
   },
   "outputs": [],
   "source": []
  }
 ],
 "metadata": {
  "colab": {
   "provenance": []
  },
  "kernelspec": {
   "display_name": "Python 3 (ipykernel)",
   "language": "python",
   "name": "python3"
  },
  "language_info": {
   "codemirror_mode": {
    "name": "ipython",
    "version": 3
   },
   "file_extension": ".py",
   "mimetype": "text/x-python",
   "name": "python",
   "nbconvert_exporter": "python",
   "pygments_lexer": "ipython3",
   "version": "3.12.3"
  }
 },
 "nbformat": 4,
 "nbformat_minor": 4
}
